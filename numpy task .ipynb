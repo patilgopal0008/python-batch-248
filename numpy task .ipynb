{
 "cells": [
  {
   "cell_type": "markdown",
   "id": "67a1a9e1",
   "metadata": {},
   "source": [
    "# 1) Create an 1D array with size=12, using\n",
    "* a. np.arange   \n",
    "* b. np.array   "
   ]
  },
  {
   "cell_type": "code",
   "execution_count": 2,
   "id": "2054a5af",
   "metadata": {},
   "outputs": [
    {
     "name": "stdout",
     "output_type": "stream",
     "text": [
      "[ 1  2  3  4  5  6  7  8  9 10 11 12]\n"
     ]
    }
   ],
   "source": [
    "import numpy as np\n",
    "#a) using np.arange\n",
    "arr = np.arange(1,13,1)\n",
    "print(arr)"
   ]
  },
  {
   "cell_type": "code",
   "execution_count": 3,
   "id": "11f8affe",
   "metadata": {},
   "outputs": [
    {
     "name": "stdout",
     "output_type": "stream",
     "text": [
      "[ 1  2  3  4  5  6  7  8  9 10 11 12]\n"
     ]
    }
   ],
   "source": [
    "#b) using np.array\n",
    "arr = np.array([1,2,3,4,5,6,7,8,9,10,11,12])\n",
    "print(arr)"
   ]
  },
  {
   "cell_type": "markdown",
   "id": "e42d5835",
   "metadata": {},
   "source": [
    "# 2)using the same elements create arrays with shape (3,4) , (3,4,1 ), (4,3,1),(4,1,3),(2,6)\n",
    "* create them using  \n",
    "   a. use brackets syntax(general way of creating)  \n",
    "   b. use reshape method\n",
    "\n",
    "* get the size, shape, dimensions of the above\n"
   ]
  },
  {
   "cell_type": "markdown",
   "id": "317bdc3f",
   "metadata": {},
   "source": [
    "# a.using general method "
   ]
  },
  {
   "cell_type": "code",
   "execution_count": 31,
   "id": "cf0f019b",
   "metadata": {},
   "outputs": [
    {
     "name": "stdout",
     "output_type": "stream",
     "text": [
      "[[ 1  2  3  4]\n",
      " [ 5  6  7  8]\n",
      " [ 9 10 11 12]]\n",
      "12\n",
      "(3, 4)\n",
      "2\n"
     ]
    }
   ],
   "source": [
    "#a using bracket method \n",
    "#(3,4)\n",
    "arr_1 = np.array([\n",
    "                  [1,2,3,4],\n",
    "                  [5,6,7,8],\n",
    "                  [9,10,11,12]\n",
    "                ])\n",
    "print(arr_1)\n",
    "print(arr_1.size)\n",
    "print(arr_1.shape)\n",
    "print(arr_1.ndim)"
   ]
  },
  {
   "cell_type": "code",
   "execution_count": 32,
   "id": "22e663bc",
   "metadata": {},
   "outputs": [
    {
     "name": "stdout",
     "output_type": "stream",
     "text": [
      "[[[ 1]\n",
      "  [ 2]\n",
      "  [ 3]\n",
      "  [ 4]]\n",
      "\n",
      " [[ 5]\n",
      "  [ 6]\n",
      "  [ 7]\n",
      "  [ 8]]\n",
      "\n",
      " [[ 9]\n",
      "  [10]\n",
      "  [11]\n",
      "  [12]]]\n",
      "12\n",
      "(3, 4, 1)\n",
      "3\n"
     ]
    }
   ],
   "source": [
    "#(3,4,1)\n",
    "arr_2 = np.array([\n",
    "               [[ 1],\n",
    "                [ 2],\n",
    "                [ 3],\n",
    "                [ 4]],\n",
    "\n",
    "               [[ 5],\n",
    "                [ 6],\n",
    "                [ 7],\n",
    "                [ 8]],\n",
    "\n",
    "              [[ 9],\n",
    "               [10],\n",
    "               [11],\n",
    "               [12]]\n",
    "])\n",
    "print(arr_2)\n",
    "print(arr_2.size)\n",
    "print(arr_2.shape)\n",
    "print(arr_2.ndim)"
   ]
  },
  {
   "cell_type": "code",
   "execution_count": 33,
   "id": "15837c3b",
   "metadata": {},
   "outputs": [
    {
     "name": "stdout",
     "output_type": "stream",
     "text": [
      "[[[ 1]\n",
      "  [ 2]\n",
      "  [ 3]]\n",
      "\n",
      " [[ 4]\n",
      "  [ 5]\n",
      "  [ 6]]\n",
      "\n",
      " [[ 7]\n",
      "  [ 8]\n",
      "  [ 9]]\n",
      "\n",
      " [[10]\n",
      "  [11]\n",
      "  [12]]]\n",
      "12\n",
      "(4, 3, 1)\n",
      "3\n"
     ]
    }
   ],
   "source": [
    "#(4,3,1)\n",
    "arr_3 = np.array([\n",
    " [[ 1],\n",
    "  [ 2],\n",
    "  [ 3]],\n",
    "\n",
    " [[ 4],\n",
    "  [ 5],\n",
    "  [ 6]],\n",
    "\n",
    " [[ 7],\n",
    "  [ 8],\n",
    "  [ 9]],\n",
    "\n",
    " [[10],\n",
    "  [11],\n",
    "  [12]]])\n",
    "print(arr_3)\n",
    "print(arr_3.size)\n",
    "print(arr_3.shape)\n",
    "print(arr_3.ndim)"
   ]
  },
  {
   "cell_type": "code",
   "execution_count": 34,
   "id": "f2edffc9",
   "metadata": {},
   "outputs": [
    {
     "name": "stdout",
     "output_type": "stream",
     "text": [
      "[[[ 1  2  3]]\n",
      "\n",
      " [[ 4  5  6]]\n",
      "\n",
      " [[ 7  8  9]]\n",
      "\n",
      " [[10 11 12]]]\n",
      "12\n",
      "(4, 1, 3)\n",
      "3\n"
     ]
    }
   ],
   "source": [
    "#(4,1,3)\n",
    "arr_4 = np.array([\n",
    "               [[1,2,3]],\n",
    "               [[4,5,6]],\n",
    "               [[7,8,9]],\n",
    "               [[10,11,12]]])\n",
    "print(arr_4)\n",
    "print(arr_4.size)\n",
    "print(arr_4.shape)\n",
    "print(arr_4.ndim)"
   ]
  },
  {
   "cell_type": "code",
   "execution_count": 35,
   "id": "8e547505",
   "metadata": {},
   "outputs": [
    {
     "name": "stdout",
     "output_type": "stream",
     "text": [
      "[[ 1  2  3  4  5  6]\n",
      " [ 7  8  9 10 11 12]]\n",
      "12\n",
      "(2, 6)\n",
      "2\n"
     ]
    }
   ],
   "source": [
    "#(2,6)\n",
    "arr_5 = np.array([[1,2,3,4,5,6],\n",
    "                  [7,8,9,10,11,12]])\n",
    "print(arr_5)\n",
    "print(arr_5.size)\n",
    "print(arr_5.shape)\n",
    "print(arr_5.ndim)"
   ]
  },
  {
   "cell_type": "markdown",
   "id": "fd157fa0",
   "metadata": {},
   "source": [
    "# b)using reshape() method"
   ]
  },
  {
   "cell_type": "code",
   "execution_count": 36,
   "id": "4a38747d",
   "metadata": {},
   "outputs": [
    {
     "name": "stdout",
     "output_type": "stream",
     "text": [
      "[[ 1  2  3  4]\n",
      " [ 5  6  7  8]\n",
      " [ 9 10 11 12]]\n",
      "12\n",
      "(3, 4)\n",
      "2\n"
     ]
    }
   ],
   "source": [
    "a = arr.reshape(3,4)\n",
    "print(a)\n",
    "print(a.size)\n",
    "print(a.shape)\n",
    "print(a.ndim)"
   ]
  },
  {
   "cell_type": "code",
   "execution_count": 37,
   "id": "2bb4af30",
   "metadata": {},
   "outputs": [
    {
     "name": "stdout",
     "output_type": "stream",
     "text": [
      "[[[ 1]\n",
      "  [ 2]\n",
      "  [ 3]\n",
      "  [ 4]]\n",
      "\n",
      " [[ 5]\n",
      "  [ 6]\n",
      "  [ 7]\n",
      "  [ 8]]\n",
      "\n",
      " [[ 9]\n",
      "  [10]\n",
      "  [11]\n",
      "  [12]]]\n",
      "12\n",
      "(3, 4, 1)\n",
      "3\n"
     ]
    }
   ],
   "source": [
    "b = arr.reshape(3,4,1)\n",
    "print(b)\n",
    "print(b.size)\n",
    "print(b.shape)\n",
    "print(b.ndim)"
   ]
  },
  {
   "cell_type": "code",
   "execution_count": 38,
   "id": "09a906b6",
   "metadata": {},
   "outputs": [
    {
     "name": "stdout",
     "output_type": "stream",
     "text": [
      "[[[ 1]\n",
      "  [ 2]\n",
      "  [ 3]]\n",
      "\n",
      " [[ 4]\n",
      "  [ 5]\n",
      "  [ 6]]\n",
      "\n",
      " [[ 7]\n",
      "  [ 8]\n",
      "  [ 9]]\n",
      "\n",
      " [[10]\n",
      "  [11]\n",
      "  [12]]]\n",
      "12\n",
      "(4, 3, 1)\n",
      "3\n"
     ]
    }
   ],
   "source": [
    "c = arr.reshape(4,3,1)\n",
    "print(c)\n",
    "print(c.size)\n",
    "print(c.shape)\n",
    "print(c.ndim)"
   ]
  },
  {
   "cell_type": "code",
   "execution_count": 39,
   "id": "2e0c628c",
   "metadata": {},
   "outputs": [
    {
     "name": "stdout",
     "output_type": "stream",
     "text": [
      "[[[ 1  2  3]]\n",
      "\n",
      " [[ 4  5  6]]\n",
      "\n",
      " [[ 7  8  9]]\n",
      "\n",
      " [[10 11 12]]]\n",
      "12\n",
      "(4, 1, 3)\n",
      "3\n"
     ]
    }
   ],
   "source": [
    "d = arr.reshape(4,1,3)\n",
    "print(d)\n",
    "print(d.size)\n",
    "print(d.shape)\n",
    "print(d.ndim)"
   ]
  },
  {
   "cell_type": "code",
   "execution_count": 40,
   "id": "43595b1e",
   "metadata": {},
   "outputs": [
    {
     "name": "stdout",
     "output_type": "stream",
     "text": [
      "[[ 1  2  3  4  5  6]\n",
      " [ 7  8  9 10 11 12]]\n",
      "12\n",
      "(2, 6)\n",
      "2\n"
     ]
    }
   ],
   "source": [
    "e = arr.reshape(2,6)\n",
    "print(e)\n",
    "print(e.size)\n",
    "print(e.shape)\n",
    "print(e.ndim)"
   ]
  },
  {
   "cell_type": "markdown",
   "id": "9db301d9",
   "metadata": {},
   "source": [
    "# 3)create full array shape (9*9) with element 9 ,zero arrays shape (2,3,4), ones array shape (4,3,2)\n",
    "    a. using general syntax  \n",
    "    b. using respective functions( like full,zero,ones)"
   ]
  },
  {
   "cell_type": "code",
   "execution_count": 46,
   "id": "3c438106",
   "metadata": {},
   "outputs": [
    {
     "name": "stdout",
     "output_type": "stream",
     "text": [
      "[[9 9 9 9 9 9 9 9 9]\n",
      " [9 9 9 9 9 9 9 9 9]\n",
      " [9 9 9 9 9 9 9 9 9]\n",
      " [9 9 9 9 9 9 9 9 9]\n",
      " [9 9 9 9 9 9 9 9 9]\n",
      " [9 9 9 9 9 9 9 9 9]\n",
      " [9 9 9 9 9 9 9 9 9]\n",
      " [9 9 9 9 9 9 9 9 9]\n",
      " [9 9 9 9 9 9 9 9 9]]\n"
     ]
    }
   ],
   "source": [
    "#full array shape (9*9) with element 9 \n",
    "#a.using general syntax\n",
    "arr = np.array([\n",
    "       [9, 9, 9, 9, 9, 9, 9, 9, 9],\n",
    "       [9, 9, 9, 9, 9, 9, 9, 9, 9],\n",
    "       [9, 9, 9, 9, 9, 9, 9, 9, 9],\n",
    "       [9, 9, 9, 9, 9, 9, 9, 9, 9],\n",
    "       [9, 9, 9, 9, 9, 9, 9, 9, 9],\n",
    "       [9, 9, 9, 9, 9, 9, 9, 9, 9],\n",
    "       [9, 9, 9, 9, 9, 9, 9, 9, 9],\n",
    "       [9, 9, 9, 9, 9, 9, 9, 9, 9],\n",
    "       [9, 9, 9, 9, 9, 9, 9, 9, 9]\n",
    "               ])\n",
    "print(arr)"
   ]
  },
  {
   "cell_type": "code",
   "execution_count": 44,
   "id": "4752d410",
   "metadata": {},
   "outputs": [
    {
     "data": {
      "text/plain": [
       "array([[9, 9, 9, 9, 9, 9, 9, 9, 9],\n",
       "       [9, 9, 9, 9, 9, 9, 9, 9, 9],\n",
       "       [9, 9, 9, 9, 9, 9, 9, 9, 9],\n",
       "       [9, 9, 9, 9, 9, 9, 9, 9, 9],\n",
       "       [9, 9, 9, 9, 9, 9, 9, 9, 9],\n",
       "       [9, 9, 9, 9, 9, 9, 9, 9, 9],\n",
       "       [9, 9, 9, 9, 9, 9, 9, 9, 9],\n",
       "       [9, 9, 9, 9, 9, 9, 9, 9, 9],\n",
       "       [9, 9, 9, 9, 9, 9, 9, 9, 9]])"
      ]
     },
     "execution_count": 44,
     "metadata": {},
     "output_type": "execute_result"
    }
   ],
   "source": [
    "#using full func\n",
    "np.full((9,9),9)"
   ]
  },
  {
   "cell_type": "code",
   "execution_count": 50,
   "id": "a5f27377",
   "metadata": {},
   "outputs": [
    {
     "name": "stdout",
     "output_type": "stream",
     "text": [
      "[[[0 0 0 0]\n",
      "  [0 0 0 0]\n",
      "  [0 0 0 0]]\n",
      "\n",
      " [[0 0 0 0]\n",
      "  [0 0 0 0]\n",
      "  [0 0 0 0]]]\n"
     ]
    }
   ],
   "source": [
    "#zero arrays shape (2,3,4)\n",
    "arr = np.array([\n",
    "                [[0,0,0,0],\n",
    "                 [0,0,0,0],\n",
    "                 [0,0,0,0]],\n",
    "                [[0,0,0,0],\n",
    "                 [0,0,0,0],\n",
    "                 [0,0,0,0]]\n",
    "            ])\n",
    "print(arr)"
   ]
  },
  {
   "cell_type": "code",
   "execution_count": 49,
   "id": "982f4ead",
   "metadata": {},
   "outputs": [
    {
     "data": {
      "text/plain": [
       "array([[[0., 0., 0., 0.],\n",
       "        [0., 0., 0., 0.],\n",
       "        [0., 0., 0., 0.]],\n",
       "\n",
       "       [[0., 0., 0., 0.],\n",
       "        [0., 0., 0., 0.],\n",
       "        [0., 0., 0., 0.]]])"
      ]
     },
     "execution_count": 49,
     "metadata": {},
     "output_type": "execute_result"
    }
   ],
   "source": [
    "np.zeros((2,3,4))"
   ]
  },
  {
   "cell_type": "code",
   "execution_count": 52,
   "id": "249fcfc7",
   "metadata": {},
   "outputs": [
    {
     "name": "stdout",
     "output_type": "stream",
     "text": [
      "[[[1 1]\n",
      "  [1 1]\n",
      "  [1 1]]\n",
      "\n",
      " [[1 1]\n",
      "  [1 1]\n",
      "  [1 1]]\n",
      "\n",
      " [[1 1]\n",
      "  [1 1]\n",
      "  [1 1]]\n",
      "\n",
      " [[1 1]\n",
      "  [1 1]\n",
      "  [1 1]]]\n"
     ]
    }
   ],
   "source": [
    "#ones array shape (4,3,2)\n",
    "arr = np.array([\n",
    "                [[1,1],\n",
    "                 [1,1],\n",
    "                 [1,1]],\n",
    "                [[1,1],\n",
    "                 [1,1],\n",
    "                 [1,1]],\n",
    "                [[1,1],\n",
    "                 [1,1],\n",
    "                 [1,1]],\n",
    "                [[1,1],\n",
    "                 [1,1],\n",
    "                 [1,1]]\n",
    " ])\n",
    "print(arr)\n"
   ]
  },
  {
   "cell_type": "code",
   "execution_count": 51,
   "id": "f7808311",
   "metadata": {},
   "outputs": [
    {
     "data": {
      "text/plain": [
       "array([[[1., 1.],\n",
       "        [1., 1.],\n",
       "        [1., 1.]],\n",
       "\n",
       "       [[1., 1.],\n",
       "        [1., 1.],\n",
       "        [1., 1.]],\n",
       "\n",
       "       [[1., 1.],\n",
       "        [1., 1.],\n",
       "        [1., 1.]],\n",
       "\n",
       "       [[1., 1.],\n",
       "        [1., 1.],\n",
       "        [1., 1.]]])"
      ]
     },
     "execution_count": 51,
     "metadata": {},
     "output_type": "execute_result"
    }
   ],
   "source": [
    "np.ones((4,3,2))"
   ]
  },
  {
   "cell_type": "markdown",
   "id": "9b5a7fec",
   "metadata": {},
   "source": [
    "# 4)using your own examples try showing the Difference between\n",
    "   a. range, arange   \n",
    "   b. linspace,arange  \n",
    "   c. eye matrix, identity matrix"
   ]
  },
  {
   "cell_type": "code",
   "execution_count": null,
   "id": "9ae1ed7f",
   "metadata": {},
   "outputs": [],
   "source": [
    "#a)in the range we can give only int as the step size where as in arange() we can give float data type "
   ]
  },
  {
   "cell_type": "code",
   "execution_count": 57,
   "id": "991a0aa5",
   "metadata": {},
   "outputs": [
    {
     "name": "stdout",
     "output_type": "stream",
     "text": [
      "[ 1  4  7 10]\n"
     ]
    }
   ],
   "source": [
    "#range\n",
    "a=np.array(range(1,12,3))\n",
    "print(a)"
   ]
  },
  {
   "cell_type": "code",
   "execution_count": 1,
   "id": "9568d303",
   "metadata": {},
   "outputs": [
    {
     "data": {
      "text/plain": [
       "'a=np.array(range(1,12,3.0))\\nprint(a)'"
      ]
     },
     "execution_count": 1,
     "metadata": {},
     "output_type": "execute_result"
    }
   ],
   "source": [
    "'''a=np.array(range(1,12,3.0))\n",
    "print(a)'''#uncomment for error  #it is not possible to use float datatype in these"
   ]
  },
  {
   "cell_type": "code",
   "execution_count": 59,
   "id": "efb5dd55",
   "metadata": {},
   "outputs": [
    {
     "name": "stdout",
     "output_type": "stream",
     "text": [
      "[ 1  4  7 10]\n"
     ]
    }
   ],
   "source": [
    "a=np.arange(1,12,3)\n",
    "print(a)"
   ]
  },
  {
   "cell_type": "code",
   "execution_count": 60,
   "id": "517f7741",
   "metadata": {},
   "outputs": [
    {
     "name": "stdout",
     "output_type": "stream",
     "text": [
      "[ 1.  4.  7. 10.]\n"
     ]
    }
   ],
   "source": [
    "a=np.arange(1,12,3.0)\n",
    "print(a)"
   ]
  },
  {
   "cell_type": "code",
   "execution_count": null,
   "id": "8babdf1f",
   "metadata": {},
   "outputs": [],
   "source": [
    "#b. linspace,arange\n",
    "#linspace(syntax) --->(start,end,no.ofelements)\n",
    "#arange(syntax) --->(start,end,step)\n",
    "'''in both linspace and arange we give three arguments first and second are start and end in both \n",
    "where as the third argument in linspace is no.of elements and in arange the third argument is step'''\n"
   ]
  },
  {
   "cell_type": "code",
   "execution_count": 61,
   "id": "00cd1a5c",
   "metadata": {},
   "outputs": [
    {
     "data": {
      "text/plain": [
       "array([ 1.  ,  3.75,  6.5 ,  9.25, 12.  ])"
      ]
     },
     "execution_count": 61,
     "metadata": {},
     "output_type": "execute_result"
    }
   ],
   "source": [
    "np.linspace(1,12,5)"
   ]
  },
  {
   "cell_type": "code",
   "execution_count": 62,
   "id": "4635e4f8",
   "metadata": {},
   "outputs": [
    {
     "data": {
      "text/plain": [
       "array([ 1,  6, 11])"
      ]
     },
     "execution_count": 62,
     "metadata": {},
     "output_type": "execute_result"
    }
   ],
   "source": [
    "np.arange(1,12,5)"
   ]
  },
  {
   "cell_type": "code",
   "execution_count": null,
   "id": "90e4d93f",
   "metadata": {},
   "outputs": [],
   "source": [
    "#eyematrix&identitymatrix-\n",
    "'''eye returns a 2-D array with ones on the diagonal and zeros elsewhere. The main difference is that with the numpy. \n",
    "eye() the diagonal can may be offset, whereas numpy. identity() only fills the main diagonal.'''\n"
   ]
  },
  {
   "cell_type": "code",
   "execution_count": 63,
   "id": "836105bc",
   "metadata": {},
   "outputs": [
    {
     "data": {
      "text/plain": [
       "array([[1., 0., 0.],\n",
       "       [0., 1., 0.],\n",
       "       [0., 0., 1.]])"
      ]
     },
     "execution_count": 63,
     "metadata": {},
     "output_type": "execute_result"
    }
   ],
   "source": [
    "np.identity(3)"
   ]
  },
  {
   "cell_type": "code",
   "execution_count": 64,
   "id": "67b0b48f",
   "metadata": {},
   "outputs": [
    {
     "data": {
      "text/plain": [
       "array([[1., 0.],\n",
       "       [0., 1.],\n",
       "       [0., 0.]])"
      ]
     },
     "execution_count": 64,
     "metadata": {},
     "output_type": "execute_result"
    }
   ],
   "source": [
    "np.eye(3,2)"
   ]
  },
  {
   "cell_type": "code",
   "execution_count": null,
   "id": "8c12a2aa",
   "metadata": {},
   "outputs": [],
   "source": []
  }
 ],
 "metadata": {
  "kernelspec": {
   "display_name": "Python 3 (ipykernel)",
   "language": "python",
   "name": "python3"
  },
  "language_info": {
   "codemirror_mode": {
    "name": "ipython",
    "version": 3
   },
   "file_extension": ".py",
   "mimetype": "text/x-python",
   "name": "python",
   "nbconvert_exporter": "python",
   "pygments_lexer": "ipython3",
   "version": "3.11.3"
  }
 },
 "nbformat": 4,
 "nbformat_minor": 5
}
