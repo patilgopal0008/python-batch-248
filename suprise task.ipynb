{
 "cells": [
  {
   "cell_type": "markdown",
   "id": "d1c8814d",
   "metadata": {},
   "source": [
    "### List Comprehension:\n",
    "1.Easy: Create a list comprehension that generates a list of squares of numbers from 1 to 10.  \n",
    "Output: [1, 4, 9, 16, 25, 36, 49, 64, 81, 100]\n"
   ]
  },
  {
   "cell_type": "code",
   "execution_count": 3,
   "id": "7b8b4c5c",
   "metadata": {},
   "outputs": [
    {
     "name": "stdout",
     "output_type": "stream",
     "text": [
      "1\n",
      "10\n",
      "[1, 4, 9, 16, 25, 36, 49, 64, 81, 100]\n"
     ]
    }
   ],
   "source": [
    "x,y = int(input()),int(input())\n",
    "lst = [ele*ele for ele in range(x,y+1)]\n",
    "print(lst)"
   ]
  },
  {
   "cell_type": "markdown",
   "id": "f1cfad77",
   "metadata": {},
   "source": [
    "2.Medium: Given a list of words, create a list comprehension to filter out words that are longer than 5 characters.  \n",
    "Input: ['apple', 'banana', 'cherry', 'date', 'elderberry']  \n",
    "Output: ['apple', 'cherry', 'date']  \n"
   ]
  },
  {
   "cell_type": "code",
   "execution_count": 13,
   "id": "7593b5a5",
   "metadata": {},
   "outputs": [
    {
     "name": "stdout",
     "output_type": "stream",
     "text": [
      "['apple', 'date']\n"
     ]
    }
   ],
   "source": [
    "lst =  ['apple', 'banana', 'cherry', 'date', 'elderberry']\n",
    "x = [ele for ele in lst if len(ele)<=5]\n",
    "print(x)"
   ]
  },
  {
   "cell_type": "markdown",
   "id": "63fd63e8",
   "metadata": {},
   "source": [
    "### Lists:\n",
    "1.Easy: Create a list containing the numbers 1 to 5 and then append the number 6 to it.  \n",
    "Output: [1, 2, 3, 4, 5, 6]  \n"
   ]
  },
  {
   "cell_type": "code",
   "execution_count": 3,
   "id": "dae3e953",
   "metadata": {},
   "outputs": [
    {
     "name": "stdout",
     "output_type": "stream",
     "text": [
      "[1, 2, 3, 4, 5]\n"
     ]
    }
   ],
   "source": [
    "x = []\n",
    "i =1\n",
    "while i < 6:\n",
    "    x.append(i)\n",
    "    i+=1\n",
    "print(x)"
   ]
  },
  {
   "cell_type": "code",
   "execution_count": 4,
   "id": "3837a647",
   "metadata": {},
   "outputs": [
    {
     "name": "stdout",
     "output_type": "stream",
     "text": [
      "[1, 2, 3, 4, 5, 6]\n"
     ]
    }
   ],
   "source": [
    "i = 6\n",
    "x.append(i)\n",
    "print(x)"
   ]
  },
  {
   "cell_type": "markdown",
   "id": "f59ae855",
   "metadata": {},
   "source": [
    "2.Medium: Given two lists, merge them into a single list without duplicates.  \n",
    "Input:  \n",
    "List 1: [1, 2, 3, 4]  \n",
    "List 2: [3, 4, 5, 6]  \n",
    "Output: [1, 2, 3, 4, 5, 6]  "
   ]
  },
  {
   "cell_type": "code",
   "execution_count": 9,
   "id": "81ed4c1a",
   "metadata": {},
   "outputs": [
    {
     "name": "stdout",
     "output_type": "stream",
     "text": [
      "[1, 2, 3, 4, 5, 6]\n"
     ]
    }
   ],
   "source": [
    "lst1 = [1,2,3,4]\n",
    "lst2 =[3,4,5,6]\n",
    "output = set(lst1+lst2)\n",
    "print(list(output))"
   ]
  },
  {
   "cell_type": "markdown",
   "id": "d650d6cd",
   "metadata": {},
   "source": [
    "### Map:\n",
    "1.Easy: Use the map function to double each element in a list.  \n",
    "Input: [1, 2, 3, 4, 5]  \n",
    "Output: [2, 4, 6, 8, 10]  \n"
   ]
  },
  {
   "cell_type": "code",
   "execution_count": 13,
   "id": "d4ef1c87",
   "metadata": {},
   "outputs": [
    {
     "name": "stdout",
     "output_type": "stream",
     "text": [
      "[2, 4, 6, 8, 10]\n"
     ]
    }
   ],
   "source": [
    "p = lambda x:x*2\n",
    "r = map(p,range(1,6))\n",
    "print(list(r))"
   ]
  },
  {
   "cell_type": "markdown",
   "id": "c1b543ee",
   "metadata": {},
   "source": [
    "2.Medium: Use the map function to convert a list of strings to uppercase.  \n",
    "Input: ['apple', 'banana', 'cherry']  \n",
    "Output: ['APPLE', 'BANANA', 'CHERRY']  \n"
   ]
  },
  {
   "cell_type": "code",
   "execution_count": 18,
   "id": "b4ce8e86",
   "metadata": {},
   "outputs": [
    {
     "name": "stdout",
     "output_type": "stream",
     "text": [
      "['APPLE', 'BANANA', 'CHERRY']\n"
     ]
    }
   ],
   "source": [
    "lst = ['apple','banana','cherry']\n",
    "r = lambda x:x.upper()\n",
    "s = map(r,lst)\n",
    "print(list(s))"
   ]
  },
  {
   "cell_type": "markdown",
   "id": "c4c94377",
   "metadata": {},
   "source": [
    "### Filter:\n",
    "1.Easy: Use the filter function to get all even numbers from a list.  \n",
    "Input: [1, 2, 3, 4, 5, 6]  \n",
    "Output: [2, 4, 6]  \n"
   ]
  },
  {
   "cell_type": "code",
   "execution_count": 22,
   "id": "5ba1ddd1",
   "metadata": {},
   "outputs": [
    {
     "name": "stdout",
     "output_type": "stream",
     "text": [
      "[2, 4, 6]\n"
     ]
    }
   ],
   "source": [
    "x = [1,2,3,4,5,6]\n",
    "y = lambda x:x%2==0\n",
    "z = filter(y,x)\n",
    "print(list(z))"
   ]
  },
  {
   "cell_type": "markdown",
   "id": "c16cc638",
   "metadata": {},
   "source": [
    "2.Medium: Use the filter function to get all words from a list that start with the letter 'b'.  \n",
    "Input: ['apple', 'banana', 'cherry', 'blueberry', 'date']  \n",
    "Output: ['banana', 'blueberry']  \n"
   ]
  },
  {
   "cell_type": "code",
   "execution_count": 33,
   "id": "e2bdf255",
   "metadata": {},
   "outputs": [
    {
     "name": "stdout",
     "output_type": "stream",
     "text": [
      "['banana', 'blueberry']\n"
     ]
    }
   ],
   "source": [
    "lst1 =  ['apple', 'banana', 'cherry', 'blueberry', 'date']\n",
    "y = lambda ele:ele.startswith('b')\n",
    "z = filter(y,lst1)\n",
    "print(list(z))"
   ]
  },
  {
   "cell_type": "markdown",
   "id": "058e73cd",
   "metadata": {},
   "source": [
    "### Functions:\n",
    "1.Easy: Write a function called add that takes two numbers as input and returns their sum.  \n",
    "Input: add(3, 4)  \n",
    "Output: 7  "
   ]
  },
  {
   "cell_type": "code",
   "execution_count": 35,
   "id": "c4256fea",
   "metadata": {},
   "outputs": [],
   "source": [
    "def addition(x,y):\n",
    "    z = x+y\n",
    "    print(z)"
   ]
  },
  {
   "cell_type": "code",
   "execution_count": 36,
   "id": "33e8e05c",
   "metadata": {},
   "outputs": [
    {
     "name": "stdout",
     "output_type": "stream",
     "text": [
      "12\n"
     ]
    }
   ],
   "source": [
    "addition(5,7)"
   ]
  },
  {
   "cell_type": "markdown",
   "id": "51a9a554",
   "metadata": {},
   "source": [
    "2.Medium: Write a function called calculate_average that takes a list of numbers as input and returns the average (mean) of   those numbers.  \n",
    "Input: calculate_average([1, 2, 3, 4, 5])  \n",
    "Output: 3.0  "
   ]
  },
  {
   "cell_type": "code",
   "execution_count": 41,
   "id": "45115b2c",
   "metadata": {},
   "outputs": [],
   "source": [
    "def c_a(x):\n",
    "    z = sum(x)/len(x)\n",
    "    print(z)\n",
    "    "
   ]
  },
  {
   "cell_type": "code",
   "execution_count": 42,
   "id": "f2034ebd",
   "metadata": {},
   "outputs": [
    {
     "name": "stdout",
     "output_type": "stream",
     "text": [
      "3.0\n"
     ]
    }
   ],
   "source": [
    "c_a([1,2,3,4,5])"
   ]
  },
  {
   "cell_type": "code",
   "execution_count": null,
   "id": "a869775a",
   "metadata": {},
   "outputs": [],
   "source": []
  },
  {
   "cell_type": "code",
   "execution_count": null,
   "id": "0bdf9143",
   "metadata": {},
   "outputs": [],
   "source": []
  },
  {
   "cell_type": "code",
   "execution_count": null,
   "id": "5f6d9e3e",
   "metadata": {},
   "outputs": [],
   "source": []
  },
  {
   "cell_type": "code",
   "execution_count": null,
   "id": "a61bf03f",
   "metadata": {},
   "outputs": [],
   "source": []
  },
  {
   "cell_type": "code",
   "execution_count": null,
   "id": "080ce8dc",
   "metadata": {},
   "outputs": [],
   "source": []
  },
  {
   "cell_type": "code",
   "execution_count": null,
   "id": "b29d028d",
   "metadata": {},
   "outputs": [],
   "source": []
  },
  {
   "cell_type": "code",
   "execution_count": null,
   "id": "96340cc5",
   "metadata": {},
   "outputs": [],
   "source": []
  }
 ],
 "metadata": {
  "kernelspec": {
   "display_name": "Python 3 (ipykernel)",
   "language": "python",
   "name": "python3"
  },
  "language_info": {
   "codemirror_mode": {
    "name": "ipython",
    "version": 3
   },
   "file_extension": ".py",
   "mimetype": "text/x-python",
   "name": "python",
   "nbconvert_exporter": "python",
   "pygments_lexer": "ipython3",
   "version": "3.11.3"
  }
 },
 "nbformat": 4,
 "nbformat_minor": 5
}
