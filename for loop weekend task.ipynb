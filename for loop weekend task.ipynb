{
 "cells": [
  {
   "cell_type": "markdown",
   "id": "8118104e",
   "metadata": {},
   "source": [
    "1)To the Power of _____ Create a function that takes a base number and an exponent number and returns the calculation.\n",
    "\n",
    "Examples calculate_exponent(5, 5) ➞ 3125\n",
    "\n",
    "calculate_exponent(10, 10) ➞ 10000000000\n",
    "\n",
    "calculate_exponent(3, 3) ➞ 27"
   ]
  },
  {
   "cell_type": "code",
   "execution_count": 2,
   "id": "e90868b9",
   "metadata": {},
   "outputs": [
    {
     "name": "stdout",
     "output_type": "stream",
     "text": [
      "Enter the base number: 3\n",
      "Enter the exponent number: 2\n",
      "9\n"
     ]
    }
   ],
   "source": [
    "base = int(input(\"Enter the base number: \"))  \n",
    "exponent = int(input(\"Enter the exponent number: \"))  \n",
    "\n",
    "result = 1\n",
    "for ele in range(exponent):\n",
    "    result *= base\n",
    "\n",
    "print(result)"
   ]
  },
  {
   "cell_type": "markdown",
   "id": "020eb248",
   "metadata": {},
   "source": [
    "2)Find the Largest Number in a List Create a function that takes a list of numbers. Return the largest number in the list.\n",
    "\n",
    "Examples findLargestNum([4, 5, 1, 3]) ➞ 5\n",
    "\n",
    "findLargestNum([300, 200, 600, 150]) ➞ 600\n",
    "\n",
    "findLargestNum([1000, 1001, 857, 1]) ➞ 1001"
   ]
  },
  {
   "cell_type": "code",
   "execution_count": 3,
   "id": "3961d154",
   "metadata": {},
   "outputs": [
    {
     "name": "stdout",
     "output_type": "stream",
     "text": [
      "5\n"
     ]
    }
   ],
   "source": [
    "numbers = [4, 5, 1, 3]  # Replace with the desired list of numbers\n",
    "\n",
    "largest = numbers[0]  # Initialize the largest with the first element\n",
    "\n",
    "for num in numbers:\n",
    "    if num > largest:\n",
    "        largest = num\n",
    "\n",
    "print(largest)"
   ]
  },
  {
   "cell_type": "markdown",
   "id": "528ff849",
   "metadata": {},
   "source": [
    "3)Find the Smallest Number in a List Create a function that takes a list of numbers and returns the smallest number in the list.\n",
    "\n",
    "Examples find_smallest_num([34, 15, 88, 2]) ➞ 2\n",
    "\n",
    "find_smallest_num([34, -345, -1, 100]) ➞ -345\n",
    "\n",
    "find_smallest_num([-76, 1.345, 1, 0]) ➞ -76\n",
    "\n",
    "find_smallest_num([0.4356, 0.8795, 0.5435, -0.9999]) ➞ -0.9999\n",
    "\n",
    "find_smallest_num([7, 7, 7]) ➞ 7"
   ]
  },
  {
   "cell_type": "code",
   "execution_count": 6,
   "id": "6cbdc8b3",
   "metadata": {},
   "outputs": [
    {
     "name": "stdout",
     "output_type": "stream",
     "text": [
      "2\n"
     ]
    }
   ],
   "source": [
    "x = [34,15,88,2]\n",
    "smallest = x[0]\n",
    "for num in x:\n",
    "    if num< smallest:\n",
    "        smallest = num\n",
    "print(smallest)"
   ]
  },
  {
   "cell_type": "markdown",
   "id": "3d1f229e",
   "metadata": {},
   "source": [
    "4)Difference of Max and Min Numbers in List Create a function that takes a list and returns the difference between the biggest and smallest numbers. Examples difference_max_min([10, 4, 1, 4, -10, -50, 32, 21]) ➞ 82 Smallest number is -50, biggest is 32.\n",
    "\n",
    "difference_max_min([44, 32, 86, 19]) ➞ 67 Smallest number is 19, biggest is 86."
   ]
  },
  {
   "cell_type": "code",
   "execution_count": 7,
   "id": "fe249fff",
   "metadata": {},
   "outputs": [
    {
     "name": "stdout",
     "output_type": "stream",
     "text": [
      "82\n"
     ]
    }
   ],
   "source": [
    "x = [10, 4, 1, 4, -10, -50, 32, 21]\n",
    "largest = 0\n",
    "smallest = 0\n",
    "for ele in x:\n",
    "    if ele < smallest:\n",
    "        smallest=ele\n",
    "    elif ele> largest:\n",
    "        largest=ele\n",
    "        \n",
    "diff = largest-smallest\n",
    "print(diff)"
   ]
  },
  {
   "cell_type": "markdown",
   "id": "67b8ea93",
   "metadata": {},
   "source": [
    "5)Get the Sum of All List Elements Create a function that takes a list and returns the sum of all numbers in the list.\n",
    "\n",
    "Examples get_sum_of_elements([2, 7, 4]) ➞ 13\n",
    "\n",
    "get_sum_of_elements([45, 3, 0]) ➞ 48\n",
    "\n",
    "get_sum_of_elements([-2, 84, 23]) ➞ 105"
   ]
  },
  {
   "cell_type": "code",
   "execution_count": 8,
   "id": "ccf03e5f",
   "metadata": {},
   "outputs": [
    {
     "name": "stdout",
     "output_type": "stream",
     "text": [
      "13\n"
     ]
    }
   ],
   "source": [
    "x = [2,7,4]\n",
    "sum = 0\n",
    "for ele in x:\n",
    "    sum+=ele\n",
    "print(sum)"
   ]
  },
  {
   "cell_type": "markdown",
   "id": "d88b17aa",
   "metadata": {},
   "source": [
    "6)Convert Number to String of Dashes Create a function that takes a number (from 1 - 60) and returns a corresponding string of hyphens.\n",
    "\n",
    "Examples num_to_dashes(1) ➞ \"-\"\n",
    "\n",
    "num_to_dashes(5) ➞ \"-----\"\n",
    "\n",
    "num_to_dashes(3) ➞ \"---\""
   ]
  },
  {
   "cell_type": "code",
   "execution_count": 9,
   "id": "9e70318a",
   "metadata": {},
   "outputs": [
    {
     "name": "stdout",
     "output_type": "stream",
     "text": [
      "5\n",
      "-----\n"
     ]
    }
   ],
   "source": [
    "x = int(input())\n",
    "y =\"\"\n",
    "for ele in range(x):\n",
    "    y+=\"-\"\n",
    "print(y)\n",
    "    "
   ]
  },
  {
   "cell_type": "markdown",
   "id": "ee8a47fb",
   "metadata": {},
   "source": [
    "7)Edaaaaabit Write a function that takes an integer and returns a string with the given number of \"a\"s in Edabit.\n",
    "\n",
    "Examples how_many_times(5) ➞ \"Edaaaaabit\"\n",
    "\n",
    "how_many_times(0) ➞ \"Edbit\"\n",
    "\n",
    "how_many_times(12) ➞ \"Edaaaaaaaaaaaabit\""
   ]
  },
  {
   "cell_type": "code",
   "execution_count": 11,
   "id": "33a1b1f2",
   "metadata": {},
   "outputs": [
    {
     "name": "stdout",
     "output_type": "stream",
     "text": [
      "5\n",
      "edaaaaabit\n"
     ]
    }
   ],
   "source": [
    "x = int(input())\n",
    "result=\"\"\n",
    "for ele in range(x):\n",
    "    result+='a'\n",
    "    \n",
    "print(\"ed\"+result+\"bit\")"
   ]
  },
  {
   "cell_type": "markdown",
   "id": "12af5117",
   "metadata": {},
   "source": [
    "8)Check if All Values Are True Create a function that returns True if all parameters are truthy, and False otherwise.\n",
    "\n",
    "Examples all_truthy(True, True, True) ➞ True\n",
    "\n",
    "all_truthy(True, False, True) ➞ False\n",
    "\n",
    "all_truthy(5, 4, 3, 2, 1, 0) ➞ False"
   ]
  },
  {
   "cell_type": "code",
   "execution_count": 12,
   "id": "864d7f7b",
   "metadata": {},
   "outputs": [
    {
     "name": "stdout",
     "output_type": "stream",
     "text": [
      "False\n"
     ]
    }
   ],
   "source": [
    "x = (5,4,3,2,1,0)\n",
    "result = True\n",
    "for value in x:\n",
    "    if not value:\n",
    "        result = False\n",
    "        break\n",
    "\n",
    "print(result)"
   ]
  },
  {
   "cell_type": "markdown",
   "id": "a45fa3a0",
   "metadata": {},
   "source": [
    "9)Buggy Code (Part 5) Mubashir created an infinite loop! Help him by fixing the code in the code tab to pass this challenge. Look at the examples below to get an idea of what the function should do.\n",
    "\n",
    "Examples print_list(1) ➞ [1]\n",
    "\n",
    "print_list(3) ➞ [1, 2, 3]\n",
    "\n",
    "print_list(6) ➞ [1, 2, 3, 4, 5, 6]\n",
    "\n",
    "x = int(input())"
   ]
  },
  {
   "cell_type": "code",
   "execution_count": 20,
   "id": "ad3da694",
   "metadata": {},
   "outputs": [
    {
     "name": "stdout",
     "output_type": "stream",
     "text": [
      "5\n",
      "[1, 2, 3, 4, 5]\n"
     ]
    }
   ],
   "source": [
    "x = int(input())\n",
    "y = []\n",
    "for ele in range(1,x+1):\n",
    "    y.append(ele)\n",
    "print(y)"
   ]
  },
  {
   "cell_type": "markdown",
   "id": "b9c47e60",
   "metadata": {},
   "source": [
    "10)Return Last Item Create a function that returns the last value of the last item in a list or string.\n",
    "\n",
    "Examples last_ind([0, 4, 19, 34, 50, -9, 2]) ➞ 2\n",
    "\n",
    "last_ind(\"The quick brown fox jumped over the lazy dog\") ➞ \"g\"\n",
    "\n",
    "last_ind([]) ➞ None"
   ]
  },
  {
   "cell_type": "code",
   "execution_count": 21,
   "id": "2dd501f3",
   "metadata": {},
   "outputs": [
    {
     "name": "stdout",
     "output_type": "stream",
     "text": [
      "2\n"
     ]
    }
   ],
   "source": [
    "x = [0, 4, 19, 34, 50, -9, 2]\n",
    "for ele in x:\n",
    "    y = x[-1]\n",
    "print(y)"
   ]
  },
  {
   "cell_type": "markdown",
   "id": "dd7f56d9",
   "metadata": {},
   "source": [
    "11)Destructuring Assignment (Ignoring Values) You can assign variables from lists like this:\n",
    "\n",
    "first, _ , last = [1, 2, 8]\n",
    "\n",
    "first = lst[0]\n",
    "\n",
    "_ = ignores second value (2)\n",
    "\n",
    "last = lst[-1]\n",
    "\n",
    "print(first) ➞ outputs 1 print(last) ➞ outputs 8 Using Destructuring Assignment (check the Resources tab), your task is to unpack the list writeyourcodehere into three variables, first, a variable to ignore all middle values and last."
   ]
  },
  {
   "cell_type": "code",
   "execution_count": 22,
   "id": "91a8aac8",
   "metadata": {},
   "outputs": [
    {
     "name": "stdout",
     "output_type": "stream",
     "text": [
      "1\n",
      "1\n",
      "6\n"
     ]
    }
   ],
   "source": [
    "lst = [1, 2, 3, _, _, 6 ]\n",
    "\n",
    "first = None\n",
    "middle = None\n",
    "last = None\n",
    "\n",
    "for i, value in enumerate(lst):\n",
    "    if i == 0:\n",
    "        first = value\n",
    "    elif i == len(lst) - 1:\n",
    "        last = value\n",
    "    else:\n",
    "        middle = value\n",
    "\n",
    "print(first)  \n",
    "print(middle)  \n",
    "print(last)"
   ]
  },
  {
   "cell_type": "markdown",
   "id": "e2a25aa3",
   "metadata": {},
   "source": [
    "12)Century Crisis Scientists have discovered that in four decades, the world will EXPLODE! It will also take three decades to make a spaceship to travel to a new planet that can hold the entire world population.\n",
    "You must calculate the number of people there will be in three decades from now.\n",
    "\n",
    "The variable P is the world population now. Assume that every month, someone gives birth to more people nP. Return the number of people there will be when the spaceship is complete. Examples future_people(256, 2) ➞ 976\n",
    "\n",
    "future_people(3248, 6) ➞ 5408\n",
    "\n",
    "future_people(5240, 3) ➞ 6320"
   ]
  },
  {
   "cell_type": "code",
   "execution_count": 23,
   "id": "bc932562",
   "metadata": {},
   "outputs": [
    {
     "name": "stdout",
     "output_type": "stream",
     "text": [
      "3248\n",
      "6\n",
      "3464\n"
     ]
    }
   ],
   "source": [
    "p = int(input())\n",
    "np = int(input())\n",
    "for ele in range(3*12):\n",
    "    p+=np\n",
    "print(p)"
   ]
  },
  {
   "cell_type": "markdown",
   "id": "9d1fe30c",
   "metadata": {},
   "source": [
    "13)Word Numbers! Create a function that returns a number, based on the string provided. Here is a list of all digits:\n",
    "\n",
    "String Number  \n",
    "\"one\" 1  \n",
    "\"two\" 2  \n",
    "\"three\" 3  \n",
    "\"four\" 4  \n",
    "\"five\" 5  \n",
    "\"six\" 6  \n",
    "\"seven\" 7  \n",
    "\"eight\" 8  \n",
    "\"nine\" 9  \n",
    "\"zero\" 0  \n",
    "Examples word(\"one\") ➞ 1  \n",
    "\n",
    "word(\"two\") ➞ 2  \n",
    "\n",
    "word(\"nine\") ➞ 9  "
   ]
  },
  {
   "cell_type": "code",
   "execution_count": 24,
   "id": "08f21e61",
   "metadata": {},
   "outputs": [
    {
     "name": "stdout",
     "output_type": "stream",
     "text": [
      "1\n"
     ]
    }
   ],
   "source": [
    "word_to_number = {\n",
    "    \"one\": 1,\n",
    "    \"two\": 2,\n",
    "    \"three\": 3,\n",
    "    \"four\": 4,\n",
    "    \"five\": 5,\n",
    "    \"six\": 6,\n",
    "    \"seven\": 7,\n",
    "    \"eight\": 8,\n",
    "    \"nine\": 9,\n",
    "    \"zero\": 0\n",
    "}\n",
    "\n",
    "word = \"one\"  # Replace with the desired word\n",
    "\n",
    "result = None\n",
    "\n",
    "for key, value in word_to_number.items():\n",
    "    if key == word:\n",
    "        result = value\n",
    "        break\n",
    "\n",
    "print(result)\n"
   ]
  },
  {
   "cell_type": "markdown",
   "id": "abcc74b2",
   "metadata": {},
   "source": [
    "14)Count Instances of a Character in a String Create a function that takes two strings as arguments and returns the number of times the first string (the single character) is found in the second string.\n",
    "\n",
    "Examples char_count(\"a\", \"edabit\") ➞ 1\n",
    "\n",
    "char_count(\"c\", \"Chamber of secrets\") ➞ 1\n",
    "\n",
    "char_count(\"b\", \"big fat bubble\") ➞ 4"
   ]
  },
  {
   "cell_type": "code",
   "execution_count": 5,
   "id": "023c232f",
   "metadata": {},
   "outputs": [
    {
     "name": "stdout",
     "output_type": "stream",
     "text": [
      "enter a string: hello\n",
      "enter a letter: l\n",
      "o\n"
     ]
    }
   ],
   "source": [
    "x = input('enter a string: ')\n",
    "y = input('enter a letter: ')\n",
    "count = 0\n",
    "for c in x:\n",
    "    if c == y:\n",
    "        count+=1\n",
    "print(c)"
   ]
  },
  {
   "cell_type": "markdown",
   "id": "9064c063",
   "metadata": {},
   "source": [
    "15)Find the Index Create a function that takes a list and a string as arguments and returns the index of the string.\n",
    "\n",
    "Examples find_index([\"hi\", \"edabit\", \"fgh\", \"abc\"], \"fgh\") ➞ 2\n",
    "\n",
    "find_index([\"Red\", \"blue\", \"Blue\", \"Green\"], \"blue\") ➞ 1\n",
    "\n",
    "find_index([\"a\", \"g\", \"y\", \"d\"], \"d\") ➞ 3\n",
    "\n",
    "find_index([\"Pineapple\", \"Orange\", \"Grape\", \"Apple\"], \"Pineapple\") ➞ 0"
   ]
  },
  {
   "cell_type": "code",
   "execution_count": 27,
   "id": "c2a90066",
   "metadata": {},
   "outputs": [
    {
     "name": "stdout",
     "output_type": "stream",
     "text": [
      "2\n"
     ]
    }
   ],
   "source": [
    "lst = [\"hi\", \"edabit\", \"fgh\", \"abc\"]  # Replace with the desired list\n",
    "string = \"fgh\"  # Replace with the desired string\n",
    "\n",
    "index = None\n",
    "\n",
    "for i in range(len(lst)):\n",
    "    if lst[i] == string:\n",
    "        index = i\n",
    "        break\n",
    "\n",
    "print(index)\n"
   ]
  },
  {
   "cell_type": "markdown",
   "id": "6c54714b",
   "metadata": {},
   "source": [
    "16)Recreating a len() Function Create a function which returns the length of a string, without using len().\n",
    "\n",
    "Examples length(\"Hello World\") ➞ 11\n",
    "\n",
    "length(\"Edabit\") ➞ 6\n",
    "\n",
    "length(\"wash your hands!\") ➞ 16"
   ]
  },
  {
   "cell_type": "code",
   "execution_count": 29,
   "id": "98d6e7a4",
   "metadata": {},
   "outputs": [
    {
     "name": "stdout",
     "output_type": "stream",
     "text": [
      "11\n"
     ]
    }
   ],
   "source": [
    "string = \"Hello World\"  # Replace with the desired string\n",
    "\n",
    "count = 0\n",
    "\n",
    "for ele in string:\n",
    "    count += 1\n",
    "\n",
    "print(count)"
   ]
  },
  {
   "cell_type": "markdown",
   "id": "089f7a2c",
   "metadata": {},
   "source": [
    "17)Sum of Minimums Create a function that takes a 2D list lst and returns the sum of the minimum value in each row.\n",
    "\n",
    "Examples sum_minimums([ [1, 2, 3, 4, 5], [5, 6, 7, 8, 9], [20, 21, 34, 56, 100] ]) ➞ 26\n",
    "\n",
    "minimum value of the first row is 1 minimum value of the second row is 5 minimum value of the third row is 20"
   ]
  },
  {
   "cell_type": "code",
   "execution_count": 32,
   "id": "ce7c0454",
   "metadata": {},
   "outputs": [
    {
     "name": "stdout",
     "output_type": "stream",
     "text": [
      "26\n"
     ]
    }
   ],
   "source": [
    "lst = [\n",
    "    [1, 2, 3, 4, 5],\n",
    "    [5, 6, 7, 8, 9],\n",
    "    [20, 21, 34, 56, 100]\n",
    "]  # Replace with the desired 2D list\n",
    "\n",
    "sum_min = 0\n",
    "\n",
    "for row in lst:\n",
    "    min_value = min(row)\n",
    "    sum_min += min_value\n",
    "\n",
    "print(sum_min)"
   ]
  },
  {
   "cell_type": "markdown",
   "id": "71269491",
   "metadata": {},
   "source": [
    "18)The Forbidden Letter Given a letter and a list of words, return whether the letter does not appear in any of the words.\n",
    "\n",
    "Examples forbidden_letter(\"r\", [\"rock\", \"paper\", \"scissors\"]) ➞ False\n",
    "\n",
    "forbidden_letter(\"a\", [\"spoon\", \"fork\", \"knife\"]) ➞ True\n",
    "\n",
    "forbidden_letter(\"m\", []) ➞ True"
   ]
  },
  {
   "cell_type": "code",
   "execution_count": 38,
   "id": "8840ce41",
   "metadata": {},
   "outputs": [
    {
     "name": "stdout",
     "output_type": "stream",
     "text": [
      "r\n",
      "True\n"
     ]
    }
   ],
   "source": [
    "letter = input()\n",
    "words = [\"rock\", \"paper\", \"scissors\"]  # Replace with the desired list of words = False\n",
    "y = False\n",
    "\n",
    "for ele in words:\n",
    "    if letter in word:\n",
    "        y = True\n",
    "        break\n",
    "\n",
    "print(y)"
   ]
  },
  {
   "cell_type": "markdown",
   "id": "6b5e5508",
   "metadata": {},
   "source": [
    "19)Factors of a Given Number Create a function that finds each factor of a given number n. Your solution should return a list of the number(s) that meet this criteria.\n",
    "\n",
    "Examples find_factors(9) ➞ [1, 3, 9] 9 has three factors 1, 3 and 9\n",
    "\n",
    "find_factors(12) ➞ [1, 2, 3, 4, 6, 12]\n",
    "\n",
    "find_factors(20) ➞ [1, 2, 4, 5, 10, 20]\n",
    "\n",
    "find_factors(0) ➞ [] 0 has no factors"
   ]
  },
  {
   "cell_type": "code",
   "execution_count": 40,
   "id": "e1113e65",
   "metadata": {},
   "outputs": [
    {
     "name": "stdout",
     "output_type": "stream",
     "text": [
      "9\n",
      "[1, 3, 9]\n"
     ]
    }
   ],
   "source": [
    "n =  int(input())\n",
    "\n",
    "factors = []\n",
    "\n",
    "for i in range(1, n + 1):\n",
    "    if n % i == 0:\n",
    "        factors.append(i)\n",
    "\n",
    "print(factors)"
   ]
  },
  {
   "cell_type": "markdown",
   "id": "2348db65",
   "metadata": {},
   "source": [
    "20)Reverse the Case Given a string, create a function to reverse the case. All lower-cased letters should be upper-cased, and vice versa.\n",
    "\n",
    "Examples reverse_case(\"Happy Birthday\") ➞ \"hAPPY bIRTHDAY\"\n",
    "\n",
    "reverse_case(\"MANY THANKS\") ➞ \"many thanks\"\n",
    "\n",
    "reverse_case(\"sPoNtAnEoUs\") ➞ \"SpOnTaNeOuS\""
   ]
  },
  {
   "cell_type": "code",
   "execution_count": 3,
   "id": "10764743",
   "metadata": {},
   "outputs": [
    {
     "name": "stdout",
     "output_type": "stream",
     "text": [
      "enter a string: HELlo\n",
      "helLO\n"
     ]
    }
   ],
   "source": [
    "x = input('enter a string: ')\n",
    "y = \"\"\n",
    "for ele in x:\n",
    "    if ele.islower():\n",
    "        y+= ele.upper()\n",
    "    elif ele.isupper():\n",
    "        y += ele.lower()\n",
    "print(y)\n"
   ]
  },
  {
   "cell_type": "markdown",
   "id": "66987912",
   "metadata": {},
   "source": [
    "21)Hashes and Pluses Create a function that returns the number of hashes and pluses in a string.\n",
    "\n",
    "Examples hash_plus_count(\"###+\") ➞ [3, 1]\n",
    "\n",
    "hash_plus_count(\"##+++#\") ➞ [3, 3]\n",
    "\n",
    "hash_plus_count(\"#+++#+#++#\") ➞ [4, 6]\n",
    "\n",
    "hash_plus_count(\"\") ➞ [0, 0]"
   ]
  },
  {
   "cell_type": "code",
   "execution_count": 4,
   "id": "6af4ca9b",
   "metadata": {},
   "outputs": [
    {
     "name": "stdout",
     "output_type": "stream",
     "text": [
      "enter a string: #++++#\n",
      "[2, 4]\n"
     ]
    }
   ],
   "source": [
    "string = input('enter a string: ')\n",
    "\n",
    "hash_count = 0\n",
    "plus_count = 0\n",
    "\n",
    "for char in string:\n",
    "    if char == \"#\":\n",
    "        hash_count += 1\n",
    "    elif char == \"+\":\n",
    "        plus_count += 1\n",
    "\n",
    "result = [hash_count, plus_count]\n",
    "print(result)"
   ]
  },
  {
   "cell_type": "markdown",
   "id": "3b0a4fca",
   "metadata": {},
   "source": [
    "22)Even and Odd Strings Given a one word lowercase string txt, return another string such that even-indexed and odd-indexed characters are grouped and groups are space-separated.\n",
    "\n",
    "Examples even_odd_string(\"mubashir\") ➞ \"mbsi uahr\"\n",
    "Letters at even indexes = \"mbsi\"\n",
    "Letters at odd indexes = \"uahr\"\n",
    "Join both strings with a space\n",
    "\n",
    "even_odd_string(\"edabit\") ➞ \"eai dbt\"\n",
    "\n",
    "even_odd_string(\"airforce\") ➞ \"aroc ifre\""
   ]
  },
  {
   "cell_type": "code",
   "execution_count": 6,
   "id": "6542a1ab",
   "metadata": {},
   "outputs": [
    {
     "name": "stdout",
     "output_type": "stream",
     "text": [
      "enter a string: welcome\n",
      "wloe ecm\n"
     ]
    }
   ],
   "source": [
    "txt = input('enter a string: ')\n",
    "\n",
    "even_chars = \"\"\n",
    "odd_chars = \"\"\n",
    "\n",
    "for i in range(len(txt)):\n",
    "    if i % 2 == 0:\n",
    "        even_chars += txt[i]\n",
    "    else:\n",
    "        odd_chars += txt[i]\n",
    "\n",
    "result = even_chars + \" \" + odd_chars\n",
    "print(result)"
   ]
  },
  {
   "cell_type": "markdown",
   "id": "f27dec90",
   "metadata": {},
   "source": [
    "23)Sum of the Odd Numbers Create a function which returns the total of all odd numbers up to and including n. n will be given as an odd number.\n",
    "\n",
    "Examples\n",
    "add_odd_to_n(5) ➞ 9\n",
    "1 + 3 + 5 = 9\n",
    "\n",
    "add_odd_to_n(13) ➞ 49\n",
    "\n",
    "add_odd_to_n(47) ➞ 576"
   ]
  },
  {
   "cell_type": "code",
   "execution_count": 13,
   "id": "8ebf91cf",
   "metadata": {},
   "outputs": [
    {
     "name": "stdout",
     "output_type": "stream",
     "text": [
      "5\n",
      "9\n"
     ]
    }
   ],
   "source": [
    "n = int(input())\n",
    "\n",
    "total = 0\n",
    "\n",
    "for num in range(1, n + 1,2):\n",
    "    total += num\n",
    "\n",
    "print(total)"
   ]
  },
  {
   "cell_type": "markdown",
   "id": "eaaf16c4",
   "metadata": {},
   "source": [
    "24)Summing the Squares Create a function that takes a number n and returns the sum of all square numbers up to and including n.\n",
    "\n",
    "squares_sum(3) ➞ 14\n",
    "\n",
    "1² + 2² + 3² =\n",
    "1 + 4 + 9 =\n",
    "14\n",
    "Examples squares_sum(3) ➞ 14\n",
    "\n",
    "squares_sum(12) ➞ 650\n",
    "\n",
    "squares_sum(13) ➞ 819"
   ]
  },
  {
   "cell_type": "code",
   "execution_count": 15,
   "id": "5234a86b",
   "metadata": {},
   "outputs": [
    {
     "name": "stdout",
     "output_type": "stream",
     "text": [
      "12\n",
      "650\n"
     ]
    }
   ],
   "source": [
    "n = int(input()) \n",
    "\n",
    "total = 0\n",
    "\n",
    "for i in range(1, n + 1):\n",
    "    total += i ** 2\n",
    "\n",
    "print(total)"
   ]
  },
  {
   "cell_type": "markdown",
   "id": "fa57fbf0",
   "metadata": {},
   "source": [
    "25)Negate the List of Numbers Given a list of numbers, negate all elements contained within.\n",
    "\n",
    "Negating a positive value -+n will return -n, because all +'s are removed. Negating a negative value --n will return n, because the first - turns the second minus into a +. Examples negate([1, 2, 3, 4]) ➞ [-1, -2, -3, -4]\n",
    "\n",
    "negate([-1, 2, -3, 4]) ➞ [1, -2, 3, -4]\n",
    "\n",
    "negate([]) ➞ []"
   ]
  },
  {
   "cell_type": "code",
   "execution_count": 16,
   "id": "a12fd417",
   "metadata": {},
   "outputs": [
    {
     "name": "stdout",
     "output_type": "stream",
     "text": [
      "[-1, -2, -3, -4]\n"
     ]
    }
   ],
   "source": [
    "numbers = [1, 2, 3, 4]  \n",
    "\n",
    "y = []\n",
    "\n",
    "for x in numbers:\n",
    "    y.append(-x)\n",
    "\n",
    "print(y)"
   ]
  },
  {
   "cell_type": "markdown",
   "id": "8b05c761",
   "metadata": {},
   "source": [
    "26)Additive Inverse A number added with its additive inverse equals zero. Create a function that returns a list of additive inverses.\n",
    "\n",
    "Examples additive_inverse([5, -7, 8, 3]) ➞ [-5, 7, -8, -3]\n",
    "\n",
    "additive_inverse([1, 1, 1, 1, 1]) ➞ [-1, -1, -1, -1, -1]\n",
    "\n",
    "additive_inverse([-5, -25, 35]) ➞ [5, 25, -35]"
   ]
  },
  {
   "cell_type": "code",
   "execution_count": 17,
   "id": "b1081fe9",
   "metadata": {},
   "outputs": [
    {
     "name": "stdout",
     "output_type": "stream",
     "text": [
      "[-5, 7, -8, -3]\n"
     ]
    }
   ],
   "source": [
    "numbers = [5, -7, 8, 3]  \n",
    "\n",
    "additive_inverses = []\n",
    "\n",
    "for num in numbers:\n",
    "    additive_inverses.append(-num)\n",
    "\n",
    "print(additive_inverses)"
   ]
  },
  {
   "cell_type": "markdown",
   "id": "39acf3c1",
   "metadata": {},
   "source": [
    "27)Add a Consecutive List of Numbers Write a function that takes the last number of a consecutive list of numbers and returns the total of all numbers up to and including it.\n",
    "\n",
    "Examples add_up_to(3) ➞ 6\n",
    "\n",
    "1 + 2 + 3 = 6\n",
    "add_up_to(10) ➞ 55\n",
    "\n",
    "1 + 2 + 3 + ... + 10 = 55\n",
    "add_up_to(7) ➞ 28\n",
    "\n",
    "1 + 2 + 3 + ... + 7 = 28¶"
   ]
  },
  {
   "cell_type": "code",
   "execution_count": 18,
   "id": "e8eeddc5",
   "metadata": {},
   "outputs": [
    {
     "name": "stdout",
     "output_type": "stream",
     "text": [
      "10\n",
      "55\n"
     ]
    }
   ],
   "source": [
    "n = int(input())\n",
    "\n",
    "total = 0\n",
    "\n",
    "for i in range(1, n + 1):\n",
    "    total += i\n",
    "\n",
    "print(total)"
   ]
  },
  {
   "cell_type": "markdown",
   "id": "d9c09030",
   "metadata": {},
   "source": [
    "28)Give Me the Even Numbers Create a function that takes two parameters (start, stop), and returns the sum of all even numbers in the range.\n",
    "\n",
    "Examples sum_even_nums_in_range(10, 20) ➞ 90\n",
    "\n",
    "10, 12, 14, 16, 18, 20\n",
    "sum_even_nums_in_range(51, 150) ➞ 5050\n",
    "\n",
    "sum_even_nums_in_range(63, 97) ➞ 1360"
   ]
  },
  {
   "cell_type": "code",
   "execution_count": 20,
   "id": "4778485f",
   "metadata": {},
   "outputs": [
    {
     "name": "stdout",
     "output_type": "stream",
     "text": [
      "10\n",
      "20\n",
      "90\n"
     ]
    }
   ],
   "source": [
    "start = int(input())\n",
    "stop = int(input())\n",
    "\n",
    "total = 0\n",
    "\n",
    "for num in range(start, stop + 1):\n",
    "    if num % 2 == 0:\n",
    "        total += num\n",
    "\n",
    "print(total)"
   ]
  },
  {
   "cell_type": "markdown",
   "id": "795250c0",
   "metadata": {},
   "source": [
    "29)Is the String a Palindrome? A palindrome is a word that is identical forward and backwards.\n",
    "\n",
    "mom racecar kayak Given a word, create a function that checks whether it is a palindrome.\n",
    "\n",
    "Examples is_palindrome(\"mom\") ➞ True\n",
    "\n",
    "is_palindrome(\"scary\") ➞ False\n",
    "\n",
    "is_palindrome(\"reviver\") ➞ True\n",
    "\n",
    "is_palindrome(\"stressed\") ➞ False"
   ]
  },
  {
   "cell_type": "code",
   "execution_count": 21,
   "id": "85c8de5c",
   "metadata": {},
   "outputs": [
    {
     "name": "stdout",
     "output_type": "stream",
     "text": [
      "True\n"
     ]
    }
   ],
   "source": [
    "word = \"racecar\"  \n",
    "\n",
    "is_palindrome = True\n",
    "\n",
    "for i in range(len(word) // 2):\n",
    "    if word[i] != word[len(word) - 1 - i]:\n",
    "        is_palindrome = False\n",
    "        break\n",
    "\n",
    "print(is_palindrome)"
   ]
  },
  {
   "cell_type": "markdown",
   "id": "34861e00",
   "metadata": {},
   "source": [
    "30)List of Consecutive Numbers Implement a function that returns a list containing all the consecutive numbers in ascendant order from the given value low up to the given value high (bounds included).\n",
    "\n",
    "Examples get_sequence(1, 5) ➞ [1, 2, 3, 4, 5]\n",
    "\n",
    "get_sequence(98, 100) ➞ [98, 99, 100]\n",
    "\n",
    "get_sequence(1000, 1000) ➞ [1000]"
   ]
  },
  {
   "cell_type": "code",
   "execution_count": 22,
   "id": "44bebf89",
   "metadata": {},
   "outputs": [
    {
     "name": "stdout",
     "output_type": "stream",
     "text": [
      "1\n",
      "5\n",
      "[1, 2, 3, 4, 5]\n"
     ]
    }
   ],
   "source": [
    "low = int(input())\n",
    "high = int(input())\n",
    "\n",
    "sequence = []\n",
    "\n",
    "for num in range(low, high + 1):\n",
    "    sequence.append(num)\n",
    "\n",
    "print(sequence)"
   ]
  },
  {
   "cell_type": "markdown",
   "id": "e2c1a367",
   "metadata": {},
   "source": [
    "31)Find the Index (Part 1) Create a function that finds the index of a given item.\n",
    "\n",
    "Examples search([1, 5, 3], 5) ➞ 1\n",
    "\n",
    "search([9, 8, 3], 3) ➞ 2\n",
    "\n",
    "search([1, 2, 3], 4) ➞ -1"
   ]
  },
  {
   "cell_type": "code",
   "execution_count": 26,
   "id": "d5a9b640",
   "metadata": {},
   "outputs": [
    {
     "name": "stdout",
     "output_type": "stream",
     "text": [
      "3\n",
      "2\n"
     ]
    }
   ],
   "source": [
    "lst = [1, 5, 3]  # Replace with the desired list\n",
    "item = int(input())       # Replace with the desired item to search for\n",
    "\n",
    "\n",
    "\n",
    "for i in range(len(lst)):\n",
    "    if lst[i] == item:\n",
    "        index = i\n",
    "        break\n",
    "\n",
    "print(i)"
   ]
  },
  {
   "cell_type": "markdown",
   "id": "e9186bed",
   "metadata": {},
   "source": [
    "32)Count the Capital Letters Given a string of letters, how many capital letters are there?\n",
    "\n",
    "Examples capital_letters(\"fvLzpxmgXSDrobbgMVrc\") ➞ 6\n",
    "\n",
    "capital_letters(\"JMZWCneOTFLWYwBWxyFw\") ➞ 14\n",
    "\n",
    "capital_letters(\"mqeytbbjwqemcdrdsyvq\") ➞ 0"
   ]
  },
  {
   "cell_type": "code",
   "execution_count": 27,
   "id": "7b0ff0ff",
   "metadata": {},
   "outputs": [
    {
     "name": "stdout",
     "output_type": "stream",
     "text": [
      "enter a string: envmkdhrySDFGHJAKI\n",
      "9\n"
     ]
    }
   ],
   "source": [
    "string = input('enter a string: ')\n",
    "\n",
    "capital_count = 0\n",
    "\n",
    "for char in string:\n",
    "    if char.isupper():\n",
    "        capital_count += 1\n",
    "\n",
    "print(capital_count)"
   ]
  },
  {
   "cell_type": "markdown",
   "id": "f98d80d1",
   "metadata": {},
   "source": [
    "33)N Tables + 1 Create a function that takes a number num and returns the first 10 multiples of num with 1 added to it, separated by commas.\n",
    "\n",
    "Examples n_tables_plus_one(7) ➞ \"8,15,22,29,36,43,50,57,64,71\"\n",
    "\n",
    "n_tables_plus_one(1) ➞ \"2,3,4,5,6,7,8,9,10,11\"\n",
    "\n",
    "n_tables_plus_one(3) ➞ \"4,7,10,13,16,19,22,25,28,31\""
   ]
  },
  {
   "cell_type": "code",
   "execution_count": 3,
   "id": "2374bf2f",
   "metadata": {},
   "outputs": [
    {
     "name": "stdout",
     "output_type": "stream",
     "text": [
      "7\n",
      "8,15,22,29,36,43,50,57,64,71\n"
     ]
    }
   ],
   "source": [
    "num = int(input())\n",
    "\n",
    "result = \"\"\n",
    "\n",
    "for i in range(1, 11):\n",
    "    if i >1:\n",
    "        result += \",\"\n",
    "    result += str(num * i + 1)\n",
    "\n",
    "print(result)"
   ]
  },
  {
   "cell_type": "markdown",
   "id": "4b6a0c87",
   "metadata": {},
   "source": [
    "34)Reverse Coding Challenge #3 This is a reverse coding challenge. Normally you're given explicit directions with how to create a function. Here, you must generate your own function to satisfy the relationship between the inputs and outputs.\n",
    "\n",
    "Your task is to create a function that, when fed the inputs below, produces the sample outputs shown.\n",
    "\n",
    "Examples [5, 7, 8, 2, 1], 2 ➞ [1, 1, 0, 0, 1]\n",
    "\n",
    "[9, 8, 16, 47], 4 ➞ [1, 0, 0, 3]\n",
    "\n",
    "[17, 11, 99, 55, 23, 1], 5 ➞ [2, 1, 4, 0, 3, 1]\n",
    "\n",
    "[6, 1], 7 ➞ [6, 1]\n",
    "\n",
    "[3, 2, 9], 3 ➞ [0, 2, 0]\n",
    "\n",
    "[48, 22, 0, 19, 33, 100], 10 ➞ [8, 2, 0, 9, 3, 0]"
   ]
  },
  {
   "cell_type": "code",
   "execution_count": 29,
   "id": "6f306044",
   "metadata": {},
   "outputs": [
    {
     "name": "stdout",
     "output_type": "stream",
     "text": [
      "[1, 1, 0, 0, 1]\n"
     ]
    }
   ],
   "source": [
    "inputs = [5, 7, 8, 2, 1]  # Replace with the desired list of inputs\n",
    "n = 2                     # Replace with the desired value of n\n",
    "\n",
    "output = []\n",
    "\n",
    "for num in inputs:\n",
    "    output.append(num % n)\n",
    "\n",
    "print(output)\n"
   ]
  },
  {
   "cell_type": "markdown",
   "id": "a08007b3",
   "metadata": {},
   "source": [
    "35)Burglary Series (11): Say What The insurance guy calls again. Apparently, they were informed by your spouse that some items were not stolen at all and you failed to mention this detail to them. This is a fraud attempt! You freeze and mumble something unintelligible. Find out what you said.\n",
    "\n",
    "Given a dictionary, return a string that concatenates all the values and adds the 2nd key at the end. Make sure you keep an empty space between them but not at the beginning or end of the string. Look at the examples for a clearer picture.\n",
    "\n",
    "Examples { 1: \"Mommy\", 2: \"please\", 3: \"help\" } ➞ \"Mommy please help please\"\n",
    "\n",
    "{ 1: \"Me\", 2: \"innocent\", 3: \"is\" } ➞ \"Me innocent is innocent\"\n",
    "\n",
    "{ 1: \"Must\", 2: \"lawyer\", 3: \"call\" } ➞ \"Must lawyer call lawyer\""
   ]
  },
  {
   "cell_type": "code",
   "execution_count": 30,
   "id": "868d7d35",
   "metadata": {},
   "outputs": [
    {
     "name": "stdout",
     "output_type": "stream",
     "text": [
      "Mommy please help please\n"
     ]
    }
   ],
   "source": [
    "dictionary = {1: \"Mommy\", 2: \"please\", 3: \"help\"}  # Replace with the desired dictionary\n",
    "\n",
    "result = \"\"\n",
    "\n",
    "for key in dictionary:\n",
    "    result += dictionary[key] + \" \"\n",
    "\n",
    "result += dictionary[2]\n",
    "\n",
    "print(result)"
   ]
  },
  {
   "cell_type": "markdown",
   "id": "7b7dfd8d",
   "metadata": {},
   "source": [
    "36)Word Endings Create a function that adds a string ending to each member in a list.\n",
    "\n",
    "Examples add_ending([\"clever\", \"meek\", \"hurried\", \"nice\"], \"ly\") ➞ [\"cleverly\", \"meekly\", \"hurriedly\", \"nicely\"]\n",
    "\n",
    "add_ending([\"new\", \"pander\", \"scoop\"], \"er\") ➞ [\"newer\", \"panderer\", \"scooper\"]\n",
    "\n",
    "add_ending([\"bend\", \"sharpen\", \"mean\"], \"ing\") ➞ [\"bending\", \"sharpening\", \"meaning\"]"
   ]
  },
  {
   "cell_type": "code",
   "execution_count": 31,
   "id": "3a63401f",
   "metadata": {},
   "outputs": [
    {
     "name": "stdout",
     "output_type": "stream",
     "text": [
      "['cleverly', 'meekly', 'hurriedly', 'nicely']\n"
     ]
    }
   ],
   "source": [
    "words = [\"clever\", \"meek\", \"hurried\", \"nice\"]  \n",
    "ending = \"ly\"                                  \n",
    "\n",
    "result = []\n",
    "\n",
    "for word in words:\n",
    "    result.append(word + ending)\n",
    "\n",
    "print(result)\n"
   ]
  },
  {
   "cell_type": "markdown",
   "id": "43b036f6",
   "metadata": {},
   "source": [
    "37)Sum of Cubes Create a function that takes a list of numbers and returns the sum of its cubes.\n",
    "\n",
    "Examples sum_of_cubes([1, 5, 9]) ➞ 855\n",
    "\n",
    "Since 1^3 + 5^3 + 9^3 = 1 + 125 + 729 = 855\n",
    "sum_of_cubes([3, 4, 5]) ➞ 216\n",
    "\n",
    "sum_of_cubes([2]) ➞ 8\n",
    "\n",
    "sum_of_cubes([]) ➞ 0"
   ]
  },
  {
   "cell_type": "code",
   "execution_count": 32,
   "id": "5a723de1",
   "metadata": {},
   "outputs": [
    {
     "name": "stdout",
     "output_type": "stream",
     "text": [
      "855\n"
     ]
    }
   ],
   "source": [
    "numbers = [1, 5, 9]  \n",
    "\n",
    "total_sum = 0\n",
    "\n",
    "for num in numbers:\n",
    "    total_sum += num ** 3\n",
    "\n",
    "print(total_sum)"
   ]
  },
  {
   "cell_type": "markdown",
   "id": "a19df5ee",
   "metadata": {},
   "source": [
    "38)Minimum Removals to Make Sum Even Create a function that returns the minimum number of elements removed to make the sum of all elements in a list even.\n",
    "\n",
    "Examples minimum_removals([1, 2, 3, 4, 5]) ➞ 1\n",
    "\n",
    "minimum_removals([5, 7, 9, 11]) ➞ 0\n",
    "\n",
    "minimum_removals([5, 7, 9, 12]) ➞ 1"
   ]
  },
  {
   "cell_type": "code",
   "execution_count": 33,
   "id": "fc9f140f",
   "metadata": {},
   "outputs": [
    {
     "name": "stdout",
     "output_type": "stream",
     "text": [
      "2\n"
     ]
    }
   ],
   "source": [
    "numbers = [1, 2, 3, 4, 5]  # Replace with the desired list of numbers\n",
    "\n",
    "sum_of_elements = sum(numbers)\n",
    "even_sum = sum_of_elements % 2\n",
    "\n",
    "odd_count = 0\n",
    "\n",
    "for num in numbers:\n",
    "    if num % 2 == 1:\n",
    "        odd_count += 1\n",
    "\n",
    "if even_sum == 0:\n",
    "    print(0)\n",
    "else:\n",
    "    print(min(odd_count, len(numbers) - odd_count))"
   ]
  },
  {
   "cell_type": "markdown",
   "id": "49807280",
   "metadata": {},
   "source": [
    "39)Generate a Countdown of Numbers in a List Create a function that takes a number as an argument and returns a list of numbers counting down from this number to zero.\n",
    "\n",
    "Examples countdown(5) ➞ [5, 4, 3, 2, 1, 0]\n",
    "\n",
    "countdown(1) ➞ [1, 0]\n",
    "\n",
    "countdown(0) ➞ [0]"
   ]
  },
  {
   "cell_type": "code",
   "execution_count": 37,
   "id": "72066437",
   "metadata": {},
   "outputs": [
    {
     "name": "stdout",
     "output_type": "stream",
     "text": [
      "[5, 4, 3, 2, 1, 0]\n"
     ]
    }
   ],
   "source": [
    "n = 5  # Replace with the desired number\n",
    "\n",
    "countdown_list = []\n",
    "\n",
    "for i in range(n, -1, -1):\n",
    "    countdown_list.append(i)\n",
    "\n",
    "print(countdown_list)"
   ]
  },
  {
   "cell_type": "markdown",
   "id": "5fcee781",
   "metadata": {},
   "source": [
    "40)Who's in First Place? Create a function that takes a string road and returns the car that's in first place. The road will be made of \"=\", and cars will be represented by letters in the alphabet.\n",
    "\n",
    "Examples first_place(\"====b===O===e===U=A==\") ➞ \"A\"\n",
    "\n",
    "first_place(\"e==B=Fe\") ➞ \"e\"\n",
    "\n",
    "first_place(\"proeNeoOJGnfl\") ➞ \"l\""
   ]
  },
  {
   "cell_type": "code",
   "execution_count": 4,
   "id": "4594b007",
   "metadata": {},
   "outputs": [
    {
     "name": "stdout",
     "output_type": "stream",
     "text": [
      "A\n"
     ]
    }
   ],
   "source": [
    "road = \"====b===O===e===U=A==\"  \n",
    "index = 0\n",
    "first_car = None\n",
    "for car in road:\n",
    "    if road[-index].isalpha():\n",
    "        first_car = road[-index]\n",
    "        break\n",
    "    index += 1\n",
    "    \n",
    "print(first_car)"
   ]
  },
  {
   "cell_type": "markdown",
   "id": "44a31823",
   "metadata": {},
   "source": [
    "41)Sum of Resistance in Series Circuits When resistors are connected together in series, the same current passes through each resistor in the chain and the total resistance, RT, of the circuit must be equal to the sum of all the individual resistors added together. That is:\n",
    "\n",
    "RT = R1 + R2 + R3 ... Create a function that takes an array of values resistance that are connected in series, and calculates the total resistance of the circuit in ohms. The ohm is the standard unit of electrical resistance in the International System of Units ( SI ).\n",
    "\n",
    "Examples series_resistance([1, 5, 6, 3]) ➞ \"15 ohms\"\n",
    "\n",
    "series_resistance([16, 3.5, 6]) ➞ \"25.5 ohms\"\n",
    "\n",
    "series_resistance([0.5, 0.5]) ➞ \"1.0 ohm\"\n",
    "\n",
    "resistance = [1, 5, 6, 3]"
   ]
  },
  {
   "cell_type": "code",
   "execution_count": 41,
   "id": "a85c7890",
   "metadata": {},
   "outputs": [
    {
     "name": "stdout",
     "output_type": "stream",
     "text": [
      "15ohms\n"
     ]
    }
   ],
   "source": [
    "resistance = [1, 5, 6, 3]  \n",
    "\n",
    "total_resistance = 0\n",
    "\n",
    "for r in resistance:\n",
    "    total_resistance += r\n",
    "    \n",
    "print(f\"{total_resistance}ohms\")"
   ]
  },
  {
   "cell_type": "markdown",
   "id": "0e43cec7",
   "metadata": {},
   "source": [
    "42)Instant JAZZ Create a function which concatenates the number 7 to the end of every chord in a list. Ignore all chords which already end with 7.\n",
    "\n",
    "Examples jazzify([\"G\", \"F\", \"C\"]) ➞ [\"G7\", \"F7\", \"C7\"]\n",
    "\n",
    "jazzify([\"Dm\", \"G\", \"E\", \"A\"]) ➞ [\"Dm7\", \"G7\", \"E7\", \"A7\"]\n",
    "\n",
    "jazzify([\"F7\", \"E7\", \"A7\", \"Ab7\", \"Gm7\", \"C7\"]) ➞ [\"F7\", \"E7\", \"A7\", \"Ab7\", \"Gm7\", \"C7\"]\n",
    "\n",
    "jazzify([]) ➞ []"
   ]
  },
  {
   "cell_type": "code",
   "execution_count": 42,
   "id": "31364190",
   "metadata": {},
   "outputs": [
    {
     "name": "stdout",
     "output_type": "stream",
     "text": [
      "['G7', 'F7', 'C7']\n"
     ]
    }
   ],
   "source": [
    "words = [\"G\", \"F\", \"C\"]\n",
    "ending = \"7\"                                  \n",
    "\n",
    "result = []\n",
    "\n",
    "for word in words:\n",
    "    result.append(word + ending)\n",
    "\n",
    "print(result)\n"
   ]
  },
  {
   "cell_type": "markdown",
   "id": "98f2a100",
   "metadata": {},
   "source": [
    "43)Convert a Number to Base-2 Create a function that returns a base-2 (binary) representation of a base-10 (decimal) string number. To convert is simple: ((2) means base-2 and (10) means base-10) 010101001(2) = 1 + 8 + 32 + 128.\n",
    "\n",
    "Going from right to left, the value of the most right bit is 1, now from that every bit to the left will be x2 the value, value of an 8 bit binary numbers are (256, 128, 64, 32, 16, 8, 4, 2, 1).\n",
    "\n",
    "Examples binary(1) ➞ \"1\"\n",
    "\n",
    "1*1 = 1\n",
    "binary(5) ➞ \"101\"\n",
    "\n",
    "11 + 14 = 5\n",
    "binary(10) ➞ \"1010\"\n",
    "\n",
    "12 + 18 = 10"
   ]
  },
  {
   "cell_type": "code",
   "execution_count": 43,
   "id": "daaeee98",
   "metadata": {},
   "outputs": [
    {
     "name": "stdout",
     "output_type": "stream",
     "text": [
      "Enter a decimal number: 5\n",
      "Binary representation: 101\n"
     ]
    }
   ],
   "source": [
    "decimal_number = int(input(\"Enter a decimal number: \"))\n",
    "binary_result = \"\"\n",
    "\n",
    "while decimal_number > 0:\n",
    "    remainder = decimal_number % 2\n",
    "    binary_result = str(remainder) + binary_result\n",
    "    decimal_number //= 2\n",
    "\n",
    "if not binary_result:\n",
    "    binary_result = \"0\"\n",
    "\n",
    "print(\"Binary representation:\", binary_result)"
   ]
  },
  {
   "cell_type": "markdown",
   "id": "de55ab1a",
   "metadata": {},
   "source": [
    "44)How Many Vowels? Create a function that takes a string and returns the number (count) of vowels contained within it.\n",
    "\n",
    "Examples count_vowels(\"Celebration\") ➞ 5\n",
    "\n",
    "count_vowels(\"Palm\") ➞ 1\n",
    "\n",
    "count_vowels(\"Prediction\") ➞ 4"
   ]
  },
  {
   "cell_type": "code",
   "execution_count": 44,
   "id": "8ef259f5",
   "metadata": {},
   "outputs": [
    {
     "name": "stdout",
     "output_type": "stream",
     "text": [
      "Enter a string: helloworld\n",
      "Number of vowels: 3\n"
     ]
    }
   ],
   "source": [
    "string = input(\"Enter a string: \")\n",
    "vowels = \"aeiouAEIOU\"\n",
    "count = 0\n",
    "\n",
    "for char in string:\n",
    "    if char in vowels:\n",
    "        count += 1\n",
    "\n",
    "print(\"Number of vowels:\", count)"
   ]
  },
  {
   "cell_type": "markdown",
   "id": "821fc0e8",
   "metadata": {},
   "source": [
    "45)Find the Odd Integer Create a function that takes a list and finds the integer which appears an odd number of times.\n",
    "\n",
    "Examples find_odd([1, 1, 2, -2, 5, 2, 4, 4, -1, -2, 5]) ➞ -1\n",
    "\n",
    "find_odd([20, 1, 1, 2, 2, 3, 3, 5, 5, 4, 20, 4, 5]) ➞ 5\n",
    "\n",
    "find_odd([10]) ➞ 10\n",
    "\n",
    "​"
   ]
  },
  {
   "cell_type": "code",
   "execution_count": null,
   "id": "ff9c8bf5",
   "metadata": {},
   "outputs": [],
   "source": []
  },
  {
   "cell_type": "markdown",
   "id": "a94e1bd1",
   "metadata": {},
   "source": [
    "46)Hamming Distance Hamming distance is the number of characters that differ between two strings.\n",
    "\n",
    "To illustrate:\n",
    "\n",
    "String1: \"abcbba\" String2: \"abcbda\"\n",
    "\n",
    "Hamming Distance: 1 - \"b\" vs. \"d\" is the only difference. Create a function that computes the hamming distance between two strings.\n",
    "\n",
    "Examples hamming_distance(\"abcde\", \"bcdef\") ➞ 5\n",
    "\n",
    "hamming_distance(\"abcde\", \"abcde\") ➞ 0\n",
    "\n",
    "hamming_distance(\"strong\", \"strung\") ➞ 1"
   ]
  },
  {
   "cell_type": "code",
   "execution_count": 45,
   "id": "18af3b8f",
   "metadata": {},
   "outputs": [
    {
     "name": "stdout",
     "output_type": "stream",
     "text": [
      "5\n"
     ]
    }
   ],
   "source": [
    "string1 = \"abcde\"\n",
    "string2 = \"bcdef\"\n",
    "\n",
    "hamming_distance = 0\n",
    "\n",
    "for i in range(len(string1)):\n",
    "    if string1[i] != string2[i]:\n",
    "        hamming_distance += 1\n",
    "\n",
    "print(hamming_distance)"
   ]
  },
  {
   "cell_type": "markdown",
   "id": "a6754a09",
   "metadata": {},
   "source": [
    "47)Filter out Strings from an Array Create a function that takes a list of non-negative integers and strings and return a new list without the strings.\n",
    "\n",
    "Examples filter_list([1, 2, \"a\", \"b\"]) ➞ [1, 2]\n",
    "\n",
    "filter_list([1, \"a\", \"b\", 0, 15]) ➞ [1, 0, 15]\n",
    "\n",
    "filter_list([1, 2, \"aasf\", \"1\", \"123\", 123]) ➞ [1, 2, 123]"
   ]
  },
  {
   "cell_type": "code",
   "execution_count": 46,
   "id": "f60f2cd9",
   "metadata": {},
   "outputs": [
    {
     "name": "stdout",
     "output_type": "stream",
     "text": [
      "[1, 2, 123]\n"
     ]
    }
   ],
   "source": [
    "input_list = [1, 2, \"aasf\", \"1\", \"123\", 123]\n",
    "filtered_list = []\n",
    "\n",
    "for item in input_list:\n",
    "    if type(item) == int:\n",
    "        filtered_list.append(item)\n",
    "\n",
    "print(filtered_list)"
   ]
  },
  {
   "cell_type": "markdown",
   "id": "23c72b7a",
   "metadata": {},
   "source": [
    "48)Filter Strings from Array Create a function that takes a list of strings and integers, and filters out the list so that it returns a list of integers only.\n",
    "\n",
    "Examples filter_list([1, 2, 3, \"a\", \"b\", 4]) ➞ [1, 2, 3, 4]\n",
    "\n",
    "filter_list([\"A\", 0, \"Edabit\", 1729, \"Python\", \"1729\"]) ➞ [0, 1729]\n",
    "\n",
    "filter_list([\"Nothing\", \"here\"]) ➞ []"
   ]
  },
  {
   "cell_type": "code",
   "execution_count": 47,
   "id": "6da6baeb",
   "metadata": {},
   "outputs": [
    {
     "name": "stdout",
     "output_type": "stream",
     "text": [
      "[1, 2, 3, 4]\n"
     ]
    }
   ],
   "source": [
    "input_list = [1, 2, 3, \"a\", \"b\", 4]\n",
    "filtered_list = []\n",
    "\n",
    "for item in input_list:\n",
    "    if type(item) == int:\n",
    "        filtered_list.append(item)\n",
    "\n",
    "print(filtered_list)"
   ]
  },
  {
   "cell_type": "markdown",
   "id": "ce56676f",
   "metadata": {},
   "source": [
    "49)Add the Index Given a list of numbers, create a function which returns the list but with each element's index in the list added to itself. This means you add 0 to the number at index 0, add 1 to the number at index 1, etc...\n",
    "\n",
    "Examples add_indexes([0, 0, 0, 0, 0]) ➞ [0, 1, 2, 3, 4]\n",
    "\n",
    "add_indexes([1, 2, 3, 4, 5]) ➞ [1, 3, 5, 7, 9]\n",
    "\n",
    "add_indexes([5, 4, 3, 2, 1]) ➞ [5, 5, 5, 5, 5]"
   ]
  },
  {
   "cell_type": "code",
   "execution_count": 48,
   "id": "12bf25cb",
   "metadata": {},
   "outputs": [
    {
     "name": "stdout",
     "output_type": "stream",
     "text": [
      "[1, 3, 5, 7, 9]\n"
     ]
    }
   ],
   "source": [
    "input_list = [1, 2, 3, 4, 5]\n",
    "result_list = []\n",
    "\n",
    "for i in range(len(input_list)):\n",
    "    result_list.append(i + input_list[i])\n",
    "\n",
    "print(result_list)"
   ]
  },
  {
   "cell_type": "markdown",
   "id": "e025a817",
   "metadata": {},
   "source": [
    "50)Triangular Number Sequence This Triangular Number Sequence is generated from a pattern of dots that form a triangle. The first 5 numbers of the sequence, or dots, are:\n",
    "\n",
    "1, 3, 6, 10, 15 This means that the first triangle has just one dot, the second one has three dots, the third one has 6 dots and so on.\n",
    "\n",
    "Write a function that returns the number of dots when given its corresponding triangle number of the sequence. Examples triangle(1) ➞ 1\n",
    "\n",
    "triangle(6) ➞ 21\n",
    "\n",
    "triangle(215) ➞ 23220"
   ]
  },
  {
   "cell_type": "code",
   "execution_count": 49,
   "id": "715497d3",
   "metadata": {},
   "outputs": [
    {
     "name": "stdout",
     "output_type": "stream",
     "text": [
      "23220\n"
     ]
    }
   ],
   "source": [
    "triangle_number = 215\n",
    "num_dots = 0\n",
    "\n",
    "for i in range(1, triangle_number + 1):\n",
    "    num_dots += i\n",
    "\n",
    "print(num_dots)"
   ]
  },
  {
   "cell_type": "code",
   "execution_count": null,
   "id": "2066edd5",
   "metadata": {},
   "outputs": [],
   "source": []
  },
  {
   "cell_type": "code",
   "execution_count": null,
   "id": "eb65c850",
   "metadata": {},
   "outputs": [],
   "source": []
  }
 ],
 "metadata": {
  "kernelspec": {
   "display_name": "Python 3 (ipykernel)",
   "language": "python",
   "name": "python3"
  },
  "language_info": {
   "codemirror_mode": {
    "name": "ipython",
    "version": 3
   },
   "file_extension": ".py",
   "mimetype": "text/x-python",
   "name": "python",
   "nbconvert_exporter": "python",
   "pygments_lexer": "ipython3",
   "version": "3.11.3"
  }
 },
 "nbformat": 4,
 "nbformat_minor": 5
}
