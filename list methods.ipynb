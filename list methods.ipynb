{
 "cells": [
  {
   "cell_type": "markdown",
   "id": "6648b44b",
   "metadata": {},
   "source": [
    "# list methods"
   ]
  },
  {
   "cell_type": "code",
   "execution_count": 3,
   "id": "96616535",
   "metadata": {},
   "outputs": [
    {
     "data": {
      "text/plain": [
       "[3, 8, 5]"
      ]
     },
     "execution_count": 3,
     "metadata": {},
     "output_type": "execute_result"
    }
   ],
   "source": [
    "x = [1,2.54,3+6j,'hyderabad',39,False,[3,8,5],67,'teaching']\n",
    "x[-3]"
   ]
  },
  {
   "cell_type": "code",
   "execution_count": 2,
   "id": "bfcb5701",
   "metadata": {},
   "outputs": [
    {
     "data": {
      "text/plain": [
       "[1, 2.54, (3+6j), 'hyderabad', 39, False, [3, 8, 5], 67, 'teaching']"
      ]
     },
     "execution_count": 2,
     "metadata": {},
     "output_type": "execute_result"
    }
   ],
   "source": [
    "x"
   ]
  },
  {
   "cell_type": "code",
   "execution_count": 4,
   "id": "065469f5",
   "metadata": {},
   "outputs": [
    {
     "data": {
      "text/plain": [
       "[8]"
      ]
     },
     "execution_count": 4,
     "metadata": {},
     "output_type": "execute_result"
    }
   ],
   "source": [
    "x[-3][1:2]"
   ]
  },
  {
   "cell_type": "code",
   "execution_count": 8,
   "id": "4545e026",
   "metadata": {},
   "outputs": [
    {
     "data": {
      "text/plain": [
       "[3, 8]"
      ]
     },
     "execution_count": 8,
     "metadata": {},
     "output_type": "execute_result"
    }
   ],
   "source": [
    "x[-3][:2:]"
   ]
  },
  {
   "cell_type": "code",
   "execution_count": 13,
   "id": "8efc3acf",
   "metadata": {},
   "outputs": [
    {
     "name": "stdout",
     "output_type": "stream",
     "text": [
      "['h', 'y', 'd', 'e', 'r', 'a', 'b', 'a', 'd']\n"
     ]
    }
   ],
   "source": [
    "y = list(x[3])\n",
    "print(y)"
   ]
  },
  {
   "cell_type": "code",
   "execution_count": 21,
   "id": "a08d55e8",
   "metadata": {},
   "outputs": [
    {
     "name": "stdout",
     "output_type": "stream",
     "text": [
      "['h', 'y', 'd', 'e', 'r', 'a', 'b', 'a', 'd', 't', 'e', 'a', 'c', 'h', 'i', 'n', 'g']\n"
     ]
    }
   ],
   "source": [
    "z = list(x[3]+x[8])\n",
    "print(z)"
   ]
  },
  {
   "cell_type": "markdown",
   "id": "4bbda07c",
   "metadata": {},
   "source": [
    "# append"
   ]
  },
  {
   "cell_type": "markdown",
   "id": "dc738831",
   "metadata": {},
   "source": [
    "* append() function inserts a single element into an existing list.\n",
    "* The element will be added to the end of the old list rather than being returned to a new list. \n",
    "* Adds its argument as a single element to the end of a list."
   ]
  },
  {
   "cell_type": "code",
   "execution_count": 15,
   "id": "e5a4660a",
   "metadata": {},
   "outputs": [
    {
     "name": "stdout",
     "output_type": "stream",
     "text": [
      "[1, 2, 3, 4, 5] 5\n"
     ]
    }
   ],
   "source": [
    "x = [1,2,3,4]\n",
    "x.append(5)\n",
    "print(x,len(x))"
   ]
  },
  {
   "cell_type": "code",
   "execution_count": 9,
   "id": "9bf77c3d",
   "metadata": {},
   "outputs": [
    {
     "name": "stdout",
     "output_type": "stream",
     "text": [
      "[1, 2.34, (2+5j), 'hello', 'welcome']\n",
      "5\n"
     ]
    }
   ],
   "source": [
    "x =  [1,2.34,2+5j,'hello']\n",
    "x.append('welcome')\n",
    "print(x,len(x),sep = '\\n')"
   ]
  },
  {
   "cell_type": "code",
   "execution_count": 8,
   "id": "213e1c31",
   "metadata": {},
   "outputs": [
    {
     "name": "stdout",
     "output_type": "stream",
     "text": [
      "[1, 2.3, (45+3j), 'hyderabad', [1, 2]]\n",
      "5\n"
     ]
    }
   ],
   "source": [
    "x = [1,2.3,45+3j,'hyderabad']\n",
    "x.append([1,2])\n",
    "print(x,len(x),sep = '\\n')"
   ]
  },
  {
   "cell_type": "code",
   "execution_count": 12,
   "id": "f8bdc42e",
   "metadata": {
    "scrolled": true
   },
   "outputs": [
    {
     "data": {
      "text/plain": [
       "\"'x = [1,2.34,3-4j,'villan']\\nx.append('hero',[3,45])\""
      ]
     },
     "execution_count": 12,
     "metadata": {},
     "output_type": "execute_result"
    }
   ],
   "source": [
    "''''x = [1,2.34,3-4j,'villan']\n",
    "x.append('hero',[3,45])''' #uncomment to see error (list.append() takes exactly one argument (2 given))\n"
   ]
  },
  {
   "cell_type": "code",
   "execution_count": 17,
   "id": "0fdbd491",
   "metadata": {},
   "outputs": [
    {
     "name": "stdout",
     "output_type": "stream",
     "text": [
      "Help on built-in function append:\n",
      "\n",
      "append(object, /) method of builtins.list instance\n",
      "    Append object to the end of the list.\n",
      "\n"
     ]
    }
   ],
   "source": [
    "help(x.append)"
   ]
  },
  {
   "cell_type": "markdown",
   "id": "ff3ec700",
   "metadata": {},
   "source": [
    "# extend"
   ]
  },
  {
   "cell_type": "markdown",
   "id": "d490db1e",
   "metadata": {},
   "source": [
    "* extend() method is used to iterate over an iterable (string, tuple, list, set, or dictionary) and then add each element of the iterable to the end of the current list. \n",
    "* The length of the list increases by the number of elements present in the iterable."
   ]
  },
  {
   "cell_type": "code",
   "execution_count": 2,
   "id": "803f6e30",
   "metadata": {
    "scrolled": false
   },
   "outputs": [
    {
     "name": "stdout",
     "output_type": "stream",
     "text": [
      "['king', 'queen', 'hyderabad', 1, 2.34, (4+4j)]\n",
      "6\n"
     ]
    }
   ],
   "source": [
    "x = ['king','queen','hyderabad']\n",
    "x.extend([1,2.34,4+4j])\n",
    "print(x,len(x),sep ='\\n')"
   ]
  },
  {
   "cell_type": "code",
   "execution_count": 3,
   "id": "5e85ebf3",
   "metadata": {},
   "outputs": [
    {
     "name": "stdout",
     "output_type": "stream",
     "text": [
      "['king', 'queen', 'hyderabad', 2, 3, 4]\n",
      "6\n"
     ]
    }
   ],
   "source": [
    "x = ['king','queen','hyderabad']\n",
    "x.extend({2,3,4})\n",
    "print(x,len(x),sep = '\\n')"
   ]
  },
  {
   "cell_type": "code",
   "execution_count": 4,
   "id": "5e029cb5",
   "metadata": {},
   "outputs": [
    {
     "name": "stdout",
     "output_type": "stream",
     "text": [
      "Help on built-in function extend:\n",
      "\n",
      "extend(iterable, /) method of builtins.list instance\n",
      "    Extend list by appending elements from the iterable.\n",
      "\n"
     ]
    }
   ],
   "source": [
    "help(x.extend)"
   ]
  },
  {
   "cell_type": "markdown",
   "id": "9f58e29f",
   "metadata": {},
   "source": [
    "# insert"
   ]
  },
  {
   "cell_type": "markdown",
   "id": "ce4fba2e",
   "metadata": {},
   "source": [
    "*  The insert() method inserts the specified value at the specified position."
   ]
  },
  {
   "cell_type": "code",
   "execution_count": 7,
   "id": "551cd488",
   "metadata": {},
   "outputs": [
    {
     "name": "stdout",
     "output_type": "stream",
     "text": [
      "['king', 'secundrabad', 'queen', 'hyderabad'] 4 <class 'list'>\n"
     ]
    }
   ],
   "source": [
    "x = ['king','queen','hyderabad']\n",
    "x.insert(1,'secundrabad')\n",
    "print(x,len(x),type(x))"
   ]
  },
  {
   "cell_type": "code",
   "execution_count": 11,
   "id": "a200386d",
   "metadata": {},
   "outputs": [
    {
     "data": {
      "text/plain": [
       "\"'x.insert('hello')\\nx\""
      ]
     },
     "execution_count": 11,
     "metadata": {},
     "output_type": "execute_result"
    }
   ],
   "source": [
    "''''x.insert('hello')\n",
    "x'''  # uncomment for error (insert expected 2 arguments, got 1)  #syntax:insert(index, object, /)"
   ]
  },
  {
   "cell_type": "code",
   "execution_count": 10,
   "id": "fd07ee75",
   "metadata": {},
   "outputs": [
    {
     "name": "stdout",
     "output_type": "stream",
     "text": [
      "Help on built-in function insert:\n",
      "\n",
      "insert(index, object, /) method of builtins.list instance\n",
      "    Insert object before index.\n",
      "\n"
     ]
    }
   ],
   "source": [
    "help(x.insert)"
   ]
  },
  {
   "cell_type": "markdown",
   "id": "c78f3569",
   "metadata": {},
   "source": [
    "# pop"
   ]
  },
  {
   "cell_type": "markdown",
   "id": "9e54080b",
   "metadata": {},
   "source": [
    "* pop() - Return and Remove Element. The pop() method returns an item from the specified position in the list and removes it. \n",
    "* If no index is specified, the pop() method removes and returns the last item in the list."
   ]
  },
  {
   "cell_type": "code",
   "execution_count": 17,
   "id": "b0b61057",
   "metadata": {},
   "outputs": [
    {
     "name": "stdout",
     "output_type": "stream",
     "text": [
      "[1, 65.3, (3+2j), 34.6, 2] 5\n"
     ]
    }
   ],
   "source": [
    "x = [1,65.3,3+2j,'india',34.6,2]\n",
    "x.pop(3)\n",
    "print(x,len(x))"
   ]
  },
  {
   "cell_type": "code",
   "execution_count": 18,
   "id": "e7a119ab",
   "metadata": {},
   "outputs": [
    {
     "name": "stdout",
     "output_type": "stream",
     "text": [
      "[1, 65.3, (3+2j), 'india', 34.6] 5\n"
     ]
    }
   ],
   "source": [
    "x = [1,65.3,3+2j,'india',34.6,2]\n",
    "x.pop()\n",
    "print(x,len(x))"
   ]
  },
  {
   "cell_type": "code",
   "execution_count": 15,
   "id": "6a4ceb03",
   "metadata": {},
   "outputs": [
    {
     "name": "stdout",
     "output_type": "stream",
     "text": [
      "Help on built-in function pop:\n",
      "\n",
      "pop(index=-1, /) method of builtins.list instance\n",
      "    Remove and return item at index (default last).\n",
      "    \n",
      "    Raises IndexError if list is empty or index is out of range.\n",
      "\n"
     ]
    }
   ],
   "source": [
    "help(x.pop)"
   ]
  },
  {
   "cell_type": "markdown",
   "id": "ce3fa4aa",
   "metadata": {},
   "source": [
    "# remove"
   ]
  },
  {
   "cell_type": "markdown",
   "id": "af53310d",
   "metadata": {},
   "source": [
    "* The remove() method is one of the ways you can remove elements from a list in Python. \n",
    "* The remove() method removes an item from a list by its value and not by its index number."
   ]
  },
  {
   "cell_type": "code",
   "execution_count": 21,
   "id": "a1998332",
   "metadata": {},
   "outputs": [
    {
     "name": "stdout",
     "output_type": "stream",
     "text": [
      "[1, (3+2j), 'india', 34.6, 2] 5\n"
     ]
    }
   ],
   "source": [
    "x = [1,65.3,3+2j,'india',34.6,2]\n",
    "x.remove(65.3)\n",
    "print(x,len(x))"
   ]
  },
  {
   "cell_type": "code",
   "execution_count": 24,
   "id": "18b73445",
   "metadata": {},
   "outputs": [
    {
     "data": {
      "text/plain": [
       "'\"x = [1,65.3,3+2j,\\'india\\',34.6,2]\\nx.remove()\\nprint(x,len(x))'"
      ]
     },
     "execution_count": 24,
     "metadata": {},
     "output_type": "execute_result"
    }
   ],
   "source": [
    "\"\"\"\"x = [1,65.3,3+2j,'india',34.6,2]\n",
    "x.remove()\n",
    "print(x,len(x))\"\"\"\"\" #uncomment for error (list.remove() takes exactly one argument (0 given))"
   ]
  },
  {
   "cell_type": "code",
   "execution_count": 26,
   "id": "4f7056f8",
   "metadata": {},
   "outputs": [
    {
     "data": {
      "text/plain": [
       "\"'x = [1,65.3,3+2j,'india',34.6,2]\\nx.remove(3)\\nprint(x,len(x))\""
      ]
     },
     "execution_count": 26,
     "metadata": {},
     "output_type": "execute_result"
    }
   ],
   "source": [
    "''''x = [1,65.3,3+2j,'india',34.6,2]\n",
    "x.remove(3)\n",
    "print(x,len(x))''' #uncomment for error (list.remove(x): x not in list)"
   ]
  },
  {
   "cell_type": "code",
   "execution_count": 27,
   "id": "5de47665",
   "metadata": {},
   "outputs": [
    {
     "name": "stdout",
     "output_type": "stream",
     "text": [
      "Help on built-in function remove:\n",
      "\n",
      "remove(value, /) method of builtins.list instance\n",
      "    Remove first occurrence of value.\n",
      "    \n",
      "    Raises ValueError if the value is not present.\n",
      "\n"
     ]
    }
   ],
   "source": [
    "help(x.remove)"
   ]
  },
  {
   "cell_type": "markdown",
   "id": "bee3f5fb",
   "metadata": {},
   "source": [
    "# reverse"
   ]
  },
  {
   "cell_type": "markdown",
   "id": "421d8e2a",
   "metadata": {},
   "source": [
    "* reverse() method reverses the list without creating a new copy but modifies the original list.\n",
    "* reversed() function returns an iterator that iterates the list in reverse order"
   ]
  },
  {
   "cell_type": "code",
   "execution_count": 28,
   "id": "ea2dd639",
   "metadata": {},
   "outputs": [
    {
     "name": "stdout",
     "output_type": "stream",
     "text": [
      "[7, 6, 'min', 'hello', 4, 3, 2, 1]\n"
     ]
    }
   ],
   "source": [
    "x = [1,2,3,4,'hello','min',6,7]\n",
    "x.reverse()\n",
    "print(x)"
   ]
  },
  {
   "cell_type": "code",
   "execution_count": 29,
   "id": "5700ec50",
   "metadata": {},
   "outputs": [
    {
     "name": "stdout",
     "output_type": "stream",
     "text": [
      "Help on built-in function reverse:\n",
      "\n",
      "reverse() method of builtins.list instance\n",
      "    Reverse *IN PLACE*.\n",
      "\n"
     ]
    }
   ],
   "source": [
    "help(x.reverse)"
   ]
  },
  {
   "cell_type": "markdown",
   "id": "fa65407b",
   "metadata": {},
   "source": [
    "# sort"
   ]
  },
  {
   "cell_type": "markdown",
   "id": "8ad57f50",
   "metadata": {},
   "source": [
    "* The sort() method sorts the list ascending by default.\n",
    "* You can also make a function to decide the sorting criteria(s)."
   ]
  },
  {
   "cell_type": "code",
   "execution_count": 31,
   "id": "3ef861cb",
   "metadata": {},
   "outputs": [],
   "source": [
    "a = [-50,-74,4,45,23] #onlyintegers\n",
    "b = [0.45,4.56,76.3,45.6] #only float\n",
    "c = a + b # int&float\n",
    "d = [1+4j,3-4j,21+4j] #complex\n",
    "e = ['hello','hi','gopal','jagdesh'] #string\n",
    "f = c+d\n",
    "g = f+e"
   ]
  },
  {
   "cell_type": "code",
   "execution_count": 32,
   "id": "e6edc33c",
   "metadata": {},
   "outputs": [
    {
     "data": {
      "text/plain": [
       "[-74, -50, 4, 23, 45]"
      ]
     },
     "execution_count": 32,
     "metadata": {},
     "output_type": "execute_result"
    }
   ],
   "source": [
    "a.sort()\n",
    "a"
   ]
  },
  {
   "cell_type": "code",
   "execution_count": 33,
   "id": "a2e3399b",
   "metadata": {},
   "outputs": [
    {
     "data": {
      "text/plain": [
       "[0.45, 4.56, 45.6, 76.3]"
      ]
     },
     "execution_count": 33,
     "metadata": {},
     "output_type": "execute_result"
    }
   ],
   "source": [
    "b.sort()\n",
    "b"
   ]
  },
  {
   "cell_type": "code",
   "execution_count": 34,
   "id": "68d6f41b",
   "metadata": {},
   "outputs": [
    {
     "data": {
      "text/plain": [
       "[-74, -50, 0.45, 4, 4.56, 23, 45, 45.6, 76.3]"
      ]
     },
     "execution_count": 34,
     "metadata": {},
     "output_type": "execute_result"
    }
   ],
   "source": [
    "c.sort()\n",
    "c"
   ]
  },
  {
   "cell_type": "code",
   "execution_count": 38,
   "id": "02a738ca",
   "metadata": {},
   "outputs": [
    {
     "data": {
      "text/plain": [
       "\"'d.sort()\\nd\""
      ]
     },
     "execution_count": 38,
     "metadata": {},
     "output_type": "execute_result"
    }
   ],
   "source": [
    "''''d.sort()\n",
    "d''''' #uncomment (complex num cannot be sorted)"
   ]
  },
  {
   "cell_type": "code",
   "execution_count": 39,
   "id": "d550ef59",
   "metadata": {},
   "outputs": [
    {
     "data": {
      "text/plain": [
       "['gopal', 'hello', 'hi', 'jagdesh']"
      ]
     },
     "execution_count": 39,
     "metadata": {},
     "output_type": "execute_result"
    }
   ],
   "source": [
    "e.sort()\n",
    "e"
   ]
  },
  {
   "cell_type": "code",
   "execution_count": 41,
   "id": "96b23187",
   "metadata": {},
   "outputs": [
    {
     "data": {
      "text/plain": [
       "'\"f.sort()\\nf'"
      ]
     },
     "execution_count": 41,
     "metadata": {},
     "output_type": "execute_result"
    }
   ],
   "source": [
    "\"\"\"\"f.sort()\n",
    "f\"\"\" #uncomment for error"
   ]
  },
  {
   "cell_type": "code",
   "execution_count": 43,
   "id": "31d3ad88",
   "metadata": {},
   "outputs": [
    {
     "data": {
      "text/plain": [
       "'\"g.sort()\\ng'"
      ]
     },
     "execution_count": 43,
     "metadata": {},
     "output_type": "execute_result"
    }
   ],
   "source": [
    "\"\"\"\"g.sort()\n",
    "g\"\"\" #uncomment for error"
   ]
  },
  {
   "cell_type": "code",
   "execution_count": 44,
   "id": "dbc5b955",
   "metadata": {},
   "outputs": [
    {
     "name": "stdout",
     "output_type": "stream",
     "text": [
      "Help on built-in function sort:\n",
      "\n",
      "sort(*, key=None, reverse=False) method of builtins.list instance\n",
      "    Sort the list in ascending order and return None.\n",
      "    \n",
      "    The sort is in-place (i.e. the list itself is modified) and stable (i.e. the\n",
      "    order of two equal elements is maintained).\n",
      "    \n",
      "    If a key function is given, apply it once to each list item and sort them,\n",
      "    ascending or descending, according to their function values.\n",
      "    \n",
      "    The reverse flag can be set to sort in descending order.\n",
      "\n"
     ]
    }
   ],
   "source": [
    "help(x.sort)"
   ]
  },
  {
   "cell_type": "markdown",
   "id": "9768bebb",
   "metadata": {},
   "source": [
    "# count"
   ]
  },
  {
   "cell_type": "markdown",
   "id": "b45d62c1",
   "metadata": {},
   "source": [
    "* This method takes a single argument as input. \n",
    "* It iterates the list and counts the number of instances that match it.\n",
    "* list instance Return number of occurrences of value."
   ]
  },
  {
   "cell_type": "code",
   "execution_count": 11,
   "id": "bb1bf1e0",
   "metadata": {},
   "outputs": [
    {
     "data": {
      "text/plain": [
       "0"
      ]
     },
     "execution_count": 11,
     "metadata": {},
     "output_type": "execute_result"
    }
   ],
   "source": [
    "x = [0.45, 4.56, 45.6, 76.3,4.56]\n",
    "x.count(1)"
   ]
  },
  {
   "cell_type": "code",
   "execution_count": 3,
   "id": "a28e1537",
   "metadata": {},
   "outputs": [
    {
     "data": {
      "text/plain": [
       "1"
      ]
     },
     "execution_count": 3,
     "metadata": {},
     "output_type": "execute_result"
    }
   ],
   "source": [
    "x.count(0.45)\n"
   ]
  },
  {
   "cell_type": "code",
   "execution_count": 7,
   "id": "d958bff8",
   "metadata": {},
   "outputs": [
    {
     "data": {
      "text/plain": [
       "1"
      ]
     },
     "execution_count": 7,
     "metadata": {},
     "output_type": "execute_result"
    }
   ],
   "source": [
    "x.count(76.3)\n"
   ]
  },
  {
   "cell_type": "code",
   "execution_count": 12,
   "id": "830e60b3",
   "metadata": {},
   "outputs": [
    {
     "data": {
      "text/plain": [
       "2"
      ]
     },
     "execution_count": 12,
     "metadata": {},
     "output_type": "execute_result"
    }
   ],
   "source": [
    "x.count(4.56)"
   ]
  },
  {
   "cell_type": "code",
   "execution_count": 6,
   "id": "e8093338",
   "metadata": {},
   "outputs": [
    {
     "name": "stdout",
     "output_type": "stream",
     "text": [
      "Help on built-in function count:\n",
      "\n",
      "count(value, /) method of builtins.list instance\n",
      "    Return number of occurrences of value.\n",
      "\n"
     ]
    }
   ],
   "source": [
    "help(x.count)"
   ]
  },
  {
   "cell_type": "markdown",
   "id": "3f85336e",
   "metadata": {},
   "source": [
    "# index"
   ]
  },
  {
   "cell_type": "markdown",
   "id": "ae892fb5",
   "metadata": {},
   "source": [
    "* The index() method finds the first occurrence of the specified value. The index() method raises an exception if the value is not found.\n",
    "* The index() method is almost the same as the find() method, the only difference is that the find() method returns -1 if the value is not found"
   ]
  },
  {
   "cell_type": "code",
   "execution_count": 18,
   "id": "749f4181",
   "metadata": {},
   "outputs": [
    {
     "data": {
      "text/plain": [
       "1"
      ]
     },
     "execution_count": 18,
     "metadata": {},
     "output_type": "execute_result"
    }
   ],
   "source": [
    "x = [0.45, 4.56, 45.6, 76.3,4.56]\n",
    "x.index(4.56)"
   ]
  },
  {
   "cell_type": "code",
   "execution_count": 21,
   "id": "7d54bd7d",
   "metadata": {},
   "outputs": [
    {
     "data": {
      "text/plain": [
       "3"
      ]
     },
     "execution_count": 21,
     "metadata": {},
     "output_type": "execute_result"
    }
   ],
   "source": [
    "x.index(76.3)       #gives output as the index valueeeee"
   ]
  },
  {
   "cell_type": "code",
   "execution_count": 23,
   "id": "a4bef514",
   "metadata": {},
   "outputs": [
    {
     "data": {
      "text/plain": [
       "1"
      ]
     },
     "execution_count": 23,
     "metadata": {},
     "output_type": "execute_result"
    }
   ],
   "source": [
    "x.index(4.56,0,5)"
   ]
  },
  {
   "cell_type": "code",
   "execution_count": 13,
   "id": "8471dcd1",
   "metadata": {},
   "outputs": [
    {
     "name": "stdout",
     "output_type": "stream",
     "text": [
      "Help on built-in function index:\n",
      "\n",
      "index(value, start=0, stop=9223372036854775807, /) method of builtins.list instance\n",
      "    Return first index of value.\n",
      "    \n",
      "    Raises ValueError if the value is not present.\n",
      "\n"
     ]
    }
   ],
   "source": [
    "help(x.index)"
   ]
  },
  {
   "cell_type": "markdown",
   "id": "8e2cb6ad",
   "metadata": {},
   "source": [
    "# clear"
   ]
  },
  {
   "cell_type": "markdown",
   "id": "3904651c",
   "metadata": {},
   "source": [
    "* it clears the lists content and returns empty list"
   ]
  },
  {
   "cell_type": "code",
   "execution_count": 28,
   "id": "61810615",
   "metadata": {},
   "outputs": [
    {
     "data": {
      "text/plain": [
       "[]"
      ]
     },
     "execution_count": 28,
     "metadata": {},
     "output_type": "execute_result"
    }
   ],
   "source": [
    "x = [0.45, 4.56, 45.6, 76.3,4.56]\n",
    "x.clear()\n",
    "x"
   ]
  },
  {
   "cell_type": "code",
   "execution_count": 29,
   "id": "aa1b4653",
   "metadata": {},
   "outputs": [
    {
     "name": "stdout",
     "output_type": "stream",
     "text": [
      "Help on built-in function clear:\n",
      "\n",
      "clear() method of builtins.list instance\n",
      "    Remove all items from list.\n",
      "\n"
     ]
    }
   ],
   "source": [
    "help(x.clear)"
   ]
  },
  {
   "cell_type": "markdown",
   "id": "3445a6ed",
   "metadata": {},
   "source": [
    "# shallowcopy vs deepcopy "
   ]
  },
  {
   "cell_type": "code",
   "execution_count": 33,
   "id": "3819cc78",
   "metadata": {},
   "outputs": [
    {
     "name": "stdout",
     "output_type": "stream",
     "text": [
      "['hello', 'world', 'welcome']\n",
      "['hello', 'world', 'welcome']\n"
     ]
    }
   ],
   "source": [
    "x = ['hello','world','welcome']\n",
    "y = x\n",
    "print(x,y,sep='\\n')"
   ]
  },
  {
   "cell_type": "code",
   "execution_count": 34,
   "id": "da0fac22",
   "metadata": {},
   "outputs": [
    {
     "name": "stdout",
     "output_type": "stream",
     "text": [
      "['hello', 'world', 'welcome'] ['hello', 'world', 'welcome'] 2102453193344 2102453193344\n"
     ]
    }
   ],
   "source": [
    "print(x,y,id(x),id(y))"
   ]
  },
  {
   "cell_type": "code",
   "execution_count": 37,
   "id": "17c63933",
   "metadata": {},
   "outputs": [
    {
     "name": "stdout",
     "output_type": "stream",
     "text": [
      "['hello', 'world', 'welcome', 1, 2, 3, 1, 2, 3, 1, 2, 3] ['hello', 'world', 'welcome', 1, 2, 3, 1, 2, 3, 1, 2, 3] 2102453193344 2102453193344\n"
     ]
    }
   ],
   "source": [
    "x.extend([1,2,3])\n",
    "print(x,y,id(x),id(y))"
   ]
  },
  {
   "cell_type": "markdown",
   "id": "c869a406",
   "metadata": {},
   "source": [
    "# copy"
   ]
  },
  {
   "cell_type": "code",
   "execution_count": 38,
   "id": "31f932f6",
   "metadata": {},
   "outputs": [
    {
     "name": "stdout",
     "output_type": "stream",
     "text": [
      "['hello', 'world', 'welcome', 1, 2, 3, 1, 2, 3, 1, 2, 3] ['hello', 'world', 'welcome', 1, 2, 3, 1, 2, 3, 1, 2, 3] 2102453193344 2102453110144\n"
     ]
    }
   ],
   "source": [
    "# copy\n",
    "z = x.copy()\n",
    "print(x,z,id(x),id(z))"
   ]
  },
  {
   "cell_type": "code",
   "execution_count": 40,
   "id": "7cbec010",
   "metadata": {},
   "outputs": [
    {
     "name": "stdout",
     "output_type": "stream",
     "text": [
      "2102453121024 2102453111040\n"
     ]
    }
   ],
   "source": [
    "x = [1,2,3,[4,5,6]]\n",
    "y = x.copy()\n",
    "print(id(x),id(y))"
   ]
  },
  {
   "cell_type": "code",
   "execution_count": 45,
   "id": "d771813e",
   "metadata": {},
   "outputs": [
    {
     "name": "stdout",
     "output_type": "stream",
     "text": [
      "2102453115264 2102453115264\n"
     ]
    }
   ],
   "source": [
    "print(id(x[3]),id(y[3])) #the nested list in the list of shallow copy has the same memory location"
   ]
  },
  {
   "cell_type": "code",
   "execution_count": 52,
   "id": "55668cd4",
   "metadata": {},
   "outputs": [
    {
     "data": {
      "text/plain": [
       "[1, 2, 3, [4, 'four', 6, 7, 7, '7', '7']]"
      ]
     },
     "execution_count": 52,
     "metadata": {},
     "output_type": "execute_result"
    }
   ],
   "source": [
    "x[3][1]='four'\n",
    "x"
   ]
  },
  {
   "cell_type": "code",
   "execution_count": 54,
   "id": "9c875884",
   "metadata": {},
   "outputs": [
    {
     "name": "stdout",
     "output_type": "stream",
     "text": [
      "[1, 2, 3, 4, ['five', 6, 7, 8]] 2102453303744\n"
     ]
    }
   ],
   "source": [
    "x = [1,2,3,4,[5,6,7,8]]\n",
    "x[4][0]='five'\n",
    "print(x,id(x))"
   ]
  },
  {
   "cell_type": "code",
   "execution_count": 56,
   "id": "253978e1",
   "metadata": {},
   "outputs": [
    {
     "name": "stdout",
     "output_type": "stream",
     "text": [
      "[1, 2, 3, 4, ['five', 6, 7, 8, 9, 9]] 2102453303744\n"
     ]
    }
   ],
   "source": [
    "x[4].append(9)\n",
    "print(x,id(x))"
   ]
  },
  {
   "cell_type": "markdown",
   "id": "e39db1d0",
   "metadata": {},
   "source": [
    "# deepcopy"
   ]
  },
  {
   "cell_type": "code",
   "execution_count": 58,
   "id": "48fb15ce",
   "metadata": {},
   "outputs": [
    {
     "name": "stdout",
     "output_type": "stream",
     "text": [
      "[1, 2, 3, 4, [5, 6, 7, 8]] [1, 2, 3, 4, [5, 6, 7, 8]] 2102452725504 2102452721920\n"
     ]
    }
   ],
   "source": [
    "import copy\n",
    "from copy import deepcopy\n",
    "x = [1,2,3,4,[5,6,7,8]]\n",
    "y = deepcopy(x)\n",
    "print(x,y,id(x),id(y))"
   ]
  },
  {
   "cell_type": "code",
   "execution_count": 60,
   "id": "f69ade17",
   "metadata": {},
   "outputs": [
    {
     "name": "stdout",
     "output_type": "stream",
     "text": [
      "2102452720960 2102452468864\n"
     ]
    }
   ],
   "source": [
    "print(id(x[4]),id(y[4])) # the nested list also has the diff memory loc in deepcopy"
   ]
  },
  {
   "cell_type": "code",
   "execution_count": 62,
   "id": "008414d3",
   "metadata": {},
   "outputs": [
    {
     "name": "stdout",
     "output_type": "stream",
     "text": [
      "[1, 2, 3, 4, [5, 'six', 7, 8]]\n"
     ]
    }
   ],
   "source": [
    "x[4][1]='six'\n",
    "print(x)"
   ]
  },
  {
   "cell_type": "code",
   "execution_count": 65,
   "id": "f7d345eb",
   "metadata": {},
   "outputs": [
    {
     "name": "stdout",
     "output_type": "stream",
     "text": [
      "[1, 2, 3, 4, [5, 'six', 7, 8, 9, 9, 9]] [1, 2, 3, 4, [5, 6, 7, 8]] 2102452725504 2102452721920\n"
     ]
    }
   ],
   "source": [
    "x[4].append(9)\n",
    "print(x,y,id(x),id(y))"
   ]
  },
  {
   "cell_type": "code",
   "execution_count": 67,
   "id": "c7984ed9",
   "metadata": {},
   "outputs": [
    {
     "name": "stdout",
     "output_type": "stream",
     "text": [
      "[1, 2, 3, 4, [5, 6, 7, 8, 9, 9]] 2102452725504 2102452721920\n"
     ]
    }
   ],
   "source": [
    "y[4].append(9)\n",
    "print(y,id(x),id(y))"
   ]
  }
 ],
 "metadata": {
  "kernelspec": {
   "display_name": "Python 3 (ipykernel)",
   "language": "python",
   "name": "python3"
  },
  "language_info": {
   "codemirror_mode": {
    "name": "ipython",
    "version": 3
   },
   "file_extension": ".py",
   "mimetype": "text/x-python",
   "name": "python",
   "nbconvert_exporter": "python",
   "pygments_lexer": "ipython3",
   "version": "3.11.3"
  }
 },
 "nbformat": 4,
 "nbformat_minor": 5
}
