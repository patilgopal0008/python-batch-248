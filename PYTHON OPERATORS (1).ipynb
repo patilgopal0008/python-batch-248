{
 "cells": [
  {
   "cell_type": "markdown",
   "id": "2ec2c070",
   "metadata": {},
   "source": [
    "# OPERATORS IN PYTHON"
   ]
  },
  {
   "cell_type": "markdown",
   "id": "a340aecd",
   "metadata": {},
   "source": [
    "  <b>the different types of operators in python are : </b>  \n",
    "1. arthematic operators  \n",
    "2. comparison operators\n",
    "3. logical operators\n",
    "4. bitwise operators\n",
    "5. assignment operators\n",
    "6. identity operators\n",
    "7. membership operators"
   ]
  },
  {
   "cell_type": "markdown",
   "id": "9dd5d4e6",
   "metadata": {},
   "source": [
    "# 1.Arthematic operators -  \n",
    "> Addition operator"
   ]
  },
  {
   "cell_type": "code",
   "execution_count": 1,
   "id": "5b8d440d",
   "metadata": {},
   "outputs": [
    {
     "name": "stdout",
     "output_type": "stream",
     "text": [
      "47\n"
     ]
    }
   ],
   "source": [
    "a = 15\n",
    "b = 32\n",
    "#addition operation\n",
    "print(a+b)"
   ]
  },
  {
   "cell_type": "markdown",
   "id": "2d2903fb",
   "metadata": {},
   "source": [
    "> subtraction operator"
   ]
  },
  {
   "cell_type": "code",
   "execution_count": 3,
   "id": "191cfed7",
   "metadata": {},
   "outputs": [
    {
     "name": "stdout",
     "output_type": "stream",
     "text": [
      "9\n"
     ]
    }
   ],
   "source": [
    "a = 21\n",
    "b = 12\n",
    "#subtraction operation\n",
    "print(a-b)"
   ]
  },
  {
   "cell_type": "markdown",
   "id": "696cab95",
   "metadata": {},
   "source": [
    "> multiplication operator "
   ]
  },
  {
   "cell_type": "code",
   "execution_count": 4,
   "id": "bba20510",
   "metadata": {},
   "outputs": [
    {
     "name": "stdout",
     "output_type": "stream",
     "text": [
      "1530\n"
     ]
    }
   ],
   "source": [
    "a = 45\n",
    "b =34\n",
    "#multiplication operation\n",
    "print(a*b)"
   ]
  },
  {
   "cell_type": "markdown",
   "id": "b4d2e290",
   "metadata": {},
   "source": [
    "> division operator"
   ]
  },
  {
   "cell_type": "code",
   "execution_count": 5,
   "id": "05991686",
   "metadata": {},
   "outputs": [
    {
     "name": "stdout",
     "output_type": "stream",
     "text": [
      "0.6666666666666666\n"
     ]
    }
   ],
   "source": [
    "a=10\n",
    "b=15\n",
    "#division\n",
    "print(a/b)"
   ]
  },
  {
   "cell_type": "markdown",
   "id": "d6706eb0",
   "metadata": {},
   "source": [
    ">floor division"
   ]
  },
  {
   "cell_type": "code",
   "execution_count": 6,
   "id": "ac8c9b11",
   "metadata": {},
   "outputs": [
    {
     "name": "stdout",
     "output_type": "stream",
     "text": [
      "0\n"
     ]
    }
   ],
   "source": [
    "a=23\n",
    "b=31\n",
    "#floor division\n",
    "print(a//b)"
   ]
  },
  {
   "cell_type": "markdown",
   "id": "c7889449",
   "metadata": {},
   "source": [
    ">modulus operator"
   ]
  },
  {
   "cell_type": "code",
   "execution_count": 7,
   "id": "e6d8af41",
   "metadata": {},
   "outputs": [
    {
     "name": "stdout",
     "output_type": "stream",
     "text": [
      "7\n"
     ]
    }
   ],
   "source": [
    "a=31\n",
    "b=12\n",
    "#modulus operator\n",
    "print(a%b)"
   ]
  },
  {
   "cell_type": "markdown",
   "id": "80319341",
   "metadata": {},
   "source": [
    ">exponentiation operator"
   ]
  },
  {
   "cell_type": "code",
   "execution_count": 8,
   "id": "502277a6",
   "metadata": {},
   "outputs": [
    {
     "name": "stdout",
     "output_type": "stream",
     "text": [
      "12252793050782200016679467841748992\n"
     ]
    }
   ],
   "source": [
    "a=42\n",
    "b=21\n",
    "#exponential operator\n",
    "print(a**b)"
   ]
  },
  {
   "cell_type": "markdown",
   "id": "24962854",
   "metadata": {},
   "source": [
    "# 2.comparsion operators-  \n",
    "> greater than operator  \n"
   ]
  },
  {
   "cell_type": "code",
   "execution_count": 9,
   "id": "c19ff82b",
   "metadata": {},
   "outputs": [
    {
     "name": "stdout",
     "output_type": "stream",
     "text": [
      "False\n"
     ]
    }
   ],
   "source": [
    "a=21\n",
    "b=52\n",
    "#greater than operator\n",
    "print(a>b)"
   ]
  },
  {
   "cell_type": "markdown",
   "id": "189b8347",
   "metadata": {},
   "source": [
    "> less than operator"
   ]
  },
  {
   "cell_type": "code",
   "execution_count": 10,
   "id": "1116cd0c",
   "metadata": {},
   "outputs": [
    {
     "name": "stdout",
     "output_type": "stream",
     "text": [
      "True\n"
     ]
    }
   ],
   "source": [
    "a=21\n",
    "b=23\n",
    "#less than operator\n",
    "print(a<b)"
   ]
  },
  {
   "cell_type": "markdown",
   "id": "62495486",
   "metadata": {},
   "source": [
    ">equal to "
   ]
  },
  {
   "cell_type": "code",
   "execution_count": 11,
   "id": "0a7efcd6",
   "metadata": {},
   "outputs": [
    {
     "name": "stdout",
     "output_type": "stream",
     "text": [
      "False\n"
     ]
    }
   ],
   "source": [
    "a=32\n",
    "b=21\n",
    "#equal to \n",
    "print(a==b)"
   ]
  },
  {
   "cell_type": "markdown",
   "id": "1f8a1ef5",
   "metadata": {},
   "source": [
    ">not equal"
   ]
  },
  {
   "cell_type": "code",
   "execution_count": 13,
   "id": "01206886",
   "metadata": {},
   "outputs": [
    {
     "name": "stdout",
     "output_type": "stream",
     "text": [
      "True\n"
     ]
    }
   ],
   "source": [
    "a=75\n",
    "b=21\n",
    "#not equal to\n",
    "print(a!=b)"
   ]
  },
  {
   "cell_type": "markdown",
   "id": "df608c8e",
   "metadata": {},
   "source": [
    ">greater than or equal to"
   ]
  },
  {
   "cell_type": "code",
   "execution_count": 14,
   "id": "de182a3d",
   "metadata": {},
   "outputs": [
    {
     "name": "stdout",
     "output_type": "stream",
     "text": [
      "False\n"
     ]
    }
   ],
   "source": [
    "a=21\n",
    "b=42\n",
    "#greater than or equal to\n",
    "print(a>=b)"
   ]
  },
  {
   "cell_type": "markdown",
   "id": "7fdc85f4",
   "metadata": {},
   "source": [
    ">less than or equal to"
   ]
  },
  {
   "cell_type": "code",
   "execution_count": 15,
   "id": "219f3973",
   "metadata": {},
   "outputs": [
    {
     "name": "stdout",
     "output_type": "stream",
     "text": [
      "False\n"
     ]
    }
   ],
   "source": [
    "a=76\n",
    "b=21\n",
    "#less than or equal to\n",
    "print(a<=b)"
   ]
  },
  {
   "cell_type": "markdown",
   "id": "e9fad5aa",
   "metadata": {},
   "source": [
    "# 3.logical operator  \n",
    "> logical AND"
   ]
  },
  {
   "cell_type": "code",
   "execution_count": 19,
   "id": "ed091628",
   "metadata": {},
   "outputs": [
    {
     "name": "stdout",
     "output_type": "stream",
     "text": [
      "b is greater than a\n"
     ]
    }
   ],
   "source": [
    "a=21\n",
    "b=43\n",
    "#logical AND\n",
    "if(a<b and b!=0):\n",
    "    print(\"b is greater than a\")"
   ]
  },
  {
   "cell_type": "markdown",
   "id": "a88c8883",
   "metadata": {},
   "source": [
    ">logical OR"
   ]
  },
  {
   "cell_type": "code",
   "execution_count": 22,
   "id": "e965954f",
   "metadata": {},
   "outputs": [
    {
     "name": "stdout",
     "output_type": "stream",
     "text": [
      "a is greater than b\n"
     ]
    }
   ],
   "source": [
    "a=53\n",
    "b=21\n",
    "#logical OR\n",
    "if(a>b or a==b):\n",
    "    print(\"a is greater than b\")"
   ]
  },
  {
   "cell_type": "markdown",
   "id": "2a6bfc7c",
   "metadata": {},
   "source": [
    ">logical NOT"
   ]
  },
  {
   "cell_type": "code",
   "execution_count": 23,
   "id": "73209439",
   "metadata": {},
   "outputs": [
    {
     "data": {
      "text/plain": [
       "True"
      ]
     },
     "execution_count": 23,
     "metadata": {},
     "output_type": "execute_result"
    }
   ],
   "source": [
    "a=5\n",
    "b=21\n",
    "#logical NOT\n",
    "not(a>b)"
   ]
  },
  {
   "cell_type": "markdown",
   "id": "b00634a9",
   "metadata": {},
   "source": [
    "# 4.bitwise operator  \n",
    ">bitwise AND"
   ]
  },
  {
   "cell_type": "code",
   "execution_count": 58,
   "id": "d2b704a2",
   "metadata": {},
   "outputs": [
    {
     "name": "stdout",
     "output_type": "stream",
     "text": [
      "0\n"
     ]
    }
   ],
   "source": [
    "a=32\n",
    "b=12\n",
    "#logical AND\n",
    "print(a&b)"
   ]
  },
  {
   "cell_type": "markdown",
   "id": "4aef085e",
   "metadata": {},
   "source": [
    "> bitwise OR"
   ]
  },
  {
   "cell_type": "code",
   "execution_count": 25,
   "id": "ff24c2d3",
   "metadata": {},
   "outputs": [
    {
     "name": "stdout",
     "output_type": "stream",
     "text": [
      "44\n"
     ]
    }
   ],
   "source": [
    "a=32\n",
    "b=12\n",
    "#logical OR\n",
    "print(a|b)"
   ]
  },
  {
   "cell_type": "markdown",
   "id": "f24b14ab",
   "metadata": {},
   "source": [
    ">bitwise NOT"
   ]
  },
  {
   "cell_type": "code",
   "execution_count": 26,
   "id": "533471f4",
   "metadata": {},
   "outputs": [
    {
     "name": "stdout",
     "output_type": "stream",
     "text": [
      "-75\n"
     ]
    }
   ],
   "source": [
    "a=74\n",
    "#logical NOT\n",
    "print(~a)"
   ]
  },
  {
   "cell_type": "markdown",
   "id": "dc5811ef",
   "metadata": {},
   "source": [
    ">bitwise XOR"
   ]
  },
  {
   "cell_type": "code",
   "execution_count": 27,
   "id": "e4426439",
   "metadata": {},
   "outputs": [
    {
     "name": "stdout",
     "output_type": "stream",
     "text": [
      "91\n"
     ]
    }
   ],
   "source": [
    "a=12\n",
    "b=87\n",
    "#logical XOR\n",
    "print(a^b)\n"
   ]
  },
  {
   "cell_type": "markdown",
   "id": "27e9404a",
   "metadata": {},
   "source": [
    ">bitwise right shift"
   ]
  },
  {
   "cell_type": "code",
   "execution_count": 29,
   "id": "d2386e70",
   "metadata": {},
   "outputs": [
    {
     "name": "stdout",
     "output_type": "stream",
     "text": [
      "3\n"
     ]
    }
   ],
   "source": [
    "a=31\n",
    "#bitwise right shift\n",
    "print(a>>3)"
   ]
  },
  {
   "cell_type": "markdown",
   "id": "e39baf73",
   "metadata": {},
   "source": [
    "> bitwise left shift"
   ]
  },
  {
   "cell_type": "code",
   "execution_count": 30,
   "id": "b485cff3",
   "metadata": {},
   "outputs": [
    {
     "name": "stdout",
     "output_type": "stream",
     "text": [
      "11760430373211112611541680128\n"
     ]
    }
   ],
   "source": [
    "a=76\n",
    "#bitwise left shift\n",
    "print(a<<b)"
   ]
  },
  {
   "cell_type": "markdown",
   "id": "def232bd",
   "metadata": {},
   "source": [
    "# 5.assignment operator"
   ]
  },
  {
   "cell_type": "code",
   "execution_count": 43,
   "id": "94fc7ca6",
   "metadata": {},
   "outputs": [
    {
     "name": "stdout",
     "output_type": "stream",
     "text": [
      "1\n"
     ]
    }
   ],
   "source": [
    "a=1\n",
    "b=a #simple assignment\n",
    "print(b)\n"
   ]
  },
  {
   "cell_type": "code",
   "execution_count": 46,
   "id": "5985b5fc",
   "metadata": {},
   "outputs": [
    {
     "name": "stdout",
     "output_type": "stream",
     "text": [
      "53\n"
     ]
    }
   ],
   "source": [
    "a=32\n",
    "b=21\n",
    "a+=b#add and assign\n",
    "print(a)"
   ]
  },
  {
   "cell_type": "code",
   "execution_count": 49,
   "id": "6e65ad32",
   "metadata": {},
   "outputs": [
    {
     "name": "stdout",
     "output_type": "stream",
     "text": [
      "21\n"
     ]
    }
   ],
   "source": [
    "a=51\n",
    "b=21\n",
    "a-=b#sub and assign\n",
    "print(b)"
   ]
  },
  {
   "cell_type": "code",
   "execution_count": 50,
   "id": "71479c39",
   "metadata": {},
   "outputs": [
    {
     "name": "stdout",
     "output_type": "stream",
     "text": [
      "372\n"
     ]
    }
   ],
   "source": [
    "a=31\n",
    "b=12\n",
    "a*=b#multiple and assign\n",
    "print(a)"
   ]
  },
  {
   "cell_type": "code",
   "execution_count": 53,
   "id": "8b593429",
   "metadata": {},
   "outputs": [
    {
     "name": "stdout",
     "output_type": "stream",
     "text": [
      "1.40625\n"
     ]
    }
   ],
   "source": [
    "a=45\n",
    "b=32\n",
    "a/=b#divide and assign\n",
    "print(a)"
   ]
  },
  {
   "cell_type": "code",
   "execution_count": 54,
   "id": "5c95916f",
   "metadata": {},
   "outputs": [
    {
     "name": "stdout",
     "output_type": "stream",
     "text": [
      "15\n"
     ]
    }
   ],
   "source": [
    "a=75\n",
    "b=20\n",
    "a%=b#modulus and assign\n",
    "print(a)"
   ]
  },
  {
   "cell_type": "code",
   "execution_count": 55,
   "id": "1297dde0",
   "metadata": {},
   "outputs": [
    {
     "name": "stdout",
     "output_type": "stream",
     "text": [
      "5\n"
     ]
    }
   ],
   "source": [
    "a=85\n",
    "b=15\n",
    "a//=b#floor divison and assign\n",
    "print(a)"
   ]
  },
  {
   "cell_type": "code",
   "execution_count": 57,
   "id": "d0289977",
   "metadata": {},
   "outputs": [
    {
     "name": "stdout",
     "output_type": "stream",
     "text": [
      "42\n"
     ]
    }
   ],
   "source": [
    "a=42\n",
    "b=1\n",
    "a**=b#exponent and assign\n",
    "print(a)"
   ]
  },
  {
   "cell_type": "code",
   "execution_count": 59,
   "id": "477d8850",
   "metadata": {},
   "outputs": [
    {
     "name": "stdout",
     "output_type": "stream",
     "text": [
      "4\n"
     ]
    }
   ],
   "source": [
    "a=21\n",
    "b=12\n",
    "a&=b#bitwise AND and assign\n",
    "print(a)"
   ]
  },
  {
   "cell_type": "code",
   "execution_count": 60,
   "id": "36dd3e41",
   "metadata": {},
   "outputs": [
    {
     "name": "stdout",
     "output_type": "stream",
     "text": [
      "61\n"
     ]
    }
   ],
   "source": [
    "a=41\n",
    "b=21\n",
    "a|=b#bitwise OR and assign\n",
    "print(a)"
   ]
  },
  {
   "cell_type": "code",
   "execution_count": 66,
   "id": "276d284e",
   "metadata": {},
   "outputs": [
    {
     "name": "stdout",
     "output_type": "stream",
     "text": [
      "21\n"
     ]
    }
   ],
   "source": [
    "a=21\n",
    "b=12\n",
    "b^=a#bitwise XOR and assign\n",
    "print(a)"
   ]
  },
  {
   "cell_type": "code",
   "execution_count": 68,
   "id": "11eeb270",
   "metadata": {},
   "outputs": [
    {
     "name": "stdout",
     "output_type": "stream",
     "text": [
      "128\n"
     ]
    }
   ],
   "source": [
    "a=32\n",
    "b=2\n",
    "a<<=b #bitwise left swift and assign\n",
    "print(a)"
   ]
  },
  {
   "cell_type": "code",
   "execution_count": 69,
   "id": "7a979481",
   "metadata": {},
   "outputs": [
    {
     "name": "stdout",
     "output_type": "stream",
     "text": [
      "3\n"
     ]
    }
   ],
   "source": [
    "a=31\n",
    "b=3\n",
    "a>>=b #bitwise right swift and assign\n",
    "print(a)"
   ]
  },
  {
   "cell_type": "markdown",
   "id": "c376f7f6",
   "metadata": {},
   "source": [
    "# 6.identity operators"
   ]
  },
  {
   "cell_type": "code",
   "execution_count": 71,
   "id": "712c2702",
   "metadata": {},
   "outputs": [
    {
     "name": "stdout",
     "output_type": "stream",
     "text": [
      "a and b are not equal\n"
     ]
    }
   ],
   "source": [
    "a=12\n",
    "b=31\n",
    "#is identity operater\n",
    "if a is b:\n",
    "    print(\"both a and b are equal\")\n",
    "else:\n",
    "    print(\"a and b are not equal\")"
   ]
  },
  {
   "cell_type": "code",
   "execution_count": 72,
   "id": "f26ec3ba",
   "metadata": {},
   "outputs": [
    {
     "name": "stdout",
     "output_type": "stream",
     "text": [
      "a and b are not same\n"
     ]
    }
   ],
   "source": [
    "a=31\n",
    "b=21\n",
    "#is not identity\n",
    "if a is not b:\n",
    "        print(\"a and b are not same\")\n",
    "else:\n",
    "    print(\"a and b are same\")"
   ]
  },
  {
   "cell_type": "markdown",
   "id": "2dd4bc05",
   "metadata": {},
   "source": [
    "# 7.membership operator"
   ]
  },
  {
   "cell_type": "code",
   "execution_count": 74,
   "id": "2f9de8b2",
   "metadata": {},
   "outputs": [
    {
     "name": "stdout",
     "output_type": "stream",
     "text": [
      "a is in list\n"
     ]
    }
   ],
   "source": [
    "a=12\n",
    "#in membership operator\n",
    "list=[1,43,12,31]\n",
    "if a in list:\n",
    "    print(\"a is in list\")\n",
    "else:\n",
    "    print(\"a is not in list\")"
   ]
  },
  {
   "cell_type": "code",
   "execution_count": 75,
   "id": "020870cf",
   "metadata": {},
   "outputs": [
    {
     "name": "stdout",
     "output_type": "stream",
     "text": [
      "a is not in list\n"
     ]
    }
   ],
   "source": [
    "a=21\n",
    "list=[23,31,34]\n",
    "#not in membership operator\n",
    "if a not in list:\n",
    "    print(\"a is not in list\")\n",
    "else:\n",
    "    print(\"a is in list\")"
   ]
  }
 ],
 "metadata": {
  "kernelspec": {
   "display_name": "Python 3 (ipykernel)",
   "language": "python",
   "name": "python3"
  },
  "language_info": {
   "codemirror_mode": {
    "name": "ipython",
    "version": 3
   },
   "file_extension": ".py",
   "mimetype": "text/x-python",
   "name": "python",
   "nbconvert_exporter": "python",
   "pygments_lexer": "ipython3",
   "version": "3.11.3"
  }
 },
 "nbformat": 4,
 "nbformat_minor": 5
}
