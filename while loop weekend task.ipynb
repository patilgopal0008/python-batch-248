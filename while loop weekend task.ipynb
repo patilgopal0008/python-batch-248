{
 "cells": [
  {
   "cell_type": "markdown",
   "id": "90987f0a",
   "metadata": {},
   "source": [
    "1)To the Power of _____\n",
    "Create a function that takes a base number and an exponent number and returns the calculation.\n",
    "\n",
    "Examples\n",
    "calculate_exponent(5, 5) ➞ 3125\n",
    "\n",
    "calculate_exponent(10, 10) ➞ 10000000000\n",
    "\n",
    "calculate_exponent(3, 3) ➞ 27"
   ]
  },
  {
   "cell_type": "code",
   "execution_count": 1,
   "id": "3368aedb",
   "metadata": {},
   "outputs": [
    {
     "name": "stdout",
     "output_type": "stream",
     "text": [
      "enter a value: 3\n",
      "enter exponent value: 2\n",
      "9\n"
     ]
    }
   ],
   "source": [
    "base,exp = int(input('enter a value: ')),int(input('enter exponent value: '))\n",
    "result = base\n",
    "i = 1\n",
    "while i<exp:\n",
    "    result*= base\n",
    "    exp-=1\n",
    "    i+=1\n",
    "print(result)\n",
    "    "
   ]
  },
  {
   "cell_type": "markdown",
   "id": "cb734fd4",
   "metadata": {},
   "source": [
    "2)Find the Largest Number in a List\n",
    "Create a function that takes a list of numbers. Return the largest number in the list.\n",
    "\n",
    "Examples\n",
    "findLargestNum([4, 5, 1, 3]) ➞ 5\n",
    "\n",
    "findLargestNum([300, 200, 600, 150]) ➞ 600\n",
    "\n",
    "findLargestNum([1000, 1001, 857, 1]) ➞ 1001"
   ]
  },
  {
   "cell_type": "code",
   "execution_count": 4,
   "id": "433878de",
   "metadata": {},
   "outputs": [
    {
     "name": "stdout",
     "output_type": "stream",
     "text": [
      "The largest number is: 78\n"
     ]
    }
   ],
   "source": [
    "numbers = [12, 45, 6, 78, 23, 56]\n",
    "a = numbers[0] #let num[0] be the largest\n",
    "i = 1 \n",
    "while i < len(numbers):\n",
    "    if numbers[i] > a:\n",
    "        a = numbers[i]\n",
    "    i += 1\n",
    "print(\"The largest number is:\", a)\n"
   ]
  },
  {
   "cell_type": "markdown",
   "id": "981fd274",
   "metadata": {},
   "source": [
    "3)Find the Smallest Number in a List\n",
    "Create a function that takes a list of numbers and returns the smallest number in the list.\n",
    "\n",
    "Examples\n",
    "find_smallest_num([34, 15, 88, 2]) ➞ 2\n",
    "\n",
    "find_smallest_num([34, -345, -1, 100]) ➞ -345\n",
    "\n",
    "find_smallest_num([-76, 1.345, 1, 0]) ➞ -76\n",
    "\n",
    "find_smallest_num([0.4356, 0.8795, 0.5435, -0.9999]) ➞ -0.9999\n",
    "\n",
    "find_smallest_num([7, 7, 7]) ➞ 7"
   ]
  },
  {
   "cell_type": "code",
   "execution_count": 6,
   "id": "76fe9f7a",
   "metadata": {},
   "outputs": [
    {
     "name": "stdout",
     "output_type": "stream",
     "text": [
      "The smallest number is: 6\n"
     ]
    }
   ],
   "source": [
    "numbers = [12, 45, 6, 78, 23, 56]\n",
    "a = numbers[0] #let be the smallest\n",
    "i = 1\n",
    "while i < len(numbers):\n",
    "    if numbers[i] < a:\n",
    "        a = numbers[i]\n",
    "    i += 1\n",
    "print(\"The smallest number is:\", a)\n"
   ]
  },
  {
   "cell_type": "markdown",
   "id": "049f6336",
   "metadata": {},
   "source": [
    "4)Difference of Max and Min Numbers in List\n",
    "Create a function that takes a list and returns the difference between the biggest and smallest numbers.\n",
    "Examples\n",
    "difference_max_min([10, 4, 1, 4, -10, -50, 32, 21]) ➞ 82\n",
    "Smallest number is -50, biggest is 32.\n",
    "\n",
    "difference_max_min([44, 32, 86, 19]) ➞ 67\n",
    " Smallest number is 19, biggest is 86."
   ]
  },
  {
   "cell_type": "code",
   "execution_count": 11,
   "id": "2bce9e0f",
   "metadata": {},
   "outputs": [
    {
     "name": "stdout",
     "output_type": "stream",
     "text": [
      "72\n"
     ]
    }
   ],
   "source": [
    "numbers = [12, 45, 6, 78, 23, 56]\n",
    "a = numbers[0] #let be largest\n",
    "b = numbers[0] #be amallest\n",
    "i = 1\n",
    "while i < len(numbers):\n",
    "    if numbers[i] > a:\n",
    "        a = numbers[i]\n",
    "    elif numbers[i] < b:\n",
    "        b = numbers[i]\n",
    "    i += 1\n",
    "j = a-b\n",
    "print(j)"
   ]
  },
  {
   "cell_type": "markdown",
   "id": "005c1eff",
   "metadata": {},
   "source": [
    "5)Get the Sum of All List Elements\n",
    "Create a function that takes a list and returns the sum of all numbers in the list.\n",
    "\n",
    "Examples\n",
    "get_sum_of_elements([2, 7, 4]) ➞ 13\n",
    "\n",
    "get_sum_of_elements([45, 3, 0]) ➞ 48\n",
    "\n",
    "get_sum_of_elements([-2, 84, 23]) ➞ 105"
   ]
  },
  {
   "cell_type": "code",
   "execution_count": 12,
   "id": "24f88629",
   "metadata": {},
   "outputs": [
    {
     "name": "stdout",
     "output_type": "stream",
     "text": [
      "220\n"
     ]
    }
   ],
   "source": [
    "x = [12, 45, 6, 78, 23, 56]\n",
    "i = 0\n",
    "sum = 0\n",
    "while i<len(x):\n",
    "    sum+=x[i]\n",
    "    i+=1\n",
    "print(sum)"
   ]
  },
  {
   "cell_type": "markdown",
   "id": "4fc2ef38",
   "metadata": {},
   "source": [
    "6)Convert Number to String of Dashes\n",
    "Create a function that takes a number (from 1 - 60) and returns a corresponding string of hyphens.\n",
    "\n",
    "Examples\n",
    "num_to_dashes(1) ➞ \"-\"\n",
    "\n",
    "num_to_dashes(5) ➞ \"-----\"\n",
    "\n",
    "num_to_dashes(3) ➞ \"---\""
   ]
  },
  {
   "cell_type": "code",
   "execution_count": 14,
   "id": "0d11436d",
   "metadata": {},
   "outputs": [
    {
     "name": "stdout",
     "output_type": "stream",
     "text": [
      "enter a value: 5\n",
      "-----\n"
     ]
    }
   ],
   "source": [
    "x = int(input('enter a value: '))\n",
    "if x < 1 or x > 60:\n",
    "    print('x is not in range' )\n",
    "result = ''\n",
    "i = 0\n",
    "while i<x:\n",
    "    result+='-'\n",
    "    i+=1\n",
    "print(result)\n",
    "    \n",
    "    \n"
   ]
  },
  {
   "cell_type": "markdown",
   "id": "bca41062",
   "metadata": {},
   "source": [
    "7)Edaaaaabit\n",
    "Write a function that takes an integer and returns a string with the given number of \"a\"s in Edabit.\n",
    "\n",
    "Examples\n",
    "how_many_times(5) ➞ \"Edaaaaabit\"\n",
    "\n",
    "how_many_times(0) ➞ \"Edbit\"\n",
    "\n",
    "how_many_times(12) ➞ \"Edaaaaaaaaaaaabit\""
   ]
  },
  {
   "cell_type": "code",
   "execution_count": 1,
   "id": "b851a991",
   "metadata": {},
   "outputs": [
    {
     "name": "stdout",
     "output_type": "stream",
     "text": [
      "enter a value: 4\n",
      "edaaaabit\n"
     ]
    }
   ],
   "source": [
    "x = int(input('enter a value: '))\n",
    "if x < 0:\n",
    "    print('enter a positive num')\n",
    "result = ''\n",
    "i = 0\n",
    "while i<x:\n",
    "    result+='a'\n",
    "    i+=1\n",
    "y = 'ed'+result+'bit'\n",
    "print(y)"
   ]
  },
  {
   "cell_type": "markdown",
   "id": "b2a98f52",
   "metadata": {},
   "source": [
    "8)Check if All Values Are True\n",
    "Create a function that returns True if all parameters are truthy, and False otherwise.\n",
    "\n",
    "Examples\n",
    "all_truthy(True, True, True) ➞ True\n",
    "\n",
    "all_truthy(True, False, True) ➞ False\n",
    "\n",
    "all_truthy(5, 4, 3, 2, 1, 0) ➞ False"
   ]
  },
  {
   "cell_type": "code",
   "execution_count": 7,
   "id": "fcd1c6e2",
   "metadata": {},
   "outputs": [
    {
     "name": "stdout",
     "output_type": "stream",
     "text": [
      "False\n"
     ]
    }
   ],
   "source": [
    "a = (True,0,'hello',1)\n",
    "i = 0\n",
    "while i < len(a):\n",
    "    if not a[i]:\n",
    "        result = False\n",
    "        break\n",
    "    i+= 1\n",
    "else:\n",
    "    result = True\n",
    "\n",
    "print(result)\n",
    "    \n"
   ]
  },
  {
   "cell_type": "markdown",
   "id": "8093dda1",
   "metadata": {},
   "source": [
    "9)Buggy Code (Part 5)\n",
    "Mubashir created an infinite loop! Help him by fixing the code in the code tab to pass this challenge. Look at the examples below to get an idea of what the function should do.\n",
    "\n",
    "Examples\n",
    "print_list(1) ➞ [1]\n",
    "\n",
    "print_list(3) ➞ [1, 2, 3]\n",
    "\n",
    "print_list(6) ➞ [1, 2, 3, 4, 5, 6]"
   ]
  },
  {
   "cell_type": "code",
   "execution_count": 6,
   "id": "785e80e9",
   "metadata": {},
   "outputs": [
    {
     "name": "stdout",
     "output_type": "stream",
     "text": [
      "7\n",
      "[1, 2, 3, 4, 5, 6, 7]\n"
     ]
    }
   ],
   "source": [
    "x = int(input())\n",
    "y = []\n",
    "i = 1\n",
    "while i<=x:\n",
    "        y.append(i)\n",
    "        i+=1\n",
    "print(y)"
   ]
  },
  {
   "cell_type": "markdown",
   "id": "fb1d360b",
   "metadata": {},
   "source": [
    "10)Return Last Item\n",
    "Create a function that returns the last value of the last item in a list or string.\n",
    "\n",
    "Examples\n",
    "last_ind([0, 4, 19, 34, 50, -9, 2]) ➞ 2\n",
    "\n",
    "last_ind(\"The quick brown fox jumped over the lazy dog\") ➞ \"g\"\n",
    "\n",
    "last_ind([]) ➞ None"
   ]
  },
  {
   "cell_type": "code",
   "execution_count": 10,
   "id": "f000f008",
   "metadata": {},
   "outputs": [
    {
     "name": "stdout",
     "output_type": "stream",
     "text": [
      "2\n"
     ]
    }
   ],
   "source": [
    "x = [0, 4, 19, 34, 50, -9, 2]\n",
    "i = 0\n",
    "while i < len(x):\n",
    "          y = x[i]\n",
    "          i+=1\n",
    "print(y)\n",
    "          "
   ]
  },
  {
   "cell_type": "code",
   "execution_count": 11,
   "id": "6227c0cd",
   "metadata": {},
   "outputs": [
    {
     "name": "stdout",
     "output_type": "stream",
     "text": [
      "g\n"
     ]
    }
   ],
   "source": [
    "x = \"The quick brown fox jumped over the lazy dog\"\n",
    "i = 0\n",
    "while i < len(x):\n",
    "          y = x[i]\n",
    "          i+=1\n",
    "print(y)\n",
    "          "
   ]
  },
  {
   "cell_type": "markdown",
   "id": "ca314d34",
   "metadata": {},
   "source": [
    "11)Destructuring Assignment (Ignoring Values)\n",
    "You can assign variables from lists like this:\n",
    "\n",
    "first, _ , last = [1, 2, 8]\n",
    "\n",
    "first   = lst[0]\n",
    "\n",
    "_   = ignores second value (2)\n",
    "\n",
    "last   = lst[-1]\n",
    "\n",
    "print(first) ➞ outputs 1\n",
    "print(last) ➞ outputs 8\n",
    "Using Destructuring Assignment (check the Resources tab), your task is to unpack the list writeyourcodehere into three variables, first, a variable to ignore all middle values and last."
   ]
  },
  {
   "cell_type": "code",
   "execution_count": 22,
   "id": "3a1e4df6",
   "metadata": {},
   "outputs": [
    {
     "ename": "SyntaxError",
     "evalue": "invalid syntax (3114893345.py, line 2)",
     "output_type": "error",
     "traceback": [
      "\u001b[1;36m  Cell \u001b[1;32mIn[22], line 2\u001b[1;36m\u001b[0m\n\u001b[1;33m    first,-,seond,three,four,five = x\u001b[0m\n\u001b[1;37m           ^\u001b[0m\n\u001b[1;31mSyntaxError\u001b[0m\u001b[1;31m:\u001b[0m invalid syntax\n"
     ]
    }
   ],
   "source": [
    "x = [1,2,3,4,5]\n",
    "first,-,seond,three,four,five = x\n",
    "    while i < len(x,y):\n",
    "         x[i]=y[i]"
   ]
  },
  {
   "cell_type": "markdown",
   "id": "de5a0328",
   "metadata": {},
   "source": [
    "12) Century Crisis\n",
    "Scientists have discovered that in four decades, the world will EXPLODE! It will also take three decades to make a spaceship to travel to a new planet that can hold the entire world population.\n",
    "\n",
    "You must calculate the number of people there will be in three decades from now.\n",
    "\n",
    "The variable P is the world population now.\n",
    "Assume that every month, someone gives birth to more people nP.\n",
    "Return the number of people there will be when the spaceship is complete.\n",
    "Examples\n",
    "future_people(256, 2) ➞ 976\n",
    "\n",
    "future_people(3248, 6) ➞ 5408\n",
    "\n",
    "future_people(5240, 3) ➞ 6320"
   ]
  },
  {
   "cell_type": "code",
   "execution_count": 9,
   "id": "edebe948",
   "metadata": {},
   "outputs": [
    {
     "name": "stdout",
     "output_type": "stream",
     "text": [
      "256\n",
      "2\n",
      "328\n"
     ]
    }
   ],
   "source": [
    "p = int(input())\n",
    "np = int(input())\n",
    "three_decades_months=36\n",
    "months_passed = 1\n",
    "while months_passed<=three_decades_months:\n",
    "    y = p+np\n",
    "    months_passed+=1\n",
    "print(y)"
   ]
  },
  {
   "cell_type": "markdown",
   "id": "8621bd52",
   "metadata": {},
   "source": [
    "13)Word Numbers!\n",
    "Create a function that returns a number, based on the string provided. Here is a list of all digits:\n",
    "\n",
    "String\tNumber  \n",
    "\"one\"\t1  \n",
    "\"two\"\t2  \n",
    "\"three\"\t3  \n",
    "\"four\"\t4  \n",
    "\"five\"\t5  \n",
    "\"six\"\t6  \n",
    "\"seven\"\t7  \n",
    "\"eight\"\t8  \n",
    "\"nine\"\t9  \n",
    "\"zero\"\t0  \n",
    "Examples\n",
    "word(\"one\") ➞ 1  \n",
    "\n",
    "word(\"two\") ➞ 2  \n",
    "\n",
    "word(\"nine\") ➞ 9"
   ]
  },
  {
   "cell_type": "code",
   "execution_count": 5,
   "id": "427d6375",
   "metadata": {},
   "outputs": [
    {
     "name": "stdout",
     "output_type": "stream",
     "text": [
      "Enter a word: one\n",
      "1\n"
     ]
    }
   ],
   "source": [
    "digits = {\"one\":1,\"two\":2,\"three\":3,\"four\":4,\"five\":5,\"six\":6,\"seven\":7,\"eight\":8,\"nine\":9,\"zero\":0}\n",
    "word = input(\"Enter a word: \")  \n",
    "\n",
    "number = None\n",
    "for digit_word, digit_value in digits.items():\n",
    "    if word == digit_word:\n",
    "        number = digit_value\n",
    "        break\n",
    "\n",
    "if number is not None:\n",
    "    print(number)\n",
    "else:\n",
    "    print(\"Invalid word\")"
   ]
  },
  {
   "cell_type": "markdown",
   "id": "bb5b8b37",
   "metadata": {},
   "source": [
    "14)Count Instances of a Character in a String\n",
    "Create a function that takes two strings as arguments and returns the number of times the first string (the single character) is found in the second string.\n",
    "\n",
    "Examples\n",
    "char_count(\"a\", \"edabit\") ➞ 1\n",
    "\n",
    "char_count(\"c\", \"Chamber of secrets\") ➞ 1\n",
    "\n",
    "char_count(\"b\", \"big fat bubble\") ➞ 4"
   ]
  },
  {
   "cell_type": "code",
   "execution_count": 13,
   "id": "13f86d46",
   "metadata": {},
   "outputs": [
    {
     "name": "stdout",
     "output_type": "stream",
     "text": [
      "Enter a character: hello\n",
      "Enter a string: h\n",
      "0\n"
     ]
    }
   ],
   "source": [
    "char = input(\"Enter a character: \")  # Input the character\n",
    "string = input(\"Enter a string: \")    # Input the string\n",
    "\n",
    "count = 0\n",
    "index = 0\n",
    "\n",
    "while index < len(string):\n",
    "    if string[index] == char:\n",
    "        count += 1\n",
    "    index += 1\n",
    "\n",
    "print(count)\n"
   ]
  },
  {
   "cell_type": "markdown",
   "id": "e7bd5bff",
   "metadata": {},
   "source": [
    "15)Find the Index\n",
    "Create a function that takes a list and a string as arguments and returns the index of the string.\n",
    "\n",
    "Examples\n",
    "find_index([\"hi\", \"edabit\", \"fgh\", \"abc\"], \"fgh\") ➞ 2\n",
    "\n",
    "find_index([\"Red\", \"blue\", \"Blue\", \"Green\"], \"blue\") ➞ 1\n",
    "\n",
    "find_index([\"a\", \"g\", \"y\", \"d\"], \"d\") ➞ 3\n",
    "\n",
    "find_index([\"Pineapple\", \"Orange\", \"Grape\", \"Apple\"], \"Pineapple\") ➞ 0"
   ]
  },
  {
   "cell_type": "code",
   "execution_count": 14,
   "id": "1cd0ee96",
   "metadata": {},
   "outputs": [
    {
     "name": "stdout",
     "output_type": "stream",
     "text": [
      "2\n"
     ]
    }
   ],
   "source": [
    "x = [\"hi\", \"edabit\", \"fgh\", \"abc\"]  \n",
    "y = \"fgh\"  \n",
    "\n",
    "i = 0\n",
    "while i < len(x):\n",
    "    if x[i] == y:\n",
    "        print(i)\n",
    "        break\n",
    "    i += 1\n",
    "else:\n",
    "    print(\"String not found in the list\")"
   ]
  },
  {
   "cell_type": "markdown",
   "id": "47298474",
   "metadata": {},
   "source": [
    "16)Recreating a len() Function\n",
    "Create a function which returns the length of a string, without using len().\n",
    "\n",
    "Examples\n",
    "length(\"Hello World\") ➞ 11\n",
    "\n",
    "length(\"Edabit\") ➞ 6\n",
    "\n",
    "length(\"wash your hands!\") ➞ 16"
   ]
  },
  {
   "cell_type": "code",
   "execution_count": 18,
   "id": "377c22c3",
   "metadata": {},
   "outputs": [
    {
     "name": "stdout",
     "output_type": "stream",
     "text": [
      "enter a string: hello\n",
      "5\n"
     ]
    }
   ],
   "source": [
    "x = input(\"enter a string: \")\n",
    "i = 0\n",
    "l = 0\n",
    "while i <len(x):\n",
    "    i+=1\n",
    "    l+=1\n",
    "print(l)\n",
    "    "
   ]
  },
  {
   "cell_type": "markdown",
   "id": "4f1bb271",
   "metadata": {},
   "source": [
    "17)Sum of Minimums\n",
    "Create a function that takes a 2D list lst and returns the sum of the minimum value in each row.\n",
    "\n",
    "Examples\n",
    "sum_minimums([\n",
    "  [1, 2, 3, 4, 5],\n",
    "  [5, 6, 7, 8, 9],\n",
    "  [20, 21, 34, 56, 100]\n",
    "]) ➞ 26\n",
    "\n",
    "minimum value of the first row is 1\n",
    " minimum value of the second row is 5\n",
    " minimum value of the third row is 20"
   ]
  },
  {
   "cell_type": "code",
   "execution_count": 19,
   "id": "a0edcba6",
   "metadata": {},
   "outputs": [
    {
     "name": "stdout",
     "output_type": "stream",
     "text": [
      "12\n"
     ]
    }
   ],
   "source": [
    "x = [\n",
    "    [1,2,3],  #2d list\n",
    "    [4,5,6],\n",
    "    [7,8,9]\n",
    "]\n",
    "i = 0\n",
    "j = 0 #be sum of min value\n",
    "while i<len(x):\n",
    "    y = min(x[i]) #y be min val\n",
    "    i+=1\n",
    "    j+=y\n",
    "    \n",
    "print(j)"
   ]
  },
  {
   "cell_type": "markdown",
   "id": "91d508eb",
   "metadata": {},
   "source": [
    "18)The Forbidden Letter\n",
    "Given a letter and a list of words, return whether the letter does not appear in any of the words.\n",
    "\n",
    "Examples\n",
    "forbidden_letter(\"r\", [\"rock\", \"paper\", \"scissors\"]) ➞ False\n",
    "\n",
    "forbidden_letter(\"a\", [\"spoon\", \"fork\", \"knife\"]) ➞ True\n",
    "\n",
    "forbidden_letter(\"m\", []) ➞ True"
   ]
  },
  {
   "cell_type": "code",
   "execution_count": 21,
   "id": "b595ede2",
   "metadata": {},
   "outputs": [
    {
     "name": "stdout",
     "output_type": "stream",
     "text": [
      "Enter a letter: s\n",
      "True\n"
     ]
    }
   ],
   "source": [
    "letter = input(\"Enter a letter: \")  \n",
    "words = [\"rock\", \"paper\", \"scissors\"]  \n",
    "\n",
    "i = 0\n",
    "while i < len(words):\n",
    "    if letter in words[i]:\n",
    "        print(True)\n",
    "        break\n",
    "    i+= 1\n",
    "else:\n",
    "    print(False)\n"
   ]
  },
  {
   "cell_type": "markdown",
   "id": "0e464eca",
   "metadata": {},
   "source": [
    "19)Factors of a Given Number\n",
    "Create a function that finds each factor of a given number n. Your solution should return a list of the number(s) that meet this criteria.\n",
    "\n",
    "Examples\n",
    "find_factors(9) ➞ [1, 3, 9]\n",
    " 9 has three factors 1, 3 and 9\n",
    "\n",
    "find_factors(12) ➞ [1, 2, 3, 4, 6, 12]\n",
    "\n",
    "find_factors(20) ➞ [1, 2, 4, 5, 10, 20]\n",
    "\n",
    "find_factors(0) ➞ []\n",
    " 0 has no factors"
   ]
  },
  {
   "cell_type": "code",
   "execution_count": null,
   "id": "dc6558c1",
   "metadata": {},
   "outputs": [],
   "source": [
    "x = int(input())\n",
    "if x < 0:\n",
    "    print('no factor')\n",
    "else:\n",
    "    y = []\n",
    "    d = 1\n",
    "    while d < x:\n",
    "        if d%x==0:\n",
    "            y.append(d)\n",
    "            d+=1\n",
    "print(y)"
   ]
  },
  {
   "cell_type": "markdown",
   "id": "3149fe76",
   "metadata": {},
   "source": [
    "20)Reverse the Case\n",
    "Given a string, create a function to reverse the case. All lower-cased letters should be upper-cased, and vice versa.\n",
    "\n",
    "Examples\n",
    "reverse_case(\"Happy Birthday\") ➞ \"hAPPY bIRTHDAY\"\n",
    "\n",
    "reverse_case(\"MANY THANKS\") ➞ \"many thanks\"\n",
    "\n",
    "reverse_case(\"sPoNtAnEoUs\") ➞ \"SpOnTaNeOuS\""
   ]
  },
  {
   "cell_type": "code",
   "execution_count": 1,
   "id": "24e5b3d7",
   "metadata": {},
   "outputs": [
    {
     "name": "stdout",
     "output_type": "stream",
     "text": [
      "enter a string hELLO\n",
      "Hello\n"
     ]
    }
   ],
   "source": [
    "x = input(\"enter a string \")\n",
    "i = 0\n",
    "while i<len(x):\n",
    "    y=x.swapcase()\n",
    "    i+=1\n",
    "print(y)"
   ]
  },
  {
   "cell_type": "markdown",
   "id": "71e2fe84",
   "metadata": {},
   "source": [
    "21)Hashes and Pluses\n",
    "Create a function that returns the number of hashes and pluses in a string.\n",
    "\n",
    "Examples\n",
    "hash_plus_count(\"###+\") ➞ [3, 1]\n",
    "\n",
    "hash_plus_count(\"##+++#\") ➞ [3, 3]\n",
    "\n",
    "hash_plus_count(\"#+++#+#++#\") ➞ [4, 6]\n",
    "\n",
    "hash_plus_count(\"\") ➞ [0, 0]"
   ]
  },
  {
   "cell_type": "code",
   "execution_count": 1,
   "id": "0ad41c2e",
   "metadata": {},
   "outputs": [
    {
     "name": "stdout",
     "output_type": "stream",
     "text": [
      "enter a string: #++\n",
      "[1, 2]\n"
     ]
    }
   ],
   "source": [
    "x = input('enter a string: ')\n",
    "a = 0 #(#)count\n",
    "b = 0 # + count\n",
    "i = 0\n",
    "while i<len(x):\n",
    "    if x[i]=='#':\n",
    "        a+=1\n",
    "    elif x[i]=='+':\n",
    "        b+=1\n",
    "    i+=1\n",
    "y = [a,b]\n",
    "print(y)    "
   ]
  },
  {
   "cell_type": "markdown",
   "id": "dd462163",
   "metadata": {},
   "source": [
    "22)Even and Odd Strings\n",
    "Given a one word lowercase string txt, return another string such that even-indexed and odd-indexed characters are grouped and groups are space-separated.\n",
    "\n",
    "Examples\n",
    "even_odd_string(\"mubashir\") ➞ \"mbsi uahr\"  \n",
    " Letters at even indexes = \"mbsi\"  \n",
    " Letters at odd indexes = \"uahr\"  \n",
    " Join both strings with a space  \n",
    "\n",
    "even_odd_string(\"edabit\") ➞ \"eai dbt\"  \n",
    "\n",
    "even_odd_string(\"airforce\") ➞ \"aroc ifre\"  "
   ]
  },
  {
   "cell_type": "code",
   "execution_count": 7,
   "id": "bc46287a",
   "metadata": {},
   "outputs": [
    {
     "name": "stdout",
     "output_type": "stream",
     "text": [
      "enter a string: heterigenous\n",
      "htrgnueeieos\n"
     ]
    }
   ],
   "source": [
    "x = input('enter a string: ')\n",
    "y = \"\" #even char\n",
    "z = \"\" #odd char\n",
    "i = 0\n",
    "while i < len(x):\n",
    "    if i%2==0:\n",
    "        y+=x[i]\n",
    "    else:\n",
    "        z+=x[i]\n",
    "    i+=1\n",
    "a = y+z\n",
    "print(a)\n",
    "    "
   ]
  },
  {
   "cell_type": "markdown",
   "id": "c85f2f7a",
   "metadata": {},
   "source": [
    "23)Sum of the Odd Numbers\n",
    "Create a function which returns the total of all odd numbers up to and including n. n will be given as an odd number.\n",
    "\n",
    "Examples  \n",
    "add_odd_to_n(5) ➞ 9  \n",
    "  1 + 3 + 5 = 9  \n",
    "\n",
    "add_odd_to_n(13) ➞ 49  \n",
    "\n",
    "add_odd_to_n(47) ➞ 576  "
   ]
  },
  {
   "cell_type": "code",
   "execution_count": 2,
   "id": "d11a9fde",
   "metadata": {},
   "outputs": [
    {
     "name": "stdout",
     "output_type": "stream",
     "text": [
      "Enter an odd number: 5\n",
      "9\n"
     ]
    }
   ],
   "source": [
    "n = int(input(\"Enter an odd number: \"))  \n",
    "total = 0\n",
    "num = 1\n",
    "\n",
    "while num <= n:\n",
    "    total += num\n",
    "    num += 2  \n",
    "\n",
    "print(total)\n",
    "    "
   ]
  },
  {
   "cell_type": "markdown",
   "id": "c7326cbf",
   "metadata": {},
   "source": [
    "24)Summing the Squares\n",
    "Create a function that takes a number n and returns the sum of all square numbers up to and including n.\n",
    "\n",
    "squares_sum(3) ➞ 14\n",
    "# 1² + 2² + 3² =\n",
    "# 1 + 4 + 9 =\n",
    "# 14\n",
    "Examples\n",
    "squares_sum(3) ➞ 14\n",
    "\n",
    "squares_sum(12) ➞ 650\n",
    "\n",
    "squares_sum(13) ➞ 819"
   ]
  },
  {
   "cell_type": "code",
   "execution_count": 6,
   "id": "04d671fc",
   "metadata": {},
   "outputs": [
    {
     "name": "stdout",
     "output_type": "stream",
     "text": [
      "enter a number: 13\n",
      "819\n"
     ]
    }
   ],
   "source": [
    "n = int(input('enter a number: '))\n",
    "total = 0\n",
    "number = 1\n",
    "while number <= n:\n",
    "    total += number*number\n",
    "    number+=1\n",
    "print(total)"
   ]
  },
  {
   "cell_type": "markdown",
   "id": "fcc5c58b",
   "metadata": {},
   "source": [
    "25)Negate the List of Numbers\n",
    "Given a list of numbers, negate all elements contained within.\n",
    "\n",
    "Negating a positive value -+n will return -n, because all +'s are removed.\n",
    "Negating a negative value --n will return n, because the first - turns the second minus into a +.\n",
    "Examples\n",
    "negate([1, 2, 3, 4]) ➞ [-1, -2, -3, -4]\n",
    "\n",
    "negate([-1, 2, -3, 4]) ➞ [1, -2, 3, -4]\n",
    "\n",
    "negate([]) ➞ []"
   ]
  },
  {
   "cell_type": "code",
   "execution_count": 7,
   "id": "98634ee9",
   "metadata": {},
   "outputs": [
    {
     "name": "stdout",
     "output_type": "stream",
     "text": [
      "[-1, -2, -3, -4]\n"
     ]
    }
   ],
   "source": [
    "numbers = [1, 2, 3, 4]  \n",
    "\n",
    "index = 0\n",
    "while index < len(numbers):\n",
    "    numbers[index] = -numbers[index]\n",
    "    index += 1\n",
    "\n",
    "print(numbers)"
   ]
  },
  {
   "cell_type": "markdown",
   "id": "1d61dd4b",
   "metadata": {},
   "source": [
    "26)Additive Inverse\n",
    "A number added with its additive inverse equals zero. Create a function that returns a list of additive inverses.\n",
    "\n",
    "Examples\n",
    "additive_inverse([5, -7, 8, 3]) ➞ [-5, 7, -8, -3]\n",
    "\n",
    "additive_inverse([1, 1, 1, 1, 1]) ➞ [-1, -1, -1, -1, -1]\n",
    "\n",
    "additive_inverse([-5, -25, 35]) ➞ [5, 25, -35]"
   ]
  },
  {
   "cell_type": "code",
   "execution_count": 8,
   "id": "9e36555f",
   "metadata": {},
   "outputs": [
    {
     "name": "stdout",
     "output_type": "stream",
     "text": [
      "[-5, 7, -8, -3]\n"
     ]
    }
   ],
   "source": [
    "nums = [5, -7, 8, 3]  \n",
    "\n",
    "inverses = []\n",
    "index = 0\n",
    "\n",
    "while index < len(nums):\n",
    "    inverses.append(-nums[index])\n",
    "    index += 1\n",
    "\n",
    "print(inverses)"
   ]
  },
  {
   "cell_type": "markdown",
   "id": "1ed1be14",
   "metadata": {},
   "source": [
    "27)Add a Consecutive List of Numbers\n",
    "Write a function that takes the last number of a consecutive list of numbers and returns the total of all numbers up to and including it.\n",
    "\n",
    "Examples\n",
    "add_up_to(3) ➞ 6\n",
    "# 1 + 2 + 3 = 6\n",
    "\n",
    "add_up_to(10) ➞ 55\n",
    "# 1 + 2 + 3 + ... + 10 = 55\n",
    "\n",
    "add_up_to(7) ➞ 28\n",
    "# 1 + 2 + 3 + ... + 7 = 28"
   ]
  },
  {
   "cell_type": "code",
   "execution_count": null,
   "id": "774bb413",
   "metadata": {},
   "outputs": [
    {
     "name": "stdout",
     "output_type": "stream",
     "text": [
      "enter a num: 3\n"
     ]
    }
   ],
   "source": [
    "x = int(input('enter a num: '))\n",
    "total = 0\n",
    "num = 1\n",
    "while num <=x:\n",
    "    total+=num\n",
    "num+=1\n",
    "print(total)"
   ]
  },
  {
   "cell_type": "markdown",
   "id": "30ebe219",
   "metadata": {},
   "source": [
    "28)Give Me the Even Numbers\n",
    "Create a function that takes two parameters (start, stop), and returns the sum of all even numbers in the range.\n",
    "\n",
    "Examples\n",
    "sum_even_nums_in_range(10, 20) ➞ 90\n",
    "# 10, 12, 14, 16, 18, 20\n",
    "\n",
    "sum_even_nums_in_range(51, 150) ➞ 5050\n",
    "\n",
    "sum_even_nums_in_range(63, 97) ➞ 1360"
   ]
  },
  {
   "cell_type": "code",
   "execution_count": 1,
   "id": "d4998c8e",
   "metadata": {},
   "outputs": [
    {
     "name": "stdout",
     "output_type": "stream",
     "text": [
      "starting: 1\n",
      "ending: 9\n",
      "45\n"
     ]
    }
   ],
   "source": [
    "s,e = int(input('starting: ')),int(input('ending: '))\n",
    "total = 0\n",
    "i = s\n",
    "while i<=e:\n",
    "    i%2==0\n",
    "    total+=i\n",
    "    i+=1\n",
    "print(total)\n",
    "    "
   ]
  },
  {
   "cell_type": "markdown",
   "id": "f3e6f526",
   "metadata": {},
   "source": [
    "29)Is the String a Palindrome?\n",
    "A palindrome is a word that is identical forward and backwards.\n",
    "\n",
    "mom\n",
    "racecar\n",
    "kayak\n",
    "Given a word, create a function that checks whether it is a palindrome.\n",
    "\n",
    "Examples\n",
    "is_palindrome(\"mom\") ➞ True\n",
    "\n",
    "is_palindrome(\"scary\") ➞ False\n",
    "\n",
    "is_palindrome(\"reviver\") ➞ True\n",
    "\n",
    "is_palindrome(\"stressed\") ➞ False"
   ]
  },
  {
   "cell_type": "code",
   "execution_count": 10,
   "id": "5adcf75c",
   "metadata": {},
   "outputs": [
    {
     "name": "stdout",
     "output_type": "stream",
     "text": [
      "Enter a word: reviver\n",
      "It's a palindrome!\n"
     ]
    }
   ],
   "source": [
    "word = input(\"Enter a word: \")\n",
    "word = word.lower()  \n",
    "is_palindrome = True\n",
    "left = 0\n",
    "right = len(word) - 1\n",
    "\n",
    "while left <= right:\n",
    "    if word[left] != word[right]:\n",
    "        is_palindrome = False\n",
    "        break\n",
    "    left += 1\n",
    "    right -= 1\n",
    "\n",
    "if is_palindrome:\n",
    "    print(\"It's a palindrome!\")\n",
    "else:\n",
    "    print(\"It's not a palindrome.\")\n"
   ]
  },
  {
   "cell_type": "markdown",
   "id": "4c1a571c",
   "metadata": {},
   "source": [
    "30)List of Consecutive Numbers\n",
    "Implement a function that returns a list containing all the consecutive numbers in ascendant order from the given value low up to the given value high (bounds included).\n",
    "\n",
    "Examples\n",
    "get_sequence(1, 5) ➞ [1, 2, 3, 4, 5]\n",
    "\n",
    "get_sequence(98, 100) ➞ [98, 99, 100]\n",
    "\n",
    "get_sequence(1000, 1000) ➞ [1000]"
   ]
  },
  {
   "cell_type": "code",
   "execution_count": 3,
   "id": "3ccdd8f7",
   "metadata": {},
   "outputs": [
    {
     "name": "stdout",
     "output_type": "stream",
     "text": [
      "starting num: 1\n",
      "end num: 9\n",
      "[1, 2, 3, 4, 5, 6, 7, 8, 9]\n"
     ]
    }
   ],
   "source": [
    "s,e = int(input('starting num: ')),int(input('end num: '))\n",
    "lst =[]\n",
    "i = s\n",
    "while i<=e:\n",
    "    lst.append(i)\n",
    "    i+=1\n",
    "print(lst)"
   ]
  },
  {
   "cell_type": "markdown",
   "id": "68ed13a4",
   "metadata": {},
   "source": [
    "31)Find the Index (Part 1)\n",
    "Create a function that finds the index of a given item.\n",
    "\n",
    "Examples\n",
    "search([1, 5, 3], 5) ➞ 1\n",
    "\n",
    "search([9, 8, 3], 3) ➞ 2\n",
    "\n",
    "search([1, 2, 3], 4) ➞ -1"
   ]
  },
  {
   "cell_type": "code",
   "execution_count": 12,
   "id": "13d28d23",
   "metadata": {},
   "outputs": [
    {
     "name": "stdout",
     "output_type": "stream",
     "text": [
      "1\n"
     ]
    }
   ],
   "source": [
    "lst = [1, 5, 3]\n",
    "item = 5\n",
    "found_index = 2\n",
    "index = 0\n",
    "\n",
    "while index < len(lst):\n",
    "    if lst[index] == item:\n",
    "        found_index = index\n",
    "        break\n",
    "    index += 1\n",
    "\n",
    "print(found_index)"
   ]
  },
  {
   "cell_type": "markdown",
   "id": "b3aa0fde",
   "metadata": {},
   "source": [
    "32)Count the Capital Letters\n",
    "Given a string of letters, how many capital letters are there?\n",
    "\n",
    "Examples\n",
    "capital_letters(\"fvLzpxmgXSDrobbgMVrc\") ➞ 6\n",
    "\n",
    "capital_letters(\"JMZWCneOTFLWYwBWxyFw\") ➞ 14\n",
    "\n",
    "capital_letters(\"mqeytbbjwqemcdrdsyvq\") ➞ 0"
   ]
  },
  {
   "cell_type": "code",
   "execution_count": 1,
   "id": "13c080b2",
   "metadata": {},
   "outputs": [
    {
     "name": "stdout",
     "output_type": "stream",
     "text": [
      "6\n"
     ]
    }
   ],
   "source": [
    "s = \"fvLzpxmgXSDrobbgMVrc\"\n",
    "count = 0\n",
    "index = 0\n",
    "\n",
    "while index < len(s):\n",
    "    if s[index].isupper():\n",
    "        count += 1\n",
    "    index += 1\n",
    "\n",
    "print(count)"
   ]
  },
  {
   "cell_type": "markdown",
   "id": "d2f10337",
   "metadata": {},
   "source": [
    "33)N Tables + 1\n",
    "Create a function that takes a number num and returns the first 10 multiples of num with 1 added to it, separated by commas.\n",
    "\n",
    "Examples\n",
    "n_tables_plus_one(7) ➞ \"8,15,22,29,36,43,50,57,64,71\"\n",
    "\n",
    "n_tables_plus_one(1) ➞ \"2,3,4,5,6,7,8,9,10,11\"\n",
    "\n",
    "n_tables_plus_one(3) ➞ \"4,7,10,13,16,19,22,25,28,31\""
   ]
  },
  {
   "cell_type": "code",
   "execution_count": 7,
   "id": "50d07695",
   "metadata": {},
   "outputs": [
    {
     "name": "stdout",
     "output_type": "stream",
     "text": [
      "Enter a number: 7\n",
      "8,15,22,29,36,43,50,57,64,71\n"
     ]
    }
   ],
   "source": [
    "num = int(input(\"Enter a number: \"))\n",
    "result = []\n",
    "multiple = 1\n",
    "\n",
    "while len(result) < 10:\n",
    "    result.append(str(num * multiple + 1))\n",
    "    multiple += 1\n",
    "\n",
    "result_str = \",\".join(result)\n",
    "print(result_str)"
   ]
  },
  {
   "cell_type": "markdown",
   "id": "1f48d956",
   "metadata": {},
   "source": [
    "34)Reverse Coding Challenge #3\n",
    "This is a reverse coding challenge. Normally you're given explicit directions with how to create a function. Here, you must generate your own function to satisfy the relationship between the inputs and outputs.\n",
    "\n",
    "Your task is to create a function that, when fed the inputs below, produces the sample outputs shown.\n",
    "\n",
    "Examples\n",
    "[5, 7, 8, 2, 1], 2 ➞ [1, 1, 0, 0, 1]\n",
    "\n",
    "[9, 8, 16, 47], 4 ➞ [1, 0, 0, 3]\n",
    "\n",
    "[17, 11, 99, 55, 23, 1], 5 ➞ [2, 1, 4, 0, 3, 1]\n",
    "\n",
    "[6, 1], 7 ➞ [6, 1]\n",
    "\n",
    "[3, 2, 9], 3 ➞ [0, 2, 0]\n",
    "\n",
    "[48, 22, 0, 19, 33, 100], 10 ➞ [8, 2, 0, 9, 3, 0]"
   ]
  },
  {
   "cell_type": "code",
   "execution_count": 8,
   "id": "66bbf4e9",
   "metadata": {},
   "outputs": [
    {
     "name": "stdout",
     "output_type": "stream",
     "text": [
      "[2, 3, 4, 1, 0]\n"
     ]
    }
   ],
   "source": []
  },
  {
   "cell_type": "markdown",
   "id": "a8ed7d70",
   "metadata": {},
   "source": [
    "35)Burglary Series (11): Say What\n",
    "The insurance guy calls again. Apparently, they were informed by your spouse that some items were not stolen at all and you failed to mention this detail to them. This is a fraud attempt! You freeze and mumble something unintelligible. Find out what you said.\n",
    "\n",
    "Given a dictionary, return a string that concatenates all the values and adds the 2nd key at the end. Make sure you keep an empty space between them but not at the beginning or end of the string. Look at the examples for a clearer picture.\n",
    "\n",
    "Examples\n",
    "{ 1: \"Mommy\", 2: \"please\", 3: \"help\" } ➞ \"Mommy please help please\"\n",
    "\n",
    "{ 1: \"Me\", 2: \"innocent\", 3: \"is\" } ➞ \"Me innocent is innocent\"\n",
    "\n",
    "{ 1: \"Must\", 2: \"lawyer\", 3: \"call\" } ➞ \"Must lawyer call lawyer\""
   ]
  },
  {
   "cell_type": "code",
   "execution_count": 9,
   "id": "03d4e03a",
   "metadata": {},
   "outputs": [
    {
     "name": "stdout",
     "output_type": "stream",
     "text": [
      "Mommy please help please\n"
     ]
    }
   ],
   "source": [
    "data = {1: \"Mommy\", 2: \"please\", 3: \"help\"}\n",
    "keys = list(data.keys())\n",
    "\n",
    "index = 0\n",
    "result = \"\"\n",
    "\n",
    "while index < len(keys):\n",
    "    result += data[keys[index]] + \" \"\n",
    "    index += 1\n",
    "\n",
    "result += data[keys[1]]\n",
    "\n",
    "print(result)"
   ]
  },
  {
   "cell_type": "markdown",
   "id": "40c2ccc9",
   "metadata": {},
   "source": [
    "36)Word Endings\n",
    "Create a function that adds a string ending to each member in a list.\n",
    "\n",
    "Examples\n",
    "add_ending([\"clever\", \"meek\", \"hurried\", \"nice\"], \"ly\")\n",
    "➞ [\"cleverly\", \"meekly\", \"hurriedly\", \"nicely\"]\n",
    "\n",
    "add_ending([\"new\", \"pander\", \"scoop\"], \"er\")\n",
    "➞ [\"newer\", \"panderer\", \"scooper\"]\n",
    "\n",
    "add_ending([\"bend\", \"sharpen\", \"mean\"], \"ing\")\n",
    "➞ [\"bending\", \"sharpening\", \"meaning\"]"
   ]
  },
  {
   "cell_type": "code",
   "execution_count": 10,
   "id": "06c759b9",
   "metadata": {},
   "outputs": [
    {
     "name": "stdout",
     "output_type": "stream",
     "text": [
      "['cleverly', 'meekly', 'hurriedly', 'nicely']\n"
     ]
    }
   ],
   "source": [
    "words = [\"clever\", \"meek\", \"hurried\", \"nice\"]\n",
    "ending = \"ly\"\n",
    "\n",
    "index = 0\n",
    "\n",
    "while index < len(words):\n",
    "    words[index] += ending\n",
    "    index += 1\n",
    "\n",
    "print(words)"
   ]
  },
  {
   "cell_type": "markdown",
   "id": "d5cbe9d6",
   "metadata": {},
   "source": [
    "37)Sum of Cubes\n",
    "Create a function that takes a list of numbers and returns the sum of its cubes.\n",
    "\n",
    "Examples\n",
    "sum_of_cubes([1, 5, 9]) ➞ 855\n",
    "# Since 1^3 + 5^3 + 9^3 = 1 + 125 + 729 = 855\n",
    "\n",
    "sum_of_cubes([3, 4, 5]) ➞ 216\n",
    "\n",
    "sum_of_cubes([2]) ➞ 8\n",
    "\n",
    "sum_of_cubes([]) ➞ 0"
   ]
  },
  {
   "cell_type": "code",
   "execution_count": 12,
   "id": "74ed693d",
   "metadata": {},
   "outputs": [
    {
     "name": "stdout",
     "output_type": "stream",
     "text": [
      "855\n"
     ]
    }
   ],
   "source": [
    "x = [1,5,9]\n",
    "i =0\n",
    "total = 0\n",
    "while i<len(x):\n",
    "    total+=x[i]*x[i]*x[i]\n",
    "    i+=1\n",
    "print(total)\n",
    "    "
   ]
  },
  {
   "cell_type": "markdown",
   "id": "66d70783",
   "metadata": {},
   "source": [
    "38)Minimum Removals to Make Sum Even\n",
    "Create a function that returns the minimum number of elements removed to make the sum of all elements in a list even.\n",
    "\n",
    "Examples\n",
    "minimum_removals([1, 2, 3, 4, 5]) ➞ 1\n",
    "\n",
    "minimum_removals([5, 7, 9, 11]) ➞ 0\n",
    "\n",
    "minimum_removals([5, 7, 9, 12]) ➞ 1"
   ]
  },
  {
   "cell_type": "code",
   "execution_count": 1,
   "id": "2fd08d7e",
   "metadata": {},
   "outputs": [
    {
     "name": "stdout",
     "output_type": "stream",
     "text": [
      "1\n"
     ]
    }
   ],
   "source": [
    "nums = [1, 2, 3, 4, 5]\n",
    "total_sum = sum(nums) #using sum fun\n",
    "r = 0\n",
    "index = 0\n",
    "\n",
    "while total_sum % 2 != 0:\n",
    "    total_sum -= nums[index]\n",
    "    r += 1\n",
    "    index += 1\n",
    "\n",
    "print(r)\n"
   ]
  },
  {
   "cell_type": "markdown",
   "id": "0d987f00",
   "metadata": {},
   "source": [
    "39)Generate a Countdown of Numbers in a List\n",
    "Create a function that takes a number as an argument and returns a list of numbers counting down from this number to zero.\n",
    "\n",
    "Examples\n",
    "countdown(5) ➞ [5, 4, 3, 2, 1, 0]\n",
    "\n",
    "countdown(1) ➞ [1, 0]\n",
    "\n",
    "countdown(0) ➞ [0]"
   ]
  },
  {
   "cell_type": "code",
   "execution_count": 15,
   "id": "7b4af825",
   "metadata": {},
   "outputs": [
    {
     "name": "stdout",
     "output_type": "stream",
     "text": [
      "Enter a number: 9\n",
      "[9, 8, 7, 6, 5, 4, 3, 2, 1, 0]\n"
     ]
    }
   ],
   "source": [
    "num = int(input(\"Enter a number: \"))\n",
    "countdown_list = []\n",
    "\n",
    "while num >= 0:\n",
    "    countdown_list.append(num)\n",
    "    num -= 1\n",
    "\n",
    "print(countdown_list)"
   ]
  },
  {
   "cell_type": "markdown",
   "id": "95dbe5c4",
   "metadata": {},
   "source": [
    "40)Who's in First Place?\n",
    "Create a function that takes a string road and returns the car that's in first place. The road will be made of \"=\", and cars will be represented by letters in the alphabet.\n",
    "\n",
    "Examples\n",
    "first_place(\"====b===O===e===U=A==\") ➞ \"A\"\n",
    "\n",
    "first_place(\"e==B=Fe\") ➞ \"e\"\n",
    "\n",
    "first_place(\"proeNeoOJGnfl\") ➞ \"l\""
   ]
  },
  {
   "cell_type": "code",
   "execution_count": 19,
   "id": "b4bbed6a",
   "metadata": {},
   "outputs": [
    {
     "name": "stdout",
     "output_type": "stream",
     "text": [
      "A\n"
     ]
    }
   ],
   "source": [
    "road = \"====b===O===e===U=A==\"\n",
    "index = 0\n",
    "first_car = None\n",
    "\n",
    "while index < len(road):\n",
    "    if road[-index].isalpha():\n",
    "        first_car = road[-index]\n",
    "        break\n",
    "    index += 1\n",
    "\n",
    "print(first_car)"
   ]
  },
  {
   "cell_type": "markdown",
   "id": "7f04ff6f",
   "metadata": {},
   "source": [
    "41)Sum of Resistance in Series Circuits\n",
    "When resistors are connected together in series, the same current passes through each resistor in the chain and the total resistance, RT, of the circuit must be equal to the sum of all the individual resistors added together. That is:\n",
    "\n",
    "RT = R1 + R2 + R3 ...\n",
    "Create a function that takes an array of values resistance that are connected in series, and calculates the total resistance of the circuit in ohms. The ohm is the standard unit of electrical resistance in the International System of Units ( SI ).\n",
    "\n",
    "Examples\n",
    "series_resistance([1, 5, 6, 3]) ➞ \"15 ohms\"\n",
    "\n",
    "series_resistance([16, 3.5, 6]) ➞ \"25.5 ohms\"\n",
    "\n",
    "series_resistance([0.5, 0.5]) ➞ \"1.0 ohm\""
   ]
  },
  {
   "cell_type": "code",
   "execution_count": 28,
   "id": "487c00ca",
   "metadata": {},
   "outputs": [
    {
     "name": "stdout",
     "output_type": "stream",
     "text": [
      "15ohms\n"
     ]
    }
   ],
   "source": [
    "resistance = [1, 5, 6, 3]\n",
    "total_resistance = 0\n",
    "index = 0\n",
    "\n",
    "while index < len(resistance):\n",
    "    total_resistance += resistance[index]\n",
    "    index += 1\n",
    "print(f\"{total_resistance}ohms\")"
   ]
  },
  {
   "cell_type": "markdown",
   "id": "37e8a633",
   "metadata": {},
   "source": [
    "42)Instant JAZZ\n",
    "Create a function which concatenates the number 7 to the end of every chord in a list. Ignore all chords which already end with 7.\n",
    "\n",
    "Examples\n",
    "jazzify([\"G\", \"F\", \"C\"]) ➞ [\"G7\", \"F7\", \"C7\"]\n",
    "\n",
    "jazzify([\"Dm\", \"G\", \"E\", \"A\"]) ➞ [\"Dm7\", \"G7\", \"E7\", \"A7\"]\n",
    "\n",
    "jazzify([\"F7\", \"E7\", \"A7\", \"Ab7\", \"Gm7\", \"C7\"]) ➞ [\"F7\", \"E7\", \"A7\", \"Ab7\", \"Gm7\", \"C7\"]\n",
    "\n",
    "jazzify([]) ➞ []"
   ]
  },
  {
   "cell_type": "code",
   "execution_count": 29,
   "id": "bd45bd0d",
   "metadata": {},
   "outputs": [
    {
     "name": "stdout",
     "output_type": "stream",
     "text": [
      "['G7', 'F7', 'C7']\n"
     ]
    }
   ],
   "source": [
    "words = [\"G\", \"F\", \"C\"]\n",
    "ending = \"7\"\n",
    "\n",
    "index = 0\n",
    "\n",
    "while index < len(words):\n",
    "    words[index] += ending\n",
    "    index += 1\n",
    "\n",
    "print(words)"
   ]
  },
  {
   "cell_type": "markdown",
   "id": "a1d9c7ff",
   "metadata": {},
   "source": [
    "43)Convert a Number to Base-2\n",
    "Create a function that returns a base-2 (binary) representation of a base-10 (decimal) string number. To convert is simple: ((2) means base-2 and (10) means base-10) 010101001(2) = 1 + 8 + 32 + 128.\n",
    "\n",
    "Going from right to left, the value of the most right bit is 1, now from that every bit to the left will be x2 the value, value of an 8 bit binary numbers are (256, 128, 64, 32, 16, 8, 4, 2, 1).\n",
    "\n",
    "Examples\n",
    "binary(1) ➞ \"1\"\n",
    "# 1*1 = 1\n",
    "\n",
    "binary(5) ➞ \"101\"\n",
    "# 1*1 + 1*4 = 5\n",
    "\n",
    "binary(10) ➞ \"1010\"\n",
    "# 1*2 + 1*8 = 10"
   ]
  },
  {
   "cell_type": "code",
   "execution_count": 31,
   "id": "15ee0b0b",
   "metadata": {},
   "outputs": [
    {
     "name": "stdout",
     "output_type": "stream",
     "text": [
      "Enter a decimal number: 1\n",
      "1\n"
     ]
    }
   ],
   "source": [
    "decimal_num = int(input(\"Enter a decimal number: \"))\n",
    "binary_str = \"\"\n",
    "\n",
    "if decimal_num == 0:\n",
    "    binary_str = \"0\"\n",
    "else:\n",
    "    while decimal_num > 0:\n",
    "        remainder = decimal_num % 2\n",
    "        binary_str = str(remainder) + binary_str\n",
    "        decimal_num //= 2\n",
    "\n",
    "print(binary_str)"
   ]
  },
  {
   "cell_type": "markdown",
   "id": "f4424ee3",
   "metadata": {},
   "source": [
    "44)How Many Vowels?\n",
    "Create a function that takes a string and returns the number (count) of vowels contained within it.\n",
    "\n",
    "Examples\n",
    "count_vowels(\"Celebration\") ➞ 5\n",
    "\n",
    "count_vowels(\"Palm\") ➞ 1\n",
    "\n",
    "count_vowels(\"Prediction\") ➞ 4"
   ]
  },
  {
   "cell_type": "code",
   "execution_count": 32,
   "id": "e95bdce3",
   "metadata": {},
   "outputs": [
    {
     "name": "stdout",
     "output_type": "stream",
     "text": [
      "5\n"
     ]
    }
   ],
   "source": [
    "s = \"Celebration\"\n",
    "vowels = \"aeiouAEIOU\"  # List of vowels\n",
    "count = 0\n",
    "index = 0\n",
    "\n",
    "while index < len(s):\n",
    "    if s[index] in vowels:\n",
    "        count += 1\n",
    "    index += 1\n",
    "\n",
    "print(count)"
   ]
  },
  {
   "cell_type": "markdown",
   "id": "437e452b",
   "metadata": {},
   "source": [
    "45)Find the Odd Integer\n",
    "Create a function that takes a list and finds the integer which appears an odd number of times.\n",
    "\n",
    "Examples\n",
    "find_odd([1, 1, 2, -2, 5, 2, 4, 4, -1, -2, 5]) ➞ -1\n",
    "\n",
    "find_odd([20, 1, 1, 2, 2, 3, 3, 5, 5, 4, 20, 4, 5]) ➞ 5\n",
    "\n",
    "find_odd([10]) ➞ 10"
   ]
  },
  {
   "cell_type": "code",
   "execution_count": 3,
   "id": "55968cb1",
   "metadata": {},
   "outputs": [
    {
     "name": "stdout",
     "output_type": "stream",
     "text": [
      "7\n"
     ]
    }
   ],
   "source": [
    "x = [20, 1, 1, 2, 2, 3, 3, 5, 5, 4, 20, 4, 5]\n",
    "count = 0\n",
    "i = 0\n",
    "while i<len(x):\n",
    "    if x[i]%2!=0:\n",
    "        count+=1\n",
    "    i+=1\n",
    "print(count)\n"
   ]
  },
  {
   "cell_type": "markdown",
   "id": "937189a9",
   "metadata": {},
   "source": [
    "46)Hamming Distance\n",
    "Hamming distance is the number of characters that differ between two strings.\n",
    "\n",
    "To illustrate:\n",
    "\n",
    "String1: \"abcbba\"\n",
    "String2: \"abcbda\"\n",
    "\n",
    "Hamming Distance: 1 - \"b\" vs. \"d\" is the only difference.\n",
    "Create a function that computes the hamming distance between two strings.\n",
    "\n",
    "Examples\n",
    "hamming_distance(\"abcde\", \"bcdef\") ➞ 5\n",
    "\n",
    "hamming_distance(\"abcde\", \"abcde\") ➞ 0\n",
    "\n",
    "hamming_distance(\"strong\", \"strung\") ➞ 1"
   ]
  },
  {
   "cell_type": "code",
   "execution_count": 35,
   "id": "319b1783",
   "metadata": {},
   "outputs": [
    {
     "name": "stdout",
     "output_type": "stream",
     "text": [
      "abcde\n",
      "bcdef\n",
      "5\n"
     ]
    }
   ],
   "source": [
    "str1,str2 = input(),input()\n",
    "distance = 0\n",
    "while str1 and str2:\n",
    "    if str1[0] != str2[0]:\n",
    "        distance += 1\n",
    "        str1 = str1[1:]\n",
    "        str2 = str2[1:]\n",
    "print(distance)\n"
   ]
  },
  {
   "cell_type": "markdown",
   "id": "9da3efd1",
   "metadata": {},
   "source": [
    "47)Filter out Strings from an Array\n",
    "Create a function that takes a list of non-negative integers and strings and return a new list without the strings.\n",
    "\n",
    "Examples\n",
    "filter_list([1, 2, \"a\", \"b\"]) ➞ [1, 2]\n",
    "\n",
    "filter_list([1, \"a\", \"b\", 0, 15]) ➞ [1, 0, 15]\n",
    "\n",
    "filter_list([1, 2, \"aasf\", \"1\", \"123\", 123]) ➞ [1, 2, 123]"
   ]
  },
  {
   "cell_type": "code",
   "execution_count": 2,
   "id": "85641a7e",
   "metadata": {},
   "outputs": [
    {
     "name": "stdout",
     "output_type": "stream",
     "text": [
      "[1, 2]\n"
     ]
    }
   ],
   "source": [
    "x = [1, 2, \"a\", \"b\"]\n",
    "i = 0\n",
    "while i<len(x):\n",
    "    if type(x[i]) == str:\n",
    "        x.pop(i)\n",
    "    else:\n",
    "        i += 1\n",
    "print(x)\n",
    "    "
   ]
  },
  {
   "cell_type": "markdown",
   "id": "cd346ebb",
   "metadata": {},
   "source": [
    "48)Filter Strings from Array\n",
    "Create a function that takes a list of strings and integers, and filters out the list so that it returns a list of integers only.\n",
    "\n",
    "Examples\n",
    "filter_list([1, 2, 3, \"a\", \"b\", 4]) ➞ [1, 2, 3, 4]\n",
    "\n",
    "filter_list([\"A\", 0, \"Edabit\", 1729, \"Python\", \"1729\"]) ➞ [0, 1729]\n",
    "\n",
    "filter_list([\"Nothing\", \"here\"]) ➞ []"
   ]
  },
  {
   "cell_type": "code",
   "execution_count": 3,
   "id": "69fe4e6f",
   "metadata": {},
   "outputs": [
    {
     "name": "stdout",
     "output_type": "stream",
     "text": [
      "[0, 1729]\n"
     ]
    }
   ],
   "source": [
    "x =[\"A\", 0, \"Edabit\", 1729, \"Python\", \"1729\"]\n",
    "i = 0\n",
    "while i<len(x):\n",
    "    if type(x[i]) == str:\n",
    "        x.pop(i)\n",
    "    else:\n",
    "        i += 1\n",
    "print(x)\n",
    "    "
   ]
  },
  {
   "cell_type": "markdown",
   "id": "1373a840",
   "metadata": {},
   "source": [
    "49)Add the Index\n",
    "Given a list of numbers, create a function which returns the list but with each element's index in the list added to itself. This means you add 0 to the number at index 0, add 1 to the number at index 1, etc...\n",
    "\n",
    "Examples\n",
    "add_indexes([0, 0, 0, 0, 0]) ➞ [0, 1, 2, 3, 4]\n",
    "\n",
    "add_indexes([1, 2, 3, 4, 5]) ➞ [1, 3, 5, 7, 9]\n",
    "\n",
    "add_indexes([5, 4, 3, 2, 1]) ➞ [5, 5, 5, 5, 5]"
   ]
  },
  {
   "cell_type": "code",
   "execution_count": 5,
   "id": "0bc346a6",
   "metadata": {},
   "outputs": [
    {
     "name": "stdout",
     "output_type": "stream",
     "text": [
      "[1, 3, 5, 7, 9]\n"
     ]
    }
   ],
   "source": [
    "x = [1,2,3,4,5]\n",
    "i = 0\n",
    "while i<len(x):\n",
    "    x[i]+=i\n",
    "    i+=1\n",
    "print(x)"
   ]
  },
  {
   "cell_type": "markdown",
   "id": "d1fbab7b",
   "metadata": {},
   "source": [
    "50)Triangular Number Sequence\n",
    "This Triangular Number Sequence is generated from a pattern of dots that form a triangle. The first 5 numbers of the sequence, or dots, are:\n",
    "\n",
    "1, 3, 6, 10, 15\n",
    "This means that the first triangle has just one dot, the second one has three dots, the third one has 6 dots and so on.\n",
    "\n",
    "Write a function that returns the number of dots when given its corresponding triangle number of the sequence.\n",
    "Examples\n",
    "triangle(1) ➞ 1\n",
    "\n",
    "triangle(6) ➞ 21\n",
    "\n",
    "triangle(215) ➞ 23220"
   ]
  },
  {
   "cell_type": "code",
   "execution_count": 6,
   "id": "c42ceaaf",
   "metadata": {},
   "outputs": [
    {
     "name": "stdout",
     "output_type": "stream",
     "text": [
      "Enter a triangle number: 6\n",
      "21\n"
     ]
    }
   ],
   "source": [
    "n = int(input(\"Enter a triangle number: \"))  \n",
    "\n",
    "dots = 0\n",
    "counter = 1\n",
    "\n",
    "while counter <= n:\n",
    "    dots += counter\n",
    "    counter += 1\n",
    "\n",
    "print(dots)"
   ]
  },
  {
   "cell_type": "code",
   "execution_count": null,
   "id": "b6efe3ff",
   "metadata": {},
   "outputs": [],
   "source": []
  },
  {
   "cell_type": "code",
   "execution_count": null,
   "id": "cd122153",
   "metadata": {},
   "outputs": [],
   "source": []
  },
  {
   "cell_type": "code",
   "execution_count": null,
   "id": "85ce2670",
   "metadata": {},
   "outputs": [],
   "source": []
  }
 ],
 "metadata": {
  "kernelspec": {
   "display_name": "Python 3 (ipykernel)",
   "language": "python",
   "name": "python3"
  },
  "language_info": {
   "codemirror_mode": {
    "name": "ipython",
    "version": 3
   },
   "file_extension": ".py",
   "mimetype": "text/x-python",
   "name": "python",
   "nbconvert_exporter": "python",
   "pygments_lexer": "ipython3",
   "version": "3.11.3"
  }
 },
 "nbformat": 4,
 "nbformat_minor": 5
}
