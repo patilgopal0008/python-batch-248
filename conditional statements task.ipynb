{
 "cells": [
  {
   "cell_type": "markdown",
   "id": "0b592f25",
   "metadata": {},
   "source": [
    "# education loan eligibility"
   ]
  },
  {
   "cell_type": "code",
   "execution_count": 12,
   "id": "adaa426a",
   "metadata": {},
   "outputs": [],
   "source": [
    "import time\n",
    "from time import time"
   ]
  },
  {
   "cell_type": "code",
   "execution_count": 14,
   "id": "7e28f8f8",
   "metadata": {},
   "outputs": [
    {
     "name": "stdout",
     "output_type": "stream",
     "text": [
      "enter the name of the candidate: gopal\n",
      "enter the age of the candidate: 21\n",
      "enter the marks scored by the student in graduation: 87.5\n",
      "gopal is eligible for the loan\n",
      "0.0007581710815429688\n"
     ]
    }
   ],
   "source": [
    "#approach 1\n",
    "name = input('enter the name of the candidate: ')\n",
    "age = int(input('enter the age of the candidate: '))\n",
    "marks = float(input('enter the marks scored by the student in graduation: '))\n",
    "start = time()\n",
    "if name.isalpha():\n",
    "    if (age >= 18) and (age <= 30) and (marks >= 80):\n",
    "              print(f'{name} is eligible for the loan')\n",
    "    else:\n",
    "              print(f'{name} is not eligible for the loan')\n",
    "else:\n",
    "    print(f'{name}s age is not eligible for the loan')\n",
    "end = time()\n",
    "print(end - start)\n",
    "              "
   ]
  },
  {
   "cell_type": "code",
   "execution_count": 17,
   "id": "a9ae889d",
   "metadata": {},
   "outputs": [
    {
     "name": "stdout",
     "output_type": "stream",
     "text": [
      "enter the name of the candidate: gopal\n",
      "enter the age of the candidate: 17\n",
      "enter the marks scored by the student in graduation: 89.5\n",
      "gopal is not eligible for the loan\n",
      "0.0\n"
     ]
    }
   ],
   "source": [
    "#approach 2\n",
    "name = input('enter the name of the candidate: ')\n",
    "age = int(input('enter the age of the candidate: '))\n",
    "marks = float(input('enter the marks scored by the student in graduation: '))\n",
    "start = time()\n",
    "if name.isalpha() and (age >= 18) and (age <= 30) and (marks >= 80):\n",
    "    print(f'{name} is eligible for the loan')\n",
    "else:\n",
    "    print(f'{name} is not eligible for the loan')\n",
    "end = time()\n",
    "print(end - start)\n",
    "\n"
   ]
  },
  {
   "cell_type": "code",
   "execution_count": 19,
   "id": "027e7ff8",
   "metadata": {},
   "outputs": [
    {
     "name": "stdout",
     "output_type": "stream",
     "text": [
      "enter the name of the candidate: gopal\n",
      "enter the age of the candidate: 18\n",
      "enter the marks scored by the student in graduation: 86\n",
      "gopal is eligible for loan\n",
      "0.0008127689361572266\n"
     ]
    }
   ],
   "source": [
    "#approach 3\n",
    "name = input('enter the name of the candidate: ')\n",
    "age = int(input('enter the age of the candidate: '))\n",
    "marks = float(input('enter the marks scored by the student in graduation: '))\n",
    "start = time()\n",
    "if name.isalpha():\n",
    "    if  (age >= 18) and (age <= 30) and (marks >= 80):\n",
    "        print(f'{name} is eligible for loan')\n",
    "    elif (age<18) or (marks>=80):\n",
    "        print(f'{name}s age is not eligible for the loan')\n",
    "    elif (age >= 18) or (marks < 80):\n",
    "        print(f'{name}s marks are not eligible for the loan')\n",
    "    elif (age<18) and (marks<80):\n",
    "        print(f'{name} age and marks are not eligible for the loan')\n",
    "end = time()\n",
    "print(end - start)\n"
   ]
  },
  {
   "cell_type": "code",
   "execution_count": null,
   "id": "84920332",
   "metadata": {},
   "outputs": [],
   "source": []
  },
  {
   "cell_type": "code",
   "execution_count": null,
   "id": "457f52f2",
   "metadata": {},
   "outputs": [],
   "source": []
  },
  {
   "cell_type": "code",
   "execution_count": null,
   "id": "4558ac86",
   "metadata": {},
   "outputs": [],
   "source": []
  },
  {
   "cell_type": "code",
   "execution_count": null,
   "id": "a72de2fe",
   "metadata": {},
   "outputs": [],
   "source": []
  },
  {
   "cell_type": "code",
   "execution_count": null,
   "id": "312faf39",
   "metadata": {},
   "outputs": [],
   "source": []
  },
  {
   "cell_type": "code",
   "execution_count": null,
   "id": "5e17c4f0",
   "metadata": {},
   "outputs": [],
   "source": []
  },
  {
   "cell_type": "code",
   "execution_count": null,
   "id": "89949e12",
   "metadata": {},
   "outputs": [],
   "source": []
  },
  {
   "cell_type": "code",
   "execution_count": null,
   "id": "f65a9ad3",
   "metadata": {},
   "outputs": [],
   "source": []
  },
  {
   "cell_type": "code",
   "execution_count": null,
   "id": "b586406e",
   "metadata": {},
   "outputs": [],
   "source": []
  },
  {
   "cell_type": "code",
   "execution_count": null,
   "id": "86ccbe04",
   "metadata": {},
   "outputs": [],
   "source": []
  },
  {
   "cell_type": "code",
   "execution_count": null,
   "id": "31e4c51b",
   "metadata": {},
   "outputs": [],
   "source": []
  },
  {
   "cell_type": "code",
   "execution_count": null,
   "id": "01c84bb4",
   "metadata": {},
   "outputs": [],
   "source": []
  },
  {
   "cell_type": "code",
   "execution_count": null,
   "id": "2119c40d",
   "metadata": {},
   "outputs": [],
   "source": []
  },
  {
   "cell_type": "code",
   "execution_count": null,
   "id": "fc2dd810",
   "metadata": {},
   "outputs": [],
   "source": []
  },
  {
   "cell_type": "code",
   "execution_count": null,
   "id": "966efbe5",
   "metadata": {},
   "outputs": [],
   "source": []
  }
 ],
 "metadata": {
  "kernelspec": {
   "display_name": "Python 3 (ipykernel)",
   "language": "python",
   "name": "python3"
  },
  "language_info": {
   "codemirror_mode": {
    "name": "ipython",
    "version": 3
   },
   "file_extension": ".py",
   "mimetype": "text/x-python",
   "name": "python",
   "nbconvert_exporter": "python",
   "pygments_lexer": "ipython3",
   "version": "3.11.3"
  }
 },
 "nbformat": 4,
 "nbformat_minor": 5
}
