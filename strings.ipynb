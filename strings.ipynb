{
 "cells": [
  {
   "cell_type": "markdown",
   "id": "641af684",
   "metadata": {},
   "source": [
    "# mutable"
   ]
  },
  {
   "cell_type": "code",
   "execution_count": 5,
   "id": "d5323b29",
   "metadata": {
    "scrolled": true
   },
   "outputs": [
    {
     "name": "stdout",
     "output_type": "stream",
     "text": [
      "2865453954048\n",
      "2865453954048\n"
     ]
    }
   ],
   "source": [
    "#mutable = altering the value & the new updation reflects in same memory location is called mutable\n",
    "x=[1,2,3,4]\n",
    "print(id(x))\n",
    "x.append('hello') #append is used for adding elements in list\n",
    "print(id(x))"
   ]
  },
  {
   "cell_type": "code",
   "execution_count": 7,
   "id": "4bd945cb",
   "metadata": {},
   "outputs": [
    {
     "name": "stdout",
     "output_type": "stream",
     "text": [
      "[1, 2, 3, 4, 'hello']\n"
     ]
    }
   ],
   "source": [
    "print(x)"
   ]
  },
  {
   "cell_type": "markdown",
   "id": "6449f15c",
   "metadata": {},
   "source": [
    "# immutable"
   ]
  },
  {
   "cell_type": "markdown",
   "id": "2af073aa",
   "metadata": {},
   "source": [
    "Immutable data types are those, whose values cannot be modified once they are created."
   ]
  },
  {
   "cell_type": "code",
   "execution_count": 17,
   "id": "61027d45",
   "metadata": {},
   "outputs": [
    {
     "name": "stdout",
     "output_type": "stream",
     "text": [
      "2865352735088\n",
      "140716201644472\n"
     ]
    }
   ],
   "source": [
    "x='strings'\n",
    "print(id(x))\n",
    "x='string'\n",
    "print(id(x))"
   ]
  },
  {
   "cell_type": "code",
   "execution_count": 18,
   "id": "a59cc2d9",
   "metadata": {},
   "outputs": [
    {
     "name": "stdout",
     "output_type": "stream",
     "text": [
      "this is the string enclosed in a single quote\n",
      "this is the string enclosed in a double quote\n",
      "this is multi-line string,\n",
      "enclosed in triple single quote\n"
     ]
    }
   ],
   "source": [
    "s1 = 'this is the string enclosed in a single quote'  \n",
    "s2 = \"this is the string enclosed in a double quote\"  \n",
    "s3 = '''this is multi-line string,\n",
    "enclosed in triple single quote'''\n",
    "print(s1,s2,s3, sep=\"\\n\")"
   ]
  },
  {
   "cell_type": "markdown",
   "id": "715e27ef",
   "metadata": {},
   "source": [
    "# indexing"
   ]
  },
  {
   "cell_type": "markdown",
   "id": "b8599c6d",
   "metadata": {},
   "source": [
    "![](https://scaler.com/topics/images/Python-list-index-1-1024x498.jpeg)"
   ]
  },
  {
   "cell_type": "code",
   "execution_count": 21,
   "id": "31914d7d",
   "metadata": {},
   "outputs": [
    {
     "data": {
      "text/plain": [
       "'od eve'"
      ]
     },
     "execution_count": 21,
     "metadata": {},
     "output_type": "execute_result"
    }
   ],
   "source": [
    "#positive indexing\n",
    "x=\"good evening\"\n",
    "x[2:8]"
   ]
  },
  {
   "cell_type": "code",
   "execution_count": 25,
   "id": "d587790a",
   "metadata": {},
   "outputs": [
    {
     "data": {
      "text/plain": [
       "'giee'"
      ]
     },
     "execution_count": 25,
     "metadata": {},
     "output_type": "execute_result"
    }
   ],
   "source": [
    "#negative indexing\n",
    "x[:-9:-2]"
   ]
  },
  {
   "cell_type": "markdown",
   "id": "1a28fc9f",
   "metadata": {},
   "source": [
    "# string concatenation"
   ]
  },
  {
   "cell_type": "code",
   "execution_count": 27,
   "id": "4c0d24e7",
   "metadata": {},
   "outputs": [
    {
     "data": {
      "text/plain": [
       "'hlohlo'"
      ]
     },
     "execution_count": 27,
     "metadata": {},
     "output_type": "execute_result"
    }
   ],
   "source": [
    "x=\"hlo\"\n",
    "x+x"
   ]
  },
  {
   "cell_type": "code",
   "execution_count": 29,
   "id": "7ddfab02",
   "metadata": {},
   "outputs": [
    {
     "data": {
      "text/plain": [
       "'laptoplaptoplaptoplaptoplaptoplaptoplaptoplaptoplaptoplaptoplaptoplaptoplaptoplaptoplaptop'"
      ]
     },
     "execution_count": 29,
     "metadata": {},
     "output_type": "execute_result"
    }
   ],
   "source": [
    "y=\"laptop\"\n",
    "y*15"
   ]
  },
  {
   "cell_type": "code",
   "execution_count": 40,
   "id": "ef185071",
   "metadata": {},
   "outputs": [
    {
     "data": {
      "text/plain": [
       "'agpython'"
      ]
     },
     "execution_count": 40,
     "metadata": {},
     "output_type": "execute_result"
    }
   ],
   "source": [
    "z=\"python is programming language\"\n",
    "z[-3:-1]+z[:6:1]"
   ]
  },
  {
   "cell_type": "markdown",
   "id": "94e76b34",
   "metadata": {},
   "source": [
    "# methods in string"
   ]
  },
  {
   "cell_type": "code",
   "execution_count": 43,
   "id": "d59b351b",
   "metadata": {},
   "outputs": [
    {
     "data": {
      "text/plain": [
       "'hello hello'"
      ]
     },
     "execution_count": 43,
     "metadata": {},
     "output_type": "execute_result"
    }
   ],
   "source": [
    "#replace\n",
    "x='hello world'\n",
    "x.replace('world','hello')  #syntax  replace(old, new, count=-1, /)"
   ]
  },
  {
   "cell_type": "code",
   "execution_count": 52,
   "id": "d695a0d0",
   "metadata": {},
   "outputs": [
    {
     "name": "stdout",
     "output_type": "stream",
     "text": [
      "hello\n",
      "HELLO\n"
     ]
    }
   ],
   "source": [
    "# UPPERCASE\n",
    "x='hello'\n",
    "y=x.upper()\n",
    "print(x,y,sep='\\n')"
   ]
  },
  {
   "cell_type": "code",
   "execution_count": 54,
   "id": "247f93da",
   "metadata": {},
   "outputs": [
    {
     "name": "stdout",
     "output_type": "stream",
     "text": [
      "LOWER CASE\n",
      "lower case\n"
     ]
    }
   ],
   "source": [
    "#lowercase\n",
    "x='LOWER CASE'\n",
    "y=x.lower()\n",
    "print(x,y,sep='\\n')"
   ]
  },
  {
   "cell_type": "code",
   "execution_count": 55,
   "id": "a6a2c6e1",
   "metadata": {},
   "outputs": [
    {
     "name": "stdout",
     "output_type": "stream",
     "text": [
      "Bahubali\n"
     ]
    }
   ],
   "source": [
    "#TITLE\n",
    "x='bAHUBALI'\n",
    "y=x.title()\n",
    "print(y)"
   ]
  },
  {
   "cell_type": "code",
   "execution_count": 60,
   "id": "1d451590",
   "metadata": {},
   "outputs": [
    {
     "data": {
      "text/plain": [
       "'HeLlO wOrLd'"
      ]
     },
     "execution_count": 60,
     "metadata": {},
     "output_type": "execute_result"
    }
   ],
   "source": [
    "#swap case\n",
    "x=\"hElLo WoRlD\"\n",
    "x.swapcase()"
   ]
  },
  {
   "cell_type": "code",
   "execution_count": 61,
   "id": "c34173ae",
   "metadata": {},
   "outputs": [
    {
     "data": {
      "text/plain": [
       "'additional in german are ä,ö,ü,ss'"
      ]
     },
     "execution_count": 61,
     "metadata": {},
     "output_type": "execute_result"
    }
   ],
   "source": [
    "#casefold\n",
    "x=\"ADDITIONAL IN GERMAN are ä,ö,ü,ß\"\n",
    "x.casefold()"
   ]
  },
  {
   "cell_type": "code",
   "execution_count": 63,
   "id": "edb57578",
   "metadata": {},
   "outputs": [
    {
     "name": "stdout",
     "output_type": "stream",
     "text": [
      "Heeloo\n"
     ]
    }
   ],
   "source": [
    "#capitalize\n",
    "x=\"heeloo\"\n",
    "y=x.capitalize()\n",
    "print(y)"
   ]
  },
  {
   "cell_type": "code",
   "execution_count": null,
   "id": "cec63516",
   "metadata": {},
   "outputs": [],
   "source": [
    "#help(.method)function is used for the documentation of the methods"
   ]
  }
 ],
 "metadata": {
  "kernelspec": {
   "display_name": "Python 3 (ipykernel)",
   "language": "python",
   "name": "python3"
  },
  "language_info": {
   "codemirror_mode": {
    "name": "ipython",
    "version": 3
   },
   "file_extension": ".py",
   "mimetype": "text/x-python",
   "name": "python",
   "nbconvert_exporter": "python",
   "pygments_lexer": "ipython3",
   "version": "3.11.3"
  }
 },
 "nbformat": 4,
 "nbformat_minor": 5
}
