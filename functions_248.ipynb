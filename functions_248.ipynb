{
 "cells": [
  {
   "cell_type": "markdown",
   "metadata": {
    "id": "WwkHZQrA4gp2"
   },
   "source": [
    "## function\n",
    "* it is a block of code, which executes a desired task. A function can be called n-number of times instead of writing the code required to execute the task.\n",
    "* There are two steps in creating a function, `defining a function` and `calling the function`\n",
    "\n",
    "* syntax of defining a func:\n",
    "  * def func_name(parameter/s):\n",
    "    * block of code\n",
    "\n",
    "`\n",
    "  * <u>def</u> is a keyword, which tells the interpretor that we are defining a function\n",
    "  * <u>func_name</u> is name we give to the function we are defining, it acts as a variable name to the block of code we are writing\n",
    "  * <u>parameter</u> these can be considered as the variables we use to write/define our function`\n",
    "\n",
    "* sytax for calling a function:\n",
    "  * func_name(arg/s)\n",
    "* <u>arg/s</u> are actual inputs for function"
   ]
  },
  {
   "cell_type": "code",
   "execution_count": 1,
   "metadata": {
    "id": "APkoSqPy4ZRZ"
   },
   "outputs": [],
   "source": [
    "# defining a func\n",
    "\n",
    "def fullName(fname, lname):\n",
    "  print(fname+' '+lname)"
   ]
  },
  {
   "cell_type": "code",
   "execution_count": 2,
   "metadata": {
    "colab": {
     "base_uri": "https://localhost:8080/"
    },
    "id": "srwgq_Rt4ZOg",
    "outputId": "811d2964-9f2a-42f0-b702-d14cb0142729"
   },
   "outputs": [
    {
     "name": "stdout",
     "output_type": "stream",
     "text": [
      "James Bond\n"
     ]
    }
   ],
   "source": [
    "# calling the func\n",
    "fullName('James', 'Bond')"
   ]
  },
  {
   "cell_type": "code",
   "execution_count": 2,
   "metadata": {
    "id": "5OyYmGjH6WA2"
   },
   "outputs": [],
   "source": []
  },
  {
   "cell_type": "markdown",
   "metadata": {
    "id": "-Nnk7OIZ5zYJ"
   },
   "source": [
    "### Arguements"
   ]
  },
  {
   "cell_type": "markdown",
   "metadata": {
    "id": "PxAdmlUj5wYL"
   },
   "source": [
    "#### positional arguements\n",
    "* while passing the arguemnt/s, the value/s of arg/s wiil be assigned to parameters based on the order of paraeters at time of defining the func.\n",
    "* while calling `fullName` function, we interchanged the order of args passed and this resulted in a different o/p.\n",
    "* these kind of passing the arguements based on positions are called as postional arguements"
   ]
  },
  {
   "cell_type": "code",
   "execution_count": 3,
   "metadata": {
    "colab": {
     "base_uri": "https://localhost:8080/"
    },
    "id": "6C9pGqrm4ZLk",
    "outputId": "3ac19208-7a0c-4ea6-ba28-496bbddff776"
   },
   "outputs": [
    {
     "name": "stdout",
     "output_type": "stream",
     "text": [
      "Bond James\n"
     ]
    }
   ],
   "source": [
    "fullName('Bond', 'James')"
   ]
  },
  {
   "cell_type": "code",
   "execution_count": 3,
   "metadata": {
    "id": "pKcME3op4ZIq"
   },
   "outputs": [],
   "source": []
  },
  {
   "cell_type": "markdown",
   "metadata": {
    "id": "p7W-iVi66aLh"
   },
   "source": [
    "#### keyword arguements\n",
    "* at time of calling the func, if we pass the arguements by using the parameter name, these kind of arguements are called as keyword arguements\n",
    "\n",
    "* func_name(para1=arg1, para2=arg2)\n",
    "\n",
    "\n",
    "\n",
    "**NOTE:**\n",
    "\n",
    "    *  There shoild be no conflict/multiple args for same parameter\n",
    "    *  keyword args should come at end"
   ]
  },
  {
   "cell_type": "code",
   "execution_count": 4,
   "metadata": {
    "colab": {
     "base_uri": "https://localhost:8080/"
    },
    "id": "U4vN8OWU4ZFb",
    "outputId": "752d9122-cec7-4d02-8bb0-9f507442e090"
   },
   "outputs": [
    {
     "name": "stdout",
     "output_type": "stream",
     "text": [
      "James Bond\n"
     ]
    }
   ],
   "source": [
    "fullName(lname = 'Bond', fname = 'James')\n"
   ]
  },
  {
   "cell_type": "code",
   "execution_count": 5,
   "metadata": {
    "id": "uWtHtrus4X_y"
   },
   "outputs": [],
   "source": [
    "def greet(greeting, fname, lname):\n",
    "  print(greeting+', '+fname+' '+lname)"
   ]
  },
  {
   "cell_type": "code",
   "execution_count": 6,
   "metadata": {
    "colab": {
     "base_uri": "https://localhost:8080/"
    },
    "id": "_g7gGMlf4X6t",
    "outputId": "1c51991a-0e63-4c6d-db78-0995343d2286"
   },
   "outputs": [
    {
     "name": "stdout",
     "output_type": "stream",
     "text": [
      "holla, james bond\n"
     ]
    }
   ],
   "source": [
    "greet('holla', 'james', 'bond') # positional args"
   ]
  },
  {
   "cell_type": "code",
   "execution_count": 7,
   "metadata": {
    "colab": {
     "base_uri": "https://localhost:8080/"
    },
    "id": "2Mfb_lW84X3D",
    "outputId": "b456fd1e-e620-4f3b-ac91-0676135c081c"
   },
   "outputs": [
    {
     "name": "stdout",
     "output_type": "stream",
     "text": [
      "hello, james bond\n"
     ]
    }
   ],
   "source": [
    "greet(fname = 'james', lname = 'bond', greeting = 'hello') # keyword args"
   ]
  },
  {
   "cell_type": "code",
   "execution_count": 8,
   "metadata": {
    "id": "wlH-9YaL4X0G"
   },
   "outputs": [],
   "source": [
    "#greet('james', 'bond', greeting = 'hello') # uncomment to see the error ---> conflict/multiple args for same parameter"
   ]
  },
  {
   "cell_type": "code",
   "execution_count": 9,
   "metadata": {
    "id": "28v3hYyo4Xwn"
   },
   "outputs": [],
   "source": [
    "#greet('hello', fname = 'james', 'bond') # uncomment to see the error --> keyword args should come at end"
   ]
  },
  {
   "cell_type": "code",
   "execution_count": 10,
   "metadata": {
    "colab": {
     "base_uri": "https://localhost:8080/"
    },
    "id": "9M4JNBz34Xte",
    "outputId": "04038067-fb86-4348-c52a-9f5330a36549"
   },
   "outputs": [
    {
     "name": "stdout",
     "output_type": "stream",
     "text": [
      "hello, james bond\n"
     ]
    }
   ],
   "source": [
    "greet('hello', lname = 'bond', fname = 'james')"
   ]
  },
  {
   "cell_type": "code",
   "execution_count": 10,
   "metadata": {
    "id": "d1sUbVZD4XqX"
   },
   "outputs": [],
   "source": []
  },
  {
   "cell_type": "markdown",
   "metadata": {
    "id": "izZ8DamG-oQP"
   },
   "source": [
    "#### Default arguements\n",
    "\n",
    "* default arguements are those we pass at time of defining the func\n",
    "* we pass default arguements by assing a default arguement value to the parameter\n",
    "* def foo(a, b, c =10):\n",
    "  \n",
    "      block of code\n",
    "\n",
    "**NOTE:**\n",
    "\n",
    "    * Default args should come at last"
   ]
  },
  {
   "cell_type": "code",
   "execution_count": 11,
   "metadata": {
    "id": "A5GDKlpS4XhG"
   },
   "outputs": [],
   "source": [
    "def greet(fname, lname, greeting = 'Hollaaa!'):\n",
    "  print(f'{greeting}, {fname} {lname}')"
   ]
  },
  {
   "cell_type": "code",
   "execution_count": 12,
   "metadata": {
    "colab": {
     "base_uri": "https://localhost:8080/"
    },
    "id": "gpUdl8Al4XeR",
    "outputId": "12ac0b65-5c20-45e9-dea2-b49fca8c6175"
   },
   "outputs": [
    {
     "name": "stdout",
     "output_type": "stream",
     "text": [
      "Hollaaa!, James Bond\n"
     ]
    }
   ],
   "source": [
    "greet('James', 'Bond')"
   ]
  },
  {
   "cell_type": "code",
   "execution_count": 12,
   "metadata": {
    "id": "tP2mtksA4Xaz"
   },
   "outputs": [],
   "source": []
  },
  {
   "cell_type": "markdown",
   "metadata": {
    "id": "JQnk3xt38nDj"
   },
   "source": [
    "#### return\n",
    "* if our intention is to capture and reuse the value given by our user defined function, then we need to use `return` statement\n",
    "* `return` will return the value/s passed to it and comes outside the function block with the value given to it"
   ]
  },
  {
   "cell_type": "code",
   "execution_count": 16,
   "metadata": {
    "id": "02HPDsVg4XOr"
   },
   "outputs": [],
   "source": [
    "def foo(a, b):\n",
    "  x = []\n",
    "  for i in range(a,b+1):\n",
    "    if i%2==0:\n",
    "      x.append(i)\n",
    "  print(x)\n"
   ]
  },
  {
   "cell_type": "code",
   "execution_count": 17,
   "metadata": {
    "colab": {
     "base_uri": "https://localhost:8080/"
    },
    "id": "eEJdbPQD4XLh",
    "outputId": "4f2c5373-e421-49ed-9e74-f0c41ec79645"
   },
   "outputs": [
    {
     "name": "stdout",
     "output_type": "stream",
     "text": [
      "[2, 4, 6, 8, 10]\n"
     ]
    }
   ],
   "source": [
    "foo(1, 10)"
   ]
  },
  {
   "cell_type": "code",
   "execution_count": 18,
   "metadata": {
    "colab": {
     "base_uri": "https://localhost:8080/"
    },
    "id": "Tu8tBROf4XIl",
    "outputId": "c4eac4a5-213a-420c-d876-708102053ba9"
   },
   "outputs": [
    {
     "name": "stdout",
     "output_type": "stream",
     "text": [
      "[2, 4, 6, 8, 10]\n",
      "None\n"
     ]
    }
   ],
   "source": [
    "a = foo(1,11)\n",
    "print(a)"
   ]
  },
  {
   "cell_type": "markdown",
   "metadata": {
    "id": "cSK9LFxs9cGB"
   },
   "source": [
    "* in above output, `[2, 4, 6, 8, 10]` is printed by the `print` statement used within the `foo` function body.\n",
    "* when we tried to assing the value to `a`, `None` has been assigned as `foo` has no value to assign, this evident from `print(a)` output"
   ]
  },
  {
   "cell_type": "code",
   "execution_count": 12,
   "metadata": {
    "id": "Dyz-V1j-4XFP"
   },
   "outputs": [],
   "source": []
  },
  {
   "cell_type": "code",
   "execution_count": 20,
   "metadata": {
    "id": "965_mCld2lIY"
   },
   "outputs": [],
   "source": [
    "def foo(a, b):\n",
    "  x = []\n",
    "  for i in range(a,b+1):\n",
    "    if i%2==0:\n",
    "      x.append(i)\n",
    "  return x\n"
   ]
  },
  {
   "cell_type": "code",
   "execution_count": 21,
   "metadata": {
    "colab": {
     "base_uri": "https://localhost:8080/"
    },
    "id": "ub0kt-D74RzF",
    "outputId": "9250b11d-42ef-4673-f74f-0b1093f99ab1"
   },
   "outputs": [
    {
     "name": "stdout",
     "output_type": "stream",
     "text": [
      "[2, 4, 6, 8, 10]\n"
     ]
    }
   ],
   "source": [
    "a = foo(1,11)\n",
    "print(a)"
   ]
  },
  {
   "cell_type": "code",
   "execution_count": 22,
   "metadata": {
    "id": "cA3M5kmr4Rv0"
   },
   "outputs": [],
   "source": [
    "a.remove(10)"
   ]
  },
  {
   "cell_type": "code",
   "execution_count": 23,
   "metadata": {
    "colab": {
     "base_uri": "https://localhost:8080/"
    },
    "id": "cL9e7f1L4Rst",
    "outputId": "9c759c41-8fd3-47ad-9c64-78f1ace5673e"
   },
   "outputs": [
    {
     "data": {
      "text/plain": [
       "[2, 4, 6, 8]"
      ]
     },
     "execution_count": 23,
     "metadata": {},
     "output_type": "execute_result"
    }
   ],
   "source": [
    "a"
   ]
  },
  {
   "cell_type": "code",
   "execution_count": 28,
   "metadata": {
    "id": "ES1pnOAr4RpH"
   },
   "outputs": [],
   "source": [
    "# wap to return a lists of even and odd numbers\n",
    "\n",
    "def foo(a:int, b:int):\n",
    "  even, odd = [], []\n",
    "  for i in range(a, b+1):\n",
    "    if i%2==0:\n",
    "      even.append(i)\n",
    "    else:\n",
    "      odd.append(i)\n",
    "  return even, odd\n"
   ]
  },
  {
   "cell_type": "code",
   "execution_count": 32,
   "metadata": {
    "colab": {
     "base_uri": "https://localhost:8080/"
    },
    "id": "O3YvuBV54RmH",
    "outputId": "6b63ac8c-190a-47db-cf73-909a1f9c0de6"
   },
   "outputs": [
    {
     "name": "stdout",
     "output_type": "stream",
     "text": [
      "[2, 4, 6, 8, 10]\n",
      "[1, 3, 5, 7, 9, 11]\n"
     ]
    }
   ],
   "source": [
    "a = foo(1,11)\n",
    "print(a[0], a[1], sep ='\\n')"
   ]
  },
  {
   "cell_type": "code",
   "execution_count": 33,
   "metadata": {
    "colab": {
     "base_uri": "https://localhost:8080/"
    },
    "id": "VtQsUYcJ6ylZ",
    "outputId": "f724fe74-0325-411f-e8e0-0de6f580c3eb"
   },
   "outputs": [
    {
     "name": "stdout",
     "output_type": "stream",
     "text": [
      "[12, 14, 16, 18, 20]\n",
      "[11, 13, 15, 17, 19, 21]\n"
     ]
    }
   ],
   "source": [
    "a, b = foo(11,21)\n",
    "print(a, b, sep = '\\n')"
   ]
  },
  {
   "cell_type": "code",
   "execution_count": null,
   "metadata": {
    "id": "ca6Lfpre6yiC"
   },
   "outputs": [],
   "source": []
  },
  {
   "cell_type": "markdown",
   "metadata": {
    "id": "CvjlUo_-AnGM"
   },
   "source": [
    "#### arbitary arguements"
   ]
  },
  {
   "cell_type": "code",
   "execution_count": 34,
   "metadata": {
    "id": "VY9cxuOH6ye3"
   },
   "outputs": [],
   "source": [
    "def foo(*args, **kwargs):\n",
    "  for arg in args:\n",
    "    print(arg, end = ', ')\n",
    "  print()\n",
    "  for kwarg in kwargs.items():\n",
    "    print(kwarg)"
   ]
  },
  {
   "cell_type": "code",
   "execution_count": 35,
   "metadata": {
    "colab": {
     "base_uri": "https://localhost:8080/"
    },
    "id": "1HnD1J3lAHzk",
    "outputId": "a0aad45b-876d-43ee-eaad-26e276fd70bd"
   },
   "outputs": [
    {
     "name": "stdout",
     "output_type": "stream",
     "text": [
      "1, 2, 3, \n",
      "('a', 1)\n",
      "('b', 2)\n"
     ]
    }
   ],
   "source": [
    "foo(*[1,2,3], **{'a':1, 'b':2})"
   ]
  },
  {
   "cell_type": "code",
   "execution_count": 43,
   "metadata": {
    "id": "JelK94MPAHwz"
   },
   "outputs": [],
   "source": [
    "def foo(*a, **b):\n",
    "  for i in a:\n",
    "    print(i)\n",
    "  for i in b.items():\n",
    "    print(i)"
   ]
  },
  {
   "cell_type": "code",
   "execution_count": 46,
   "metadata": {
    "colab": {
     "base_uri": "https://localhost:8080/"
    },
    "id": "wlFf_8bqAHtt",
    "outputId": "6f41c09d-b896-4dde-e2e2-c3372d920e2c"
   },
   "outputs": [
    {
     "name": "stdout",
     "output_type": "stream",
     "text": [
      "1\n",
      "2\n",
      "3\n",
      "4\n",
      "5\n",
      "('a', 1)\n",
      "('b', 2)\n"
     ]
    }
   ],
   "source": [
    "foo( *[1, 2, 3, 4, 5], **{'a':1, 'b':2} )"
   ]
  },
  {
   "cell_type": "code",
   "execution_count": 38,
   "metadata": {
    "colab": {
     "base_uri": "https://localhost:8080/"
    },
    "id": "LYCLVie5AHq7",
    "outputId": "af3484e9-e49c-44ff-c604-9b12df844f97"
   },
   "outputs": [
    {
     "data": {
      "text/plain": [
       "6"
      ]
     },
     "execution_count": 38,
     "metadata": {},
     "output_type": "execute_result"
    }
   ],
   "source": [
    "sum([1,2,3])"
   ]
  },
  {
   "cell_type": "code",
   "execution_count": 47,
   "metadata": {
    "colab": {
     "base_uri": "https://localhost:8080/"
    },
    "id": "PCVqQIJpAHnq",
    "outputId": "8d887c60-a5fe-444d-8a10-e50878b7f734"
   },
   "outputs": [
    {
     "name": "stdout",
     "output_type": "stream",
     "text": [
      "1\n",
      "2\n",
      "3\n",
      "4\n",
      "5\n",
      "('a', 1)\n",
      "('b', 2)\n"
     ]
    }
   ],
   "source": [
    "foo( *[1, 2, 3, 4, 5], a = 1, b = 2 )"
   ]
  },
  {
   "cell_type": "code",
   "execution_count": null,
   "metadata": {
    "id": "JC2rKstXAHke"
   },
   "outputs": [],
   "source": []
  },
  {
   "cell_type": "code",
   "execution_count": 50,
   "metadata": {
    "colab": {
     "base_uri": "https://localhost:8080/"
    },
    "id": "-WkovYoBGjDQ",
    "outputId": "94f5163d-8bcb-4193-9eb3-569144922de6"
   },
   "outputs": [
    {
     "data": {
      "text/plain": [
       "('fail', ['d', 'e'])"
      ]
     },
     "execution_count": 50,
     "metadata": {},
     "output_type": "execute_result"
    }
   ],
   "source": [
    "# waf to check the score and award reuslt. if student has failed in subjects we need to print lists of subjs students has failed in\n",
    "# assume higest marks in a sub a student can score is 100\n",
    "\n",
    "def foo(**kwargs):\n",
    "  marks = list(kwargs.values())\n",
    "  if min(marks) < 32:\n",
    "    x = [ele for ele, v in kwargs.items() if v<32]\n",
    "    return 'fail', x\n",
    "\n",
    "  else:\n",
    "    if sum(marks)/len(marks) >= 80:\n",
    "      return 'FWD'\n",
    "    elif sum(marks)/len(marks) >= 60:\n",
    "      return 'FistClass'\n",
    "    else:\n",
    "      return 'SecondClass'\n",
    "\n",
    "foo(a = 50, b = 70, c = 90, d = 10, e = 25)\n",
    "\n"
   ]
  },
  {
   "cell_type": "code",
   "execution_count": null,
   "metadata": {
    "id": "U1HDRoK4Gi9o"
   },
   "outputs": [],
   "source": []
  },
  {
   "cell_type": "code",
   "execution_count": null,
   "metadata": {
    "id": "1T9Vm2dNKTww"
   },
   "outputs": [],
   "source": []
  },
  {
   "cell_type": "markdown",
   "metadata": {
    "id": "vJ54lK4hKe3S"
   },
   "source": [
    "#### lambda functions\n",
    "\n",
    "* these functions are called as anonymous functions\n",
    "* these are defined in a single line\n",
    "* syntax for labda functions:\n",
    "    * `lambda` var/s: <`statement/s using these var/s`>\n",
    "\n",
    "* these func by default will return a value, no need to write a return statement\n",
    "* there is no cap on no of vars one can use to define a lambda func\n",
    "\n",
    "Note: lambda funcs are genrally written or given as input to higher order functions."
   ]
  },
  {
   "cell_type": "code",
   "execution_count": 52,
   "metadata": {
    "colab": {
     "base_uri": "https://localhost:8080/",
     "height": 35
    },
    "id": "fuqt5ZEKKTtx",
    "outputId": "28996207-19e3-4738-a88a-f80d930e4ef5"
   },
   "outputs": [
    {
     "data": {
      "application/vnd.google.colaboratory.intrinsic+json": {
       "type": "string"
      },
      "text/plain": [
       "'odd'"
      ]
     },
     "execution_count": 52,
     "metadata": {},
     "output_type": "execute_result"
    }
   ],
   "source": [
    "def foo(x):\n",
    "  if x%2==0:\n",
    "    return 'even'\n",
    "  else:\n",
    "    return 'odd'\n",
    "\n",
    "foo(5)"
   ]
  },
  {
   "cell_type": "code",
   "execution_count": 53,
   "metadata": {
    "colab": {
     "base_uri": "https://localhost:8080/",
     "height": 35
    },
    "id": "iQ3DCkqmKTqr",
    "outputId": "5b240683-8341-49b4-f017-d34dfb016e04"
   },
   "outputs": [
    {
     "data": {
      "application/vnd.google.colaboratory.intrinsic+json": {
       "type": "string"
      },
      "text/plain": [
       "'odd'"
      ]
     },
     "execution_count": 53,
     "metadata": {},
     "output_type": "execute_result"
    }
   ],
   "source": [
    "(lambda x: 'even' if x%2 == 0 else 'odd')(5)"
   ]
  },
  {
   "cell_type": "code",
   "execution_count": 54,
   "metadata": {
    "colab": {
     "base_uri": "https://localhost:8080/",
     "height": 35
    },
    "id": "hJ9siuqOKTn_",
    "outputId": "4ed0a8df-1d26-448f-93dc-f090438c2019"
   },
   "outputs": [
    {
     "data": {
      "application/vnd.google.colaboratory.intrinsic+json": {
       "type": "string"
      },
      "text/plain": [
       "'odd'"
      ]
     },
     "execution_count": 54,
     "metadata": {},
     "output_type": "execute_result"
    }
   ],
   "source": [
    "eo = lambda x: 'even' if x%2 == 0 else 'odd'\n",
    "eo(5)"
   ]
  },
  {
   "cell_type": "code",
   "execution_count": 56,
   "metadata": {
    "colab": {
     "base_uri": "https://localhost:8080/"
    },
    "id": "jgxiV6waKTk9",
    "outputId": "0c1d1139-0bc3-40ca-ea75-5cc43e0a0ef3"
   },
   "outputs": [
    {
     "name": "stdout",
     "output_type": "stream",
     "text": [
      "[2, 4, 6, 8, 10]\n",
      "[1, 3, 5, 7, 9, 11]\n"
     ]
    }
   ],
   "source": [
    "eoList = lambda x, y: ([ele for ele in range(x, y+1) if ele%2==0], [ele for ele in range(x, y+1) if ele%2!=0])\n",
    "e, o = eoList(1,11)\n",
    "print(e, o, sep = '\\n')"
   ]
  },
  {
   "cell_type": "code",
   "execution_count": null,
   "metadata": {
    "id": "yuVr2UP9KTiE"
   },
   "outputs": [],
   "source": []
  },
  {
   "cell_type": "markdown",
   "metadata": {
    "id": "YTGjChEDRFw1"
   },
   "source": [
    "#### filter\n",
    "* filter function is used to filter the elements based on user's logic\n",
    "* this user's logic is written as function, which gives a boolean output, True when it meets the user's logic, or else it'll return False\n",
    "* filter func will return an iterator of class filter, we can type cast this to a list\n",
    "* syntax of filter function:\n",
    "    * filter(func, container/iterator)"
   ]
  },
  {
   "cell_type": "code",
   "execution_count": 58,
   "metadata": {
    "id": "29eZ8z5KKTbn"
   },
   "outputs": [],
   "source": [
    "e = lambda x: True if x%2==0 else False"
   ]
  },
  {
   "cell_type": "code",
   "execution_count": 60,
   "metadata": {
    "colab": {
     "base_uri": "https://localhost:8080/"
    },
    "id": "wQCgj1PsKTY5",
    "outputId": "4c89454d-3ad4-4832-831c-983582c8832d"
   },
   "outputs": [
    {
     "name": "stdout",
     "output_type": "stream",
     "text": [
      "<filter object at 0x7b575a08f130> <class 'filter'>\n"
     ]
    }
   ],
   "source": [
    "x = filter(e, range(1,11))\n",
    "print(x, type(x))"
   ]
  },
  {
   "cell_type": "code",
   "execution_count": 61,
   "metadata": {
    "colab": {
     "base_uri": "https://localhost:8080/"
    },
    "id": "t1slQuHVGi63",
    "outputId": "ddae5cd0-8f6f-4ec8-ea80-c942923b1b10"
   },
   "outputs": [
    {
     "data": {
      "text/plain": [
       "[2, 4, 6, 8, 10]"
      ]
     },
     "execution_count": 61,
     "metadata": {},
     "output_type": "execute_result"
    }
   ],
   "source": [
    "x = list(x)\n",
    "x"
   ]
  },
  {
   "cell_type": "code",
   "execution_count": 63,
   "metadata": {
    "colab": {
     "base_uri": "https://localhost:8080/"
    },
    "id": "r5eGkaydAHhv",
    "outputId": "2e7ed514-43a1-4cd5-f9bb-0c3928351c62"
   },
   "outputs": [
    {
     "data": {
      "text/plain": [
       "['b', 'c', 'm']"
      ]
     },
     "execution_count": 63,
     "metadata": {},
     "output_type": "execute_result"
    }
   ],
   "source": [
    "foo = lambda x: True if ord(x) in range(97, 110) else False\n",
    "\n",
    "list(filter(foo, 'AbcDZzyYMm'))"
   ]
  },
  {
   "cell_type": "code",
   "execution_count": null,
   "metadata": {
    "id": "aThkb81aSsgk"
   },
   "outputs": [],
   "source": []
  },
  {
   "cell_type": "markdown",
   "metadata": {
    "id": "CSr4yhXdUUug"
   },
   "source": [
    "#### map\n",
    "* we use `map` function to apply our fuction on each element of an iterator\n",
    "* syntax of `map` function:\n",
    "  * map(func, iterator)\n",
    "\n",
    "* op of map function is a map object, we need to type cast it to a list or other data type to see the op"
   ]
  },
  {
   "cell_type": "code",
   "execution_count": 64,
   "metadata": {
    "colab": {
     "base_uri": "https://localhost:8080/"
    },
    "id": "z6qmPK3BAHet",
    "outputId": "84b352b5-b068-4d85-be6a-c6a5a9e6e090"
   },
   "outputs": [
    {
     "name": "stdout",
     "output_type": "stream",
     "text": [
      "<map object at 0x7b575a1eded0> <class 'map'>\n"
     ]
    }
   ],
   "source": [
    "p = lambda x: x**2\n",
    "\n",
    "r = map(p, range(1,11))\n",
    "print(r, type(r))"
   ]
  },
  {
   "cell_type": "code",
   "execution_count": 65,
   "metadata": {
    "colab": {
     "base_uri": "https://localhost:8080/"
    },
    "id": "ycDvCQFf4Rie",
    "outputId": "3bd3b2f0-ed97-4b1b-88d2-a86a2b24f21d"
   },
   "outputs": [
    {
     "data": {
      "text/plain": [
       "[1, 4, 9, 16, 25, 36, 49, 64, 81, 100]"
      ]
     },
     "execution_count": 65,
     "metadata": {},
     "output_type": "execute_result"
    }
   ],
   "source": [
    "r = list(r)\n",
    "r"
   ]
  },
  {
   "cell_type": "code",
   "execution_count": 70,
   "metadata": {
    "colab": {
     "base_uri": "https://localhost:8080/"
    },
    "id": "nsYjgDC1UOcc",
    "outputId": "173eae3c-501e-4779-bb63-d70ca06b5dc8"
   },
   "outputs": [
    {
     "data": {
      "text/plain": [
       "['M', 'A', 'L', 'A', 'y', 'A', 'L', 'A', 'M']"
      ]
     },
     "execution_count": 70,
     "metadata": {},
     "output_type": "execute_result"
    }
   ],
   "source": [
    "foo = lambda x: x.upper() if ord(x) in range(97, 110) else x\n",
    "\n",
    "r = map(foo, 'malayalam')\n",
    "list(r)"
   ]
  },
  {
   "cell_type": "code",
   "execution_count": null,
   "metadata": {
    "id": "TOD9sKmwUOZP"
   },
   "outputs": [],
   "source": []
  },
  {
   "cell_type": "code",
   "execution_count": 71,
   "metadata": {
    "id": "FLZbQXT7UOUC"
   },
   "outputs": [],
   "source": [
    "def foo(func, x):\n",
    "  return func+x"
   ]
  },
  {
   "cell_type": "code",
   "execution_count": 73,
   "metadata": {
    "colab": {
     "base_uri": "https://localhost:8080/",
     "height": 35
    },
    "id": "0JfUcdJlUORU",
    "outputId": "99e5da06-652d-42f7-90b5-cb96f76952a6"
   },
   "outputs": [
    {
     "data": {
      "application/vnd.google.colaboratory.intrinsic+json": {
       "type": "string"
      },
      "text/plain": [
       "'HI5'"
      ]
     },
     "execution_count": 73,
     "metadata": {},
     "output_type": "execute_result"
    }
   ],
   "source": [
    "foo('hi'.upper(), \"5\")"
   ]
  },
  {
   "cell_type": "code",
   "execution_count": null,
   "metadata": {
    "id": "Bn8pfJRBUOOF"
   },
   "outputs": [],
   "source": []
  },
  {
   "cell_type": "code",
   "execution_count": 75,
   "metadata": {
    "id": "gTFwdUxUUOLI"
   },
   "outputs": [],
   "source": [
    "import functools\n",
    "from functools import reduce"
   ]
  },
  {
   "cell_type": "code",
   "execution_count": 76,
   "metadata": {
    "colab": {
     "base_uri": "https://localhost:8080/"
    },
    "id": "o53Fp5i2UOI9",
    "outputId": "1080290e-f1f6-450e-b7b6-2b135c1c58b6"
   },
   "outputs": [
    {
     "data": {
      "text/plain": [
       "-64"
      ]
     },
     "execution_count": 76,
     "metadata": {},
     "output_type": "execute_result"
    }
   ],
   "source": [
    "foo = lambda x, y:  x-y\n",
    "reduce(foo, range(1, 12))\n"
   ]
  },
  {
   "cell_type": "code",
   "execution_count": null,
   "metadata": {
    "id": "S-L-TbWcUOE7"
   },
   "outputs": [],
   "source": []
  },
  {
   "cell_type": "code",
   "execution_count": null,
   "metadata": {
    "id": "4XQvsF1lUOBj"
   },
   "outputs": [],
   "source": []
  },
  {
   "cell_type": "code",
   "execution_count": null,
   "metadata": {
    "id": "bpWziN3RUN-q"
   },
   "outputs": [],
   "source": []
  },
  {
   "cell_type": "code",
   "execution_count": null,
   "metadata": {
    "id": "BSsKi1EYUN7w"
   },
   "outputs": [],
   "source": []
  },
  {
   "cell_type": "code",
   "execution_count": null,
   "metadata": {
    "id": "7p-YTzHSUN5D"
   },
   "outputs": [],
   "source": []
  }
 ],
 "metadata": {
  "colab": {
   "provenance": []
  },
  "kernelspec": {
   "display_name": "Python 3 (ipykernel)",
   "language": "python",
   "name": "python3"
  },
  "language_info": {
   "codemirror_mode": {
    "name": "ipython",
    "version": 3
   },
   "file_extension": ".py",
   "mimetype": "text/x-python",
   "name": "python",
   "nbconvert_exporter": "python",
   "pygments_lexer": "ipython3",
   "version": "3.11.3"
  }
 },
 "nbformat": 4,
 "nbformat_minor": 1
}
