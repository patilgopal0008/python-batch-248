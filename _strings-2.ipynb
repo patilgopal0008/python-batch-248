{
 "cells": [
  {
   "cell_type": "markdown",
   "id": "182146dd",
   "metadata": {},
   "source": [
    "### find"
   ]
  },
  {
   "cell_type": "markdown",
   "id": "9e1ee769",
   "metadata": {},
   "source": [
    "* find() takes a string as input. \n",
    "* It is used to find the index of the first occurrence of the substring inside a given string.\n",
    "* If the substring is not present then it returns -1 but it does not throw an exception."
   ]
  },
  {
   "cell_type": "code",
   "execution_count": 3,
   "id": "ec08aed0",
   "metadata": {},
   "outputs": [
    {
     "data": {
      "text/plain": [
       "42"
      ]
     },
     "execution_count": 3,
     "metadata": {},
     "output_type": "execute_result"
    }
   ],
   "source": [
    "x = ''''Betty Botter bought some butter\n",
    "But she said the butter’s bitter\n",
    "If I put it in my batter, it will make my batter bitter\n",
    "But a bit of better butter will make my batter better\n",
    "So ‘twas better Betty Botter bought a bit of better butter'''\n",
    "#by using find method\n",
    "x.find('a')"
   ]
  },
  {
   "cell_type": "code",
   "execution_count": 4,
   "id": "fc2ef97f",
   "metadata": {},
   "outputs": [
    {
     "name": "stdout",
     "output_type": "stream",
     "text": [
      "Help on built-in function find:\n",
      "\n",
      "find(...) method of builtins.str instance\n",
      "    S.find(sub[, start[, end]]) -> int\n",
      "    \n",
      "    Return the lowest index in S where substring sub is found,\n",
      "    such that sub is contained within S[start:end].  Optional\n",
      "    arguments start and end are interpreted as in slice notation.\n",
      "    \n",
      "    Return -1 on failure.\n",
      "\n"
     ]
    }
   ],
   "source": [
    "help(x.find)"
   ]
  },
  {
   "cell_type": "code",
   "execution_count": 6,
   "id": "dfb285fd",
   "metadata": {},
   "outputs": [
    {
     "data": {
      "text/plain": [
       "85"
      ]
     },
     "execution_count": 6,
     "metadata": {},
     "output_type": "execute_result"
    }
   ],
   "source": [
    "x.find('a',43,96)  # Syntax   find(sub[, start[, end]]"
   ]
  },
  {
   "cell_type": "code",
   "execution_count": 36,
   "id": "9172a333",
   "metadata": {},
   "outputs": [
    {
     "data": {
      "text/plain": [
       "3"
      ]
     },
     "execution_count": 36,
     "metadata": {},
     "output_type": "execute_result"
    }
   ],
   "source": [
    "x.find('t')"
   ]
  },
  {
   "cell_type": "code",
   "execution_count": 35,
   "id": "f7c6de92",
   "metadata": {},
   "outputs": [
    {
     "data": {
      "text/plain": [
       "-1"
      ]
     },
     "execution_count": 35,
     "metadata": {},
     "output_type": "execute_result"
    }
   ],
   "source": [
    "x.find('j')"
   ]
  },
  {
   "cell_type": "markdown",
   "id": "9434e9bc",
   "metadata": {},
   "source": [
    "### index"
   ]
  },
  {
   "cell_type": "markdown",
   "id": "cf8896c4",
   "metadata": {},
   "source": [
    "* allows a user to find the index of the first occurrence of an existing substring inside a given string in Python\n",
    "*  Python find() produces -1 as output if it is unable to find the substring, whereas index() throws a ValueError exception."
   ]
  },
  {
   "cell_type": "code",
   "execution_count": 9,
   "id": "4e1f34a7",
   "metadata": {},
   "outputs": [
    {
     "data": {
      "text/plain": [
       "\"'Betty Botter bought some butter\\nBut she said the butter’s bitter\\nIf I put it in my batter, it will make my batter bitter\\nBut a bit of better butter will make my batter better\\nSo ‘twas better Betty Botter bought a bit of better butter\""
      ]
     },
     "execution_count": 9,
     "metadata": {},
     "output_type": "execute_result"
    }
   ],
   "source": [
    "x"
   ]
  },
  {
   "cell_type": "code",
   "execution_count": 16,
   "id": "97b2d29f",
   "metadata": {},
   "outputs": [
    {
     "data": {
      "text/plain": [
       "23"
      ]
     },
     "execution_count": 16,
     "metadata": {},
     "output_type": "execute_result"
    }
   ],
   "source": [
    "x.index('m')"
   ]
  },
  {
   "cell_type": "code",
   "execution_count": 11,
   "id": "9e5cd7f4",
   "metadata": {},
   "outputs": [
    {
     "name": "stdout",
     "output_type": "stream",
     "text": [
      "Help on built-in function index:\n",
      "\n",
      "index(...) method of builtins.str instance\n",
      "    S.index(sub[, start[, end]]) -> int\n",
      "    \n",
      "    Return the lowest index in S where substring sub is found,\n",
      "    such that sub is contained within S[start:end].  Optional\n",
      "    arguments start and end are interpreted as in slice notation.\n",
      "    \n",
      "    Raises ValueError when the substring is not found.\n",
      "\n"
     ]
    }
   ],
   "source": [
    "help(x.index)"
   ]
  },
  {
   "cell_type": "code",
   "execution_count": 17,
   "id": "81315910",
   "metadata": {
    "scrolled": true
   },
   "outputs": [
    {
     "data": {
      "text/plain": [
       "81"
      ]
     },
     "execution_count": 17,
     "metadata": {},
     "output_type": "execute_result"
    }
   ],
   "source": [
    "x.index('m',24,94)"
   ]
  },
  {
   "cell_type": "code",
   "execution_count": 18,
   "id": "8229fe94",
   "metadata": {
    "scrolled": true
   },
   "outputs": [
    {
     "data": {
      "text/plain": [
       "42"
      ]
     },
     "execution_count": 18,
     "metadata": {},
     "output_type": "execute_result"
    }
   ],
   "source": [
    "x.index('a',1,255) #syntax index(sub[, start[, end]]) "
   ]
  },
  {
   "cell_type": "code",
   "execution_count": 21,
   "id": "8358a761",
   "metadata": {
    "scrolled": true
   },
   "outputs": [],
   "source": [
    "#x.index('a',25555,12)   #uncomment to see the error (substring not found)"
   ]
  },
  {
   "cell_type": "markdown",
   "id": "61bef0a8",
   "metadata": {},
   "source": [
    "### rfind"
   ]
  },
  {
   "cell_type": "markdown",
   "id": "aca25a23",
   "metadata": {},
   "source": [
    "* The rfind() method finds the last occurrence of the specified value.\n",
    "* rfind() returns the highest index (from the right) for the provided substring,\n",
    "  whereas find() returns the index position of the element's first occurrence, i.e. the very first index.  \n",
    "* Return -1 on failure.\n"
   ]
  },
  {
   "cell_type": "code",
   "execution_count": 23,
   "id": "9b33dc72",
   "metadata": {},
   "outputs": [
    {
     "data": {
      "text/plain": [
       "228"
      ]
     },
     "execution_count": 23,
     "metadata": {},
     "output_type": "execute_result"
    }
   ],
   "source": [
    "x.rfind('b')"
   ]
  },
  {
   "cell_type": "code",
   "execution_count": 24,
   "id": "478c1276",
   "metadata": {
    "scrolled": true
   },
   "outputs": [
    {
     "name": "stdout",
     "output_type": "stream",
     "text": [
      "Help on built-in function rfind:\n",
      "\n",
      "rfind(...) method of builtins.str instance\n",
      "    S.rfind(sub[, start[, end]]) -> int\n",
      "    \n",
      "    Return the highest index in S where substring sub is found,\n",
      "    such that sub is contained within S[start:end].  Optional\n",
      "    arguments start and end are interpreted as in slice notation.\n",
      "    \n",
      "    Return -1 on failure.\n",
      "\n"
     ]
    }
   ],
   "source": [
    "help(x.rfind)"
   ]
  },
  {
   "cell_type": "code",
   "execution_count": 29,
   "id": "9360e356",
   "metadata": {},
   "outputs": [
    {
     "data": {
      "text/plain": [
       "\"'Betty Botter bought some butter\\nBut she said the butter’s bitter\\nIf I put it in my batter, it will make my batter bitter\\nBut a bit of better butter will make my batter better\\nSo ‘twas better Betty Botter bought a bit of better butter\""
      ]
     },
     "execution_count": 29,
     "metadata": {},
     "output_type": "execute_result"
    }
   ],
   "source": [
    "x"
   ]
  },
  {
   "cell_type": "code",
   "execution_count": 28,
   "id": "ea6d002f",
   "metadata": {
    "scrolled": true
   },
   "outputs": [
    {
     "data": {
      "text/plain": [
       "221"
      ]
     },
     "execution_count": 28,
     "metadata": {},
     "output_type": "execute_result"
    }
   ],
   "source": [
    "x.rfind('b',210,227) #syntax  rfind(sub[, start[, end]])"
   ]
  },
  {
   "cell_type": "markdown",
   "id": "f480e5c6",
   "metadata": {},
   "source": [
    "### rindex"
   ]
  },
  {
   "cell_type": "markdown",
   "id": "471413a1",
   "metadata": {},
   "source": [
    "*  rindex() method finds the last occurrence of the specified value.\n",
    "* The rindex() method raises an exception if the value is not found. "
   ]
  },
  {
   "cell_type": "code",
   "execution_count": 31,
   "id": "8f2cce14",
   "metadata": {},
   "outputs": [
    {
     "data": {
      "text/plain": [
       "\"'Betty Botter bought some butter\\nBut she said the butter’s bitter\\nIf I put it in my batter, it will make my batter bitter\\nBut a bit of better butter will make my batter better\\nSo ‘twas better Betty Botter bought a bit of better butter\""
      ]
     },
     "execution_count": 31,
     "metadata": {},
     "output_type": "execute_result"
    }
   ],
   "source": [
    "x"
   ]
  },
  {
   "cell_type": "code",
   "execution_count": 34,
   "id": "6d8bb82b",
   "metadata": {},
   "outputs": [
    {
     "data": {
      "text/plain": [
       "228"
      ]
     },
     "execution_count": 34,
     "metadata": {},
     "output_type": "execute_result"
    }
   ],
   "source": [
    "x.rindex('b')"
   ]
  },
  {
   "cell_type": "code",
   "execution_count": 38,
   "id": "6d13e054",
   "metadata": {},
   "outputs": [
    {
     "name": "stdout",
     "output_type": "stream",
     "text": [
      "Help on built-in function rindex:\n",
      "\n",
      "rindex(...) method of builtins.str instance\n",
      "    S.rindex(sub[, start[, end]]) -> int\n",
      "    \n",
      "    Return the highest index in S where substring sub is found,\n",
      "    such that sub is contained within S[start:end].  Optional\n",
      "    arguments start and end are interpreted as in slice notation.\n",
      "    \n",
      "    Raises ValueError when the substring is not found.\n",
      "\n"
     ]
    }
   ],
   "source": [
    "help(x.rindex)"
   ]
  },
  {
   "cell_type": "code",
   "execution_count": 40,
   "id": "31fbe08d",
   "metadata": {},
   "outputs": [
    {
     "data": {
      "text/plain": [
       "228"
      ]
     },
     "execution_count": 40,
     "metadata": {},
     "output_type": "execute_result"
    }
   ],
   "source": [
    "x.rindex('b',220,235)"
   ]
  },
  {
   "cell_type": "markdown",
   "id": "101ee0bc",
   "metadata": {},
   "source": [
    "### replace"
   ]
  },
  {
   "cell_type": "markdown",
   "id": "c299f4c5",
   "metadata": {},
   "source": [
    "* The replace() method replaces a specified phrase with another specified phrase.\n"
   ]
  },
  {
   "cell_type": "code",
   "execution_count": 41,
   "id": "acdee063",
   "metadata": {},
   "outputs": [
    {
     "data": {
      "text/plain": [
       "\"'Betty Botter bought some butter\\nBut she said the butter’s bitter\\nIf I put it in my batter, it will make my batter bitter\\nBut a bit of better butter will make my batter better\\nSo ‘twas better Betty Botter bought a bit of better butter\""
      ]
     },
     "execution_count": 41,
     "metadata": {},
     "output_type": "execute_result"
    }
   ],
   "source": [
    "x"
   ]
  },
  {
   "cell_type": "code",
   "execution_count": 42,
   "id": "5de7e27a",
   "metadata": {},
   "outputs": [
    {
     "name": "stdout",
     "output_type": "stream",
     "text": [
      "Help on built-in function replace:\n",
      "\n",
      "replace(old, new, count=-1, /) method of builtins.str instance\n",
      "    Return a copy with all occurrences of substring old replaced by new.\n",
      "    \n",
      "      count\n",
      "        Maximum number of occurrences to replace.\n",
      "        -1 (the default value) means replace all occurrences.\n",
      "    \n",
      "    If the optional argument count is given, only the first count occurrences are\n",
      "    replaced.\n",
      "\n"
     ]
    }
   ],
   "source": [
    "help(x.replace)"
   ]
  },
  {
   "cell_type": "code",
   "execution_count": 44,
   "id": "687b9fe7",
   "metadata": {},
   "outputs": [
    {
     "data": {
      "text/plain": [
       "\"'peto Botter bought some butter\\nBut she said the butter’s bitter\\nIf I put it in my batter, it will make my batter bitter\\nBut a bit of better butter will make my batter better\\nSo ‘twas better peto Botter bought a bit of better butter\""
      ]
     },
     "execution_count": 44,
     "metadata": {},
     "output_type": "execute_result"
    }
   ],
   "source": [
    "x.replace('Betty','peto',2) #syntax replace(old, new, count=-1, /) "
   ]
  },
  {
   "cell_type": "markdown",
   "id": "8daa004e",
   "metadata": {},
   "source": [
    "# splitlines"
   ]
  },
  {
   "cell_type": "markdown",
   "id": "ab4a71fe",
   "metadata": {},
   "source": [
    "* The split() method splits a string into a list. \n",
    "* You can specify the separator, default separator is any whitespace. \n",
    "* When maxsplit is specified, the list will contain the specified number of elements plus one."
   ]
  },
  {
   "cell_type": "code",
   "execution_count": 46,
   "id": "b852a99c",
   "metadata": {},
   "outputs": [],
   "source": [
    "x ='''If a dog chews shoes, whose shoes does he choose?\n",
    "Top chopstick shops stock top chopsticks.\n",
    "Selfish shellfish. (Repeat many times)\n",
    "No need to light a night-light on a light night like tonight.\n",
    "Thirty-three thousand feathers on a thrushes throat.\n",
    "The great Greek grape growers grow great Greek grapes.\n",
    "Linda-Lou Lambert loves lemon lollipop lip gloss.'''"
   ]
  },
  {
   "cell_type": "code",
   "execution_count": 47,
   "id": "e4f008f8",
   "metadata": {},
   "outputs": [
    {
     "data": {
      "text/plain": [
       "['If',\n",
       " 'a',\n",
       " 'dog',\n",
       " 'chews',\n",
       " 'shoes,',\n",
       " 'whose',\n",
       " 'shoes',\n",
       " 'does',\n",
       " 'he',\n",
       " 'choose?',\n",
       " 'Top',\n",
       " 'chopstick',\n",
       " 'shops',\n",
       " 'stock',\n",
       " 'top',\n",
       " 'chopsticks.',\n",
       " 'Selfish',\n",
       " 'shellfish.',\n",
       " '(Repeat',\n",
       " 'many',\n",
       " 'times)',\n",
       " 'No',\n",
       " 'need',\n",
       " 'to',\n",
       " 'light',\n",
       " 'a',\n",
       " 'night-light',\n",
       " 'on',\n",
       " 'a',\n",
       " 'light',\n",
       " 'night',\n",
       " 'like',\n",
       " 'tonight.',\n",
       " 'Thirty-three',\n",
       " 'thousand',\n",
       " 'feathers',\n",
       " 'on',\n",
       " 'a',\n",
       " 'thrushes',\n",
       " 'throat.',\n",
       " 'The',\n",
       " 'great',\n",
       " 'Greek',\n",
       " 'grape',\n",
       " 'growers',\n",
       " 'grow',\n",
       " 'great',\n",
       " 'Greek',\n",
       " 'grapes.',\n",
       " 'Linda-Lou',\n",
       " 'Lambert',\n",
       " 'loves',\n",
       " 'lemon',\n",
       " 'lollipop',\n",
       " 'lip',\n",
       " 'gloss.']"
      ]
     },
     "execution_count": 47,
     "metadata": {},
     "output_type": "execute_result"
    }
   ],
   "source": [
    "x.split()"
   ]
  },
  {
   "cell_type": "code",
   "execution_count": 48,
   "id": "faf87bf2",
   "metadata": {},
   "outputs": [
    {
     "name": "stdout",
     "output_type": "stream",
     "text": [
      "Help on built-in function split:\n",
      "\n",
      "split(sep=None, maxsplit=-1) method of builtins.str instance\n",
      "    Return a list of the substrings in the string, using sep as the separator string.\n",
      "    \n",
      "      sep\n",
      "        The separator used to split the string.\n",
      "    \n",
      "        When set to None (the default value), will split on any whitespace\n",
      "        character (including \\\\n \\\\r \\\\t \\\\f and spaces) and will discard\n",
      "        empty strings from the result.\n",
      "      maxsplit\n",
      "        Maximum number of splits (starting from the left).\n",
      "        -1 (the default value) means no limit.\n",
      "    \n",
      "    Note, str.split() is mainly useful for data that has been intentionally\n",
      "    delimited.  With natural text that includes punctuation, consider using\n",
      "    the regular expression module.\n",
      "\n"
     ]
    }
   ],
   "source": [
    "help(x.split)"
   ]
  },
  {
   "cell_type": "code",
   "execution_count": 49,
   "id": "21a0f3d6",
   "metadata": {},
   "outputs": [
    {
     "data": {
      "text/plain": [
       "'If a dog chews shoes, whose shoes does he choose?\\nTop chopstick shops stock top chopsticks.\\nSelfish shellfish. (Repeat many times)\\nNo need to light a night-light on a light night like tonight.\\nThirty-three thousand feathers on a thrushes throat.\\nThe great Greek grape growers grow great Greek grapes.\\nLinda-Lou Lambert loves lemon lollipop lip gloss.'"
      ]
     },
     "execution_count": 49,
     "metadata": {},
     "output_type": "execute_result"
    }
   ],
   "source": [
    "x"
   ]
  },
  {
   "cell_type": "code",
   "execution_count": 51,
   "id": "c0401a1c",
   "metadata": {},
   "outputs": [
    {
     "data": {
      "text/plain": [
       "['If ',\n",
       " ' dog chews shoes, whose shoes does he choose?\\nTop chopstick shops stock top chopsticks.\\nSelfish shellfish. (Repeat many times)\\nNo need to light a night-light on a light night like tonight.\\nThirty-three thousand feathers on a thrushes throat.\\nThe great Greek grape growers grow great Greek grapes.\\nLinda-Lou Lambert loves lemon lollipop lip gloss.']"
      ]
     },
     "execution_count": 51,
     "metadata": {},
     "output_type": "execute_result"
    }
   ],
   "source": [
    "x.split('a',1) #syntax split(sep=None, maxsplit=-1)"
   ]
  },
  {
   "cell_type": "markdown",
   "id": "df4e0949",
   "metadata": {},
   "source": [
    "# partition "
   ]
  },
  {
   "cell_type": "markdown",
   "id": "c3926e3f",
   "metadata": {},
   "source": [
    "* The partition() method searches for a specified string, and splits the string into a tuple containing three elements.\n",
    "* The first element contains the part before the specified string. \n",
    "* The second element contains the specified string. \n",
    "* The third element contains the part after the string."
   ]
  },
  {
   "cell_type": "code",
   "execution_count": 55,
   "id": "bc356804",
   "metadata": {
    "scrolled": true
   },
   "outputs": [
    {
     "data": {
      "text/plain": [
       "('', 'ba', 'hubali')"
      ]
     },
     "execution_count": 55,
     "metadata": {},
     "output_type": "execute_result"
    }
   ],
   "source": [
    "x='bahubali'\n",
    "x.partition('ba')"
   ]
  },
  {
   "cell_type": "code",
   "execution_count": 56,
   "id": "2ded87b7",
   "metadata": {},
   "outputs": [
    {
     "name": "stdout",
     "output_type": "stream",
     "text": [
      "Help on built-in function partition:\n",
      "\n",
      "partition(sep, /) method of builtins.str instance\n",
      "    Partition the string into three parts using the given separator.\n",
      "    \n",
      "    This will search for the separator in the string.  If the separator is found,\n",
      "    returns a 3-tuple containing the part before the separator, the separator\n",
      "    itself, and the part after it.\n",
      "    \n",
      "    If the separator is not found, returns a 3-tuple containing the original string\n",
      "    and two empty strings.\n",
      "\n"
     ]
    }
   ],
   "source": [
    "help(x.partition)"
   ]
  },
  {
   "cell_type": "code",
   "execution_count": 60,
   "id": "1c07c9b4",
   "metadata": {},
   "outputs": [
    {
     "data": {
      "text/plain": [
       "('bahub', 'ali', '')"
      ]
     },
     "execution_count": 60,
     "metadata": {},
     "output_type": "execute_result"
    }
   ],
   "source": [
    "x.partition('ali')"
   ]
  },
  {
   "cell_type": "code",
   "execution_count": 61,
   "id": "38e630a4",
   "metadata": {},
   "outputs": [
    {
     "data": {
      "text/plain": [
       "['__add__',\n",
       " '__class__',\n",
       " '__contains__',\n",
       " '__delattr__',\n",
       " '__dir__',\n",
       " '__doc__',\n",
       " '__eq__',\n",
       " '__format__',\n",
       " '__ge__',\n",
       " '__getattribute__',\n",
       " '__getitem__',\n",
       " '__getnewargs__',\n",
       " '__getstate__',\n",
       " '__gt__',\n",
       " '__hash__',\n",
       " '__init__',\n",
       " '__init_subclass__',\n",
       " '__iter__',\n",
       " '__le__',\n",
       " '__len__',\n",
       " '__lt__',\n",
       " '__mod__',\n",
       " '__mul__',\n",
       " '__ne__',\n",
       " '__new__',\n",
       " '__reduce__',\n",
       " '__reduce_ex__',\n",
       " '__repr__',\n",
       " '__rmod__',\n",
       " '__rmul__',\n",
       " '__setattr__',\n",
       " '__sizeof__',\n",
       " '__str__',\n",
       " '__subclasshook__',\n",
       " 'capitalize',\n",
       " 'casefold',\n",
       " 'center',\n",
       " 'count',\n",
       " 'encode',\n",
       " 'endswith',\n",
       " 'expandtabs',\n",
       " 'find',\n",
       " 'format',\n",
       " 'format_map',\n",
       " 'index',\n",
       " 'isalnum',\n",
       " 'isalpha',\n",
       " 'isascii',\n",
       " 'isdecimal',\n",
       " 'isdigit',\n",
       " 'isidentifier',\n",
       " 'islower',\n",
       " 'isnumeric',\n",
       " 'isprintable',\n",
       " 'isspace',\n",
       " 'istitle',\n",
       " 'isupper',\n",
       " 'join',\n",
       " 'ljust',\n",
       " 'lower',\n",
       " 'lstrip',\n",
       " 'maketrans',\n",
       " 'partition',\n",
       " 'removeprefix',\n",
       " 'removesuffix',\n",
       " 'replace',\n",
       " 'rfind',\n",
       " 'rindex',\n",
       " 'rjust',\n",
       " 'rpartition',\n",
       " 'rsplit',\n",
       " 'rstrip',\n",
       " 'split',\n",
       " 'splitlines',\n",
       " 'startswith',\n",
       " 'strip',\n",
       " 'swapcase',\n",
       " 'title',\n",
       " 'translate',\n",
       " 'upper',\n",
       " 'zfill']"
      ]
     },
     "execution_count": 61,
     "metadata": {},
     "output_type": "execute_result"
    }
   ],
   "source": [
    "dir(x)"
   ]
  },
  {
   "cell_type": "code",
   "execution_count": 63,
   "id": "c0961ceb",
   "metadata": {},
   "outputs": [
    {
     "data": {
      "text/plain": [
       "12"
      ]
     },
     "execution_count": 63,
     "metadata": {},
     "output_type": "execute_result"
    }
   ],
   "source": [
    "x=['isalnum',\n",
    " 'isalpha',\n",
    " 'isascii',\n",
    " 'isdecimal',\n",
    " 'isdigit',\n",
    " 'isidentifier',\n",
    " 'islower',\n",
    " 'isnumeric',\n",
    " 'isprintable',\n",
    " 'isspace',\n",
    " 'istitle',\n",
    " 'isupper',]\n",
    "len(x)    "
   ]
  },
  {
   "cell_type": "markdown",
   "id": "3ee7e5e0",
   "metadata": {},
   "source": [
    "# isnumeric"
   ]
  },
  {
   "cell_type": "markdown",
   "id": "5f0ab3b5",
   "metadata": {},
   "source": [
    "* Python isnumeric() method checks whether all the characters of the string are numeric characters or not. \n",
    "* it returns True if all the characters are true, otherwise returns False."
   ]
  },
  {
   "cell_type": "code",
   "execution_count": 92,
   "id": "27de8147",
   "metadata": {},
   "outputs": [
    {
     "data": {
      "text/plain": [
       "False"
      ]
     },
     "execution_count": 92,
     "metadata": {},
     "output_type": "execute_result"
    }
   ],
   "source": [
    "x = 'hello12 43 world'\n",
    "x.isnumeric()"
   ]
  },
  {
   "cell_type": "code",
   "execution_count": 99,
   "id": "e72c0665",
   "metadata": {
    "scrolled": false
   },
   "outputs": [
    {
     "data": {
      "text/plain": [
       "True"
      ]
     },
     "execution_count": 99,
     "metadata": {},
     "output_type": "execute_result"
    }
   ],
   "source": [
    "x = '420'\n",
    "x.isnumeric()"
   ]
  },
  {
   "cell_type": "code",
   "execution_count": 89,
   "id": "79d3d679",
   "metadata": {},
   "outputs": [
    {
     "name": "stdout",
     "output_type": "stream",
     "text": [
      "Help on built-in function isnumeric:\n",
      "\n",
      "isnumeric() method of builtins.str instance\n",
      "    Return True if the string is a numeric string, False otherwise.\n",
      "    \n",
      "    A string is numeric if all characters in the string are numeric and there is at\n",
      "    least one character in the string.\n",
      "\n"
     ]
    }
   ],
   "source": [
    "help(x.isnumeric)"
   ]
  },
  {
   "cell_type": "markdown",
   "id": "7a44be1b",
   "metadata": {},
   "source": [
    "# isalnum"
   ]
  },
  {
   "cell_type": "markdown",
   "id": "2e1b56a7",
   "metadata": {},
   "source": [
    "* The isalnum() method returns True if all the characters are alphanumeric, meaning alphabet letter (a-z) and numbers (0-9).\n",
    "* Example of characters that are not alphanumeric: (space)!#%&? etc.\n"
   ]
  },
  {
   "cell_type": "code",
   "execution_count": 105,
   "id": "56e2f265",
   "metadata": {},
   "outputs": [
    {
     "data": {
      "text/plain": [
       "False"
      ]
     },
     "execution_count": 105,
     "metadata": {},
     "output_type": "execute_result"
    }
   ],
   "source": [
    "x = 'we are there'\n",
    "x.isalnum() #isallnum should not have space or special characters b/w them"
   ]
  },
  {
   "cell_type": "code",
   "execution_count": 107,
   "id": "dc6631ba",
   "metadata": {},
   "outputs": [
    {
     "data": {
      "text/plain": [
       "True"
      ]
     },
     "execution_count": 107,
     "metadata": {},
     "output_type": "execute_result"
    }
   ],
   "source": [
    "x = 'abc123'\n",
    "x.isalnum()"
   ]
  },
  {
   "cell_type": "code",
   "execution_count": 109,
   "id": "fe6351e9",
   "metadata": {},
   "outputs": [
    {
     "data": {
      "text/plain": [
       "False"
      ]
     },
     "execution_count": 109,
     "metadata": {},
     "output_type": "execute_result"
    }
   ],
   "source": [
    "x = 'abc453#$%^&*@!123'\n",
    "x.isalnum()"
   ]
  },
  {
   "cell_type": "code",
   "execution_count": 110,
   "id": "946aea9b",
   "metadata": {},
   "outputs": [
    {
     "name": "stdout",
     "output_type": "stream",
     "text": [
      "Help on built-in function isalnum:\n",
      "\n",
      "isalnum() method of builtins.str instance\n",
      "    Return True if the string is an alpha-numeric string, False otherwise.\n",
      "    \n",
      "    A string is alpha-numeric if all characters in the string are alpha-numeric and\n",
      "    there is at least one character in the string.\n",
      "\n"
     ]
    }
   ],
   "source": [
    "help(x.isalnum)"
   ]
  },
  {
   "cell_type": "markdown",
   "id": "c56f8bc8",
   "metadata": {},
   "source": [
    "# isalpha"
   ]
  },
  {
   "cell_type": "markdown",
   "id": "8b935273",
   "metadata": {},
   "source": [
    "* The python string isalpha() method is used to check whether the string consists of alphabets.\n",
    "* This method returns true if all the characters in the input string are alphabetic and there is at least one character. \n",
    "* Otherwise, it returns false."
   ]
  },
  {
   "cell_type": "code",
   "execution_count": 112,
   "id": "cd2d6570",
   "metadata": {
    "scrolled": true
   },
   "outputs": [
    {
     "name": "stdout",
     "output_type": "stream",
     "text": [
      "False\n"
     ]
    }
   ],
   "source": [
    "x = \"918273645\"\n",
    "print(x.isalpha())"
   ]
  },
  {
   "cell_type": "code",
   "execution_count": 113,
   "id": "673d8e90",
   "metadata": {},
   "outputs": [
    {
     "name": "stdout",
     "output_type": "stream",
     "text": [
      "False\n"
     ]
    }
   ],
   "source": [
    "x = 'abc123edf456'\n",
    "print(x.isalpha())"
   ]
  },
  {
   "cell_type": "code",
   "execution_count": 116,
   "id": "8a944c2a",
   "metadata": {},
   "outputs": [
    {
     "data": {
      "text/plain": [
       "False"
      ]
     },
     "execution_count": 116,
     "metadata": {},
     "output_type": "execute_result"
    }
   ],
   "source": [
    "x = 'jammu and kashmir'\n",
    "x.isalpha() #isalpha charcters should not contain space b/w them because space is not alphabet"
   ]
  },
  {
   "cell_type": "code",
   "execution_count": 117,
   "id": "610f02a5",
   "metadata": {},
   "outputs": [
    {
     "data": {
      "text/plain": [
       "True"
      ]
     },
     "execution_count": 117,
     "metadata": {},
     "output_type": "execute_result"
    }
   ],
   "source": [
    "x = 'abd'\n",
    "x.isalpha()"
   ]
  },
  {
   "cell_type": "code",
   "execution_count": 127,
   "id": "5b79afca",
   "metadata": {},
   "outputs": [
    {
     "name": "stdout",
     "output_type": "stream",
     "text": [
      "Help on built-in function isalpha:\n",
      "\n",
      "isalpha() method of builtins.str instance\n",
      "    Return True if the string is an alphabetic string, False otherwise.\n",
      "    \n",
      "    A string is alphabetic if all characters in the string are alphabetic and there\n",
      "    is at least one character in the string.\n",
      "\n"
     ]
    }
   ],
   "source": [
    "help(x.isalpha)"
   ]
  },
  {
   "cell_type": "markdown",
   "id": "4339ce89",
   "metadata": {},
   "source": [
    "# isascii"
   ]
  },
  {
   "cell_type": "markdown",
   "id": "e0a72244",
   "metadata": {},
   "source": [
    "* The isascii() method returns True if the string is empty or all characters in the string are ASCII.\n",
    "* ASCII stands for American Standard Code for Information Interchange.\n",
    "* It is a character endcoding standard that uses numbers from 0 to 127 to represent English characters.\n"
   ]
  },
  {
   "cell_type": "code",
   "execution_count": 118,
   "id": "b8c79e4d",
   "metadata": {},
   "outputs": [
    {
     "data": {
      "text/plain": [
       "True"
      ]
     },
     "execution_count": 118,
     "metadata": {},
     "output_type": "execute_result"
    }
   ],
   "source": [
    "x = ' '\n",
    "x.isascii()"
   ]
  },
  {
   "cell_type": "code",
   "execution_count": 119,
   "id": "32a2a790",
   "metadata": {},
   "outputs": [
    {
     "data": {
      "text/plain": [
       "True"
      ]
     },
     "execution_count": 119,
     "metadata": {},
     "output_type": "execute_result"
    }
   ],
   "source": [
    "x = '@#$'\n",
    "x.isascii()"
   ]
  },
  {
   "cell_type": "code",
   "execution_count": 121,
   "id": "dabae4e8",
   "metadata": {},
   "outputs": [
    {
     "data": {
      "text/plain": [
       "True"
      ]
     },
     "execution_count": 121,
     "metadata": {},
     "output_type": "execute_result"
    }
   ],
   "source": [
    "x = 'abc123'\n",
    "x.isascii()"
   ]
  },
  {
   "cell_type": "code",
   "execution_count": 122,
   "id": "04bc50fa",
   "metadata": {},
   "outputs": [
    {
     "data": {
      "text/plain": [
       "False"
      ]
     },
     "execution_count": 122,
     "metadata": {},
     "output_type": "execute_result"
    }
   ],
   "source": [
    "x = 'ä,ö,ü,ß' #german characters are not ascii\n",
    "x.isascii()"
   ]
  },
  {
   "cell_type": "code",
   "execution_count": 126,
   "id": "4f3a9e6c",
   "metadata": {},
   "outputs": [
    {
     "name": "stdout",
     "output_type": "stream",
     "text": [
      "Help on built-in function isascii:\n",
      "\n",
      "isascii() method of builtins.str instance\n",
      "    Return True if all characters in the string are ASCII, False otherwise.\n",
      "    \n",
      "    ASCII characters have code points in the range U+0000-U+007F.\n",
      "    Empty string is ASCII too.\n",
      "\n"
     ]
    }
   ],
   "source": [
    "help(x.isascii)"
   ]
  },
  {
   "cell_type": "markdown",
   "id": "0e6c04ef",
   "metadata": {},
   "source": [
    "# isdecimal"
   ]
  },
  {
   "cell_type": "markdown",
   "id": "07e87547",
   "metadata": {},
   "source": [
    "* True if all characters in the string are decimal characters.\n",
    "* False if at least one character is not decimal character."
   ]
  },
  {
   "cell_type": "code",
   "execution_count": 136,
   "id": "e2b7b44b",
   "metadata": {
    "scrolled": true
   },
   "outputs": [
    {
     "name": "stdout",
     "output_type": "stream",
     "text": [
      "True\n"
     ]
    }
   ],
   "source": [
    "x = '645'\n",
    "x=x.isdecimal()\n",
    "print(x)"
   ]
  },
  {
   "cell_type": "code",
   "execution_count": 129,
   "id": "85946842",
   "metadata": {},
   "outputs": [
    {
     "data": {
      "text/plain": [
       "False"
      ]
     },
     "execution_count": 129,
     "metadata": {},
     "output_type": "execute_result"
    }
   ],
   "source": [
    "x = 'abd'\n",
    "x.isdecimal()"
   ]
  },
  {
   "cell_type": "code",
   "execution_count": 130,
   "id": "b4d94c34",
   "metadata": {},
   "outputs": [
    {
     "data": {
      "text/plain": [
       "False"
      ]
     },
     "execution_count": 130,
     "metadata": {},
     "output_type": "execute_result"
    }
   ],
   "source": [
    "x = 'abc123'\n",
    "x.isdecimal()"
   ]
  },
  {
   "cell_type": "code",
   "execution_count": 133,
   "id": "0a50260d",
   "metadata": {},
   "outputs": [
    {
     "data": {
      "text/plain": [
       "False"
      ]
     },
     "execution_count": 133,
     "metadata": {},
     "output_type": "execute_result"
    }
   ],
   "source": [
    "x = '34.03'\n",
    "x.isdecimal()"
   ]
  },
  {
   "cell_type": "code",
   "execution_count": 134,
   "id": "fc380392",
   "metadata": {},
   "outputs": [
    {
     "name": "stdout",
     "output_type": "stream",
     "text": [
      "Help on built-in function isdecimal:\n",
      "\n",
      "isdecimal() method of builtins.str instance\n",
      "    Return True if the string is a decimal string, False otherwise.\n",
      "    \n",
      "    A string is a decimal string if all characters in the string are decimal and\n",
      "    there is at least one character in the string.\n",
      "\n"
     ]
    }
   ],
   "source": [
    "help(x.isdecimal)"
   ]
  },
  {
   "cell_type": "markdown",
   "id": "e45b244e",
   "metadata": {},
   "source": [
    "# isdigit"
   ]
  },
  {
   "cell_type": "markdown",
   "id": "e0e9c330",
   "metadata": {},
   "source": [
    "* Python isdigit() function returns a Boolean value TRUE if all the values in the input string are digits; else it returns FALSE.\n",
    "* The Python isdigit() string method is used to check if all the characters in the string are digit values or not. \n",
    "* Digits are decimal number, exponents, subscripts, etc."
   ]
  },
  {
   "cell_type": "code",
   "execution_count": 138,
   "id": "57f4a4d3",
   "metadata": {},
   "outputs": [
    {
     "data": {
      "text/plain": [
       "True"
      ]
     },
     "execution_count": 138,
     "metadata": {},
     "output_type": "execute_result"
    }
   ],
   "source": [
    "x = '15'\n",
    "x.isdigit()"
   ]
  },
  {
   "cell_type": "code",
   "execution_count": 139,
   "id": "8708553c",
   "metadata": {},
   "outputs": [
    {
     "data": {
      "text/plain": [
       "False"
      ]
     },
     "execution_count": 139,
     "metadata": {},
     "output_type": "execute_result"
    }
   ],
   "source": [
    "x = 'abc3.4'\n",
    "x.isdigit()"
   ]
  },
  {
   "cell_type": "code",
   "execution_count": 145,
   "id": "662680e9",
   "metadata": {},
   "outputs": [
    {
     "name": "stdout",
     "output_type": "stream",
     "text": [
      "False\n"
     ]
    }
   ],
   "source": [
    "x = '24.3'\n",
    "x=x.isdigit()\n",
    "print(x)"
   ]
  },
  {
   "cell_type": "code",
   "execution_count": 144,
   "id": "3a90f55c",
   "metadata": {},
   "outputs": [
    {
     "name": "stdout",
     "output_type": "stream",
     "text": [
      "Help on built-in function isdigit:\n",
      "\n",
      "isdigit() method of builtins.str instance\n",
      "    Return True if the string is a digit string, False otherwise.\n",
      "    \n",
      "    A string is a digit string if all characters in the string are digits and there\n",
      "    is at least one character in the string.\n",
      "\n"
     ]
    }
   ],
   "source": [
    "help(x.isdigit)"
   ]
  },
  {
   "cell_type": "markdown",
   "id": "15c14fac",
   "metadata": {},
   "source": [
    "# isidentifier"
   ]
  },
  {
   "cell_type": "markdown",
   "id": "cd750e46",
   "metadata": {},
   "source": [
    "* Python String isidentifier() method is used to check whether a string is a valid identifier or not.\n",
    "* The method returns True if the string is a valid identifier, else returns False.\n",
    "* A string is considered a valid identifier if it only contains alphanumeric letters (a-z) and (0-9), or underscores (_). \n",
    "* A valid identifier cannot start with a number, or contain any spaces."
   ]
  },
  {
   "cell_type": "code",
   "execution_count": 146,
   "id": "1c69df55",
   "metadata": {},
   "outputs": [
    {
     "data": {
      "text/plain": [
       "True"
      ]
     },
     "execution_count": 146,
     "metadata": {},
     "output_type": "execute_result"
    }
   ],
   "source": [
    "x = 'abc_342'\n",
    "x.isidentifier()"
   ]
  },
  {
   "cell_type": "code",
   "execution_count": 147,
   "id": "165254b6",
   "metadata": {},
   "outputs": [
    {
     "data": {
      "text/plain": [
       "False"
      ]
     },
     "execution_count": 147,
     "metadata": {},
     "output_type": "execute_result"
    }
   ],
   "source": [
    "x ='123'\n",
    "x.isidentifier()"
   ]
  },
  {
   "cell_type": "code",
   "execution_count": 148,
   "id": "7ec11701",
   "metadata": {},
   "outputs": [
    {
     "data": {
      "text/plain": [
       "True"
      ]
     },
     "execution_count": 148,
     "metadata": {},
     "output_type": "execute_result"
    }
   ],
   "source": [
    "x = 'abc'\n",
    "x.isidentifier()"
   ]
  },
  {
   "cell_type": "code",
   "execution_count": 150,
   "id": "7edb87a1",
   "metadata": {},
   "outputs": [
    {
     "data": {
      "text/plain": [
       "True"
      ]
     },
     "execution_count": 150,
     "metadata": {},
     "output_type": "execute_result"
    }
   ],
   "source": [
    "x = '_'\n",
    "x.isidentifier()"
   ]
  },
  {
   "cell_type": "code",
   "execution_count": 152,
   "id": "f0e63138",
   "metadata": {},
   "outputs": [
    {
     "name": "stdout",
     "output_type": "stream",
     "text": [
      "Help on built-in function isidentifier:\n",
      "\n",
      "isidentifier() method of builtins.str instance\n",
      "    Return True if the string is a valid Python identifier, False otherwise.\n",
      "    \n",
      "    Call keyword.iskeyword(s) to test whether string s is a reserved identifier,\n",
      "    such as \"def\" or \"class\".\n",
      "\n"
     ]
    }
   ],
   "source": [
    "help(x.isidentifier)"
   ]
  },
  {
   "cell_type": "markdown",
   "id": "e9758c47",
   "metadata": {},
   "source": [
    "# islower"
   ]
  },
  {
   "cell_type": "markdown",
   "id": "d235262b",
   "metadata": {},
   "source": [
    "* Python String islower() method checks if all characters in the string are lowercase.\n",
    "* This method returns True if all alphabets in a string are lowercase alphabets. \n",
    "* If the string contains at least one uppercase alphabet, it returns False."
   ]
  },
  {
   "cell_type": "code",
   "execution_count": 153,
   "id": "e2b82d1a",
   "metadata": {},
   "outputs": [
    {
     "data": {
      "text/plain": [
       "False"
      ]
     },
     "execution_count": 153,
     "metadata": {},
     "output_type": "execute_result"
    }
   ],
   "source": [
    "x = 'ABC'\n",
    "x.islower()"
   ]
  },
  {
   "cell_type": "code",
   "execution_count": 154,
   "id": "76d3cbb0",
   "metadata": {},
   "outputs": [
    {
     "data": {
      "text/plain": [
       "False"
      ]
     },
     "execution_count": 154,
     "metadata": {},
     "output_type": "execute_result"
    }
   ],
   "source": [
    "x = 'aBc'\n",
    "x.islower()"
   ]
  },
  {
   "cell_type": "code",
   "execution_count": 155,
   "id": "d8d3058a",
   "metadata": {},
   "outputs": [
    {
     "data": {
      "text/plain": [
       "True"
      ]
     },
     "execution_count": 155,
     "metadata": {},
     "output_type": "execute_result"
    }
   ],
   "source": [
    "x = 'ab_c'\n",
    "x.islower()"
   ]
  },
  {
   "cell_type": "code",
   "execution_count": 156,
   "id": "61d408bd",
   "metadata": {},
   "outputs": [
    {
     "data": {
      "text/plain": [
       "True"
      ]
     },
     "execution_count": 156,
     "metadata": {},
     "output_type": "execute_result"
    }
   ],
   "source": [
    "x = '12abe'\n",
    "x.islower()"
   ]
  },
  {
   "cell_type": "code",
   "execution_count": 157,
   "id": "161aa87b",
   "metadata": {},
   "outputs": [
    {
     "name": "stdout",
     "output_type": "stream",
     "text": [
      "Help on built-in function islower:\n",
      "\n",
      "islower() method of builtins.str instance\n",
      "    Return True if the string is a lowercase string, False otherwise.\n",
      "    \n",
      "    A string is lowercase if all cased characters in the string are lowercase and\n",
      "    there is at least one cased character in the string.\n",
      "\n"
     ]
    }
   ],
   "source": [
    "help(x.islower)"
   ]
  },
  {
   "cell_type": "markdown",
   "id": "e97f235d",
   "metadata": {},
   "source": [
    "# isprintable"
   ]
  },
  {
   "cell_type": "markdown",
   "id": "afe92646",
   "metadata": {},
   "source": [
    "* The isprintable() method returns “True” if all characters in the string are printable or the string is empty,\n",
    "Otherwise, It returns “False”.\n",
    "* Some characters in the Unicode character database as \"Other\" or \"Separator\" are non-printable. \n",
    "* All escape characters such as '\\n', '\\t', '\\r', '\\x16', '\\xlf', etc. come under Non-Printable characters"
   ]
  },
  {
   "cell_type": "code",
   "execution_count": 163,
   "id": "01dd2688",
   "metadata": {},
   "outputs": [
    {
     "data": {
      "text/plain": [
       "False"
      ]
     },
     "execution_count": 163,
     "metadata": {},
     "output_type": "execute_result"
    }
   ],
   "source": [
    "X = 'dust\\n'\n",
    "X.isprintable()"
   ]
  },
  {
   "cell_type": "code",
   "execution_count": 161,
   "id": "5d544120",
   "metadata": {},
   "outputs": [
    {
     "data": {
      "text/plain": [
       "True"
      ]
     },
     "execution_count": 161,
     "metadata": {},
     "output_type": "execute_result"
    }
   ],
   "source": [
    "x = 'hlo'\n",
    "x.isprintable()"
   ]
  },
  {
   "cell_type": "code",
   "execution_count": 162,
   "id": "a630a4f7",
   "metadata": {},
   "outputs": [
    {
     "name": "stdout",
     "output_type": "stream",
     "text": [
      "Help on built-in function isprintable:\n",
      "\n",
      "isprintable() method of builtins.str instance\n",
      "    Return True if the string is printable, False otherwise.\n",
      "    \n",
      "    A string is printable if all of its characters are considered printable in\n",
      "    repr() or if it is empty.\n",
      "\n"
     ]
    }
   ],
   "source": [
    "help(x.isprintable)"
   ]
  },
  {
   "cell_type": "markdown",
   "id": "63aa8bb8",
   "metadata": {},
   "source": [
    "# isspace"
   ]
  },
  {
   "cell_type": "markdown",
   "id": "7e9da5c3",
   "metadata": {},
   "source": [
    "* Python String isspace() method returns “True” if all characters in the string are whitespace characters, Otherwise, It returns “False”."
   ]
  },
  {
   "cell_type": "code",
   "execution_count": 169,
   "id": "32b78e6a",
   "metadata": {},
   "outputs": [
    {
     "data": {
      "text/plain": [
       "False"
      ]
     },
     "execution_count": 169,
     "metadata": {},
     "output_type": "execute_result"
    }
   ],
   "source": [
    "x = 'abc xyz'\n",
    "x.isspace()"
   ]
  },
  {
   "cell_type": "code",
   "execution_count": 170,
   "id": "afe58ddc",
   "metadata": {},
   "outputs": [
    {
     "data": {
      "text/plain": [
       "True"
      ]
     },
     "execution_count": 170,
     "metadata": {},
     "output_type": "execute_result"
    }
   ],
   "source": [
    "x = ' '\n",
    "x.isspace()\n"
   ]
  },
  {
   "cell_type": "code",
   "execution_count": 172,
   "id": "25fec8d0",
   "metadata": {},
   "outputs": [
    {
     "data": {
      "text/plain": [
       "True"
      ]
     },
     "execution_count": 172,
     "metadata": {},
     "output_type": "execute_result"
    }
   ],
   "source": [
    "x = '\\n'\n",
    "x.isspace()"
   ]
  },
  {
   "cell_type": "code",
   "execution_count": 173,
   "id": "ce73aa92",
   "metadata": {},
   "outputs": [
    {
     "name": "stdout",
     "output_type": "stream",
     "text": [
      "Help on built-in function isspace:\n",
      "\n",
      "isspace() method of builtins.str instance\n",
      "    Return True if the string is a whitespace string, False otherwise.\n",
      "    \n",
      "    A string is whitespace if all characters in the string are whitespace and there\n",
      "    is at least one character in the string.\n",
      "\n"
     ]
    }
   ],
   "source": [
    "help(x.isspace)"
   ]
  },
  {
   "cell_type": "markdown",
   "id": "33bb7f4e",
   "metadata": {},
   "source": [
    "# istitle"
   ]
  },
  {
   "cell_type": "markdown",
   "id": "e971c027",
   "metadata": {},
   "source": [
    "* The istitle() method returns True if all words in a text start with a upper case letter, AND the rest of the word are lower case letters, otherwise False. "
   ]
  },
  {
   "cell_type": "code",
   "execution_count": 175,
   "id": "b1f8d2d2",
   "metadata": {},
   "outputs": [
    {
     "data": {
      "text/plain": [
       "False"
      ]
     },
     "execution_count": 175,
     "metadata": {},
     "output_type": "execute_result"
    }
   ],
   "source": [
    "x = 'hello world'\n",
    "x.istitle()"
   ]
  },
  {
   "cell_type": "code",
   "execution_count": 176,
   "id": "92ef28c5",
   "metadata": {},
   "outputs": [
    {
     "data": {
      "text/plain": [
       "True"
      ]
     },
     "execution_count": 176,
     "metadata": {},
     "output_type": "execute_result"
    }
   ],
   "source": [
    "x = 'Hello World'\n",
    "x.istitle()"
   ]
  },
  {
   "cell_type": "code",
   "execution_count": 177,
   "id": "de37835c",
   "metadata": {},
   "outputs": [
    {
     "data": {
      "text/plain": [
       "False"
      ]
     },
     "execution_count": 177,
     "metadata": {},
     "output_type": "execute_result"
    }
   ],
   "source": [
    "x = 'HELLO WORLD'\n",
    "x.istitle()"
   ]
  },
  {
   "cell_type": "code",
   "execution_count": 178,
   "id": "6a83b199",
   "metadata": {},
   "outputs": [
    {
     "name": "stdout",
     "output_type": "stream",
     "text": [
      "Help on built-in function istitle:\n",
      "\n",
      "istitle() method of builtins.str instance\n",
      "    Return True if the string is a title-cased string, False otherwise.\n",
      "    \n",
      "    In a title-cased string, upper- and title-case characters may only\n",
      "    follow uncased characters and lowercase characters only cased ones.\n",
      "\n"
     ]
    }
   ],
   "source": [
    "help(x.istitle)"
   ]
  },
  {
   "cell_type": "markdown",
   "id": "4820ef9a",
   "metadata": {},
   "source": [
    "# isupper"
   ]
  },
  {
   "cell_type": "markdown",
   "id": "26d51219",
   "metadata": {},
   "source": [
    "* isupper() is a built-in method used for string handling. \n",
    "* This method returns True if all characters in the string are uppercase, otherwise, returns “False”."
   ]
  },
  {
   "cell_type": "code",
   "execution_count": 179,
   "id": "6ce56a46",
   "metadata": {},
   "outputs": [
    {
     "data": {
      "text/plain": [
       "False"
      ]
     },
     "execution_count": 179,
     "metadata": {},
     "output_type": "execute_result"
    }
   ],
   "source": [
    "x = 'helloworld'\n",
    "x.isupper()"
   ]
  },
  {
   "cell_type": "code",
   "execution_count": 180,
   "id": "42871c79",
   "metadata": {},
   "outputs": [
    {
     "data": {
      "text/plain": [
       "True"
      ]
     },
     "execution_count": 180,
     "metadata": {},
     "output_type": "execute_result"
    }
   ],
   "source": [
    "x = 'HELLOWORLD'\n",
    "x.isupper()"
   ]
  },
  {
   "cell_type": "code",
   "execution_count": 181,
   "id": "d101129b",
   "metadata": {},
   "outputs": [
    {
     "data": {
      "text/plain": [
       "False"
      ]
     },
     "execution_count": 181,
     "metadata": {},
     "output_type": "execute_result"
    }
   ],
   "source": [
    "x = 'HelloWorld'\n",
    "x.isupper()"
   ]
  },
  {
   "cell_type": "code",
   "execution_count": 182,
   "id": "c8327cf1",
   "metadata": {},
   "outputs": [
    {
     "name": "stdout",
     "output_type": "stream",
     "text": [
      "Help on built-in function isupper:\n",
      "\n",
      "isupper() method of builtins.str instance\n",
      "    Return True if the string is an uppercase string, False otherwise.\n",
      "    \n",
      "    A string is uppercase if all cased characters in the string are uppercase and\n",
      "    there is at least one cased character in the string.\n",
      "\n"
     ]
    }
   ],
   "source": [
    "help(x.isupper)"
   ]
  },
  {
   "cell_type": "code",
   "execution_count": null,
   "id": "ea7c002d",
   "metadata": {},
   "outputs": [],
   "source": []
  }
 ],
 "metadata": {
  "kernelspec": {
   "display_name": "Python 3 (ipykernel)",
   "language": "python",
   "name": "python3"
  },
  "language_info": {
   "codemirror_mode": {
    "name": "ipython",
    "version": 3
   },
   "file_extension": ".py",
   "mimetype": "text/x-python",
   "name": "python",
   "nbconvert_exporter": "python",
   "pygments_lexer": "ipython3",
   "version": "3.11.3"
  }
 },
 "nbformat": 4,
 "nbformat_minor": 5
}
