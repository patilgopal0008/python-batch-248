{
 "cells": [
  {
   "cell_type": "markdown",
   "id": "97caea83",
   "metadata": {},
   "source": [
    "# data types "
   ]
  },
  {
   "cell_type": "code",
   "execution_count": 1,
   "id": "7b6694d7",
   "metadata": {},
   "outputs": [
    {
     "name": "stdout",
     "output_type": "stream",
     "text": [
      "3.5 <class 'float'>\n"
     ]
    }
   ],
   "source": [
    "x = 3.5\n",
    "print(x,type(x))\n"
   ]
  },
  {
   "cell_type": "code",
   "execution_count": 2,
   "id": "9ed908fa",
   "metadata": {},
   "outputs": [
    {
     "name": "stdout",
     "output_type": "stream",
     "text": [
      "3\n"
     ]
    }
   ],
   "source": [
    "print(int(x)) #changing float data type into integer"
   ]
  },
  {
   "cell_type": "code",
   "execution_count": 3,
   "id": "942fb554",
   "metadata": {},
   "outputs": [
    {
     "name": "stdout",
     "output_type": "stream",
     "text": [
      "3.5\n"
     ]
    }
   ],
   "source": [
    "print(x) #data type can be changed to other only at once by\n",
    "#calling as float in int and after it can be stored as its normal data type"
   ]
  },
  {
   "cell_type": "markdown",
   "id": "5d2398d2",
   "metadata": {},
   "source": [
    "# type casting\n",
    "type casting is changing the value's data type"
   ]
  },
  {
   "cell_type": "code",
   "execution_count": 4,
   "id": "fb5d78ae",
   "metadata": {},
   "outputs": [
    {
     "name": "stdout",
     "output_type": "stream",
     "text": [
      "34.5 <class 'float'>\n",
      "34 <class 'int'>\n"
     ]
    }
   ],
   "source": [
    "x = 34.5\n",
    "print(x,type(x))\n",
    "#type casting of float into int\n",
    "x =int(x)\n",
    "print(x,type(x))"
   ]
  },
  {
   "cell_type": "code",
   "execution_count": 8,
   "id": "a5ef28f7",
   "metadata": {},
   "outputs": [
    {
     "name": "stdout",
     "output_type": "stream",
     "text": [
      "31 <class 'str'>\n",
      "31 <class 'int'>\n"
     ]
    }
   ],
   "source": [
    "x = '31'\n",
    "print(x,type(x))\n",
    "#type casting of string into int\n",
    "x = int(x)\n",
    "print(x,type(x))"
   ]
  },
  {
   "cell_type": "code",
   "execution_count": 9,
   "id": "645912da",
   "metadata": {},
   "outputs": [
    {
     "name": "stdout",
     "output_type": "stream",
     "text": [
      "32 <class 'str'>\n",
      "32.0 <class 'float'>\n"
     ]
    }
   ],
   "source": [
    "x = '32'\n",
    "print(x,type(x))\n",
    "#type casting of string to float\n",
    "x = float(x)\n",
    "print(x,type(x))"
   ]
  },
  {
   "cell_type": "code",
   "execution_count": 10,
   "id": "51a1d08e",
   "metadata": {},
   "outputs": [
    {
     "name": "stdout",
     "output_type": "stream",
     "text": [
      "(2+4j) <class 'complex'>\n"
     ]
    }
   ],
   "source": [
    "#complex numbers\n",
    "x=2+4j\n",
    "print(x,type(x))"
   ]
  },
  {
   "cell_type": "code",
   "execution_count": 12,
   "id": "396227ec",
   "metadata": {},
   "outputs": [
    {
     "data": {
      "text/plain": [
       "(2.0, 4.0)"
      ]
     },
     "execution_count": 12,
     "metadata": {},
     "output_type": "execute_result"
    }
   ],
   "source": [
    "#real and imaginary values of complex num\n",
    "x.real,x.imag"
   ]
  },
  {
   "cell_type": "markdown",
   "id": "f5f835e5",
   "metadata": {},
   "source": [
    "# converting int into binary,octa,hexa\n"
   ]
  },
  {
   "cell_type": "code",
   "execution_count": 13,
   "id": "9f47a1ef",
   "metadata": {},
   "outputs": [
    {
     "name": "stdout",
     "output_type": "stream",
     "text": [
      "31 <class 'int'>\n",
      "0b11111 <class 'str'>\n"
     ]
    }
   ],
   "source": [
    "x = 31\n",
    "print(x,type(x))\n",
    "#converting int into binary \n",
    "x =bin(x)\n",
    "print(x,type(x))"
   ]
  },
  {
   "cell_type": "code",
   "execution_count": 14,
   "id": "7435abf9",
   "metadata": {},
   "outputs": [
    {
     "name": "stdout",
     "output_type": "stream",
     "text": [
      "43 <class 'int'>\n",
      "0o53 <class 'str'>\n"
     ]
    }
   ],
   "source": [
    "x = 43\n",
    "print(x,type(x))\n",
    "#converting int into octa \n",
    "x=oct(x)\n",
    "print(x,type(x))"
   ]
  },
  {
   "cell_type": "code",
   "execution_count": 16,
   "id": "6153e9d8",
   "metadata": {},
   "outputs": [
    {
     "name": "stdout",
     "output_type": "stream",
     "text": [
      "64 <class 'int'>\n",
      "0x40 <class 'str'>\n"
     ]
    }
   ],
   "source": [
    "x = 64\n",
    "print(x,type(x))\n",
    "#convrting int into hexa\n",
    "x = hex(x)\n",
    "print(x,type(x))"
   ]
  },
  {
   "cell_type": "code",
   "execution_count": 21,
   "id": "5dcb97d6",
   "metadata": {},
   "outputs": [
    {
     "data": {
      "text/plain": [
       "'\"x=\\'64\\'\\nprint(x,type(x))\\n#convert int to hex\\nx=hex(x)   #uncomment to see the ans\\nprint(x,type(x))'"
      ]
     },
     "execution_count": 21,
     "metadata": {},
     "output_type": "execute_result"
    }
   ],
   "source": [
    "\"\"\"\"x='64'\n",
    "print(x,type(x))\n",
    "#convert int to hex\n",
    "x=hex(x)   #uncomment to see the ans\n",
    "print(x,type(x))\"\"\" #str cannot be convert as the integer can convert"
   ]
  },
  {
   "cell_type": "markdown",
   "id": "26a058ba",
   "metadata": {},
   "source": [
    "# converting binary,octa,hexa into int"
   ]
  },
  {
   "cell_type": "code",
   "execution_count": 24,
   "id": "d2e3071a",
   "metadata": {},
   "outputs": [
    {
     "data": {
      "text/plain": [
       "64"
      ]
     },
     "execution_count": 24,
     "metadata": {},
     "output_type": "execute_result"
    }
   ],
   "source": [
    "int(\"0x40\",0)"
   ]
  },
  {
   "cell_type": "code",
   "execution_count": 25,
   "id": "6f1baaa2",
   "metadata": {},
   "outputs": [
    {
     "data": {
      "text/plain": [
       "43"
      ]
     },
     "execution_count": 25,
     "metadata": {},
     "output_type": "execute_result"
    }
   ],
   "source": [
    "int(\"0o53\",0)"
   ]
  },
  {
   "cell_type": "code",
   "execution_count": 26,
   "id": "2b1b039e",
   "metadata": {},
   "outputs": [
    {
     "data": {
      "text/plain": [
       "31"
      ]
     },
     "execution_count": 26,
     "metadata": {},
     "output_type": "execute_result"
    }
   ],
   "source": [
    "int(\"0b11111\",0)"
   ]
  },
  {
   "cell_type": "code",
   "execution_count": 32,
   "id": "e23e8d3f",
   "metadata": {},
   "outputs": [
    {
     "name": "stdout",
     "output_type": "stream",
     "text": [
      "64 43 31\n",
      "64 43 31\n"
     ]
    }
   ],
   "source": [
    "print(int(\"0x40\",0),int(\"0o53\",0),int(\"0b11111\",0)) \n",
    "print(int(\"040\",16),int(\"053\",8),int(\"011111\",2)) #by removing b,o,x from base num and adding theeir base values of 2,8,16"
   ]
  },
  {
   "cell_type": "code",
   "execution_count": 33,
   "id": "f497d30a",
   "metadata": {},
   "outputs": [],
   "source": [
    "#int base must contain value between 2 and 6"
   ]
  },
  {
   "cell_type": "markdown",
   "id": "a2bea819",
   "metadata": {},
   "source": [
    "#sequential data type"
   ]
  },
  {
   "cell_type": "markdown",
   "id": "65fcc7b2",
   "metadata": {},
   "source": [
    "types of sequencial data type 1. string(\"\",'',\"\"\"\",''\"\") 2.list[] 3.list()"
   ]
  },
  {
   "cell_type": "markdown",
   "id": "65c697a8",
   "metadata": {},
   "source": [
    "#python index starts with 0  \n",
    "hello  \n",
    "^^^^^  \n",
    "01234  ----->indexing"
   ]
  },
  {
   "cell_type": "code",
   "execution_count": 38,
   "id": "e3ca64d2",
   "metadata": {},
   "outputs": [
    {
     "data": {
      "text/plain": [
       "'ell'"
      ]
     },
     "execution_count": 38,
     "metadata": {},
     "output_type": "execute_result"
    }
   ],
   "source": [
    "#slicing\n",
    "x='hello'\n",
    "x[1:4:] #syntax of slicing [start:end:stepsize]"
   ]
  },
  {
   "cell_type": "code",
   "execution_count": 39,
   "id": "693dbb38",
   "metadata": {},
   "outputs": [
    {
     "data": {
      "text/plain": [
       "'cao'"
      ]
     },
     "execution_count": 39,
     "metadata": {},
     "output_type": "execute_result"
    }
   ],
   "source": [
    "x='chalo'\n",
    "x[0:6:2]"
   ]
  },
  {
   "cell_type": "markdown",
   "id": "b0ec5b96",
   "metadata": {},
   "source": [
    "negative indexing   \n",
    "negative indexing always starts with -1 not with 0  \n",
    "h e l l o  \n",
    "^ ^ ^ ^ ^  \n",
    "-5-4-3-2-1  "
   ]
  },
  {
   "cell_type": "code",
   "execution_count": 45,
   "id": "19639297",
   "metadata": {},
   "outputs": [
    {
     "data": {
      "text/plain": [
       "'olle'"
      ]
     },
     "execution_count": 45,
     "metadata": {},
     "output_type": "execute_result"
    }
   ],
   "source": [
    "x = 'hello'\n",
    "x[-1:-5:-1]   #step size in negative indexing is always'-1'"
   ]
  },
  {
   "cell_type": "code",
   "execution_count": 46,
   "id": "5367f06d",
   "metadata": {},
   "outputs": [
    {
     "data": {
      "text/plain": [
       "'gana'"
      ]
     },
     "execution_count": 46,
     "metadata": {},
     "output_type": "execute_result"
    }
   ],
   "source": [
    "x='telangana state'\n",
    "x[5:9:1] #indexing"
   ]
  },
  {
   "cell_type": "markdown",
   "id": "8e38bd85",
   "metadata": {},
   "source": [
    "list is a heterogenius contains all types of data"
   ]
  },
  {
   "cell_type": "code",
   "execution_count": 54,
   "id": "5552ee56",
   "metadata": {},
   "outputs": [
    {
     "data": {
      "text/plain": [
       "[1, 2, 3]"
      ]
     },
     "execution_count": 54,
     "metadata": {},
     "output_type": "execute_result"
    }
   ],
   "source": [
    "x =['hello',1,2,3,45.6,4+2j]\n",
    "x[1:4:1]"
   ]
  },
  {
   "cell_type": "code",
   "execution_count": 56,
   "id": "647350fb",
   "metadata": {},
   "outputs": [
    {
     "data": {
      "text/plain": [
       "[(4+2j), 45.6]"
      ]
     },
     "execution_count": 56,
     "metadata": {},
     "output_type": "execute_result"
    }
   ],
   "source": [
    "x[-1:-3:-1]"
   ]
  },
  {
   "cell_type": "code",
   "execution_count": null,
   "id": "fdb79f22",
   "metadata": {},
   "outputs": [],
   "source": []
  }
 ],
 "metadata": {
  "kernelspec": {
   "display_name": "Python 3 (ipykernel)",
   "language": "python",
   "name": "python3"
  },
  "language_info": {
   "codemirror_mode": {
    "name": "ipython",
    "version": 3
   },
   "file_extension": ".py",
   "mimetype": "text/x-python",
   "name": "python",
   "nbconvert_exporter": "python",
   "pygments_lexer": "ipython3",
   "version": "3.11.3"
  }
 },
 "nbformat": 4,
 "nbformat_minor": 5
}
