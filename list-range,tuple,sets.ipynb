{
 "cells": [
  {
   "cell_type": "markdown",
   "id": "836feecb",
   "metadata": {},
   "source": [
    "# range"
   ]
  },
  {
   "cell_type": "markdown",
   "id": "7d23d390",
   "metadata": {},
   "source": [
    "* The range() function returns a sequence of numbers, starting from 0 by default, and increments by 1 (by default), and stops before a specified number."
   ]
  },
  {
   "cell_type": "code",
   "execution_count": 4,
   "id": "880a8fea",
   "metadata": {},
   "outputs": [
    {
     "name": "stdout",
     "output_type": "stream",
     "text": [
      "[1, 2, 3, 4, 5, 6, 7, 8, 9]\n"
     ]
    }
   ],
   "source": [
    "x =list(range(1,10))\n",
    "print(x)"
   ]
  },
  {
   "cell_type": "code",
   "execution_count": 6,
   "id": "61a5933d",
   "metadata": {},
   "outputs": [
    {
     "name": "stdout",
     "output_type": "stream",
     "text": [
      "[-1, -2, -3, -4, -5, -6, -7, -8, -9, -10, -11]\n"
     ]
    }
   ],
   "source": [
    "x=list(range(-1,-12,-1))\n",
    "print(x)"
   ]
  },
  {
   "cell_type": "code",
   "execution_count": 7,
   "id": "525d0c06",
   "metadata": {},
   "outputs": [
    {
     "name": "stdout",
     "output_type": "stream",
     "text": [
      "[-11, -10, -9, -8, -7, -6, -5, -4, -3, -2, -1]\n"
     ]
    }
   ],
   "source": [
    "x=list(range(-11,0,1))\n",
    "print(x)"
   ]
  },
  {
   "cell_type": "markdown",
   "id": "e9e9519a",
   "metadata": {},
   "source": [
    "# tuple"
   ]
  },
  {
   "cell_type": "markdown",
   "id": "2bb1b3b7",
   "metadata": {},
   "source": [
    "* tuples are immutable\n",
    "* sequential\n",
    "* heteriogenious"
   ]
  },
  {
   "cell_type": "code",
   "execution_count": 10,
   "id": "32aea879",
   "metadata": {},
   "outputs": [
    {
     "data": {
      "text/plain": [
       "()"
      ]
     },
     "execution_count": 10,
     "metadata": {},
     "output_type": "execute_result"
    }
   ],
   "source": [
    "a = tuple()\n",
    "a"
   ]
  },
  {
   "cell_type": "code",
   "execution_count": 12,
   "id": "958b9440",
   "metadata": {},
   "outputs": [
    {
     "data": {
      "text/plain": [
       "(('h', 'e', 'l', 'l', 'o'), 5)"
      ]
     },
     "execution_count": 12,
     "metadata": {},
     "output_type": "execute_result"
    }
   ],
   "source": [
    "a = tuple('hello')\n",
    "a,len(a)"
   ]
  },
  {
   "cell_type": "code",
   "execution_count": 13,
   "id": "9723182f",
   "metadata": {},
   "outputs": [
    {
     "data": {
      "text/plain": [
       "1"
      ]
     },
     "execution_count": 13,
     "metadata": {},
     "output_type": "execute_result"
    }
   ],
   "source": [
    "a = (1,2.4,3-4j,False,print)\n",
    "a[0]"
   ]
  },
  {
   "cell_type": "code",
   "execution_count": 14,
   "id": "124f2ace",
   "metadata": {},
   "outputs": [
    {
     "data": {
      "text/plain": [
       "False"
      ]
     },
     "execution_count": 14,
     "metadata": {},
     "output_type": "execute_result"
    }
   ],
   "source": [
    "a[3]"
   ]
  },
  {
   "cell_type": "code",
   "execution_count": 15,
   "id": "ba9958d6",
   "metadata": {},
   "outputs": [
    {
     "data": {
      "text/plain": [
       "(3-4j)"
      ]
     },
     "execution_count": 15,
     "metadata": {},
     "output_type": "execute_result"
    }
   ],
   "source": [
    "a[2]"
   ]
  },
  {
   "cell_type": "code",
   "execution_count": 16,
   "id": "b1114d49",
   "metadata": {},
   "outputs": [
    {
     "data": {
      "text/plain": [
       "((3-4j), False)"
      ]
     },
     "execution_count": 16,
     "metadata": {},
     "output_type": "execute_result"
    }
   ],
   "source": [
    "a[2:4]"
   ]
  },
  {
   "cell_type": "markdown",
   "id": "4fe153c1",
   "metadata": {},
   "source": [
    "# count"
   ]
  },
  {
   "cell_type": "markdown",
   "id": "6033b125",
   "metadata": {},
   "source": [
    "* The count() method of a Tuple returns the number of times the given element appears in the tuple."
   ]
  },
  {
   "cell_type": "code",
   "execution_count": 21,
   "id": "80c27ea2",
   "metadata": {},
   "outputs": [
    {
     "data": {
      "text/plain": [
       "2"
      ]
     },
     "execution_count": 21,
     "metadata": {},
     "output_type": "execute_result"
    }
   ],
   "source": [
    "x = (11,12,13,14,12,13,14,15)\n",
    "x.count(12)"
   ]
  },
  {
   "cell_type": "code",
   "execution_count": 19,
   "id": "6cef2b18",
   "metadata": {},
   "outputs": [
    {
     "name": "stdout",
     "output_type": "stream",
     "text": [
      "Help on built-in function count:\n",
      "\n",
      "count(value, /) method of builtins.tuple instance\n",
      "    Return number of occurrences of value.\n",
      "\n"
     ]
    }
   ],
   "source": [
    "help(x.count)"
   ]
  },
  {
   "cell_type": "markdown",
   "id": "5e5bc80f",
   "metadata": {},
   "source": [
    "# index"
   ]
  },
  {
   "cell_type": "markdown",
   "id": "1bde083b",
   "metadata": {},
   "source": [
    "* Python index() method searches for the given element in a tuple and returns its position.\n",
    "* It returns first occurrence of the element in the tuple. \n",
    "* Index starts from 0 and end at n-1 where n is length of tuple."
   ]
  },
  {
   "cell_type": "code",
   "execution_count": 25,
   "id": "6eb8d343",
   "metadata": {},
   "outputs": [
    {
     "data": {
      "text/plain": [
       "3"
      ]
     },
     "execution_count": 25,
     "metadata": {},
     "output_type": "execute_result"
    }
   ],
   "source": [
    "x = (11,12,13,14,12,13,14,15,16)\n",
    "x.index(14)"
   ]
  },
  {
   "cell_type": "code",
   "execution_count": 26,
   "id": "ec63f291",
   "metadata": {},
   "outputs": [
    {
     "data": {
      "text/plain": [
       "8"
      ]
     },
     "execution_count": 26,
     "metadata": {},
     "output_type": "execute_result"
    }
   ],
   "source": [
    "x.index(16)"
   ]
  },
  {
   "cell_type": "code",
   "execution_count": 27,
   "id": "bf093ed8",
   "metadata": {},
   "outputs": [
    {
     "name": "stdout",
     "output_type": "stream",
     "text": [
      "5 <class 'int'>\n"
     ]
    }
   ],
   "source": [
    "a = (5)\n",
    "print(a,type(a))"
   ]
  },
  {
   "cell_type": "code",
   "execution_count": 28,
   "id": "94c87099",
   "metadata": {},
   "outputs": [
    {
     "name": "stdout",
     "output_type": "stream",
     "text": [
      "(5,) <class 'tuple'>\n"
     ]
    }
   ],
   "source": [
    "a = (5,)\n",
    "print(a,type(a))"
   ]
  },
  {
   "cell_type": "markdown",
   "id": "3c5f2241",
   "metadata": {},
   "source": [
    "# sets"
   ]
  },
  {
   "cell_type": "markdown",
   "id": "a994cef9",
   "metadata": {},
   "source": [
    "* sets has no sequence\n",
    "* sets has heteriogenious,clustered[no indexing]\n",
    "* denoted by {} or set()\n",
    "* sets are mutable\n",
    "* takes iterators as input\n",
    "* sets doesnot entertains or allows duplicate values\n",
    "* "
   ]
  },
  {
   "cell_type": "code",
   "execution_count": 29,
   "id": "052370e2",
   "metadata": {},
   "outputs": [
    {
     "name": "stdout",
     "output_type": "stream",
     "text": [
      "{1, 2, 3} <class 'set'>\n"
     ]
    }
   ],
   "source": [
    "x = {1,2,3,1,2,3}\n",
    "print(x,type(x))"
   ]
  },
  {
   "cell_type": "code",
   "execution_count": 31,
   "id": "e5d54d12",
   "metadata": {},
   "outputs": [
    {
     "name": "stdout",
     "output_type": "stream",
     "text": [
      "{0, 1, 2, 'hello'} <class 'set'>\n"
     ]
    }
   ],
   "source": [
    "x = {0,1,2,True,False,'hello'}\n",
    "print(x,type(x)) #true and false are represented by 1 and 0"
   ]
  },
  {
   "cell_type": "markdown",
   "id": "7ea4c15c",
   "metadata": {},
   "source": [
    "# methods of sets"
   ]
  },
  {
   "cell_type": "markdown",
   "id": "17e1992b",
   "metadata": {},
   "source": [
    "# add"
   ]
  },
  {
   "cell_type": "code",
   "execution_count": 32,
   "id": "cc2f86a3",
   "metadata": {},
   "outputs": [
    {
     "name": "stdout",
     "output_type": "stream",
     "text": [
      "{1, 2, 3, 4, 14} 5\n"
     ]
    }
   ],
   "source": [
    "a = {1,2,3,4}\n",
    "a.add(14)\n",
    "print(a,len(a))"
   ]
  },
  {
   "cell_type": "code",
   "execution_count": 35,
   "id": "31a0cda3",
   "metadata": {},
   "outputs": [
    {
     "data": {
      "text/plain": [
       "{1, 14, 2, 3, 4, 'numbers'}"
      ]
     },
     "execution_count": 35,
     "metadata": {},
     "output_type": "execute_result"
    }
   ],
   "source": [
    "a.add('numbers')\n",
    "a"
   ]
  },
  {
   "cell_type": "code",
   "execution_count": 47,
   "id": "da4b7a59",
   "metadata": {},
   "outputs": [
    {
     "name": "stdout",
     "output_type": "stream",
     "text": [
      "Help on built-in function add:\n",
      "\n",
      "add(...) method of builtins.set instance\n",
      "    Add an element to a set.\n",
      "    \n",
      "    This has no effect if the element is already present.\n",
      "\n"
     ]
    }
   ],
   "source": [
    "help(x.add)"
   ]
  },
  {
   "cell_type": "markdown",
   "id": "fc735511",
   "metadata": {},
   "source": [
    "# update"
   ]
  },
  {
   "cell_type": "markdown",
   "id": "87e4d576",
   "metadata": {},
   "source": [
    "* The update() method updates the current set, by adding items from another set (or any other iterable).\n",
    "* If an item is present in both sets, only one appearance of this item will be present in the updated set."
   ]
  },
  {
   "cell_type": "code",
   "execution_count": 36,
   "id": "f25bb6ac",
   "metadata": {},
   "outputs": [
    {
     "name": "stdout",
     "output_type": "stream",
     "text": [
      "{1, 2, 3, 4, 5, 6} <class 'set'>\n"
     ]
    }
   ],
   "source": [
    "a = {1,2,3}\n",
    "a.update({4,5,6})\n",
    "print(a,type(a))"
   ]
  },
  {
   "cell_type": "code",
   "execution_count": 37,
   "id": "e199e09a",
   "metadata": {},
   "outputs": [
    {
     "name": "stdout",
     "output_type": "stream",
     "text": [
      "{1, 2, 3, 4} <class 'set'>\n"
     ]
    }
   ],
   "source": [
    "a = {1,2,3}\n",
    "a.update([2,3,4])\n",
    "print(a,type(a))"
   ]
  },
  {
   "cell_type": "code",
   "execution_count": 38,
   "id": "bea2050e",
   "metadata": {},
   "outputs": [
    {
     "data": {
      "text/plain": [
       "{1, 2, 3, 4, 12, 16}"
      ]
     },
     "execution_count": 38,
     "metadata": {},
     "output_type": "execute_result"
    }
   ],
   "source": [
    "a.update((12,16))\n",
    "a"
   ]
  },
  {
   "cell_type": "code",
   "execution_count": 46,
   "id": "8a52dd84",
   "metadata": {},
   "outputs": [
    {
     "name": "stdout",
     "output_type": "stream",
     "text": [
      "Help on built-in function update:\n",
      "\n",
      "update(...) method of builtins.set instance\n",
      "    Update a set with the union of itself and others.\n",
      "\n"
     ]
    }
   ],
   "source": [
    "help(x.update)"
   ]
  },
  {
   "cell_type": "markdown",
   "id": "d15d9f6f",
   "metadata": {},
   "source": [
    "# remove"
   ]
  },
  {
   "cell_type": "markdown",
   "id": "b3cb5877",
   "metadata": {},
   "source": [
    "* The remove() removes the specified element from the set and updates the set.\n",
    "* It doesn't return any value.\n",
    "* If the element passed to remove() doesn't exist, KeyError exception is thrown."
   ]
  },
  {
   "cell_type": "code",
   "execution_count": 50,
   "id": "cdafb5fd",
   "metadata": {},
   "outputs": [
    {
     "data": {
      "text/plain": [
       "{1, 2, 3, 5, 6}"
      ]
     },
     "execution_count": 50,
     "metadata": {},
     "output_type": "execute_result"
    }
   ],
   "source": [
    "x = {1,2,3,4,5,6}\n",
    "x.remove(4)\n",
    "x"
   ]
  },
  {
   "cell_type": "code",
   "execution_count": 51,
   "id": "44dd6ccf",
   "metadata": {},
   "outputs": [
    {
     "data": {
      "text/plain": [
       "{1, 2, 3, 5, 6}"
      ]
     },
     "execution_count": 51,
     "metadata": {},
     "output_type": "execute_result"
    }
   ],
   "source": [
    "x"
   ]
  },
  {
   "cell_type": "code",
   "execution_count": 52,
   "id": "f3efa82c",
   "metadata": {},
   "outputs": [
    {
     "data": {
      "text/plain": [
       "{1, 2, 5, 6}"
      ]
     },
     "execution_count": 52,
     "metadata": {},
     "output_type": "execute_result"
    }
   ],
   "source": [
    "x.remove(3)\n",
    "x"
   ]
  },
  {
   "cell_type": "code",
   "execution_count": 54,
   "id": "354bb2c5",
   "metadata": {},
   "outputs": [
    {
     "data": {
      "text/plain": [
       "\"'x.remove(7)\\nx\""
      ]
     },
     "execution_count": 54,
     "metadata": {},
     "output_type": "execute_result"
    }
   ],
   "source": [
    "''''x.remove(7)\n",
    "x''' #uncomment for error"
   ]
  },
  {
   "cell_type": "code",
   "execution_count": 45,
   "id": "38a4dc7f",
   "metadata": {},
   "outputs": [
    {
     "name": "stdout",
     "output_type": "stream",
     "text": [
      "Help on built-in function remove:\n",
      "\n",
      "remove(...) method of builtins.set instance\n",
      "    Remove an element from a set; it must be a member.\n",
      "    \n",
      "    If the element is not a member, raise a KeyError.\n",
      "\n"
     ]
    }
   ],
   "source": [
    "help(x.remove)"
   ]
  },
  {
   "cell_type": "markdown",
   "id": "73602cc8",
   "metadata": {},
   "source": [
    "# discard"
   ]
  },
  {
   "cell_type": "markdown",
   "id": "6e8b444b",
   "metadata": {},
   "source": [
    "* The discard() method removes the specified item from the set.\n",
    "* This method is different from the remove() method, because the remove() method will raise an error if the specified item does not exist, and the discard() method will not."
   ]
  },
  {
   "cell_type": "code",
   "execution_count": 56,
   "id": "960e5911",
   "metadata": {},
   "outputs": [
    {
     "name": "stdout",
     "output_type": "stream",
     "text": [
      "{1, 2, 'n'} <class 'set'>\n"
     ]
    }
   ],
   "source": [
    "x = {1,'m',2,'n'}\n",
    "x.discard('m')\n",
    "print(x,type(x))"
   ]
  },
  {
   "cell_type": "code",
   "execution_count": 57,
   "id": "0b9a8785",
   "metadata": {},
   "outputs": [
    {
     "name": "stdout",
     "output_type": "stream",
     "text": [
      "{1, 2, 'n'}\n"
     ]
    }
   ],
   "source": [
    "x.discard('z')\n",
    "print(x)"
   ]
  },
  {
   "cell_type": "code",
   "execution_count": 58,
   "id": "3d86841b",
   "metadata": {},
   "outputs": [
    {
     "name": "stdout",
     "output_type": "stream",
     "text": [
      "Help on built-in function discard:\n",
      "\n",
      "discard(...) method of builtins.set instance\n",
      "    Remove an element from a set if it is a member.\n",
      "    \n",
      "    Unlike set.remove(), the discard() method does not raise\n",
      "    an exception when an element is missing from the set.\n",
      "\n"
     ]
    }
   ],
   "source": [
    "help(x.discard)"
   ]
  },
  {
   "cell_type": "markdown",
   "id": "a8427d7b",
   "metadata": {},
   "source": [
    "# pop"
   ]
  },
  {
   "cell_type": "markdown",
   "id": "f4d43101",
   "metadata": {},
   "source": [
    "* The pop() method removes a random item from the set. \n",
    "* This method returns the removed item."
   ]
  },
  {
   "cell_type": "code",
   "execution_count": 59,
   "id": "1b14f853",
   "metadata": {},
   "outputs": [
    {
     "name": "stdout",
     "output_type": "stream",
     "text": [
      "{2, 'n', 'm'} 3\n"
     ]
    }
   ],
   "source": [
    "x = {1,'m',2,'n'}\n",
    "x.pop()\n",
    "print(x,len(x))"
   ]
  },
  {
   "cell_type": "code",
   "execution_count": 60,
   "id": "30f2a127",
   "metadata": {},
   "outputs": [
    {
     "data": {
      "text/plain": [
       "{'m', 'n'}"
      ]
     },
     "execution_count": 60,
     "metadata": {},
     "output_type": "execute_result"
    }
   ],
   "source": [
    "x.pop()\n",
    "x"
   ]
  },
  {
   "cell_type": "code",
   "execution_count": 61,
   "id": "d54c0056",
   "metadata": {},
   "outputs": [
    {
     "data": {
      "text/plain": [
       "{'m'}"
      ]
     },
     "execution_count": 61,
     "metadata": {},
     "output_type": "execute_result"
    }
   ],
   "source": [
    "x.pop()\n",
    "x"
   ]
  },
  {
   "cell_type": "code",
   "execution_count": 62,
   "id": "f8d81d3e",
   "metadata": {},
   "outputs": [
    {
     "data": {
      "text/plain": [
       "set()"
      ]
     },
     "execution_count": 62,
     "metadata": {},
     "output_type": "execute_result"
    }
   ],
   "source": [
    "x.pop()\n",
    "x"
   ]
  },
  {
   "cell_type": "code",
   "execution_count": 63,
   "id": "ade9fd99",
   "metadata": {},
   "outputs": [
    {
     "data": {
      "text/plain": [
       "set()"
      ]
     },
     "execution_count": 63,
     "metadata": {},
     "output_type": "execute_result"
    }
   ],
   "source": [
    "x"
   ]
  },
  {
   "cell_type": "code",
   "execution_count": 64,
   "id": "587195c9",
   "metadata": {},
   "outputs": [
    {
     "name": "stdout",
     "output_type": "stream",
     "text": [
      "Help on built-in function pop:\n",
      "\n",
      "pop(...) method of builtins.set instance\n",
      "    Remove and return an arbitrary set element.\n",
      "    Raises KeyError if the set is empty.\n",
      "\n"
     ]
    }
   ],
   "source": [
    "help(x.pop)"
   ]
  },
  {
   "cell_type": "markdown",
   "id": "60ad230a",
   "metadata": {},
   "source": [
    "# copy"
   ]
  },
  {
   "cell_type": "markdown",
   "id": "9b77f25d",
   "metadata": {},
   "source": [
    "* The copy() method returns a shallow copy of the set in python. "
   ]
  },
  {
   "cell_type": "code",
   "execution_count": 65,
   "id": "11a35c2e",
   "metadata": {},
   "outputs": [
    {
     "name": "stdout",
     "output_type": "stream",
     "text": [
      "{23.4, 'hello', 21, 54, 'welcome'} 1916577926720\n"
     ]
    }
   ],
   "source": [
    "x = {21,54,'hello','welcome',23.4}\n",
    "print(x,id(x))"
   ]
  },
  {
   "cell_type": "code",
   "execution_count": 66,
   "id": "83cd654f",
   "metadata": {},
   "outputs": [
    {
     "name": "stdout",
     "output_type": "stream",
     "text": [
      "{23.4, 'hello', 21, 54, 'welcome'}\n",
      "{23.4, 'hello', 21, 54, 'welcome'}\n",
      "1916577926720\n",
      "1916591247360\n"
     ]
    }
   ],
   "source": [
    "y = x.copy()\n",
    "print(x,y,id(x),id(y),sep='\\n')"
   ]
  },
  {
   "cell_type": "markdown",
   "id": "7f8fcfa0",
   "metadata": {},
   "source": [
    "# clear"
   ]
  },
  {
   "cell_type": "markdown",
   "id": "f709cbe5",
   "metadata": {},
   "source": [
    "* The method clear is used to clear all the data from the set data structure. \n",
    "* All elements from set will clear. And we will leave with an empty set."
   ]
  },
  {
   "cell_type": "code",
   "execution_count": 71,
   "id": "b9fb0bd9",
   "metadata": {},
   "outputs": [
    {
     "data": {
      "text/plain": [
       "set()"
      ]
     },
     "execution_count": 71,
     "metadata": {},
     "output_type": "execute_result"
    }
   ],
   "source": [
    "x = {21,54,'hello','welcome',23.4}\n",
    "x.clear()\n",
    "x"
   ]
  },
  {
   "cell_type": "code",
   "execution_count": 72,
   "id": "faf8ff0c",
   "metadata": {},
   "outputs": [
    {
     "name": "stdout",
     "output_type": "stream",
     "text": [
      "Help on built-in function clear:\n",
      "\n",
      "clear(...) method of builtins.set instance\n",
      "    Remove all elements from this set.\n",
      "\n"
     ]
    }
   ],
   "source": [
    "help(x.clear)"
   ]
  },
  {
   "cell_type": "code",
   "execution_count": null,
   "id": "36dd77f2",
   "metadata": {},
   "outputs": [],
   "source": []
  }
 ],
 "metadata": {
  "kernelspec": {
   "display_name": "Python 3 (ipykernel)",
   "language": "python",
   "name": "python3"
  },
  "language_info": {
   "codemirror_mode": {
    "name": "ipython",
    "version": 3
   },
   "file_extension": ".py",
   "mimetype": "text/x-python",
   "name": "python",
   "nbconvert_exporter": "python",
   "pygments_lexer": "ipython3",
   "version": "3.11.3"
  }
 },
 "nbformat": 4,
 "nbformat_minor": 5
}
