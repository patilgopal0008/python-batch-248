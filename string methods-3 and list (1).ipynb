{
 "cells": [
  {
   "cell_type": "markdown",
   "id": "822092a1",
   "metadata": {},
   "source": [
    "# strip"
   ]
  },
  {
   "cell_type": "markdown",
   "id": "0bc2ecd3",
   "metadata": {},
   "source": [
    "* strip() method removes any leading, and trailing whitespaces. \n",
    "* Leading means at the beginning of the string, trailing means at the end. \n",
    "* You can specify which character(s) to remove, if not, any whitespaces will be removed."
   ]
  },
  {
   "cell_type": "code",
   "execution_count": 1,
   "id": "34c4bdf2",
   "metadata": {},
   "outputs": [
    {
     "data": {
      "text/plain": [
       "'independence day'"
      ]
     },
     "execution_count": 1,
     "metadata": {},
     "output_type": "execute_result"
    }
   ],
   "source": [
    "x = '      independence day'\n",
    "x.strip()"
   ]
  },
  {
   "cell_type": "code",
   "execution_count": 4,
   "id": "e5bf36a7",
   "metadata": {},
   "outputs": [
    {
     "data": {
      "text/plain": [
       "'patil     gopal'"
      ]
     },
     "execution_count": 4,
     "metadata": {},
     "output_type": "execute_result"
    }
   ],
   "source": [
    "x = 'patil     gopal'\n",
    "x.strip()"
   ]
  },
  {
   "cell_type": "code",
   "execution_count": 7,
   "id": "b912fcc2",
   "metadata": {},
   "outputs": [
    {
     "data": {
      "text/plain": [
       "'laptop@!#'"
      ]
     },
     "execution_count": 7,
     "metadata": {},
     "output_type": "execute_result"
    }
   ],
   "source": [
    "x = '@!laptop@!#'\n",
    "x.strip('@!')"
   ]
  },
  {
   "cell_type": "code",
   "execution_count": 8,
   "id": "853b9206",
   "metadata": {},
   "outputs": [
    {
     "data": {
      "text/plain": [
       "'#@!hello#@!'"
      ]
     },
     "execution_count": 8,
     "metadata": {},
     "output_type": "execute_result"
    }
   ],
   "source": [
    "x = '#@!hello#@!'\n",
    "x.strip('hello')"
   ]
  },
  {
   "cell_type": "code",
   "execution_count": 9,
   "id": "a4fb2ce0",
   "metadata": {},
   "outputs": [
    {
     "data": {
      "text/plain": [
       "'hello'"
      ]
     },
     "execution_count": 9,
     "metadata": {},
     "output_type": "execute_result"
    }
   ],
   "source": [
    "x = '!hello#@!'\n",
    "x.strip('!@#')"
   ]
  },
  {
   "cell_type": "code",
   "execution_count": 6,
   "id": "8c81ec45",
   "metadata": {},
   "outputs": [
    {
     "name": "stdout",
     "output_type": "stream",
     "text": [
      "Help on built-in function strip:\n",
      "\n",
      "strip(chars=None, /) method of builtins.str instance\n",
      "    Return a copy of the string with leading and trailing whitespace removed.\n",
      "    \n",
      "    If chars is given and not None, remove characters in chars instead.\n",
      "\n"
     ]
    }
   ],
   "source": [
    "help(x.strip)"
   ]
  },
  {
   "cell_type": "markdown",
   "id": "32d6acb6",
   "metadata": {},
   "source": [
    "# Lstrip"
   ]
  },
  {
   "cell_type": "markdown",
   "id": "4bce177d",
   "metadata": {},
   "source": [
    "* lstrip() method is used to remove all leading characters from the string. \n",
    "* It takes a char type parameter which is optional. \n",
    "* If parameter is not provided, it removes all the leading spaces from the string."
   ]
  },
  {
   "cell_type": "code",
   "execution_count": 10,
   "id": "e1a2b033",
   "metadata": {},
   "outputs": [
    {
     "data": {
      "text/plain": [
       "'haha  '"
      ]
     },
     "execution_count": 10,
     "metadata": {},
     "output_type": "execute_result"
    }
   ],
   "source": [
    "x = '   haha  '\n",
    "x.lstrip()"
   ]
  },
  {
   "cell_type": "code",
   "execution_count": 12,
   "id": "bff00569",
   "metadata": {},
   "outputs": [
    {
     "data": {
      "text/plain": [
       "'eheh$321'"
      ]
     },
     "execution_count": 12,
     "metadata": {},
     "output_type": "execute_result"
    }
   ],
   "source": [
    "x = '123$eheh$321'\n",
    "x.lstrip('$321')"
   ]
  },
  {
   "cell_type": "code",
   "execution_count": 23,
   "id": "60cf72d9",
   "metadata": {
    "scrolled": true
   },
   "outputs": [
    {
     "name": "stdout",
     "output_type": "stream",
     "text": [
      "Help on built-in function lstrip:\n",
      "\n",
      "lstrip(chars=None, /) method of builtins.str instance\n",
      "    Return a copy of the string with leading whitespace removed.\n",
      "    \n",
      "    If chars is given and not None, remove characters in chars instead.\n",
      "\n"
     ]
    }
   ],
   "source": [
    "help(x.lstrip)"
   ]
  },
  {
   "cell_type": "markdown",
   "id": "c4a48c10",
   "metadata": {},
   "source": [
    "# rstrip"
   ]
  },
  {
   "cell_type": "markdown",
   "id": "cddd5f5f",
   "metadata": {},
   "source": [
    "* Python String rstrip() method returns a copy of the string with trailing characters removed (based on the string argument passed). \n",
    "* If no argument is passed, it removes trailing spaces."
   ]
  },
  {
   "cell_type": "code",
   "execution_count": 15,
   "id": "4dadacf1",
   "metadata": {},
   "outputs": [
    {
     "data": {
      "text/plain": [
       "' @#!hero'"
      ]
     },
     "execution_count": 15,
     "metadata": {},
     "output_type": "execute_result"
    }
   ],
   "source": [
    "x = ' @#!hero#@!'\n",
    "x.rstrip('#@!')"
   ]
  },
  {
   "cell_type": "code",
   "execution_count": 16,
   "id": "ce72eafd",
   "metadata": {},
   "outputs": [
    {
     "data": {
      "text/plain": [
       "'@!helli'"
      ]
     },
     "execution_count": 16,
     "metadata": {},
     "output_type": "execute_result"
    }
   ],
   "source": [
    "x = '@!helli!'\n",
    "x.rstrip('@!')"
   ]
  },
  {
   "cell_type": "code",
   "execution_count": 21,
   "id": "ec0dd74a",
   "metadata": {},
   "outputs": [
    {
     "name": "stdout",
     "output_type": "stream",
     "text": [
      "Help on built-in function rstrip:\n",
      "\n",
      "rstrip(chars=None, /) method of builtins.str instance\n",
      "    Return a copy of the string with trailing whitespace removed.\n",
      "    \n",
      "    If chars is given and not None, remove characters in chars instead.\n",
      "\n"
     ]
    }
   ],
   "source": [
    "help(x.rstrip)"
   ]
  },
  {
   "cell_type": "markdown",
   "id": "3d6274d1",
   "metadata": {},
   "source": [
    "# removeprefix"
   ]
  },
  {
   "cell_type": "markdown",
   "id": "f9b08fe1",
   "metadata": {},
   "source": [
    "* Python String removeprefix() function removes the prefix and returns the rest of the string If the prefix string is not found"
   ]
  },
  {
   "cell_type": "code",
   "execution_count": 18,
   "id": "a92d7b99",
   "metadata": {},
   "outputs": [
    {
     "data": {
      "text/plain": [
       "' world'"
      ]
     },
     "execution_count": 18,
     "metadata": {},
     "output_type": "execute_result"
    }
   ],
   "source": [
    "x = 'hello world'\n",
    "x.removeprefix('hello')"
   ]
  },
  {
   "cell_type": "code",
   "execution_count": 19,
   "id": "fc066154",
   "metadata": {},
   "outputs": [
    {
     "data": {
      "text/plain": [
       "'hello world'"
      ]
     },
     "execution_count": 19,
     "metadata": {},
     "output_type": "execute_result"
    }
   ],
   "source": [
    "x = 'hello world'\n",
    "x.removeprefix('world')"
   ]
  },
  {
   "cell_type": "code",
   "execution_count": 20,
   "id": "4594fb1e",
   "metadata": {},
   "outputs": [
    {
     "data": {
      "text/plain": [
       "('urthi', 'murthi')"
      ]
     },
     "execution_count": 20,
     "metadata": {},
     "output_type": "execute_result"
    }
   ],
   "source": [
    "x = 'mr.murthi' #strip performs as characters and removeprefix and suffix as substrings\n",
    "x.lstrip('mr.'), x.removeprefix('mr.')"
   ]
  },
  {
   "cell_type": "code",
   "execution_count": 24,
   "id": "cd5f2e92",
   "metadata": {},
   "outputs": [
    {
     "name": "stdout",
     "output_type": "stream",
     "text": [
      "Help on built-in function removeprefix:\n",
      "\n",
      "removeprefix(prefix, /) method of builtins.str instance\n",
      "    Return a str with the given prefix string removed if present.\n",
      "    \n",
      "    If the string starts with the prefix string, return string[len(prefix):].\n",
      "    Otherwise, return a copy of the original string.\n",
      "\n"
     ]
    }
   ],
   "source": [
    "help(x.removeprefix)"
   ]
  },
  {
   "cell_type": "markdown",
   "id": "dc0f5afa",
   "metadata": {},
   "source": [
    "# removesuffix"
   ]
  },
  {
   "cell_type": "markdown",
   "id": "417ec96b",
   "metadata": {},
   "source": [
    "* removesuffix() function removes the suffix and returns the rest of the string. \n",
    "* If the suffix string is not found then it returns the original string."
   ]
  },
  {
   "cell_type": "code",
   "execution_count": 26,
   "id": "f6147a15",
   "metadata": {},
   "outputs": [
    {
     "data": {
      "text/plain": [
       "'chalo '"
      ]
     },
     "execution_count": 26,
     "metadata": {},
     "output_type": "execute_result"
    }
   ],
   "source": [
    "x = 'chalo world'\n",
    "x.removesuffix('world')"
   ]
  },
  {
   "cell_type": "code",
   "execution_count": 27,
   "id": "74793cea",
   "metadata": {},
   "outputs": [
    {
     "data": {
      "text/plain": [
       "'hello world'"
      ]
     },
     "execution_count": 27,
     "metadata": {},
     "output_type": "execute_result"
    }
   ],
   "source": [
    "x = 'hello world'\n",
    "x.removesuffix('hello')"
   ]
  },
  {
   "cell_type": "code",
   "execution_count": 28,
   "id": "c361908d",
   "metadata": {},
   "outputs": [
    {
     "data": {
      "text/plain": [
       "'hello wo'"
      ]
     },
     "execution_count": 28,
     "metadata": {},
     "output_type": "execute_result"
    }
   ],
   "source": [
    "x.removesuffix('rld')"
   ]
  },
  {
   "cell_type": "code",
   "execution_count": 29,
   "id": "fa6ce6ba",
   "metadata": {},
   "outputs": [
    {
     "data": {
      "text/plain": [
       "'hello worl'"
      ]
     },
     "execution_count": 29,
     "metadata": {},
     "output_type": "execute_result"
    }
   ],
   "source": [
    "x.removesuffix('d')"
   ]
  },
  {
   "cell_type": "code",
   "execution_count": 30,
   "id": "4ee08620",
   "metadata": {},
   "outputs": [
    {
     "name": "stdout",
     "output_type": "stream",
     "text": [
      "Help on built-in function removesuffix:\n",
      "\n",
      "removesuffix(suffix, /) method of builtins.str instance\n",
      "    Return a str with the given suffix string removed if present.\n",
      "    \n",
      "    If the string ends with the suffix string and that suffix is not empty,\n",
      "    return string[:-len(suffix)]. Otherwise, return a copy of the original\n",
      "    string.\n",
      "\n"
     ]
    }
   ],
   "source": [
    "help(x.removesuffix)"
   ]
  },
  {
   "cell_type": "markdown",
   "id": "521ce513",
   "metadata": {},
   "source": [
    "# center"
   ]
  },
  {
   "cell_type": "markdown",
   "id": "c840fc08",
   "metadata": {},
   "source": [
    "* center() in Python is a method used to align text to the center of a pre-defined string length,\n",
    "* i.e., if we want to align a 5-letter word using center() over 7 spaces, there will be one space left empty on both the sides of the word."
   ]
  },
  {
   "cell_type": "code",
   "execution_count": 36,
   "id": "c0ef2dec",
   "metadata": {},
   "outputs": [
    {
     "data": {
      "text/plain": [
       "'  hello '"
      ]
     },
     "execution_count": 36,
     "metadata": {},
     "output_type": "execute_result"
    }
   ],
   "source": [
    "x = ' hello'\n",
    "x.center(8)"
   ]
  },
  {
   "cell_type": "code",
   "execution_count": 37,
   "id": "847b8fb7",
   "metadata": {},
   "outputs": [
    {
     "data": {
      "text/plain": [
       "'welcome'"
      ]
     },
     "execution_count": 37,
     "metadata": {},
     "output_type": "execute_result"
    }
   ],
   "source": [
    "x = 'welcome'\n",
    "x.center(7)"
   ]
  },
  {
   "cell_type": "code",
   "execution_count": 38,
   "id": "e55ae16c",
   "metadata": {},
   "outputs": [
    {
     "data": {
      "text/plain": [
       "'      jai      '"
      ]
     },
     "execution_count": 38,
     "metadata": {},
     "output_type": "execute_result"
    }
   ],
   "source": [
    "x = 'jai'\n",
    "x.center(15)"
   ]
  },
  {
   "cell_type": "code",
   "execution_count": 41,
   "id": "23465fbd",
   "metadata": {},
   "outputs": [
    {
     "name": "stdout",
     "output_type": "stream",
     "text": [
      "Help on built-in function center:\n",
      "\n",
      "center(width, fillchar=' ', /) method of builtins.str instance\n",
      "    Return a centered string of length width.\n",
      "    \n",
      "    Padding is done using the specified fill character (default is a space).\n",
      "\n"
     ]
    }
   ],
   "source": [
    "help(x.center)"
   ]
  },
  {
   "cell_type": "markdown",
   "id": "bdd98a7d",
   "metadata": {},
   "source": [
    "# Ljust"
   ]
  },
  {
   "cell_type": "markdown",
   "id": "868e2bde",
   "metadata": {},
   "source": [
    "* The ljust() method will left align the string, using a specified character (space is default) as the fill character.'"
   ]
  },
  {
   "cell_type": "code",
   "execution_count": 40,
   "id": "f5d216f2",
   "metadata": {},
   "outputs": [
    {
     "data": {
      "text/plain": [
       "'villan                                     '"
      ]
     },
     "execution_count": 40,
     "metadata": {},
     "output_type": "execute_result"
    }
   ],
   "source": [
    "x = 'villan'\n",
    "x.ljust(43)"
   ]
  },
  {
   "cell_type": "code",
   "execution_count": 47,
   "id": "555d5950",
   "metadata": {},
   "outputs": [
    {
     "data": {
      "text/plain": [
       "'institue%%%%%%%%%%%%%%%%%%%%%%%%%%%%%%%%%%%%%%%%%%%%%%%%%%%%%%%%%%%%%%%%%%%%%%%%%%%%%%%%%%%%%%%%%%'"
      ]
     },
     "execution_count": 47,
     "metadata": {},
     "output_type": "execute_result"
    }
   ],
   "source": [
    "x = 'institue'\n",
    "x.ljust(98,'%')"
   ]
  },
  {
   "cell_type": "code",
   "execution_count": 46,
   "id": "3769771c",
   "metadata": {},
   "outputs": [
    {
     "name": "stdout",
     "output_type": "stream",
     "text": [
      "Help on built-in function ljust:\n",
      "\n",
      "ljust(width, fillchar=' ', /) method of builtins.str instance\n",
      "    Return a left-justified string of length width.\n",
      "    \n",
      "    Padding is done using the specified fill character (default is a space).\n",
      "\n"
     ]
    }
   ],
   "source": [
    "help(x.ljust)"
   ]
  },
  {
   "cell_type": "markdown",
   "id": "9e383f7f",
   "metadata": {},
   "source": [
    "# rjust"
   ]
  },
  {
   "cell_type": "markdown",
   "id": "cdaa650a",
   "metadata": {},
   "source": [
    "* The rjust() method returns the right justified string with the specified width.\n",
    "* If the specified width is more than the string length, then the string's remaining part is filled with the specified fill char. \n",
    "* The default fill char is a space."
   ]
  },
  {
   "cell_type": "code",
   "execution_count": 48,
   "id": "039a413c",
   "metadata": {},
   "outputs": [
    {
     "data": {
      "text/plain": [
       "'                                                                     kumar'"
      ]
     },
     "execution_count": 48,
     "metadata": {},
     "output_type": "execute_result"
    }
   ],
   "source": [
    "x = 'kumar'\n",
    "x.rjust(74)"
   ]
  },
  {
   "cell_type": "code",
   "execution_count": 49,
   "id": "5cf9ce1c",
   "metadata": {},
   "outputs": [
    {
     "data": {
      "text/plain": [
       "'&&&&&&&&&&&&&&&&&&&&&&&&&&&&&&&&&&&&&&&&&&&&&&&&&shiva'"
      ]
     },
     "execution_count": 49,
     "metadata": {},
     "output_type": "execute_result"
    }
   ],
   "source": [
    "x = 'shiva'\n",
    "x.rjust(54,'&')"
   ]
  },
  {
   "cell_type": "code",
   "execution_count": 50,
   "id": "3c23b6ff",
   "metadata": {},
   "outputs": [
    {
     "name": "stdout",
     "output_type": "stream",
     "text": [
      "Help on built-in function rjust:\n",
      "\n",
      "rjust(width, fillchar=' ', /) method of builtins.str instance\n",
      "    Return a right-justified string of length width.\n",
      "    \n",
      "    Padding is done using the specified fill character (default is a space).\n",
      "\n"
     ]
    }
   ],
   "source": [
    "help(x.rjust)"
   ]
  },
  {
   "cell_type": "markdown",
   "id": "94d90d78",
   "metadata": {},
   "source": [
    "# zfill"
   ]
  },
  {
   "cell_type": "markdown",
   "id": "ba1df4db",
   "metadata": {},
   "source": [
    "* The rjust() method returns the right justified string with the specified width.\n",
    "* If the specified width is more than the string length, then the string's remaining part is filled with the specified fill char.\n",
    "* The default fill char is a space."
   ]
  },
  {
   "cell_type": "code",
   "execution_count": 51,
   "id": "9f9fb4ad",
   "metadata": {},
   "outputs": [
    {
     "data": {
      "text/plain": [
       "'000000hahaha'"
      ]
     },
     "execution_count": 51,
     "metadata": {},
     "output_type": "execute_result"
    }
   ],
   "source": [
    "x = 'hahaha'\n",
    "x.zfill(12)"
   ]
  },
  {
   "cell_type": "code",
   "execution_count": 52,
   "id": "f51a1c54",
   "metadata": {},
   "outputs": [
    {
     "data": {
      "text/plain": [
       "'0hehehe'"
      ]
     },
     "execution_count": 52,
     "metadata": {},
     "output_type": "execute_result"
    }
   ],
   "source": [
    "x = 'hehehe'\n",
    "x.zfill(7)"
   ]
  },
  {
   "cell_type": "code",
   "execution_count": 53,
   "id": "4a858d10",
   "metadata": {},
   "outputs": [
    {
     "data": {
      "text/plain": [
       "'hehehe'"
      ]
     },
     "execution_count": 53,
     "metadata": {},
     "output_type": "execute_result"
    }
   ],
   "source": [
    "x.zfill(6)\n"
   ]
  },
  {
   "cell_type": "code",
   "execution_count": 54,
   "id": "84506f7e",
   "metadata": {},
   "outputs": [
    {
     "name": "stdout",
     "output_type": "stream",
     "text": [
      "Help on built-in function zfill:\n",
      "\n",
      "zfill(width, /) method of builtins.str instance\n",
      "    Pad a numeric string with zeros on the left, to fill a field of the given width.\n",
      "    \n",
      "    The string is never truncated.\n",
      "\n"
     ]
    }
   ],
   "source": [
    "help(x.zfill)"
   ]
  },
  {
   "cell_type": "markdown",
   "id": "283e33d5",
   "metadata": {},
   "source": [
    "# join"
   ]
  },
  {
   "cell_type": "markdown",
   "id": "32e77587",
   "metadata": {},
   "source": [
    "* The join() method creates and returns a new string by concatenating all of the elements in an array (or an array-like object), separated by commas or a specified separator string."
   ]
  },
  {
   "cell_type": "code",
   "execution_count": 55,
   "id": "5de6c610",
   "metadata": {},
   "outputs": [
    {
     "data": {
      "text/plain": [
       "'asandbsandc'"
      ]
     },
     "execution_count": 55,
     "metadata": {},
     "output_type": "execute_result"
    }
   ],
   "source": [
    "x = 'sand'\n",
    "x.join(['a','b','c'])"
   ]
  },
  {
   "cell_type": "code",
   "execution_count": 56,
   "id": "4b753dd4",
   "metadata": {},
   "outputs": [
    {
     "data": {
      "text/plain": [
       "'gopal'"
      ]
     },
     "execution_count": 56,
     "metadata": {},
     "output_type": "execute_result"
    }
   ],
   "source": [
    "''.join(['g','o','p','a','l'])"
   ]
  },
  {
   "cell_type": "code",
   "execution_count": 57,
   "id": "31669c8f",
   "metadata": {},
   "outputs": [
    {
     "data": {
      "text/plain": [
       "'agobgoc'"
      ]
     },
     "execution_count": 57,
     "metadata": {},
     "output_type": "execute_result"
    }
   ],
   "source": [
    "'go'.join('abc')"
   ]
  },
  {
   "cell_type": "code",
   "execution_count": 58,
   "id": "aed0caf4",
   "metadata": {},
   "outputs": [
    {
     "name": "stdout",
     "output_type": "stream",
     "text": [
      "Help on built-in function join:\n",
      "\n",
      "join(iterable, /) method of builtins.str instance\n",
      "    Concatenate any number of strings.\n",
      "    \n",
      "    The string whose method is called is inserted in between each given string.\n",
      "    The result is returned as a new string.\n",
      "    \n",
      "    Example: '.'.join(['ab', 'pq', 'rs']) -> 'ab.pq.rs'\n",
      "\n"
     ]
    }
   ],
   "source": [
    "help(x.join)"
   ]
  },
  {
   "cell_type": "markdown",
   "id": "69f4baa5",
   "metadata": {},
   "source": [
    "# startwith"
   ]
  },
  {
   "cell_type": "markdown",
   "id": "bc49d181",
   "metadata": {},
   "source": [
    "* The startswith() method returns True if the string starts with the specified value, otherwise False."
   ]
  },
  {
   "cell_type": "code",
   "execution_count": 61,
   "id": "72616dbb",
   "metadata": {},
   "outputs": [
    {
     "data": {
      "text/plain": [
       "True"
      ]
     },
     "execution_count": 61,
     "metadata": {},
     "output_type": "execute_result"
    }
   ],
   "source": [
    "x = 'mercedes'\n",
    "x.startswith('m')"
   ]
  },
  {
   "cell_type": "code",
   "execution_count": 62,
   "id": "88f8c6a5",
   "metadata": {},
   "outputs": [
    {
     "data": {
      "text/plain": [
       "False"
      ]
     },
     "execution_count": 62,
     "metadata": {},
     "output_type": "execute_result"
    }
   ],
   "source": [
    "x.startswith('s')"
   ]
  },
  {
   "cell_type": "code",
   "execution_count": 63,
   "id": "7cdff4d9",
   "metadata": {},
   "outputs": [
    {
     "name": "stdout",
     "output_type": "stream",
     "text": [
      "Help on built-in function startswith:\n",
      "\n",
      "startswith(...) method of builtins.str instance\n",
      "    S.startswith(prefix[, start[, end]]) -> bool\n",
      "    \n",
      "    Return True if S starts with the specified prefix, False otherwise.\n",
      "    With optional start, test S beginning at that position.\n",
      "    With optional end, stop comparing S at that position.\n",
      "    prefix can also be a tuple of strings to try.\n",
      "\n"
     ]
    }
   ],
   "source": [
    "help(x.startswith)"
   ]
  },
  {
   "cell_type": "markdown",
   "id": "5226f704",
   "metadata": {},
   "source": [
    "# endswith"
   ]
  },
  {
   "cell_type": "markdown",
   "id": "39c2ece5",
   "metadata": {},
   "source": [
    "* endswith() method checks if the input string ends with the specified suffix. \n",
    "* This function returns true if the string ends with the specified suffix, otherwise returns false."
   ]
  },
  {
   "cell_type": "code",
   "execution_count": 64,
   "id": "162a32e6",
   "metadata": {},
   "outputs": [
    {
     "data": {
      "text/plain": [
       "True"
      ]
     },
     "execution_count": 64,
     "metadata": {},
     "output_type": "execute_result"
    }
   ],
   "source": [
    "x = 'maruthi'\n",
    "x.endswith('thi')"
   ]
  },
  {
   "cell_type": "code",
   "execution_count": 65,
   "id": "a1da2d18",
   "metadata": {},
   "outputs": [
    {
     "data": {
      "text/plain": [
       "False"
      ]
     },
     "execution_count": 65,
     "metadata": {},
     "output_type": "execute_result"
    }
   ],
   "source": [
    "x.endswith('mar')"
   ]
  },
  {
   "cell_type": "code",
   "execution_count": 66,
   "id": "6fd8e597",
   "metadata": {},
   "outputs": [
    {
     "name": "stdout",
     "output_type": "stream",
     "text": [
      "Help on built-in function endswith:\n",
      "\n",
      "endswith(...) method of builtins.str instance\n",
      "    S.endswith(suffix[, start[, end]]) -> bool\n",
      "    \n",
      "    Return True if S ends with the specified suffix, False otherwise.\n",
      "    With optional start, test S beginning at that position.\n",
      "    With optional end, stop comparing S at that position.\n",
      "    suffix can also be a tuple of strings to try.\n",
      "\n"
     ]
    }
   ],
   "source": [
    "help(x.endswith)"
   ]
  },
  {
   "cell_type": "markdown",
   "id": "92906fd6",
   "metadata": {},
   "source": [
    "# count()"
   ]
  },
  {
   "cell_type": "markdown",
   "id": "82518c55",
   "metadata": {},
   "source": [
    "* The count() method returns the number of occurrences of a substring in the given string.\n"
   ]
  },
  {
   "cell_type": "code",
   "execution_count": 68,
   "id": "3baeea8e",
   "metadata": {},
   "outputs": [
    {
     "data": {
      "text/plain": [
       "1"
      ]
     },
     "execution_count": 68,
     "metadata": {},
     "output_type": "execute_result"
    }
   ],
   "source": [
    "x = '''If a dog chews shoes, whose shoes does he choose?\n",
    "Top chopstick shops stock top chopsticks.\n",
    "Selfish shellfish. (Repeat many times)\n",
    "No need to light a night-light on a light night like tonight.\n",
    "Thirty-three thousand feathers on a thrushes throat.\n",
    "The great Greek grape growers grow great Greek grapes.\n",
    "Linda-Lou Lambert loves lemon lollipop lip gloss.'''\n",
    "x.count('dog')"
   ]
  },
  {
   "cell_type": "code",
   "execution_count": 69,
   "id": "45424bba",
   "metadata": {},
   "outputs": [
    {
     "data": {
      "text/plain": [
       "15"
      ]
     },
     "execution_count": 69,
     "metadata": {},
     "output_type": "execute_result"
    }
   ],
   "source": [
    "x.count('a')"
   ]
  },
  {
   "cell_type": "code",
   "execution_count": 71,
   "id": "dfab2bb2",
   "metadata": {},
   "outputs": [
    {
     "data": {
      "text/plain": [
       "1"
      ]
     },
     "execution_count": 71,
     "metadata": {},
     "output_type": "execute_result"
    }
   ],
   "source": [
    "x.count('a',0,15)"
   ]
  },
  {
   "cell_type": "code",
   "execution_count": 70,
   "id": "7d379a17",
   "metadata": {},
   "outputs": [
    {
     "name": "stdout",
     "output_type": "stream",
     "text": [
      "Help on built-in function count:\n",
      "\n",
      "count(...) method of builtins.str instance\n",
      "    S.count(sub[, start[, end]]) -> int\n",
      "    \n",
      "    Return the number of non-overlapping occurrences of substring sub in\n",
      "    string S[start:end].  Optional arguments start and end are\n",
      "    interpreted as in slice notation.\n",
      "\n"
     ]
    }
   ],
   "source": [
    "help(x.count)"
   ]
  },
  {
   "cell_type": "markdown",
   "id": "13290be8",
   "metadata": {},
   "source": [
    "# input method"
   ]
  },
  {
   "cell_type": "markdown",
   "id": "dc08d567",
   "metadata": {},
   "source": [
    "* Python input() function is used to get input from the user.\n",
    "* It prompts for the user input and reads a line.\n",
    "* After reading data, it converts it into a string and returns that."
   ]
  },
  {
   "cell_type": "code",
   "execution_count": 72,
   "id": "3fa76e81",
   "metadata": {},
   "outputs": [
    {
     "name": "stdout",
     "output_type": "stream",
     "text": [
      "53\n"
     ]
    }
   ],
   "source": [
    "x = input()"
   ]
  },
  {
   "cell_type": "code",
   "execution_count": 77,
   "id": "40908753",
   "metadata": {
    "scrolled": true
   },
   "outputs": [
    {
     "name": "stdout",
     "output_type": "stream",
     "text": [
      "please enter the number: 65\n"
     ]
    },
    {
     "data": {
      "text/plain": [
       "('65', str)"
      ]
     },
     "execution_count": 77,
     "metadata": {},
     "output_type": "execute_result"
    }
   ],
   "source": [
    "x = input('please enter the number: ')\n",
    "x,type(x)  #input are str type"
   ]
  },
  {
   "cell_type": "code",
   "execution_count": 84,
   "id": "6207183a",
   "metadata": {},
   "outputs": [
    {
     "name": "stdout",
     "output_type": "stream",
     "text": [
      "S:\\gopal\n"
     ]
    }
   ],
   "source": [
    "x =r'S:\\gopal'\n",
    "print(x) #raw string"
   ]
  },
  {
   "cell_type": "code",
   "execution_count": 85,
   "id": "49d1c6c3",
   "metadata": {},
   "outputs": [
    {
     "name": "stdout",
     "output_type": "stream",
     "text": [
      "enter the name: hell\n",
      "enter the marks: 43\n",
      "hell scored 43 marks\n",
      "hell scored 43 marks\n"
     ]
    }
   ],
   "source": [
    "name = input('enter the name: ')\n",
    "marks = input('enter the marks: ')\n",
    "print(name,'scored',marks,'marks')\n",
    "print(f'{name} scored {marks} marks')"
   ]
  },
  {
   "cell_type": "markdown",
   "id": "b4f4a1f9",
   "metadata": {},
   "source": [
    "# lists"
   ]
  },
  {
   "cell_type": "markdown",
   "id": "52a23859",
   "metadata": {},
   "source": [
    "* list are dynamic heterogenius containers whuch are mutable in nature\n",
    "* elements of list are enclosed by ['']\n",
    "* emptylis[ ]\n",
    "* we can also use 'list()' to typecast a literator\n",
    "* since list are sequential we have indexing ans slicing"
   ]
  },
  {
   "cell_type": "code",
   "execution_count": 86,
   "id": "377c40d2",
   "metadata": {},
   "outputs": [
    {
     "name": "stdout",
     "output_type": "stream",
     "text": [
      "[55, 54.3, (67+3j), '3450', <built-in function print>, <class 'str'>, False]\n",
      "<class 'list'>\n",
      "7\n"
     ]
    }
   ],
   "source": [
    "x = [55,54.3,67+3j,'3450',print,str,False]\n",
    "print(x,type(x),len(x),sep ='\\n')"
   ]
  },
  {
   "cell_type": "code",
   "execution_count": 92,
   "id": "355cdedc",
   "metadata": {},
   "outputs": [
    {
     "data": {
      "text/plain": [
       "(list['gopal'], ['g', 'o', 'p', 'a', 'l'])"
      ]
     },
     "execution_count": 92,
     "metadata": {},
     "output_type": "execute_result"
    }
   ],
   "source": [
    "list['gopal'],list('gopal')\n"
   ]
  },
  {
   "cell_type": "code",
   "execution_count": 93,
   "id": "2a519fee",
   "metadata": {},
   "outputs": [
    {
     "data": {
      "text/plain": [
       "['m', 'o', 'b', 'i', 'l', 'e', 'p', 'h', 'o', 'n', 'e']"
      ]
     },
     "execution_count": 93,
     "metadata": {},
     "output_type": "execute_result"
    }
   ],
   "source": [
    "list('mobilephone') #typecasting"
   ]
  },
  {
   "cell_type": "code",
   "execution_count": 96,
   "id": "74bbb440",
   "metadata": {},
   "outputs": [
    {
     "name": "stdout",
     "output_type": "stream",
     "text": [
      "['hello']\n",
      "<class 'list'>\n",
      "1\n"
     ]
    }
   ],
   "source": [
    "x = ['hello']\n",
    "print(x,type(x),len(x),sep='\\n')"
   ]
  },
  {
   "cell_type": "code",
   "execution_count": 98,
   "id": "c114ba3f",
   "metadata": {},
   "outputs": [
    {
     "name": "stdout",
     "output_type": "stream",
     "text": [
      "['m', 'a', 'h', 'a', 'b', 'a', 'l', 'e', 's', 'w', 'a', 'r']\n",
      "<class 'list'>\n",
      "12\n"
     ]
    }
   ],
   "source": [
    "x =list('mahabaleswar')\n",
    "print(x,type(x),len(x),sep='\\n')"
   ]
  },
  {
   "cell_type": "code",
   "execution_count": 1,
   "id": "a9224c02",
   "metadata": {},
   "outputs": [
    {
     "name": "stdout",
     "output_type": "stream",
     "text": [
      "[54.3, (67+3j), '3450']\n"
     ]
    }
   ],
   "source": [
    "x = [55,54.3,67+3j,'3450',print,str,False]\n",
    "y = x[1:4]\n",
    "print(y)   "
   ]
  },
  {
   "cell_type": "code",
   "execution_count": 101,
   "id": "817deb91",
   "metadata": {},
   "outputs": [
    {
     "data": {
      "text/plain": [
       "[False]"
      ]
     },
     "execution_count": 101,
     "metadata": {},
     "output_type": "execute_result"
    }
   ],
   "source": [
    "x[-1:-2:-1]"
   ]
  },
  {
   "cell_type": "code",
   "execution_count": null,
   "id": "fc638183",
   "metadata": {},
   "outputs": [],
   "source": []
  }
 ],
 "metadata": {
  "kernelspec": {
   "display_name": "Python 3 (ipykernel)",
   "language": "python",
   "name": "python3"
  },
  "language_info": {
   "codemirror_mode": {
    "name": "ipython",
    "version": 3
   },
   "file_extension": ".py",
   "mimetype": "text/x-python",
   "name": "python",
   "nbconvert_exporter": "python",
   "pygments_lexer": "ipython3",
   "version": "3.11.3"
  }
 },
 "nbformat": 4,
 "nbformat_minor": 5
}
