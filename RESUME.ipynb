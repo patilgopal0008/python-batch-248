{
 "cells": [
  {
   "cell_type": "markdown",
   "id": "9757455a",
   "metadata": {},
   "source": [
    "<font size=\"10\"> PATIL GOPAL </font>"
   ]
  },
  {
   "cell_type": "markdown",
   "id": "e9a5ca0c",
   "metadata": {},
   "source": [
    "|EmailID:<gopalpatil3000@gmail.com> | [LinkedIn](linkedin.com/in/gopal-patil-2a563725a) |  [7337499531]()  | location-[hyd,telangana]() | "
   ]
  },
  {
   "cell_type": "markdown",
   "id": "44964d2d",
   "metadata": {},
   "source": [
    "![patil gopal](https://facesconsent.com/images/default-user-image.jpg)"
   ]
  },
  {
   "cell_type": "markdown",
   "id": "e2e28873",
   "metadata": {},
   "source": [
    "<b><u> EDUCATION- </u></b>  \n",
    "bachelor of technology in electroincs and communications  \n",
    "kg reddy college of engineering and technology[2018-2023]\n",
    "\n",
    "<b><u> INTERMEDIATE-</u></b>  \n",
    "sri chaitanya jr college[2017-2019]  \n",
    "\n",
    "<b><u> SCHOOL- </u></b>  \n",
    "SVNHS high school\n"
   ]
  },
  {
   "cell_type": "markdown",
   "id": "b7c52053",
   "metadata": {},
   "source": [
    "<b><u>TECHNICAL SKILLS-</u></b> \n",
    "\n",
    "`languages`-<i>c,python,java</i>  \n",
    "`others`-<i>vlsi,iot,mysql,powerbi</i>\n",
    "\n",
    "<b><u>CERTIFICATIONS-</u></b>  \n",
    "- programming in c  \n",
    "- basics of python\n",
    "- sql  "
   ]
  },
  {
   "cell_type": "markdown",
   "id": "9b7fb262",
   "metadata": {},
   "source": [
    "<b><u>PROJECTS-</u></b>\n",
    "\n",
    "<font color=\"blue\">design of water quality monitoring system using iot</font>  \n",
    ">iot based system  \n",
    ">to check water temparature and electrical conductivity  \n",
    ">usind thinkspeak channel as base stattion \n",
    "\n",
    "<font color=\"blue\">smart helmet</font>\n",
    ">a prototype helmet for avoiding accidents  \n",
    ">teck stack:arduion ide,firebase"
   ]
  },
  {
   "cell_type": "markdown",
   "id": "ba31d46c",
   "metadata": {},
   "source": [
    "<b><u>INTERESTS-</u></b>  \n",
    "\n",
    "* #### resources management  \n",
    "* #### cricket  \n",
    "* #### solving problem  \n",
    "* #### public relation management"
   ]
  }
 ],
 "metadata": {
  "kernelspec": {
   "display_name": "Python 3 (ipykernel)",
   "language": "python",
   "name": "python3"
  },
  "language_info": {
   "codemirror_mode": {
    "name": "ipython",
    "version": 3
   },
   "file_extension": ".py",
   "mimetype": "text/x-python",
   "name": "python",
   "nbconvert_exporter": "python",
   "pygments_lexer": "ipython3",
   "version": "3.11.3"
  }
 },
 "nbformat": 4,
 "nbformat_minor": 5
}
