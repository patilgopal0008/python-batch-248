{
 "cells": [
  {
   "cell_type": "markdown",
   "id": "b513b4e6",
   "metadata": {},
   "source": [
    "# dictionaries"
   ]
  },
  {
   "cell_type": "markdown",
   "id": "8a6379f9",
   "metadata": {},
   "source": [
    "* In Python, dictionaries are mutable data structures that allow you to store key-value pairs. \n",
    "* Dictionary can be created using the dict() constructor or curly braces' {}'. \n",
    "* Once you have created a dictionary, you can add, remove, or update elements using the methods dict."
   ]
  },
  {
   "cell_type": "code",
   "execution_count": 7,
   "id": "9dab425d",
   "metadata": {},
   "outputs": [
    {
     "name": "stdout",
     "output_type": "stream",
     "text": [
      "{'hello': 123, 'chalo': 321, 'dream': 432}\n",
      "<class 'dict'>\n"
     ]
    }
   ],
   "source": [
    "x = {'hello':123,   #keys-'hello'&value-123\n",
    "    'chalo':321,\n",
    "    'dream':432}\n",
    "print(x,type(x),sep='\\n')"
   ]
  },
  {
   "cell_type": "code",
   "execution_count": 4,
   "id": "3cadf8a9",
   "metadata": {},
   "outputs": [
    {
     "name": "stdout",
     "output_type": "stream",
     "text": [
      "{'student': ['a', 'b', 'c', 'd', 'e'], 'marks': (25, 24, 23, 25, 24)}\n",
      "<class 'dict'>\n"
     ]
    }
   ],
   "source": [
    "x = {'student':list('abcde'),\n",
    "    'marks':(25,24,23,25,24)\n",
    "    }\n",
    "print(x,type(x),sep='\\n')   #all the immutable elements can be used as keys"
   ]
  },
  {
   "cell_type": "code",
   "execution_count": 8,
   "id": "94931c0c",
   "metadata": {},
   "outputs": [
    {
     "name": "stdout",
     "output_type": "stream",
     "text": [
      "{}\n",
      "<class 'dict'>\n"
     ]
    }
   ],
   "source": [
    "x = {}\n",
    "print(x,type(x),sep='\\n')"
   ]
  },
  {
   "cell_type": "code",
   "execution_count": 9,
   "id": "4d32523f",
   "metadata": {},
   "outputs": [
    {
     "name": "stdout",
     "output_type": "stream",
     "text": [
      "{6: 'hi', 'x': 'hello', (1, 2, 3): 'holla', 3.5: 'hg', (3+3j): <class 'str'>, True: <built-in function print>}\n",
      "<class 'dict'>\n"
     ]
    }
   ],
   "source": [
    "x = {6:'hi',\n",
    "    'x':'hello',\n",
    "     (1,2,3):'holla',\n",
    "     3.5:'hg',\n",
    "     3+3j:str,\n",
    "     True:print\n",
    "    }\n",
    "print(x,type(x),sep='\\n')"
   ]
  },
  {
   "cell_type": "code",
   "execution_count": 12,
   "id": "cca26213",
   "metadata": {},
   "outputs": [
    {
     "name": "stdout",
     "output_type": "stream",
     "text": [
      "{'True': 123} <class 'dict'>\n"
     ]
    }
   ],
   "source": [
    "x = {'True':123}\n",
    "print(x,type(x))"
   ]
  },
  {
   "cell_type": "code",
   "execution_count": 13,
   "id": "c668a297",
   "metadata": {},
   "outputs": [
    {
     "name": "stdout",
     "output_type": "stream",
     "text": [
      "{'a': [10, 20], 'b': [34, 45]}\n"
     ]
    }
   ],
   "source": [
    "x = {'a':[1,2],\n",
    "    'b':[3,4],\n",
    "    'a':[10,20],\n",
    "    'b':[34,45]}\n",
    "print(x) # updates the key value with latest input"
   ]
  },
  {
   "cell_type": "code",
   "execution_count": 14,
   "id": "034c8cf4",
   "metadata": {},
   "outputs": [
    {
     "data": {
      "text/plain": [
       "{1: 2, 3: 4}"
      ]
     },
     "execution_count": 14,
     "metadata": {},
     "output_type": "execute_result"
    }
   ],
   "source": [
    "dict([(1,2),(3,4)])"
   ]
  },
  {
   "cell_type": "code",
   "execution_count": 28,
   "id": "c66e1d66",
   "metadata": {},
   "outputs": [
    {
     "data": {
      "text/plain": [
       "{'a': {'a': 1, 'b': 2, 'c': 3}, 'b': [1, 2, 3]}"
      ]
     },
     "execution_count": 28,
     "metadata": {},
     "output_type": "execute_result"
    }
   ],
   "source": [
    "x = {'a': {'a':1,\n",
    "          'b':2,\n",
    "          'c':3},\n",
    "     'b':[1,2,3]}   #nested dict\n",
    "x"
   ]
  },
  {
   "cell_type": "markdown",
   "id": "d7a613be",
   "metadata": {},
   "source": [
    "# get"
   ]
  },
  {
   "cell_type": "markdown",
   "id": "9200d77b",
   "metadata": {},
   "source": [
    "* The get() method in Python is used to fetch the value of a key from a dictionary.\n",
    "* If the key is not present in the dictionary then it simply returns a None. \n",
    "* However, we can also pass a default value (optionally) to the get() method in Python."
   ]
  },
  {
   "cell_type": "code",
   "execution_count": 31,
   "id": "f8f20647",
   "metadata": {},
   "outputs": [
    {
     "name": "stdout",
     "output_type": "stream",
     "text": [
      "{'a': [1, 5, 8, 2], 'b': [9, 8, 7, 6], 'c': [5, 4, 32]}\n",
      "<class 'dict'>\n"
     ]
    }
   ],
   "source": [
    "x = {'a':[1,5,8,2],\n",
    "    'b':[9,8,7,6],\n",
    "    'c':[5,4,32]}\n",
    "print(x,type(x),sep='\\n')"
   ]
  },
  {
   "cell_type": "code",
   "execution_count": 41,
   "id": "c0b51218",
   "metadata": {},
   "outputs": [
    {
     "data": {
      "text/plain": [
       "[1, 5, 8, 2]"
      ]
     },
     "execution_count": 41,
     "metadata": {},
     "output_type": "execute_result"
    }
   ],
   "source": [
    "x.get('a')\n"
   ]
  },
  {
   "cell_type": "code",
   "execution_count": 35,
   "id": "ffdfef76",
   "metadata": {},
   "outputs": [
    {
     "data": {
      "text/plain": [
       "[9, 8, 7, 6]"
      ]
     },
     "execution_count": 35,
     "metadata": {},
     "output_type": "execute_result"
    }
   ],
   "source": [
    "x.get('b')"
   ]
  },
  {
   "cell_type": "code",
   "execution_count": 36,
   "id": "9144b6c3",
   "metadata": {},
   "outputs": [
    {
     "data": {
      "text/plain": [
       "[5, 4, 32]"
      ]
     },
     "execution_count": 36,
     "metadata": {},
     "output_type": "execute_result"
    }
   ],
   "source": [
    "x.get('c')"
   ]
  },
  {
   "cell_type": "code",
   "execution_count": 44,
   "id": "0c9c67fe",
   "metadata": {},
   "outputs": [
    {
     "data": {
      "text/plain": [
       "[1, 5, 8, 2]"
      ]
     },
     "execution_count": 44,
     "metadata": {},
     "output_type": "execute_result"
    }
   ],
   "source": [
    "x['a']"
   ]
  },
  {
   "cell_type": "code",
   "execution_count": 48,
   "id": "1f900616",
   "metadata": {},
   "outputs": [
    {
     "name": "stdout",
     "output_type": "stream",
     "text": [
      "None\n"
     ]
    }
   ],
   "source": [
    "# dictobj.(getkey) vs dic object.[key]\n",
    "x = {'a':10,\n",
    "     'b':20,\n",
    "     'c':30}\n",
    "#there is no key called zz\n",
    "#x['zz'] #uncomment to see error \n",
    "print(x.get('zz')) #gives no error when the key is not given "
   ]
  },
  {
   "cell_type": "code",
   "execution_count": 49,
   "id": "70a62c5a",
   "metadata": {},
   "outputs": [
    {
     "name": "stdout",
     "output_type": "stream",
     "text": [
      "Help on built-in function get:\n",
      "\n",
      "get(key, default=None, /) method of builtins.dict instance\n",
      "    Return the value for key if key is in the dictionary, else default.\n",
      "\n"
     ]
    }
   ],
   "source": [
    "help(x.get)"
   ]
  },
  {
   "cell_type": "markdown",
   "id": "77eb3428",
   "metadata": {},
   "source": [
    "# update"
   ]
  },
  {
   "cell_type": "markdown",
   "id": "29e08f8e",
   "metadata": {},
   "source": [
    "* update() method updates the dictionary with the elements from another dictionary object or from an iterable of key/value pairs. "
   ]
  },
  {
   "cell_type": "code",
   "execution_count": 51,
   "id": "e917c62f",
   "metadata": {},
   "outputs": [
    {
     "name": "stdout",
     "output_type": "stream",
     "text": [
      "{'a': 10, 'b': 20, 'c': 30, 'd': 40, 'e': 50, 'f': 60}\n"
     ]
    }
   ],
   "source": [
    "x = {'a':10,\n",
    "     'b':20,\n",
    "     'c':30}\n",
    "x.update({'d':40,\n",
    "         'e':50,\n",
    "         'f':60})\n",
    "print(x)"
   ]
  },
  {
   "cell_type": "code",
   "execution_count": 54,
   "id": "4b3e3978",
   "metadata": {},
   "outputs": [],
   "source": [
    "#x.update({'1'}) #uncomment"
   ]
  },
  {
   "cell_type": "code",
   "execution_count": 56,
   "id": "1afe56e2",
   "metadata": {},
   "outputs": [
    {
     "data": {
      "text/plain": [
       "{'a': 10, 'b': 20, 'c': 30, 'd': 40, 'e': 50, 'f': 60, 1: 2, 3: 4}"
      ]
     },
     "execution_count": 56,
     "metadata": {},
     "output_type": "execute_result"
    }
   ],
   "source": [
    "x.update([(1,2),(3,4)])\n",
    "x"
   ]
  },
  {
   "cell_type": "code",
   "execution_count": 57,
   "id": "d72ca46b",
   "metadata": {},
   "outputs": [
    {
     "name": "stdout",
     "output_type": "stream",
     "text": [
      "Help on built-in function update:\n",
      "\n",
      "update(...) method of builtins.dict instance\n",
      "    D.update([E, ]**F) -> None.  Update D from dict/iterable E and F.\n",
      "    If E is present and has a .keys() method, then does:  for k in E: D[k] = E[k]\n",
      "    If E is present and lacks a .keys() method, then does:  for k, v in E: D[k] = v\n",
      "    In either case, this is followed by: for k in F:  D[k] = F[k]\n",
      "\n"
     ]
    }
   ],
   "source": [
    "help(x.update)"
   ]
  },
  {
   "cell_type": "markdown",
   "id": "e2bb2efb",
   "metadata": {},
   "source": [
    "# pop\n"
   ]
  },
  {
   "cell_type": "markdown",
   "id": "3dfe43c1",
   "metadata": {},
   "source": [
    "* pop() method removes and returns the specified element from the dictionary.\n",
    "* The default value to return if specified key is not present."
   ]
  },
  {
   "cell_type": "code",
   "execution_count": 61,
   "id": "6f69e791",
   "metadata": {},
   "outputs": [
    {
     "data": {
      "text/plain": [
       "10"
      ]
     },
     "execution_count": 61,
     "metadata": {},
     "output_type": "execute_result"
    }
   ],
   "source": [
    "x = {'a':10,\n",
    "     'b':20,\n",
    "     'c':30}\n",
    "x.pop('a')"
   ]
  },
  {
   "cell_type": "code",
   "execution_count": 62,
   "id": "617d0a62",
   "metadata": {},
   "outputs": [
    {
     "data": {
      "text/plain": [
       "20"
      ]
     },
     "execution_count": 62,
     "metadata": {},
     "output_type": "execute_result"
    }
   ],
   "source": [
    "x.pop('b')"
   ]
  },
  {
   "cell_type": "code",
   "execution_count": 64,
   "id": "53be5d0c",
   "metadata": {},
   "outputs": [
    {
     "data": {
      "text/plain": [
       "30"
      ]
     },
     "execution_count": 64,
     "metadata": {},
     "output_type": "execute_result"
    }
   ],
   "source": [
    "x.pop('c')"
   ]
  },
  {
   "cell_type": "code",
   "execution_count": 65,
   "id": "2c49e045",
   "metadata": {},
   "outputs": [
    {
     "data": {
      "text/plain": [
       "\"'x.pop()\""
      ]
     },
     "execution_count": 65,
     "metadata": {},
     "output_type": "execute_result"
    }
   ],
   "source": [
    "''''x.pop()'''#uncomment for error"
   ]
  },
  {
   "cell_type": "code",
   "execution_count": 66,
   "id": "5128bb1c",
   "metadata": {},
   "outputs": [
    {
     "name": "stdout",
     "output_type": "stream",
     "text": [
      "Help on built-in function pop:\n",
      "\n",
      "pop(...) method of builtins.dict instance\n",
      "    D.pop(k[,d]) -> v, remove specified key and return the corresponding value.\n",
      "    \n",
      "    If the key is not found, return the default if given; otherwise,\n",
      "    raise a KeyError.\n",
      "\n"
     ]
    }
   ],
   "source": [
    "help(x.pop)"
   ]
  },
  {
   "cell_type": "markdown",
   "id": "4b5e3a9e",
   "metadata": {},
   "source": [
    "# popitem()"
   ]
  },
  {
   "cell_type": "markdown",
   "id": "c2e528f4",
   "metadata": {},
   "source": [
    "* The popitem() method removes the item that was last inserted into the dictionary. "
   ]
  },
  {
   "cell_type": "code",
   "execution_count": 68,
   "id": "f32cf25a",
   "metadata": {},
   "outputs": [
    {
     "data": {
      "text/plain": [
       "('c', 30)"
      ]
     },
     "execution_count": 68,
     "metadata": {},
     "output_type": "execute_result"
    }
   ],
   "source": [
    "x =  {'a':10,\n",
    "     'b':20,\n",
    "     'c':30}\n",
    "x.popitem()"
   ]
  },
  {
   "cell_type": "code",
   "execution_count": 69,
   "id": "0016f54f",
   "metadata": {},
   "outputs": [
    {
     "data": {
      "text/plain": [
       "('b', 20)"
      ]
     },
     "execution_count": 69,
     "metadata": {},
     "output_type": "execute_result"
    }
   ],
   "source": [
    "x.popitem()"
   ]
  },
  {
   "cell_type": "code",
   "execution_count": 70,
   "id": "31834799",
   "metadata": {},
   "outputs": [
    {
     "data": {
      "text/plain": [
       "('a', 10)"
      ]
     },
     "execution_count": 70,
     "metadata": {},
     "output_type": "execute_result"
    }
   ],
   "source": [
    "x.popitem()"
   ]
  },
  {
   "cell_type": "code",
   "execution_count": 72,
   "id": "608b9a63",
   "metadata": {},
   "outputs": [],
   "source": [
    "#x.popitem()  uncomment for error"
   ]
  },
  {
   "cell_type": "code",
   "execution_count": 73,
   "id": "31540ebc",
   "metadata": {},
   "outputs": [
    {
     "name": "stdout",
     "output_type": "stream",
     "text": [
      "Help on built-in function popitem:\n",
      "\n",
      "popitem() method of builtins.dict instance\n",
      "    Remove and return a (key, value) pair as a 2-tuple.\n",
      "    \n",
      "    Pairs are returned in LIFO (last-in, first-out) order.\n",
      "    Raises KeyError if the dict is empty.\n",
      "\n"
     ]
    }
   ],
   "source": [
    "help(x.popitem)"
   ]
  },
  {
   "cell_type": "markdown",
   "id": "89aaa872",
   "metadata": {},
   "source": [
    "# keys"
   ]
  },
  {
   "cell_type": "markdown",
   "id": "2c702255",
   "metadata": {},
   "source": [
    "* keys() method in Python is used to retrieve all of the keys from the dictionary. "
   ]
  },
  {
   "cell_type": "code",
   "execution_count": 74,
   "id": "f811c6a8",
   "metadata": {},
   "outputs": [
    {
     "data": {
      "text/plain": [
       "dict_keys(['a', 'b', 'c', 'd', 'e', 'f', 3])"
      ]
     },
     "execution_count": 74,
     "metadata": {},
     "output_type": "execute_result"
    }
   ],
   "source": [
    "x = {'a': 10, 'b': 20, 'c': 30, 'd': 40, 'e': 50, 'f': 60, 3: 4}\n",
    "x.keys()"
   ]
  },
  {
   "cell_type": "code",
   "execution_count": 75,
   "id": "43f9c7c3",
   "metadata": {},
   "outputs": [
    {
     "name": "stdout",
     "output_type": "stream",
     "text": [
      "Help on built-in function keys:\n",
      "\n",
      "keys(...) method of builtins.dict instance\n",
      "    D.keys() -> a set-like object providing a view on D's keys\n",
      "\n"
     ]
    }
   ],
   "source": [
    "help(x.keys)"
   ]
  },
  {
   "cell_type": "markdown",
   "id": "ea44a299",
   "metadata": {},
   "source": [
    "# values"
   ]
  },
  {
   "cell_type": "markdown",
   "id": "2274ddb2",
   "metadata": {},
   "source": [
    "* Python dictionary values() function is used to return a new view object that contains a list of all the values associated with the keys in the dictionary"
   ]
  },
  {
   "cell_type": "code",
   "execution_count": 77,
   "id": "fc70c4a4",
   "metadata": {},
   "outputs": [
    {
     "data": {
      "text/plain": [
       "dict_values([10, 20, 30, 40, 50, 60, 4])"
      ]
     },
     "execution_count": 77,
     "metadata": {},
     "output_type": "execute_result"
    }
   ],
   "source": [
    "x.values()"
   ]
  },
  {
   "cell_type": "code",
   "execution_count": 79,
   "id": "52c67dc9",
   "metadata": {},
   "outputs": [
    {
     "name": "stdout",
     "output_type": "stream",
     "text": [
      "Help on built-in function values:\n",
      "\n",
      "values(...) method of builtins.dict instance\n",
      "    D.values() -> an object providing a view on D's values\n",
      "\n"
     ]
    }
   ],
   "source": [
    "help(x.values)"
   ]
  },
  {
   "cell_type": "markdown",
   "id": "62335bab",
   "metadata": {},
   "source": [
    "# items"
   ]
  },
  {
   "cell_type": "markdown",
   "id": "3986e73d",
   "metadata": {},
   "source": [
    "*  items() method is used to return the list with all dictionary keys with values. "
   ]
  },
  {
   "cell_type": "code",
   "execution_count": 80,
   "id": "002a67b9",
   "metadata": {},
   "outputs": [
    {
     "data": {
      "text/plain": [
       "dict_items([('a', 10), ('b', 20), ('c', 30), ('d', 40), ('e', 50), ('f', 60), (3, 4)])"
      ]
     },
     "execution_count": 80,
     "metadata": {},
     "output_type": "execute_result"
    }
   ],
   "source": [
    "x = {'a': 10, 'b': 20, 'c': 30, 'd': 40, 'e': 50, 'f': 60, 3: 4}\n",
    "x.items()"
   ]
  },
  {
   "cell_type": "code",
   "execution_count": 85,
   "id": "65e2e195",
   "metadata": {},
   "outputs": [
    {
     "name": "stdout",
     "output_type": "stream",
     "text": [
      "[('a', 10), ('b', 20), ('c', 30), ('d', 40), ('e', 50), ('f', 60), (3, 4)]\n"
     ]
    }
   ],
   "source": [
    "i = x.items()\n",
    "print(list(i))"
   ]
  },
  {
   "cell_type": "code",
   "execution_count": 86,
   "id": "62c85306",
   "metadata": {},
   "outputs": [
    {
     "name": "stdout",
     "output_type": "stream",
     "text": [
      "Help on built-in function items:\n",
      "\n",
      "items(...) method of builtins.dict instance\n",
      "    D.items() -> a set-like object providing a view on D's items\n",
      "\n"
     ]
    }
   ],
   "source": [
    "help(x.items)"
   ]
  },
  {
   "cell_type": "markdown",
   "id": "60e6c67c",
   "metadata": {},
   "source": [
    "# fromkeys"
   ]
  },
  {
   "cell_type": "markdown",
   "id": "add37393",
   "metadata": {},
   "source": [
    "\n",
    "* Python dictionary fromkeys() function returns the dictionary with key mapped and specific value. \n",
    "* It creates a new dictionary from the given sequence with the specific value."
   ]
  },
  {
   "cell_type": "code",
   "execution_count": 89,
   "id": "6ab11c40",
   "metadata": {},
   "outputs": [
    {
     "data": {
      "text/plain": [
       "{'a': None}"
      ]
     },
     "execution_count": 89,
     "metadata": {},
     "output_type": "execute_result"
    }
   ],
   "source": [
    "x = {'a': 10, 'b': 20, 'c': 30, 'd': 40, 'e': 50, 'f': 60, 3: 4}\n",
    "x.fromkeys('a')"
   ]
  },
  {
   "cell_type": "code",
   "execution_count": 91,
   "id": "ac1befa0",
   "metadata": {},
   "outputs": [
    {
     "data": {
      "text/plain": [
       "{'b': 65}"
      ]
     },
     "execution_count": 91,
     "metadata": {},
     "output_type": "execute_result"
    }
   ],
   "source": [
    "x.fromkeys('b',65)"
   ]
  },
  {
   "cell_type": "code",
   "execution_count": 92,
   "id": "ede98ecd",
   "metadata": {},
   "outputs": [
    {
     "data": {
      "text/plain": [
       "{'a': 10, 'b': 20, 'c': 30, 'd': 40, 'e': 50, 'f': 60, 3: 4}"
      ]
     },
     "execution_count": 92,
     "metadata": {},
     "output_type": "execute_result"
    }
   ],
   "source": [
    "x"
   ]
  },
  {
   "cell_type": "code",
   "execution_count": 93,
   "id": "f2c37bed",
   "metadata": {},
   "outputs": [
    {
     "data": {
      "text/plain": [
       "{'a': None, 'b': None, 'c': None, 'd': None, 'e': None, 'f': None, 3: None}"
      ]
     },
     "execution_count": 93,
     "metadata": {},
     "output_type": "execute_result"
    }
   ],
   "source": [
    "dict.fromkeys(x)"
   ]
  },
  {
   "cell_type": "code",
   "execution_count": 95,
   "id": "0788dac8",
   "metadata": {},
   "outputs": [
    {
     "data": {
      "text/plain": [
       "{'a': 'hello',\n",
       " 'b': 'hello',\n",
       " 'c': 'hello',\n",
       " 'd': 'hello',\n",
       " 'e': 'hello',\n",
       " 'f': 'hello',\n",
       " 3: 'hello'}"
      ]
     },
     "execution_count": 95,
     "metadata": {},
     "output_type": "execute_result"
    }
   ],
   "source": [
    "dict.fromkeys(x,'hello')"
   ]
  },
  {
   "cell_type": "code",
   "execution_count": 96,
   "id": "42961f49",
   "metadata": {},
   "outputs": [
    {
     "name": "stdout",
     "output_type": "stream",
     "text": [
      "Help on built-in function fromkeys:\n",
      "\n",
      "fromkeys(iterable, value=None, /) method of builtins.type instance\n",
      "    Create a new dictionary with keys from iterable and values set to value.\n",
      "\n"
     ]
    }
   ],
   "source": [
    "help(x.fromkeys)"
   ]
  },
  {
   "cell_type": "code",
   "execution_count": null,
   "id": "218fb43a",
   "metadata": {},
   "outputs": [],
   "source": []
  }
 ],
 "metadata": {
  "kernelspec": {
   "display_name": "Python 3 (ipykernel)",
   "language": "python",
   "name": "python3"
  },
  "language_info": {
   "codemirror_mode": {
    "name": "ipython",
    "version": 3
   },
   "file_extension": ".py",
   "mimetype": "text/x-python",
   "name": "python",
   "nbconvert_exporter": "python",
   "pygments_lexer": "ipython3",
   "version": "3.11.3"
  }
 },
 "nbformat": 4,
 "nbformat_minor": 5
}
